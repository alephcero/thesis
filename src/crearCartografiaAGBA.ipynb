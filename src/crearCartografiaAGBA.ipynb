{
 "cells": [
  {
   "cell_type": "code",
   "execution_count": 1,
   "metadata": {
    "collapsed": true
   },
   "outputs": [],
   "source": [
    "import pandas as pd\n",
    "import geopandas as gpd\n",
    "import shapely\n",
    "import os"
   ]
  },
  {
   "cell_type": "code",
   "execution_count": 2,
   "metadata": {
    "collapsed": false
   },
   "outputs": [
    {
     "data": {
      "text/html": [
       "<div>\n",
       "<table border=\"1\" class=\"dataframe\">\n",
       "  <thead>\n",
       "    <tr style=\"text-align: right;\">\n",
       "      <th></th>\n",
       "      <th>AREA</th>\n",
       "      <th>LINK</th>\n",
       "      <th>TIPO</th>\n",
       "      <th>geometry</th>\n",
       "    </tr>\n",
       "  </thead>\n",
       "  <tbody>\n",
       "    <tr>\n",
       "      <th>0</th>\n",
       "      <td>207407200.0</td>\n",
       "      <td>380770101</td>\n",
       "      <td>M</td>\n",
       "      <td>POLYGON ((3470906.5 7569104.5, 3470872.5 75691...</td>\n",
       "    </tr>\n",
       "    <tr>\n",
       "      <th>2</th>\n",
       "      <td>110506900.0</td>\n",
       "      <td>380770202</td>\n",
       "      <td>M</td>\n",
       "      <td>POLYGON ((3495669.75 7577169.5, 3499717.5 7576...</td>\n",
       "    </tr>\n",
       "    <tr>\n",
       "      <th>3</th>\n",
       "      <td>151297.6</td>\n",
       "      <td>380770103</td>\n",
       "      <td>U</td>\n",
       "      <td>POLYGON ((3494430.25 7574442.5, 3494745 757444...</td>\n",
       "    </tr>\n",
       "    <tr>\n",
       "      <th>4</th>\n",
       "      <td>462011900.0</td>\n",
       "      <td>380770302</td>\n",
       "      <td>M</td>\n",
       "      <td>POLYGON ((3470906.5 7569104.5, 3471078.25 7569...</td>\n",
       "    </tr>\n",
       "    <tr>\n",
       "      <th>6</th>\n",
       "      <td>548228900.0</td>\n",
       "      <td>380770303</td>\n",
       "      <td>M</td>\n",
       "      <td>POLYGON ((3480192.25 7567800.5, 3480257.75 756...</td>\n",
       "    </tr>\n",
       "  </tbody>\n",
       "</table>\n",
       "</div>"
      ],
      "text/plain": [
       "          AREA       LINK TIPO  \\\n",
       "0  207407200.0  380770101    M   \n",
       "2  110506900.0  380770202    M   \n",
       "3     151297.6  380770103    U   \n",
       "4  462011900.0  380770302    M   \n",
       "6  548228900.0  380770303    M   \n",
       "\n",
       "                                            geometry  \n",
       "0  POLYGON ((3470906.5 7569104.5, 3470872.5 75691...  \n",
       "2  POLYGON ((3495669.75 7577169.5, 3499717.5 7576...  \n",
       "3  POLYGON ((3494430.25 7574442.5, 3494745 757444...  \n",
       "4  POLYGON ((3470906.5 7569104.5, 3471078.25 7569...  \n",
       "6  POLYGON ((3480192.25 7567800.5, 3480257.75 756...  "
      ]
     },
     "execution_count": 2,
     "metadata": {},
     "output_type": "execute_result"
    }
   ],
   "source": [
    "#CARGO CARTOGRAFIA NACIONAL NO OFICIAL\n",
    "pais = gpd.GeoDataFrame.from_file('/home/pipe/Downloads/paisNoOficial/rad_paisp.shp')\n",
    "pais['LINK'] = pais.PROV + pais.DEPTO + pais.FRAC + pais.RADIO\n",
    "pais.loc[pais.PROV=='06'].head()\n",
    "pais.drop([u'DEPTO', u'FRAC', u'PERIMETER', u'PROV', u'RADIO', u'RADPAIS_',\n",
    "       u'RADPAIS_ID'],axis=1,inplace=True)\n",
    "pais = pais.loc[pais.TIPO!='R',:]\n",
    "pais.head()\n"
   ]
  },
  {
   "cell_type": "markdown",
   "metadata": {},
   "source": [
    "## load density"
   ]
  },
  {
   "cell_type": "code",
   "execution_count": 3,
   "metadata": {
    "collapsed": false
   },
   "outputs": [
    {
     "name": "stdout",
     "output_type": "stream",
     "text": [
      "(9166, 2)\n",
      "(3553, 2)\n",
      "(12719, 2)\n"
     ]
    }
   ],
   "source": [
    "#esta data fue descargada desde la pagina oficial de indec \n",
    "#http://200.51.91.245/argbin/RpWebEngine.exe/PortalAction?&MODE=MAIN&BASE=CPV2010B&MAIN=WebServerMain.inl\n",
    "#obteniendo listado por areas a nivel de radio censal\n",
    "#sexo, con total de filas, para: \n",
    "\n",
    "#los 24 partidos del Gran Benos Aires\n",
    "pbaPob = pd.read_csv('../dt/poblacionPBAcenso.csv')\n",
    "pbaPob.LINK = pbaPob.LINK.map(lambda x: '0'+str(x))\n",
    "print pbaPob.shape\n",
    "\n",
    "#CABA \n",
    "cabaPob = pd.read_csv('../dt/poblacionCABAcenso.csv')\n",
    "cabaPob.LINK = cabaPob.LINK.map(lambda x: '0'+str(x))\n",
    "print cabaPob.shape\n",
    "\n",
    "poblacion = cabaPob.append(pbaPob)\n",
    "print poblacion.shape"
   ]
  },
  {
   "cell_type": "code",
   "execution_count": 4,
   "metadata": {
    "collapsed": false
   },
   "outputs": [],
   "source": [
    "agba = pais.merge(poblacion, on='LINK')\n"
   ]
  },
  {
   "cell_type": "code",
   "execution_count": 6,
   "metadata": {
    "collapsed": false
   },
   "outputs": [
    {
     "data": {
      "text/html": [
       "<div>\n",
       "<table border=\"1\" class=\"dataframe\">\n",
       "  <thead>\n",
       "    <tr style=\"text-align: right;\">\n",
       "      <th></th>\n",
       "      <th>AREA</th>\n",
       "      <th>LINK</th>\n",
       "      <th>TIPO</th>\n",
       "      <th>geometry</th>\n",
       "      <th>Pob</th>\n",
       "    </tr>\n",
       "  </thead>\n",
       "  <tbody>\n",
       "    <tr>\n",
       "      <th>1824</th>\n",
       "      <td>18459.31</td>\n",
       "      <td>020130104</td>\n",
       "      <td></td>\n",
       "      <td>POLYGON ((4192345.75 6152786, 4192385.5 615269...</td>\n",
       "      <td>763</td>\n",
       "    </tr>\n",
       "    <tr>\n",
       "      <th>2825</th>\n",
       "      <td>22525.75</td>\n",
       "      <td>020121607</td>\n",
       "      <td></td>\n",
       "      <td>POLYGON ((4190128.75 6149061.5, 4190180.75 614...</td>\n",
       "      <td>754</td>\n",
       "    </tr>\n",
       "  </tbody>\n",
       "</table>\n",
       "</div>"
      ],
      "text/plain": [
       "          AREA       LINK TIPO  \\\n",
       "1824  18459.31  020130104        \n",
       "2825  22525.75  020121607        \n",
       "\n",
       "                                               geometry  Pob  \n",
       "1824  POLYGON ((4192345.75 6152786, 4192385.5 615269...  763  \n",
       "2825  POLYGON ((4190128.75 6149061.5, 4190180.75 614...  754  "
      ]
     },
     "execution_count": 6,
     "metadata": {},
     "output_type": "execute_result"
    }
   ],
   "source": [
    "agba.loc[agba.LINK.duplicated(),:]"
   ]
  },
  {
   "cell_type": "code",
   "execution_count": 7,
   "metadata": {
    "collapsed": true
   },
   "outputs": [],
   "source": [
    "agba['densidad'] = agba.Pob / agba.AREA\n",
    "agba['densidad'] = pd.qcut(agba.densidad,10,labels=False)\n",
    "agba = agba.to_crs(epsg=22185)\n"
   ]
  },
  {
   "cell_type": "markdown",
   "metadata": {
    "collapsed": true
   },
   "source": [
    "## Load OSM"
   ]
  },
  {
   "cell_type": "code",
   "execution_count": 8,
   "metadata": {
    "collapsed": false
   },
   "outputs": [],
   "source": [
    "#download data\n",
    "osmFile = os.path.expanduser('~')+'/Downloads/buenos-aires_argentina.osm2pgsql-shapefiles/buenos-aires_argentina_osm_line.shp'\n",
    "if not os.path.isfile(osmFile):\n",
    "    os.sys('wget https://s3.amazonaws.com/metro-extracts.mapzen.com/buenos-aires_argentina.osm2pgsql-shapefiles.zip')\n",
    "    os.sys('unzip https://s3.amazonaws.com/metro-extracts.mapzen.com/buenos-aires_argentina.osm2pgsql-shapefiles.zip')\n",
    "\n"
   ]
  },
  {
   "cell_type": "code",
   "execution_count": 9,
   "metadata": {
    "collapsed": false,
    "scrolled": true
   },
   "outputs": [],
   "source": [
    "calles = gpd.read_file('/home/pipe/Downloads/buenos-aires_argentina.osm2pgsql-shapefiles/buenos-aires_argentina_osm_line.shp')\n",
    "calles = calles.loc[:,['highway','geometry']]\n",
    "mask =  (calles.highway == 'residential') | (calles.highway == 'unclassified') |  (calles.highway == 'living_street') \n",
    "calles = calles.loc[mask,:]\n",
    "calles = calles.to_crs(epsg=22185)\n"
   ]
  },
  {
   "cell_type": "code",
   "execution_count": 10,
   "metadata": {
    "collapsed": true
   },
   "outputs": [],
   "source": [
    "agba['diss'] = 1"
   ]
  },
  {
   "cell_type": "code",
   "execution_count": 11,
   "metadata": {
    "collapsed": false
   },
   "outputs": [
    {
     "data": {
      "text/plain": [
       "{'init': 'epsg:22185', 'no_defs': True}"
      ]
     },
     "execution_count": 11,
     "metadata": {},
     "output_type": "execute_result"
    }
   ],
   "source": [
    "agba.crs"
   ]
  },
  {
   "cell_type": "code",
   "execution_count": 12,
   "metadata": {
    "collapsed": false
   },
   "outputs": [
    {
     "data": {
      "text/html": [
       "<div>\n",
       "<table border=\"1\" class=\"dataframe\">\n",
       "  <thead>\n",
       "    <tr style=\"text-align: right;\">\n",
       "      <th></th>\n",
       "      <th>geometry</th>\n",
       "    </tr>\n",
       "    <tr>\n",
       "      <th>diss</th>\n",
       "      <th></th>\n",
       "    </tr>\n",
       "  </thead>\n",
       "  <tbody>\n",
       "    <tr>\n",
       "      <th>1</th>\n",
       "      <td>POLYGON ((5618811.292373296 6136903.102709887,...</td>\n",
       "    </tr>\n",
       "  </tbody>\n",
       "</table>\n",
       "</div>"
      ],
      "text/plain": [
       "                                               geometry\n",
       "diss                                                   \n",
       "1     POLYGON ((5618811.292373296 6136903.102709887,..."
      ]
     },
     "execution_count": 12,
     "metadata": {},
     "output_type": "execute_result"
    }
   ],
   "source": [
    "agbaLimites = agba.loc[:,['geometry','diss']].dissolve(by='diss')\n",
    "agbaLimites"
   ]
  },
  {
   "cell_type": "code",
   "execution_count": 21,
   "metadata": {
    "collapsed": false
   },
   "outputs": [],
   "source": [
    "agbaLim = gpd.GeoDataFrame(agba.groupby(\"diss\").geometry.agg(shapely.ops.unary_union).reset_index(), geometry=\"geometry\", crs=agba.crs)"
   ]
  },
  {
   "cell_type": "code",
   "execution_count": 30,
   "metadata": {
    "collapsed": false
   },
   "outputs": [],
   "source": [
    "calles['buffer'] = calles.geometry.buffer(70)\n",
    "calles.drop(['geometry'],axis=1,inplace=True)\n",
    "calles.columns = [u'highway', u'geometry']"
   ]
  },
  {
   "cell_type": "code",
   "execution_count": 32,
   "metadata": {
    "collapsed": false
   },
   "outputs": [],
   "source": []
  },
  {
   "cell_type": "code",
   "execution_count": null,
   "metadata": {
    "collapsed": false
   },
   "outputs": [],
   "source": [
    "res_union = gpd.overlay(calles, agbaLim, how='intersection')"
   ]
  },
  {
   "cell_type": "code",
   "execution_count": null,
   "metadata": {
    "collapsed": true
   },
   "outputs": [],
   "source": [
    "res_union2 = gpd.overlay(calles, agba, how='intersection')"
   ]
  },
  {
   "cell_type": "code",
   "execution_count": null,
   "metadata": {
    "collapsed": true
   },
   "outputs": [],
   "source": [
    "res_union.to_file('clip')\n",
    "res_union2.to_file('clip2')"
   ]
  },
  {
   "cell_type": "code",
   "execution_count": null,
   "metadata": {
    "collapsed": true
   },
   "outputs": [],
   "source": []
  },
  {
   "cell_type": "code",
   "execution_count": null,
   "metadata": {
    "collapsed": true
   },
   "outputs": [],
   "source": [
    "#esto es en shapely\n",
    "objet.intersects(other)"
   ]
  },
  {
   "cell_type": "code",
   "execution_count": null,
   "metadata": {
    "collapsed": true
   },
   "outputs": [],
   "source": []
  },
  {
   "cell_type": "code",
   "execution_count": null,
   "metadata": {
    "collapsed": true
   },
   "outputs": [],
   "source": []
  },
  {
   "cell_type": "code",
   "execution_count": 14,
   "metadata": {
    "collapsed": false
   },
   "outputs": [],
   "source": [
    "agbaLim.to_file('agbaLim')"
   ]
  },
  {
   "cell_type": "code",
   "execution_count": 15,
   "metadata": {
    "collapsed": true
   },
   "outputs": [],
   "source": [
    "calles.to_file('calles')"
   ]
  },
  {
   "cell_type": "code",
   "execution_count": 5,
   "metadata": {
    "collapsed": true
   },
   "outputs": [],
   "source": [
    "agba.to_file('caca')"
   ]
  },
  {
   "cell_type": "code",
   "execution_count": 16,
   "metadata": {
    "collapsed": true
   },
   "outputs": [],
   "source": [
    "#clip las calles con el limite de agba"
   ]
  },
  {
   "cell_type": "code",
   "execution_count": 18,
   "metadata": {
    "collapsed": true
   },
   "outputs": [],
   "source": [
    "#corto los segmentos de calle con cada radio"
   ]
  },
  {
   "cell_type": "code",
   "execution_count": 17,
   "metadata": {
    "collapsed": true
   },
   "outputs": [],
   "source": [
    "#spatial join asigno a cada calle el radio que le corresponde"
   ]
  },
  {
   "cell_type": "code",
   "execution_count": 19,
   "metadata": {
    "collapsed": true
   },
   "outputs": [],
   "source": [
    "#creo un buffer para cada segmento de calle "
   ]
  },
  {
   "cell_type": "code",
   "execution_count": 20,
   "metadata": {
    "collapsed": true
   },
   "outputs": [],
   "source": [
    "#disuelvo el buffer con LINK como campo "
   ]
  },
  {
   "cell_type": "code",
   "execution_count": null,
   "metadata": {
    "collapsed": true
   },
   "outputs": [],
   "source": []
  }
 ],
 "metadata": {
  "anaconda-cloud": {},
  "kernelspec": {
   "display_name": "Python [default]",
   "language": "python",
   "name": "python2"
  },
  "language_info": {
   "codemirror_mode": {
    "name": "ipython",
    "version": 2
   },
   "file_extension": ".py",
   "mimetype": "text/x-python",
   "name": "python",
   "nbconvert_exporter": "python",
   "pygments_lexer": "ipython2",
   "version": "2.7.12"
  }
 },
 "nbformat": 4,
 "nbformat_minor": 2
}
