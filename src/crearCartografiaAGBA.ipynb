{
 "cells": [
  {
   "cell_type": "code",
   "execution_count": 1,
   "metadata": {
    "collapsed": false
   },
   "outputs": [],
   "source": [
    "import pandas as pd\n",
    "import geopandas as gpd\n",
    "import shapely\n",
    "import os\n",
    "\n",
    "import matplotlib.pyplot as plt\n",
    "%matplotlib inline\n"
   ]
  },
  {
   "cell_type": "code",
   "execution_count": 2,
   "metadata": {
    "collapsed": false
   },
   "outputs": [
    {
     "data": {
      "application/javascript": [
       "$.getScript('https://kmahelona.github.io/ipython_notebook_goodies/ipython_notebook_toc.js')"
      ],
      "text/plain": [
       "<IPython.core.display.Javascript object>"
      ]
     },
     "metadata": {},
     "output_type": "display_data"
    }
   ],
   "source": [
    "%%javascript\n",
    "$.getScript('https://kmahelona.github.io/ipython_notebook_goodies/ipython_notebook_toc.js')\n"
   ]
  },
  {
   "cell_type": "markdown",
   "metadata": {},
   "source": [
    "## Introduccion\n",
    "\n",
    "El objetivo de este trabajo es ofrecer una metodología sencilla para determinar de una manera práctica qué constuituye el **Aglomerado Gran Buenos Aires (AGBA)**. El Instituto Nacional de Estadísticas y Censos de Argentina (INDEC) [establece](http://www.indec.gov.ar/nuevaweb/cuadros/4/folleto%20gba.pdf) una distinción entre este y el **Gran Buenos Aires (AGBA)**: *\"La diferencia entre el Gran Buenos Aires y el Aglomerado Gran Buenos Aires es que el primero alude a un conjunto de partidos (más la Ciudad de Buenos Aires) tomados en su totalidad, mientras el\n",
    "segundo alude a un área que se va moviendo con el tiempo y que incluye a algunos partidos de manera\n",
    "parcial.*\n",
    "\n",
    "Esta naturaleza cambiante del envolvente de población \n",
    "oner link y decir que uno es administrativo y otro urbano dinamico cambiante. OPM como fuente cambiante crowdsourcing\n"
   ]
  },
  {
   "cell_type": "code",
   "execution_count": 3,
   "metadata": {
    "collapsed": false
   },
   "outputs": [],
   "source": [
    "#departamentos AGBA segun INDEC\n",
    "departamentos = {\n",
    "    'Comuna 1':'02001',\n",
    "    'Comuna 2':'02002',\n",
    "    'Comuna 3':'02003',\n",
    "    'Comuna 4':'02004',\n",
    "    'Comuna 5':'02005',\n",
    "    'Comuna 6':'02006',\n",
    "    'Comuna 7':'02007',\n",
    "    'Comuna 8':'02008',\n",
    "    'Comuna 9':'02009',\n",
    "    'Comuna 10':'02010',\n",
    "    'Comuna 11':'02011',\n",
    "    'Comuna 12':'02012',\n",
    "    'Comuna 13':'02013',\n",
    "    'Comuna 14':'02014',\n",
    "    'Comuna 15':'02015',\n",
    "    'ALMIRANTE BROWN':'06028',\n",
    "    'AVELLANEDA':'06035',\n",
    "    'BERAZATEGUI':'06091',\n",
    "    'ESCOBAR':'06252',\n",
    "    'ESTEBAN ECHEVERRIA':'06260',\n",
    "    'EZEIZA':'06270',\n",
    "    'FLORENCIO VARELA':'06274',\n",
    "    'GENERAL RODRIGUEZ':'06364',\n",
    "    'GENERAL SAN MARTIN':'06371',\n",
    "    'HURLINGHAM':'06408',\n",
    "    'ITUZAINGO':'06410',\n",
    "    'JOSE C PAZ':'06412',\n",
    "    'LA MATANZA':'06427',\n",
    "    'LANUS':'06434',\n",
    "    'LOMAS DE ZAMORA':'06490',\n",
    "    'MALVINAS ARGENTINAS':'06515',\n",
    "    'MARCOS PAZ':'06525',\n",
    "    'MERLO':'06539',\n",
    "    'MORENO':'06560',\n",
    "    'MORON':'06568',\n",
    "    'PILAR':'06638',\n",
    "    'PRESIDENTE PERON':'06648',\n",
    "    'QUILMES':'06658',\n",
    "    'SAN FERNANDO':'06749',\n",
    "    'SAN ISIDRO':'06756',\n",
    "    'SAN MIGUEL':'06760',\n",
    "    'SAN VICENTE':'06778',\n",
    "    'TIGRE':'06805',\n",
    "    'TRES DE FEBRERO':'06840',\n",
    "    'VICENTE LOPEZ':'06861'\n",
    "}\n",
    "\n",
    "departamentosName = {\n",
    "    '02001':'Comuna 1',\n",
    "    '02002':'Comuna 2',\n",
    "    '02003':'Comuna 3',\n",
    "    '02004':'Comuna 4',\n",
    "    '02005':'Comuna 5',\n",
    "    '02006':'Comuna 6',\n",
    "    '02007':'Comuna 7',\n",
    "    '02008':'Comuna 8',\n",
    "    '02009':'Comuna 9',\n",
    "    '02010':'Comuna 10',\n",
    "    '02011':'Comuna 11',\n",
    "    '02012':'Comuna 12',\n",
    "    '02013':'Comuna 13',\n",
    "    '02014':'Comuna 14',\n",
    "    '02015':'Comuna 15',\n",
    "    '06028':'ALMIRANTE BROWN',\n",
    "    '06035':'AVELLANEDA',\n",
    "    '06091':'BERAZATEGUI',\n",
    "    '06252':'ESCOBAR',\n",
    "    '06260':'ESTEBAN ECHEVERRIA',\n",
    "    '06270':'EZEIZA',\n",
    "    '06274':'FLORENCIO VARELA',\n",
    "    '06364':'GENERAL RODRIGUEZ',\n",
    "    '06371':'GENERAL SAN MARTIN',\n",
    "    '06408':'HURLINGHAM',\n",
    "    '06410':'ITUZAINGO',\n",
    "    '06412':'JOSE C PAZ',\n",
    "    '06427':'LA MATANZA',\n",
    "    '06434':'LANUS',\n",
    "    '06490':'LOMAS DE ZAMORA',\n",
    "    '06515':'MALVINAS ARGENTINAS',\n",
    "    '06525':'MARCOS PAZ',\n",
    "    '06539':'MERLO',\n",
    "    '06560':'MORENO',\n",
    "    '06568':'MORON',\n",
    "    '06638':'PILAR',\n",
    "    '06648':'PRESIDENTE PERON',\n",
    "    '06658':'QUILMES',\n",
    "    '06749':'SAN FERNANDO',\n",
    "    '06756':'SAN ISIDRO',\n",
    "    '06760':'SAN MIGUEL',\n",
    "    '06778':'SAN VICENTE',\n",
    "    '06805':'TIGRE',\n",
    "    '06840':'TRES DE FEBRERO',\n",
    "    '06861':'VICENTE LOPEZ'\n",
    "}\n"
   ]
  },
  {
   "cell_type": "code",
   "execution_count": 4,
   "metadata": {
    "collapsed": false
   },
   "outputs": [
    {
     "data": {
      "text/html": [
       "<div>\n",
       "<table border=\"1\" class=\"dataframe\">\n",
       "  <thead>\n",
       "    <tr style=\"text-align: right;\">\n",
       "      <th></th>\n",
       "      <th>AREA</th>\n",
       "      <th>LINK</th>\n",
       "      <th>TIPO</th>\n",
       "      <th>geometry</th>\n",
       "      <th>DEPARTAMENTO</th>\n",
       "      <th>DEPTO_NAME</th>\n",
       "    </tr>\n",
       "  </thead>\n",
       "  <tbody>\n",
       "    <tr>\n",
       "      <th>26688</th>\n",
       "      <td>16948780.0</td>\n",
       "      <td>062520101</td>\n",
       "      <td>M</td>\n",
       "      <td>POLYGON ((5605573.523703439 6208535.44525929, ...</td>\n",
       "      <td>06252</td>\n",
       "      <td>ESCOBAR</td>\n",
       "    </tr>\n",
       "    <tr>\n",
       "      <th>26704</th>\n",
       "      <td>12351870.0</td>\n",
       "      <td>062520102</td>\n",
       "      <td>M</td>\n",
       "      <td>POLYGON ((5606597.563514996 6207794.426813126,...</td>\n",
       "      <td>06252</td>\n",
       "      <td>ESCOBAR</td>\n",
       "    </tr>\n",
       "    <tr>\n",
       "      <th>26719</th>\n",
       "      <td>11063170.0</td>\n",
       "      <td>062520208</td>\n",
       "      <td>U</td>\n",
       "      <td>POLYGON ((5608236.390336967 6207306.631047663,...</td>\n",
       "      <td>06252</td>\n",
       "      <td>ESCOBAR</td>\n",
       "    </tr>\n",
       "    <tr>\n",
       "      <th>26741</th>\n",
       "      <td>796720.3</td>\n",
       "      <td>062520201</td>\n",
       "      <td>U</td>\n",
       "      <td>POLYGON ((5611075.149383005 6206034.538516479,...</td>\n",
       "      <td>06252</td>\n",
       "      <td>ESCOBAR</td>\n",
       "    </tr>\n",
       "    <tr>\n",
       "      <th>26747</th>\n",
       "      <td>2996825.0</td>\n",
       "      <td>062520202</td>\n",
       "      <td>U</td>\n",
       "      <td>POLYGON ((5613709.611741914 6205445.958880841,...</td>\n",
       "      <td>06252</td>\n",
       "      <td>ESCOBAR</td>\n",
       "    </tr>\n",
       "  </tbody>\n",
       "</table>\n",
       "</div>"
      ],
      "text/plain": [
       "             AREA       LINK TIPO  \\\n",
       "26688  16948780.0  062520101    M   \n",
       "26704  12351870.0  062520102    M   \n",
       "26719  11063170.0  062520208    U   \n",
       "26741    796720.3  062520201    U   \n",
       "26747   2996825.0  062520202    U   \n",
       "\n",
       "                                                geometry DEPARTAMENTO  \\\n",
       "26688  POLYGON ((5605573.523703439 6208535.44525929, ...        06252   \n",
       "26704  POLYGON ((5606597.563514996 6207794.426813126,...        06252   \n",
       "26719  POLYGON ((5608236.390336967 6207306.631047663,...        06252   \n",
       "26741  POLYGON ((5611075.149383005 6206034.538516479,...        06252   \n",
       "26747  POLYGON ((5613709.611741914 6205445.958880841,...        06252   \n",
       "\n",
       "      DEPTO_NAME  \n",
       "26688    ESCOBAR  \n",
       "26704    ESCOBAR  \n",
       "26719    ESCOBAR  \n",
       "26741    ESCOBAR  \n",
       "26747    ESCOBAR  "
      ]
     },
     "execution_count": 4,
     "metadata": {},
     "output_type": "execute_result"
    }
   ],
   "source": [
    "#CARGO CARTOGRAFIA NACIONAL NO OFICIAL\n",
    "agba = gpd.GeoDataFrame.from_file('/home/pipe/Downloads/paisNoOficial/rad_paisp.shp')\n",
    "agba['LINK'] = agba.PROV + agba.DEPTO + agba.FRAC + agba.RADIO\n",
    "agba.drop([u'DEPTO', u'FRAC', u'PERIMETER', u'PROV', u'RADIO', u'RADPAIS_',\n",
    "       u'RADPAIS_ID'],axis=1,inplace=True)\n",
    "\n",
    "#CREO EL CODIGO DEPARTAMENTO PARA FILTRAR LOS PERTENECIENTES A PARTIDOS DEL AGBA\n",
    "agba['DEPARTAMENTO'] = agba.LINK.map(lambda x: x[0:5])\n",
    "\n",
    "#ELIMINAMOS LOS DEPARTAMENTOS QUE NO SEAN DE AGBA SEGUN INDEC\n",
    "agba = agba.loc[agba.DEPARTAMENTO.isin(departamentos.values()),:]\n",
    "\n",
    "#LOS RADIOS FALTANTES DE CABA SON URBANOS\n",
    "agba.TIPO.fillna('U',inplace=True)\n",
    "\n",
    "#ELIMINAMOS LOS RADIOS RURALES\n",
    "agba = agba.loc[agba.TIPO!='R',:]\n",
    "\n",
    "#AGREGAMOS ETIQUETAS A LOS DEPARTAMENTOS\n",
    "deptos = []\n",
    "for i in range(agba.shape[0]):\n",
    "    deptos.append(departamentosName[agba.DEPARTAMENTO.iloc[i]])\n",
    "agba['DEPTO_NAME'] = deptos\n",
    "agba = agba.to_crs(epsg=22185)\n",
    "\n",
    "agba.head()\n"
   ]
  },
  {
   "cell_type": "markdown",
   "metadata": {},
   "source": [
    "## load density"
   ]
  },
  {
   "cell_type": "code",
   "execution_count": 5,
   "metadata": {
    "collapsed": false
   },
   "outputs": [
    {
     "name": "stdout",
     "output_type": "stream",
     "text": [
      "(19552, 2)\n",
      "(3553, 2)\n",
      "(23105, 2)\n"
     ]
    }
   ],
   "source": [
    "#esta data fue descargada desde la pagina oficial de indec \n",
    "#http://200.51.91.245/argbin/RpWebEngine.exe/PortalAction?&MODE=MAIN&BASE=CPV2010B&MAIN=WebServerMain.inl\n",
    "#obteniendo listado por areas a nivel de radio censal\n",
    "#sexo, con total de filas, para: \n",
    "\n",
    "#los 24 partidos del Gran Benos Aires\n",
    "pbaPob = pd.read_csv('../dt/poblacionPBAcenso.csv')\n",
    "pbaPob.LINK = pbaPob.LINK.map(lambda x: '0'+str(x))\n",
    "print pbaPob.shape\n",
    "\n",
    "#CABA \n",
    "cabaPob = pd.read_csv('../dt/poblacionCABAcenso.csv')\n",
    "cabaPob.LINK = cabaPob.LINK.map(lambda x: '0'+str(x))\n",
    "print cabaPob.shape\n",
    "\n",
    "poblacion = cabaPob.append(pbaPob)\n",
    "print poblacion.shape"
   ]
  },
  {
   "cell_type": "code",
   "execution_count": 6,
   "metadata": {
    "collapsed": false
   },
   "outputs": [],
   "source": [
    "agba = agba.merge(poblacion, on='LINK',how='left')\n"
   ]
  },
  {
   "cell_type": "code",
   "execution_count": 7,
   "metadata": {
    "collapsed": false
   },
   "outputs": [
    {
     "data": {
      "text/html": [
       "<div>\n",
       "<table border=\"1\" class=\"dataframe\">\n",
       "  <thead>\n",
       "    <tr style=\"text-align: right;\">\n",
       "      <th></th>\n",
       "      <th>AREA</th>\n",
       "      <th>LINK</th>\n",
       "      <th>TIPO</th>\n",
       "      <th>geometry</th>\n",
       "      <th>DEPARTAMENTO</th>\n",
       "      <th>DEPTO_NAME</th>\n",
       "      <th>Pob</th>\n",
       "    </tr>\n",
       "  </thead>\n",
       "  <tbody>\n",
       "    <tr>\n",
       "      <th>2336</th>\n",
       "      <td>18459.31</td>\n",
       "      <td>020130104</td>\n",
       "      <td>U</td>\n",
       "      <td>POLYGON ((5640843.337760887 6177613.239423731,...</td>\n",
       "      <td>02013</td>\n",
       "      <td>Comuna 13</td>\n",
       "      <td>763</td>\n",
       "    </tr>\n",
       "    <tr>\n",
       "      <th>3371</th>\n",
       "      <td>22525.75</td>\n",
       "      <td>020121607</td>\n",
       "      <td>U</td>\n",
       "      <td>POLYGON ((5638863.653027886 6173784.750408883,...</td>\n",
       "      <td>02012</td>\n",
       "      <td>Comuna 12</td>\n",
       "      <td>754</td>\n",
       "    </tr>\n",
       "  </tbody>\n",
       "</table>\n",
       "</div>"
      ],
      "text/plain": [
       "          AREA       LINK TIPO  \\\n",
       "2336  18459.31  020130104    U   \n",
       "3371  22525.75  020121607    U   \n",
       "\n",
       "                                               geometry DEPARTAMENTO  \\\n",
       "2336  POLYGON ((5640843.337760887 6177613.239423731,...        02013   \n",
       "3371  POLYGON ((5638863.653027886 6173784.750408883,...        02012   \n",
       "\n",
       "     DEPTO_NAME  Pob  \n",
       "2336  Comuna 13  763  \n",
       "3371  Comuna 12  754  "
      ]
     },
     "execution_count": 7,
     "metadata": {},
     "output_type": "execute_result"
    }
   ],
   "source": [
    "agba.loc[agba.LINK.duplicated(),:]"
   ]
  },
  {
   "cell_type": "code",
   "execution_count": 8,
   "metadata": {
    "collapsed": false
   },
   "outputs": [],
   "source": [
    "agba['densidad'] = agba.Pob / agba.AREA\n",
    "agba['densidad'] = pd.qcut(agba.densidad,10,labels=False)\n"
   ]
  },
  {
   "cell_type": "code",
   "execution_count": 9,
   "metadata": {
    "collapsed": false
   },
   "outputs": [
    {
     "data": {
      "text/html": [
       "<div>\n",
       "<table border=\"1\" class=\"dataframe\">\n",
       "  <thead>\n",
       "    <tr style=\"text-align: right;\">\n",
       "      <th>TIPO</th>\n",
       "      <th>M</th>\n",
       "      <th>U</th>\n",
       "    </tr>\n",
       "    <tr>\n",
       "      <th>densidad</th>\n",
       "      <th></th>\n",
       "      <th></th>\n",
       "    </tr>\n",
       "  </thead>\n",
       "  <tbody>\n",
       "    <tr>\n",
       "      <th>0</th>\n",
       "      <td>76</td>\n",
       "      <td>1269</td>\n",
       "    </tr>\n",
       "    <tr>\n",
       "      <th>1</th>\n",
       "      <td>0</td>\n",
       "      <td>1345</td>\n",
       "    </tr>\n",
       "    <tr>\n",
       "      <th>2</th>\n",
       "      <td>0</td>\n",
       "      <td>1344</td>\n",
       "    </tr>\n",
       "    <tr>\n",
       "      <th>3</th>\n",
       "      <td>0</td>\n",
       "      <td>1345</td>\n",
       "    </tr>\n",
       "    <tr>\n",
       "      <th>4</th>\n",
       "      <td>1</td>\n",
       "      <td>1343</td>\n",
       "    </tr>\n",
       "    <tr>\n",
       "      <th>5</th>\n",
       "      <td>0</td>\n",
       "      <td>1345</td>\n",
       "    </tr>\n",
       "    <tr>\n",
       "      <th>6</th>\n",
       "      <td>0</td>\n",
       "      <td>1344</td>\n",
       "    </tr>\n",
       "    <tr>\n",
       "      <th>7</th>\n",
       "      <td>0</td>\n",
       "      <td>1345</td>\n",
       "    </tr>\n",
       "    <tr>\n",
       "      <th>8</th>\n",
       "      <td>0</td>\n",
       "      <td>1344</td>\n",
       "    </tr>\n",
       "    <tr>\n",
       "      <th>9</th>\n",
       "      <td>0</td>\n",
       "      <td>1345</td>\n",
       "    </tr>\n",
       "  </tbody>\n",
       "</table>\n",
       "</div>"
      ],
      "text/plain": [
       "TIPO       M     U\n",
       "densidad          \n",
       "0         76  1269\n",
       "1          0  1345\n",
       "2          0  1344\n",
       "3          0  1345\n",
       "4          1  1343\n",
       "5          0  1345\n",
       "6          0  1344\n",
       "7          0  1345\n",
       "8          0  1344\n",
       "9          0  1345"
      ]
     },
     "execution_count": 9,
     "metadata": {},
     "output_type": "execute_result"
    }
   ],
   "source": [
    "pd.crosstab(agba.densidad,agba.TIPO)"
   ]
  },
  {
   "cell_type": "code",
   "execution_count": 10,
   "metadata": {
    "collapsed": false
   },
   "outputs": [
    {
     "data": {
      "text/html": [
       "<div>\n",
       "<table border=\"1\" class=\"dataframe\">\n",
       "  <thead>\n",
       "    <tr style=\"text-align: right;\">\n",
       "      <th></th>\n",
       "      <th>LINK</th>\n",
       "      <th>geometry</th>\n",
       "      <th>DEPTO_NAME</th>\n",
       "      <th>mixYden</th>\n",
       "    </tr>\n",
       "  </thead>\n",
       "  <tbody>\n",
       "    <tr>\n",
       "      <th>0</th>\n",
       "      <td>062520101</td>\n",
       "      <td>POLYGON ((5605573.523703439 6208535.44525929, ...</td>\n",
       "      <td>ESCOBAR</td>\n",
       "      <td>True</td>\n",
       "    </tr>\n",
       "    <tr>\n",
       "      <th>1</th>\n",
       "      <td>062520102</td>\n",
       "      <td>POLYGON ((5606597.563514996 6207794.426813126,...</td>\n",
       "      <td>ESCOBAR</td>\n",
       "      <td>True</td>\n",
       "    </tr>\n",
       "    <tr>\n",
       "      <th>2</th>\n",
       "      <td>062520208</td>\n",
       "      <td>POLYGON ((5608236.390336967 6207306.631047663,...</td>\n",
       "      <td>ESCOBAR</td>\n",
       "      <td>True</td>\n",
       "    </tr>\n",
       "    <tr>\n",
       "      <th>3</th>\n",
       "      <td>062520201</td>\n",
       "      <td>POLYGON ((5611075.149383005 6206034.538516479,...</td>\n",
       "      <td>ESCOBAR</td>\n",
       "      <td>True</td>\n",
       "    </tr>\n",
       "    <tr>\n",
       "      <th>4</th>\n",
       "      <td>062520202</td>\n",
       "      <td>POLYGON ((5613709.611741914 6205445.958880841,...</td>\n",
       "      <td>ESCOBAR</td>\n",
       "      <td>True</td>\n",
       "    </tr>\n",
       "  </tbody>\n",
       "</table>\n",
       "</div>"
      ],
      "text/plain": [
       "        LINK                                           geometry DEPTO_NAME  \\\n",
       "0  062520101  POLYGON ((5605573.523703439 6208535.44525929, ...    ESCOBAR   \n",
       "1  062520102  POLYGON ((5606597.563514996 6207794.426813126,...    ESCOBAR   \n",
       "2  062520208  POLYGON ((5608236.390336967 6207306.631047663,...    ESCOBAR   \n",
       "3  062520201  POLYGON ((5611075.149383005 6206034.538516479,...    ESCOBAR   \n",
       "4  062520202  POLYGON ((5613709.611741914 6205445.958880841,...    ESCOBAR   \n",
       "\n",
       "  mixYden  \n",
       "0    True  \n",
       "1    True  \n",
       "2    True  \n",
       "3    True  \n",
       "4    True  "
      ]
     },
     "execution_count": 10,
     "metadata": {},
     "output_type": "execute_result"
    }
   ],
   "source": [
    "\n",
    "mixYden = (agba.TIPO == 'M') | (agba.densidad == 0)\n",
    "agba['mixYden'] =mixYden\n",
    "agba.drop(['AREA','DEPARTAMENTO','Pob','TIPO','densidad'], axis=1,inplace=True)\n",
    "agbaAltaDens = agba.loc[~agba.mixYden,:]\n",
    "agbaBajaDens = agba.loc[agba.mixYden,:]\n",
    "\n",
    "agba.head()"
   ]
  },
  {
   "cell_type": "markdown",
   "metadata": {
    "collapsed": true
   },
   "source": [
    "## Load OSM"
   ]
  },
  {
   "cell_type": "code",
   "execution_count": 11,
   "metadata": {
    "collapsed": false
   },
   "outputs": [],
   "source": [
    "#download data\n",
    "osmFile = os.path.expanduser('~')+'/Downloads/buenos-aires_argentina.osm2pgsql-shapefiles/buenos-aires_argentina_osm_line.shp'\n",
    "if not os.path.isfile(osmFile):\n",
    "    os.sys('wget https://s3.amazonaws.com/metro-extracts.mapzen.com/buenos-aires_argentina.osm2pgsql-shapefiles.zip')\n",
    "    os.sys('unzip https://s3.amazonaws.com/metro-extracts.mapzen.com/buenos-aires_argentina.osm2pgsql-shapefiles.zip')\n",
    "\n"
   ]
  },
  {
   "cell_type": "code",
   "execution_count": 12,
   "metadata": {
    "collapsed": false,
    "scrolled": true
   },
   "outputs": [],
   "source": [
    "calles = gpd.read_file('/home/pipe/Downloads/buenos-aires_argentina.osm2pgsql-shapefiles/buenos-aires_argentina_osm_line.shp')\n",
    "calles = calles.loc[:,['highway','geometry']]\n",
    "mask =  (calles.highway == 'residential') | (calles.highway == 'unclassified') |  (calles.highway == 'living_street') \n",
    "calles = calles.loc[mask,:]\n",
    "calles = calles.to_crs(epsg=22185)\n"
   ]
  },
  {
   "cell_type": "code",
   "execution_count": 13,
   "metadata": {
    "collapsed": true
   },
   "outputs": [],
   "source": [
    "calles['buffer'] = calles.geometry.buffer(100)\n",
    "calles.drop(['geometry'],axis=1,inplace=True)\n",
    "calles.columns = [u'highway', u'geometry']"
   ]
  },
  {
   "cell_type": "markdown",
   "metadata": {},
   "source": [
    "# prueba con porciones"
   ]
  },
  {
   "cell_type": "code",
   "execution_count": null,
   "metadata": {
    "collapsed": true
   },
   "outputs": [],
   "source": [
    "# para cada radio, chequear :\n",
    "# res_union = gpd.overlay(calleSola, radiosSel, how='intersection')\n",
    "#esto me devuelve una base con tantos poligonos cmom\n"
   ]
  },
  {
   "cell_type": "code",
   "execution_count": 43,
   "metadata": {
    "collapsed": false
   },
   "outputs": [],
   "source": [
    "radiosSel = gpd.read_file('dataPrueba/radiosSeleccionados.shp')\n",
    "calleConectada = gpd.read_file('dataPrueba/calleConConexion.shp')\n",
    "calleConectada['buffer'] = calleConectada.geometry.buffer(70)\n",
    "calleConectada.drop(['geometry'],axis=1,inplace=True)\n",
    "calleConectada.columns = [u'highway', u'geometry']\n",
    "\n",
    "calleAislada = gpd.read_file('dataPrueba/calleSinConexion.shp')\n",
    "calleAislada['buffer'] = calleAislada.geometry.buffer(70)\n",
    "calleAislada.drop(['geometry'],axis=1,inplace=True)\n",
    "calleAislada.columns = [u'highway', u'geometry']"
   ]
  },
  {
   "cell_type": "code",
   "execution_count": 44,
   "metadata": {
    "collapsed": false
   },
   "outputs": [
    {
     "data": {
      "text/plain": [
       "<matplotlib.axes._subplots.AxesSubplot at 0x7f70f7a1aa50>"
      ]
     },
     "execution_count": 44,
     "metadata": {},
     "output_type": "execute_result"
    },
    {
     "data": {
      "image/png": "[encoded data removed]",
      "text/plain": [
       "<matplotlib.figure.Figure at 0x7f70deb4c8d0>"
      ]
     },
     "metadata": {},
     "output_type": "display_data"
    }
   ],
   "source": [
    "fig = plt.figure(figsize=(6,6))\n",
    "ax = fig.add_subplot(1,1,1)\n",
    "radiosSel.plot(ax=ax,color='green')\n",
    "calleAislada.plot(ax=ax,color='blue')\n",
    "calleConectada.plot(ax=ax,color='red')"
   ]
  },
  {
   "cell_type": "code",
   "execution_count": 45,
   "metadata": {
    "collapsed": false
   },
   "outputs": [
    {
     "data": {
      "text/html": [
       "<div>\n",
       "<table border=\"1\" class=\"dataframe\">\n",
       "  <thead>\n",
       "    <tr style=\"text-align: right;\">\n",
       "      <th></th>\n",
       "      <th>AREA</th>\n",
       "      <th>DEPARTAMEN</th>\n",
       "      <th>DEPTO_NAME</th>\n",
       "      <th>LINK</th>\n",
       "      <th>Pob</th>\n",
       "      <th>TIPO</th>\n",
       "      <th>densidad</th>\n",
       "      <th>highway</th>\n",
       "      <th>geometry</th>\n",
       "    </tr>\n",
       "  </thead>\n",
       "  <tbody>\n",
       "    <tr>\n",
       "      <th>0</th>\n",
       "      <td>10753800.0</td>\n",
       "      <td>06539</td>\n",
       "      <td>MERLO</td>\n",
       "      <td>065391007</td>\n",
       "      <td>2913</td>\n",
       "      <td>M</td>\n",
       "      <td>0</td>\n",
       "      <td>residential</td>\n",
       "      <td>POLYGON ((5621831.386868679 6159061.582841514,...</td>\n",
       "    </tr>\n",
       "    <tr>\n",
       "      <th>1</th>\n",
       "      <td>297245.6</td>\n",
       "      <td>06539</td>\n",
       "      <td>MERLO</td>\n",
       "      <td>065391008</td>\n",
       "      <td>2204</td>\n",
       "      <td>U</td>\n",
       "      <td>3</td>\n",
       "      <td>residential</td>\n",
       "      <td>POLYGON ((5621789.358866802 6159012.434962539,...</td>\n",
       "    </tr>\n",
       "    <tr>\n",
       "      <th>2</th>\n",
       "      <td>10753800.0</td>\n",
       "      <td>06539</td>\n",
       "      <td>MERLO</td>\n",
       "      <td>065391007</td>\n",
       "      <td>2913</td>\n",
       "      <td>M</td>\n",
       "      <td>0</td>\n",
       "      <td>residential</td>\n",
       "      <td>POLYGON ((5622304.19733424 6158390.687202398, ...</td>\n",
       "    </tr>\n",
       "    <tr>\n",
       "      <th>3</th>\n",
       "      <td>169436.9</td>\n",
       "      <td>06539</td>\n",
       "      <td>MERLO</td>\n",
       "      <td>065391009</td>\n",
       "      <td>1766</td>\n",
       "      <td>U</td>\n",
       "      <td>5</td>\n",
       "      <td>residential</td>\n",
       "      <td>POLYGON ((5622352.559752863 6158443.872580742,...</td>\n",
       "    </tr>\n",
       "  </tbody>\n",
       "</table>\n",
       "</div>"
      ],
      "text/plain": [
       "         AREA DEPARTAMEN DEPTO_NAME       LINK   Pob TIPO  densidad  \\\n",
       "0  10753800.0      06539      MERLO  065391007  2913    M         0   \n",
       "1    297245.6      06539      MERLO  065391008  2204    U         3   \n",
       "2  10753800.0      06539      MERLO  065391007  2913    M         0   \n",
       "3    169436.9      06539      MERLO  065391009  1766    U         5   \n",
       "\n",
       "       highway                                           geometry  \n",
       "0  residential  POLYGON ((5621831.386868679 6159061.582841514,...  \n",
       "1  residential  POLYGON ((5621789.358866802 6159012.434962539,...  \n",
       "2  residential  POLYGON ((5622304.19733424 6158390.687202398, ...  \n",
       "3  residential  POLYGON ((5622352.559752863 6158443.872580742,...  "
      ]
     },
     "execution_count": 45,
     "metadata": {},
     "output_type": "execute_result"
    }
   ],
   "source": [
    "intersec = gpd.overlay(radiosSel, calleConectada, how='intersection')\n",
    "intersec"
   ]
  },
  {
   "cell_type": "code",
   "execution_count": 46,
   "metadata": {
    "collapsed": false
   },
   "outputs": [
    {
     "data": {
      "text/plain": [
       "<matplotlib.axes._subplots.AxesSubplot at 0x7f70fb9d0bd0>"
      ]
     },
     "execution_count": 46,
     "metadata": {},
     "output_type": "execute_result"
    },
    {
     "data": {
      "image/png": "[encoded data removed]",
      "text/plain": [
       "<matplotlib.figure.Figure at 0x7f70f8445d10>"
      ]
     },
     "metadata": {},
     "output_type": "display_data"
    }
   ],
   "source": [
    "fig = plt.figure(figsize=(6,6))\n",
    "ax = fig.add_subplot(1,1,1)\n",
    "radiosSel.plot(ax=ax,color='green')\n",
    "intersec.plot(ax=ax,column='LINK')\n"
   ]
  },
  {
   "cell_type": "code",
   "execution_count": 47,
   "metadata": {
    "collapsed": false
   },
   "outputs": [],
   "source": [
    "noIntersec = gpd.overlay(radiosSel, calleAislada, how='intersection')\n"
   ]
  },
  {
   "cell_type": "code",
   "execution_count": 48,
   "metadata": {
    "collapsed": false
   },
   "outputs": [
    {
     "data": {
      "text/plain": [
       "(0, 0)"
      ]
     },
     "execution_count": 48,
     "metadata": {},
     "output_type": "execute_result"
    }
   ],
   "source": [
    "noIntersec.shape"
   ]
  },
  {
   "cell_type": "code",
   "execution_count": 49,
   "metadata": {
    "collapsed": true
   },
   "outputs": [],
   "source": [
    "calleConectada2 = gpd.read_file('dataPrueba/calleConConexion2.shp')\n",
    "calleConectada2['buffer'] = calleConectada2.geometry.buffer(70)\n",
    "calleConectada2.drop(['geometry'],axis=1,inplace=True)\n",
    "calleConectada2.columns = [u'highway', u'geometry']\n",
    "\n"
   ]
  },
  {
   "cell_type": "code",
   "execution_count": 50,
   "metadata": {
    "collapsed": false
   },
   "outputs": [
    {
     "data": {
      "text/html": [
       "<div>\n",
       "<table border=\"1\" class=\"dataframe\">\n",
       "  <thead>\n",
       "    <tr style=\"text-align: right;\">\n",
       "      <th></th>\n",
       "      <th>AREA</th>\n",
       "      <th>DEPARTAMEN</th>\n",
       "      <th>DEPTO_NAME</th>\n",
       "      <th>LINK</th>\n",
       "      <th>Pob</th>\n",
       "      <th>TIPO</th>\n",
       "      <th>densidad</th>\n",
       "      <th>geometry</th>\n",
       "    </tr>\n",
       "  </thead>\n",
       "  <tbody>\n",
       "    <tr>\n",
       "      <th>0</th>\n",
       "      <td>709438.6</td>\n",
       "      <td>06539</td>\n",
       "      <td>MERLO</td>\n",
       "      <td>065391011</td>\n",
       "      <td>1698</td>\n",
       "      <td>M</td>\n",
       "      <td>0</td>\n",
       "      <td>POLYGON ((5622991.846299809 6159829.863916122,...</td>\n",
       "    </tr>\n",
       "    <tr>\n",
       "      <th>1</th>\n",
       "      <td>318848.7</td>\n",
       "      <td>06539</td>\n",
       "      <td>MERLO</td>\n",
       "      <td>065391010</td>\n",
       "      <td>1850</td>\n",
       "      <td>U</td>\n",
       "      <td>2</td>\n",
       "      <td>POLYGON ((5622057.632108648 6159428.089684312,...</td>\n",
       "    </tr>\n",
       "    <tr>\n",
       "      <th>2</th>\n",
       "      <td>10753800.0</td>\n",
       "      <td>06539</td>\n",
       "      <td>MERLO</td>\n",
       "      <td>065391007</td>\n",
       "      <td>2913</td>\n",
       "      <td>M</td>\n",
       "      <td>0</td>\n",
       "      <td>POLYGON ((5621790.619307964 6159302.969603975,...</td>\n",
       "    </tr>\n",
       "    <tr>\n",
       "      <th>3</th>\n",
       "      <td>985014.2</td>\n",
       "      <td>06539</td>\n",
       "      <td>MERLO</td>\n",
       "      <td>065391016</td>\n",
       "      <td>1801</td>\n",
       "      <td>M</td>\n",
       "      <td>0</td>\n",
       "      <td>POLYGON ((5623717.811691104 6159413.054642096,...</td>\n",
       "    </tr>\n",
       "    <tr>\n",
       "      <th>4</th>\n",
       "      <td>135624.1</td>\n",
       "      <td>06539</td>\n",
       "      <td>MERLO</td>\n",
       "      <td>065391015</td>\n",
       "      <td>1181</td>\n",
       "      <td>M</td>\n",
       "      <td>4</td>\n",
       "      <td>POLYGON ((5623881.460787947 6159134.908213038,...</td>\n",
       "    </tr>\n",
       "    <tr>\n",
       "      <th>5</th>\n",
       "      <td>297245.6</td>\n",
       "      <td>06539</td>\n",
       "      <td>MERLO</td>\n",
       "      <td>065391008</td>\n",
       "      <td>2204</td>\n",
       "      <td>U</td>\n",
       "      <td>3</td>\n",
       "      <td>POLYGON ((5621931.441590016 6159172.910726232,...</td>\n",
       "    </tr>\n",
       "    <tr>\n",
       "      <th>6</th>\n",
       "      <td>169436.9</td>\n",
       "      <td>06539</td>\n",
       "      <td>MERLO</td>\n",
       "      <td>065391009</td>\n",
       "      <td>1766</td>\n",
       "      <td>U</td>\n",
       "      <td>5</td>\n",
       "      <td>POLYGON ((5622315.43644484 6158817.795655366, ...</td>\n",
       "    </tr>\n",
       "    <tr>\n",
       "      <th>7</th>\n",
       "      <td>3579931.0</td>\n",
       "      <td>06427</td>\n",
       "      <td>LA MATANZA</td>\n",
       "      <td>064278412</td>\n",
       "      <td>1452</td>\n",
       "      <td>M</td>\n",
       "      <td>0</td>\n",
       "      <td>POLYGON ((5622739.405051569 6156895.223836675,...</td>\n",
       "    </tr>\n",
       "  </tbody>\n",
       "</table>\n",
       "</div>"
      ],
      "text/plain": [
       "         AREA DEPARTAMEN  DEPTO_NAME       LINK   Pob TIPO  densidad  \\\n",
       "0    709438.6      06539       MERLO  065391011  1698    M         0   \n",
       "1    318848.7      06539       MERLO  065391010  1850    U         2   \n",
       "2  10753800.0      06539       MERLO  065391007  2913    M         0   \n",
       "3    985014.2      06539       MERLO  065391016  1801    M         0   \n",
       "4    135624.1      06539       MERLO  065391015  1181    M         4   \n",
       "5    297245.6      06539       MERLO  065391008  2204    U         3   \n",
       "6    169436.9      06539       MERLO  065391009  1766    U         5   \n",
       "7   3579931.0      06427  LA MATANZA  064278412  1452    M         0   \n",
       "\n",
       "                                            geometry  \n",
       "0  POLYGON ((5622991.846299809 6159829.863916122,...  \n",
       "1  POLYGON ((5622057.632108648 6159428.089684312,...  \n",
       "2  POLYGON ((5621790.619307964 6159302.969603975,...  \n",
       "3  POLYGON ((5623717.811691104 6159413.054642096,...  \n",
       "4  POLYGON ((5623881.460787947 6159134.908213038,...  \n",
       "5  POLYGON ((5621931.441590016 6159172.910726232,...  \n",
       "6  POLYGON ((5622315.43644484 6158817.795655366, ...  \n",
       "7  POLYGON ((5622739.405051569 6156895.223836675,...  "
      ]
     },
     "execution_count": 50,
     "metadata": {},
     "output_type": "execute_result"
    }
   ],
   "source": [
    "radiosSel"
   ]
  },
  {
   "cell_type": "code",
   "execution_count": 51,
   "metadata": {
    "collapsed": false
   },
   "outputs": [
    {
     "data": {
      "text/plain": [
       "<matplotlib.axes._subplots.AxesSubplot at 0x7f70f4467750>"
      ]
     },
     "execution_count": 51,
     "metadata": {},
     "output_type": "execute_result"
    },
    {
     "data": {
      "image/png": "[encoded data removed]",
      "text/plain": [
       "<matplotlib.figure.Figure at 0x7f7123838090>"
      ]
     },
     "metadata": {},
     "output_type": "display_data"
    }
   ],
   "source": [
    "fig = plt.figure(figsize=(6,6))\n",
    "ax = fig.add_subplot(1,1,1)\n",
    "radiosSel.plot(ax=ax,color='green')\n",
    "radiosSel.loc[radiosSel.LINK == '065391011',:].plot(ax=ax,color='blue')\n",
    "calleConectada2.plot(ax=ax,color='RED')\n"
   ]
  },
  {
   "cell_type": "code",
   "execution_count": 52,
   "metadata": {
    "collapsed": false
   },
   "outputs": [
    {
     "data": {
      "text/html": [
       "<div>\n",
       "<table border=\"1\" class=\"dataframe\">\n",
       "  <thead>\n",
       "    <tr style=\"text-align: right;\">\n",
       "      <th></th>\n",
       "      <th>AREA</th>\n",
       "      <th>DEPARTAMEN</th>\n",
       "      <th>DEPTO_NAME</th>\n",
       "      <th>LINK</th>\n",
       "      <th>Pob</th>\n",
       "      <th>TIPO</th>\n",
       "      <th>densidad</th>\n",
       "      <th>highway</th>\n",
       "      <th>geometry</th>\n",
       "    </tr>\n",
       "  </thead>\n",
       "  <tbody>\n",
       "    <tr>\n",
       "      <th>0</th>\n",
       "      <td>10753800.0</td>\n",
       "      <td>06539</td>\n",
       "      <td>MERLO</td>\n",
       "      <td>065391007</td>\n",
       "      <td>2913</td>\n",
       "      <td>M</td>\n",
       "      <td>0</td>\n",
       "      <td>residential</td>\n",
       "      <td>POLYGON ((5621985.381953466 6158252.55699361, ...</td>\n",
       "    </tr>\n",
       "    <tr>\n",
       "      <th>1</th>\n",
       "      <td>169436.9</td>\n",
       "      <td>06539</td>\n",
       "      <td>MERLO</td>\n",
       "      <td>065391009</td>\n",
       "      <td>1766</td>\n",
       "      <td>U</td>\n",
       "      <td>5</td>\n",
       "      <td>residential</td>\n",
       "      <td>POLYGON ((5621991.465134294 6158246.843687637,...</td>\n",
       "    </tr>\n",
       "    <tr>\n",
       "      <th>2</th>\n",
       "      <td>985014.2</td>\n",
       "      <td>06539</td>\n",
       "      <td>MERLO</td>\n",
       "      <td>065391016</td>\n",
       "      <td>1801</td>\n",
       "      <td>M</td>\n",
       "      <td>0</td>\n",
       "      <td>residential</td>\n",
       "      <td>POLYGON ((5622423.833162273 6158721.66510212, ...</td>\n",
       "    </tr>\n",
       "    <tr>\n",
       "      <th>3</th>\n",
       "      <td>709438.6</td>\n",
       "      <td>06539</td>\n",
       "      <td>MERLO</td>\n",
       "      <td>065391011</td>\n",
       "      <td>1698</td>\n",
       "      <td>M</td>\n",
       "      <td>0</td>\n",
       "      <td>residential</td>\n",
       "      <td>POLYGON ((5622709.271911588 6159046.506834115,...</td>\n",
       "    </tr>\n",
       "  </tbody>\n",
       "</table>\n",
       "</div>"
      ],
      "text/plain": [
       "         AREA DEPARTAMEN DEPTO_NAME       LINK   Pob TIPO  densidad  \\\n",
       "0  10753800.0      06539      MERLO  065391007  2913    M         0   \n",
       "1    169436.9      06539      MERLO  065391009  1766    U         5   \n",
       "2    985014.2      06539      MERLO  065391016  1801    M         0   \n",
       "3    709438.6      06539      MERLO  065391011  1698    M         0   \n",
       "\n",
       "       highway                                           geometry  \n",
       "0  residential  POLYGON ((5621985.381953466 6158252.55699361, ...  \n",
       "1  residential  POLYGON ((5621991.465134294 6158246.843687637,...  \n",
       "2  residential  POLYGON ((5622423.833162273 6158721.66510212, ...  \n",
       "3  residential  POLYGON ((5622709.271911588 6159046.506834115,...  "
      ]
     },
     "execution_count": 52,
     "metadata": {},
     "output_type": "execute_result"
    }
   ],
   "source": [
    "intersec2 = gpd.overlay(radiosSel, calleConectada2, how='intersection')\n",
    "intersec2"
   ]
  },
  {
   "cell_type": "code",
   "execution_count": 53,
   "metadata": {
    "collapsed": false
   },
   "outputs": [
    {
     "data": {
      "text/html": [
       "<div>\n",
       "<table border=\"1\" class=\"dataframe\">\n",
       "  <thead>\n",
       "    <tr style=\"text-align: right;\">\n",
       "      <th></th>\n",
       "      <th>AREA</th>\n",
       "      <th>DEPARTAMEN</th>\n",
       "      <th>DEPTO_NAME</th>\n",
       "      <th>LINK</th>\n",
       "      <th>Pob</th>\n",
       "      <th>TIPO</th>\n",
       "      <th>densidad</th>\n",
       "      <th>highway</th>\n",
       "      <th>geometry</th>\n",
       "    </tr>\n",
       "  </thead>\n",
       "  <tbody>\n",
       "    <tr>\n",
       "      <th>0</th>\n",
       "      <td>10753800.0</td>\n",
       "      <td>06539</td>\n",
       "      <td>MERLO</td>\n",
       "      <td>065391007</td>\n",
       "      <td>2913</td>\n",
       "      <td>M</td>\n",
       "      <td>0</td>\n",
       "      <td>residential</td>\n",
       "      <td>POLYGON ((5621985.381953466 6158252.55699361, ...</td>\n",
       "    </tr>\n",
       "    <tr>\n",
       "      <th>1</th>\n",
       "      <td>169436.9</td>\n",
       "      <td>06539</td>\n",
       "      <td>MERLO</td>\n",
       "      <td>065391009</td>\n",
       "      <td>1766</td>\n",
       "      <td>U</td>\n",
       "      <td>5</td>\n",
       "      <td>residential</td>\n",
       "      <td>POLYGON ((5621991.465134294 6158246.843687637,...</td>\n",
       "    </tr>\n",
       "    <tr>\n",
       "      <th>2</th>\n",
       "      <td>985014.2</td>\n",
       "      <td>06539</td>\n",
       "      <td>MERLO</td>\n",
       "      <td>065391016</td>\n",
       "      <td>1801</td>\n",
       "      <td>M</td>\n",
       "      <td>0</td>\n",
       "      <td>residential</td>\n",
       "      <td>POLYGON ((5622423.833162273 6158721.66510212, ...</td>\n",
       "    </tr>\n",
       "    <tr>\n",
       "      <th>3</th>\n",
       "      <td>709438.6</td>\n",
       "      <td>06539</td>\n",
       "      <td>MERLO</td>\n",
       "      <td>065391011</td>\n",
       "      <td>1698</td>\n",
       "      <td>M</td>\n",
       "      <td>0</td>\n",
       "      <td>residential</td>\n",
       "      <td>POLYGON ((5622709.271911588 6159046.506834115,...</td>\n",
       "    </tr>\n",
       "    <tr>\n",
       "      <th>0</th>\n",
       "      <td>10753800.0</td>\n",
       "      <td>06539</td>\n",
       "      <td>MERLO</td>\n",
       "      <td>065391007</td>\n",
       "      <td>2913</td>\n",
       "      <td>M</td>\n",
       "      <td>0</td>\n",
       "      <td>residential</td>\n",
       "      <td>POLYGON ((5621831.386868679 6159061.582841514,...</td>\n",
       "    </tr>\n",
       "    <tr>\n",
       "      <th>1</th>\n",
       "      <td>297245.6</td>\n",
       "      <td>06539</td>\n",
       "      <td>MERLO</td>\n",
       "      <td>065391008</td>\n",
       "      <td>2204</td>\n",
       "      <td>U</td>\n",
       "      <td>3</td>\n",
       "      <td>residential</td>\n",
       "      <td>POLYGON ((5621789.358866802 6159012.434962539,...</td>\n",
       "    </tr>\n",
       "    <tr>\n",
       "      <th>2</th>\n",
       "      <td>10753800.0</td>\n",
       "      <td>06539</td>\n",
       "      <td>MERLO</td>\n",
       "      <td>065391007</td>\n",
       "      <td>2913</td>\n",
       "      <td>M</td>\n",
       "      <td>0</td>\n",
       "      <td>residential</td>\n",
       "      <td>POLYGON ((5622304.19733424 6158390.687202398, ...</td>\n",
       "    </tr>\n",
       "    <tr>\n",
       "      <th>3</th>\n",
       "      <td>169436.9</td>\n",
       "      <td>06539</td>\n",
       "      <td>MERLO</td>\n",
       "      <td>065391009</td>\n",
       "      <td>1766</td>\n",
       "      <td>U</td>\n",
       "      <td>5</td>\n",
       "      <td>residential</td>\n",
       "      <td>POLYGON ((5622352.559752863 6158443.872580742,...</td>\n",
       "    </tr>\n",
       "  </tbody>\n",
       "</table>\n",
       "</div>"
      ],
      "text/plain": [
       "         AREA DEPARTAMEN DEPTO_NAME       LINK   Pob TIPO  densidad  \\\n",
       "0  10753800.0      06539      MERLO  065391007  2913    M         0   \n",
       "1    169436.9      06539      MERLO  065391009  1766    U         5   \n",
       "2    985014.2      06539      MERLO  065391016  1801    M         0   \n",
       "3    709438.6      06539      MERLO  065391011  1698    M         0   \n",
       "0  10753800.0      06539      MERLO  065391007  2913    M         0   \n",
       "1    297245.6      06539      MERLO  065391008  2204    U         3   \n",
       "2  10753800.0      06539      MERLO  065391007  2913    M         0   \n",
       "3    169436.9      06539      MERLO  065391009  1766    U         5   \n",
       "\n",
       "       highway                                           geometry  \n",
       "0  residential  POLYGON ((5621985.381953466 6158252.55699361, ...  \n",
       "1  residential  POLYGON ((5621991.465134294 6158246.843687637,...  \n",
       "2  residential  POLYGON ((5622423.833162273 6158721.66510212, ...  \n",
       "3  residential  POLYGON ((5622709.271911588 6159046.506834115,...  \n",
       "0  residential  POLYGON ((5621831.386868679 6159061.582841514,...  \n",
       "1  residential  POLYGON ((5621789.358866802 6159012.434962539,...  \n",
       "2  residential  POLYGON ((5622304.19733424 6158390.687202398, ...  \n",
       "3  residential  POLYGON ((5622352.559752863 6158443.872580742,...  "
      ]
     },
     "execution_count": 53,
     "metadata": {},
     "output_type": "execute_result"
    }
   ],
   "source": [
    "appenDF = intersec2.append(intersec)\n",
    "appenDF"
   ]
  },
  {
   "cell_type": "code",
   "execution_count": 54,
   "metadata": {
    "collapsed": true
   },
   "outputs": [],
   "source": [
    "appenDFdiss = appenDF.dissolve(by='LINK')\n"
   ]
  },
  {
   "cell_type": "code",
   "execution_count": 55,
   "metadata": {
    "collapsed": false
   },
   "outputs": [
    {
     "data": {
      "text/plain": [
       "<matplotlib.axes._subplots.AxesSubplot at 0x7f70fae52950>"
      ]
     },
     "execution_count": 55,
     "metadata": {},
     "output_type": "execute_result"
    },
    {
     "data": {
      "image/png": "[encoded data removed]",
      "text/plain": [
       "<matplotlib.figure.Figure at 0x7f70f4040b90>"
      ]
     },
     "metadata": {},
     "output_type": "display_data"
    }
   ],
   "source": [
    "fig = plt.figure(figsize=(6,6))\n",
    "ax = fig.add_subplot(1,1,1)\n",
    "radiosSel.plot(ax=ax,color='green')\n",
    "appenDFdiss.plot(ax=ax)"
   ]
  },
  {
   "cell_type": "markdown",
   "metadata": {},
   "source": [
    "# hacer el loop"
   ]
  },
  {
   "cell_type": "code",
   "execution_count": 14,
   "metadata": {
    "collapsed": false
   },
   "outputs": [],
   "source": [
    "calles.drop(['highway'],axis=1,inplace=True)\n",
    "calles['calleID'] = calles.index"
   ]
  },
  {
   "cell_type": "code",
   "execution_count": 15,
   "metadata": {
    "collapsed": false
   },
   "outputs": [
    {
     "name": "stderr",
     "output_type": "stream",
     "text": [
      "/home/pipe/anaconda2/lib/python2.7/site-packages/numpy/lib/function_base.py:2287: RuntimeWarning: invalid value encountered in find_intersects (vectorized)\n",
      "  outputs = ufunc(*inputs)\n"
     ]
    },
    {
     "data": {
      "text/html": [
       "<div>\n",
       "<table border=\"1\" class=\"dataframe\">\n",
       "  <thead>\n",
       "    <tr style=\"text-align: right;\">\n",
       "      <th></th>\n",
       "      <th>geometry</th>\n",
       "      <th>calleID</th>\n",
       "      <th>LINK</th>\n",
       "    </tr>\n",
       "  </thead>\n",
       "  <tbody>\n",
       "    <tr>\n",
       "      <th>0</th>\n",
       "      <td>POLYGON ((5584404.629722874 6157245.409330949,...</td>\n",
       "      <td>277</td>\n",
       "      <td>063640504</td>\n",
       "    </tr>\n",
       "    <tr>\n",
       "      <th>1</th>\n",
       "      <td>POLYGON ((5585797.157224065 6157690.710567379,...</td>\n",
       "      <td>279</td>\n",
       "      <td>063640504</td>\n",
       "    </tr>\n",
       "    <tr>\n",
       "      <th>2</th>\n",
       "      <td>POLYGON ((5585766.893090877 6157819.541789982,...</td>\n",
       "      <td>280</td>\n",
       "      <td>063640504</td>\n",
       "    </tr>\n",
       "    <tr>\n",
       "      <th>3</th>\n",
       "      <td>POLYGON ((5585824.361333102 6157929.274601583,...</td>\n",
       "      <td>281</td>\n",
       "      <td>063640504</td>\n",
       "    </tr>\n",
       "    <tr>\n",
       "      <th>4</th>\n",
       "      <td>POLYGON ((5585928.447176262 6157857.453439912,...</td>\n",
       "      <td>282</td>\n",
       "      <td>063640504</td>\n",
       "    </tr>\n",
       "  </tbody>\n",
       "</table>\n",
       "</div>"
      ],
      "text/plain": [
       "                                            geometry  calleID       LINK\n",
       "0  POLYGON ((5584404.629722874 6157245.409330949,...      277  063640504\n",
       "1  POLYGON ((5585797.157224065 6157690.710567379,...      279  063640504\n",
       "2  POLYGON ((5585766.893090877 6157819.541789982,...      280  063640504\n",
       "3  POLYGON ((5585824.361333102 6157929.274601583,...      281  063640504\n",
       "4  POLYGON ((5585928.447176262 6157857.453439912,...      282  063640504"
      ]
     },
     "execution_count": 15,
     "metadata": {},
     "output_type": "execute_result"
    }
   ],
   "source": [
    "#spatial join\n",
    "calles = gpd.sjoin(calles, agbaBajaDens.loc[:,['geometry','LINK']], how=\"inner\", op='intersects')\n",
    "calles.reset_index(inplace=True)\n",
    "calles.drop(['index','index_right'],axis=1,inplace=True)\n",
    "calles.head()"
   ]
  },
  {
   "cell_type": "code",
   "execution_count": null,
   "metadata": {
    "collapsed": false
   },
   "outputs": [],
   "source": [
    "#caca = calles2.loc[calles2.calleID==311,:]\n",
    "#caca.reset_index(inplace=True)\n",
    "#caca.drop(['index','index_right'],axis=1,inplace=True)\n",
    "#caca"
   ]
  },
  {
   "cell_type": "code",
   "execution_count": 22,
   "metadata": {
    "collapsed": true
   },
   "outputs": [
    {
     "data": {
      "text/html": [
       "<div>\n",
       "<table border=\"1\" class=\"dataframe\">\n",
       "  <thead>\n",
       "    <tr style=\"text-align: right;\">\n",
       "      <th></th>\n",
       "      <th>LINK</th>\n",
       "      <th>DEPTO_NAME</th>\n",
       "      <th>mixYden</th>\n",
       "      <th>calleID</th>\n",
       "      <th>LINK_2</th>\n",
       "      <th>geometry</th>\n",
       "    </tr>\n",
       "  </thead>\n",
       "  <tbody>\n",
       "    <tr>\n",
       "      <th>0</th>\n",
       "      <td>063640504</td>\n",
       "      <td>GENERAL RODRIGUEZ</td>\n",
       "      <td>True</td>\n",
       "      <td>277</td>\n",
       "      <td>063640504</td>\n",
       "      <td>POLYGON ((5585076.052959187 6158626.697466956,...</td>\n",
       "    </tr>\n",
       "  </tbody>\n",
       "</table>\n",
       "</div>"
      ],
      "text/plain": [
       "        LINK         DEPTO_NAME mixYden  calleID     LINK_2  \\\n",
       "0  063640504  GENERAL RODRIGUEZ    True      277  063640504   \n",
       "\n",
       "                                            geometry  \n",
       "0  POLYGON ((5585076.052959187 6158626.697466956,...  "
      ]
     },
     "execution_count": 22,
     "metadata": {},
     "output_type": "execute_result"
    }
   ],
   "source": [
    "'''\n",
    "primerID = calles.calleID.unique()[0]\n",
    "counter = 0\n",
    "subset = calles.loc[calles.calleID==primerID,:]\n",
    "unaLinea = subset.iloc[0:1,:]\n",
    "conjuntoDeRadios = agbaBajaDens.loc[agbaBajaDens.LINK.isin(subset.LINK),:]\n",
    "intercept = gpd.overlay(conjuntoDeRadios, unaLinea, how='intersection')\n",
    "intercept.head()\n",
    "primerID = calles.calleID.unique()[1]\n",
    "subset = calles.loc[calles.calleID==primerID,:]\n",
    "unaLinea = subset.iloc[0:1,:]\n",
    "conjuntoDeRadios = agbaBajaDens.loc[agbaBajaDens.LINK.isin(subset.LINK),:]\n",
    "tmp = gpd.overlay(conjuntoDeRadios, unaLinea, how='intersection')\n",
    "intercept.append(tmp)\n",
    "'''"
   ]
  },
  {
   "cell_type": "code",
   "execution_count": 56,
   "metadata": {
    "collapsed": false
   },
   "outputs": [
    {
     "data": {
      "text/html": [
       "<div>\n",
       "<table border=\"1\" class=\"dataframe\">\n",
       "  <thead>\n",
       "    <tr style=\"text-align: right;\">\n",
       "      <th></th>\n",
       "      <th>LINK</th>\n",
       "      <th>geometry</th>\n",
       "      <th>DEPTO_NAME</th>\n",
       "      <th>mixYden</th>\n",
       "    </tr>\n",
       "  </thead>\n",
       "  <tbody>\n",
       "    <tr>\n",
       "      <th>0</th>\n",
       "      <td>062520101</td>\n",
       "      <td>POLYGON ((5605573.523703439 6208535.44525929, ...</td>\n",
       "      <td>ESCOBAR</td>\n",
       "      <td>True</td>\n",
       "    </tr>\n",
       "    <tr>\n",
       "      <th>1</th>\n",
       "      <td>062520102</td>\n",
       "      <td>POLYGON ((5606597.563514996 6207794.426813126,...</td>\n",
       "      <td>ESCOBAR</td>\n",
       "      <td>True</td>\n",
       "    </tr>\n",
       "    <tr>\n",
       "      <th>2</th>\n",
       "      <td>062520208</td>\n",
       "      <td>POLYGON ((5608236.390336967 6207306.631047663,...</td>\n",
       "      <td>ESCOBAR</td>\n",
       "      <td>True</td>\n",
       "    </tr>\n",
       "    <tr>\n",
       "      <th>3</th>\n",
       "      <td>062520201</td>\n",
       "      <td>POLYGON ((5611075.149383005 6206034.538516479,...</td>\n",
       "      <td>ESCOBAR</td>\n",
       "      <td>True</td>\n",
       "    </tr>\n",
       "    <tr>\n",
       "      <th>4</th>\n",
       "      <td>062520202</td>\n",
       "      <td>POLYGON ((5613709.611741914 6205445.958880841,...</td>\n",
       "      <td>ESCOBAR</td>\n",
       "      <td>True</td>\n",
       "    </tr>\n",
       "  </tbody>\n",
       "</table>\n",
       "</div>"
      ],
      "text/plain": [
       "        LINK                                           geometry DEPTO_NAME  \\\n",
       "0  062520101  POLYGON ((5605573.523703439 6208535.44525929, ...    ESCOBAR   \n",
       "1  062520102  POLYGON ((5606597.563514996 6207794.426813126,...    ESCOBAR   \n",
       "2  062520208  POLYGON ((5608236.390336967 6207306.631047663,...    ESCOBAR   \n",
       "3  062520201  POLYGON ((5611075.149383005 6206034.538516479,...    ESCOBAR   \n",
       "4  062520202  POLYGON ((5613709.611741914 6205445.958880841,...    ESCOBAR   \n",
       "\n",
       "  mixYden  \n",
       "0    True  \n",
       "1    True  \n",
       "2    True  \n",
       "3    True  \n",
       "4    True  "
      ]
     },
     "execution_count": 56,
     "metadata": {},
     "output_type": "execute_result"
    }
   ],
   "source": [
    "agbaBajaDens.head()"
   ]
  },
  {
   "cell_type": "code",
   "execution_count": 27,
   "metadata": {
    "collapsed": false
   },
   "outputs": [
    {
     "name": "stdout",
     "output_type": "stream",
     "text": [
      "% 100.          0.32                     0.83           1.11            1.40                        2.08    2.21    2.34                           3.09               3.42          3.66            3.96           4.24                                      5.39                             6.24                                                  7.66              8.03                       8.61                 9.10           9.32              9.67                                10.5               10.9                11.3                    11.9                    12.5                        13.1                                14.0          14.3             14.5           14.7            15.0                  15.4      15.5         15.7         16.0                             16.6      16.8     16.9            17.2        17.4    17.5                 17.9                   18.3                  18.7            19.0       19.2                                19.8       19.9        20.2                      20.7                21.1               21.5          21.7                22.0   22.1          22.3              22.6            22.9      23.1                          23.6                                24.1          24.3                         24.9          25.1                     25.5                   25.9                                            27.0        27.2   27.2             27.5                                        28.4         28.5   28.6  28.6        28.8   28.9    29.0         29.1          29.3                                30.1        30.2      30.4                                                                             32.4         32.6                  33.1   33.2     33.3   33.3      33.4                                                                     35.1                                                       36.3     36.4        36.5         36.7                     37.1    37.1          37.3                      37.7                                                                39.0       39.2               39.5                39.8                                      40.6         40.8                 41.1       41.3     41.4                        41.9   41.9                               42.6           42.8   42.9    42.9     43.0                                43.8                                            44.8         45.0   45.1     45.2          45.4                           46.0        46.2                    46.6              46.9                47.2                              47.9                48.2                     48.7                             49.4                   49.8          50.0              50.3                     50.8            51.1                   51.5                  51.9                                                    52.9                    53.3                            53.8          54.0   54.0                      54.5          54.7                        55.2  55.2                                       56.0                                                                                57.7  57.7                    58.1          58.3          58.5  58.5                                                               59.9   59.9                60.2       60.3                   60.7              60.9             61.2                       61.7   61.7                            62.2                                 63.0    63.1                        63.6   63.7              64.0                                                                 65.2                                          66.1   66.1                           66.6                 66.9                                              67.7        67.8                                               68.5                                                 69.3      69.4                   69.7       69.8                    70.1                70.4                                                                                                                                    72.9       73.0   73.1   73.1  73.1          73.4             73.6   73.7   73.7          73.9                            74.5                                   75.2         75.4                75.7              75.9             76.2                                                77.1       77.2                                        78.0                                                                              79.5                          79.9                 80.3          80.4                            81.0        81.2                             81.6  81.7              81.9                     82.3                    82.7                                83.3  83.3                                         84.1               84.3                                        85.0                             85.5         85.6                     85.9      86.0                 86.3              86.5                         86.9                  87.3                  87.6        87.7                     88.0   88.1                              88.7                                            89.4     89.4    89.5      89.6                                                          90.4        90.5  90.5          90.7                      91.0                                      91.5             91.7      91.8                        92.2                                      92.8   92.9                    93.2   93.2       93.3 93.3          93.5     93.5               93.8                                        94.4       94.5               94.8                                95.3     95.4                                                                              96.6  96.7       96.8           97.0                                97.5                                                                  98.5                                                99.3               99.5      99.6             99.8    99.8        \n"
     ]
    }
   ],
   "source": [
    "primerID = calles.calleID.unique()[0]\n",
    "counter = 0\n",
    "for i in calles.calleID.unique():\n",
    "    subset = calles.loc[calles.calleID==i,:]\n",
    "    unaLinea = subset.iloc[0:1,:]\n",
    "    conjuntoDeRadios = agbaBajaDens.loc[agbaBajaDens.LINK.isin(subset.LINK),:]\n",
    "    if i == primerID:\n",
    "        intercept = gpd.overlay(conjuntoDeRadios, unaLinea, how='intersection')\n",
    "    else:\n",
    "        tmp = gpd.overlay(conjuntoDeRadios, unaLinea, how='intersection')\n",
    "        intercept = intercept.append(tmp)\n",
    "    counter += 1\n",
    "        \n",
    "    print '\\r',\"%\",str((counter+1)*100./len(calles.calleID.unique()))[:4],"
   ]
  },
  {
   "cell_type": "code",
   "execution_count": 28,
   "metadata": {
    "collapsed": false
   },
   "outputs": [
    {
     "data": {
      "text/html": [
       "<div>\n",
       "<table border=\"1\" class=\"dataframe\">\n",
       "  <thead>\n",
       "    <tr style=\"text-align: right;\">\n",
       "      <th></th>\n",
       "      <th>LINK</th>\n",
       "      <th>DEPTO_NAME</th>\n",
       "      <th>mixYden</th>\n",
       "      <th>calleID</th>\n",
       "      <th>LINK_2</th>\n",
       "      <th>geometry</th>\n",
       "    </tr>\n",
       "  </thead>\n",
       "  <tbody>\n",
       "    <tr>\n",
       "      <th>0</th>\n",
       "      <td>063640504</td>\n",
       "      <td>GENERAL RODRIGUEZ</td>\n",
       "      <td>True</td>\n",
       "      <td>277</td>\n",
       "      <td>063640504</td>\n",
       "      <td>POLYGON ((5585076.052959187 6158626.697466956,...</td>\n",
       "    </tr>\n",
       "    <tr>\n",
       "      <th>0</th>\n",
       "      <td>063640504</td>\n",
       "      <td>GENERAL RODRIGUEZ</td>\n",
       "      <td>True</td>\n",
       "      <td>279</td>\n",
       "      <td>063640504</td>\n",
       "      <td>POLYGON ((5585876.703430125 6157766.650889304,...</td>\n",
       "    </tr>\n",
       "    <tr>\n",
       "      <th>0</th>\n",
       "      <td>063640504</td>\n",
       "      <td>GENERAL RODRIGUEZ</td>\n",
       "      <td>True</td>\n",
       "      <td>280</td>\n",
       "      <td>063640504</td>\n",
       "      <td>POLYGON ((5585816.305761689 6157867.002179299,...</td>\n",
       "    </tr>\n",
       "    <tr>\n",
       "      <th>0</th>\n",
       "      <td>063640504</td>\n",
       "      <td>GENERAL RODRIGUEZ</td>\n",
       "      <td>True</td>\n",
       "      <td>281</td>\n",
       "      <td>063640504</td>\n",
       "      <td>POLYGON ((5585652.716804017 6158033.904114954,...</td>\n",
       "    </tr>\n",
       "    <tr>\n",
       "      <th>0</th>\n",
       "      <td>063640504</td>\n",
       "      <td>GENERAL RODRIGUEZ</td>\n",
       "      <td>True</td>\n",
       "      <td>282</td>\n",
       "      <td>063640504</td>\n",
       "      <td>POLYGON ((5585735.918334833 6157949.005015798,...</td>\n",
       "    </tr>\n",
       "  </tbody>\n",
       "</table>\n",
       "</div>"
      ],
      "text/plain": [
       "        LINK         DEPTO_NAME mixYden  calleID     LINK_2  \\\n",
       "0  063640504  GENERAL RODRIGUEZ    True      277  063640504   \n",
       "0  063640504  GENERAL RODRIGUEZ    True      279  063640504   \n",
       "0  063640504  GENERAL RODRIGUEZ    True      280  063640504   \n",
       "0  063640504  GENERAL RODRIGUEZ    True      281  063640504   \n",
       "0  063640504  GENERAL RODRIGUEZ    True      282  063640504   \n",
       "\n",
       "                                            geometry  \n",
       "0  POLYGON ((5585076.052959187 6158626.697466956,...  \n",
       "0  POLYGON ((5585876.703430125 6157766.650889304,...  \n",
       "0  POLYGON ((5585816.305761689 6157867.002179299,...  \n",
       "0  POLYGON ((5585652.716804017 6158033.904114954,...  \n",
       "0  POLYGON ((5585735.918334833 6157949.005015798,...  "
      ]
     },
     "execution_count": 28,
     "metadata": {},
     "output_type": "execute_result"
    }
   ],
   "source": [
    "intercept.head()"
   ]
  },
  {
   "cell_type": "code",
   "execution_count": 80,
   "metadata": {
    "collapsed": false
   },
   "outputs": [],
   "source": [
    "intercept = intercept.loc[:,['LINK','geometry']]"
   ]
  },
  {
   "cell_type": "code",
   "execution_count": 81,
   "metadata": {
    "collapsed": false
   },
   "outputs": [
    {
     "name": "stderr",
     "output_type": "stream",
     "text": [
      "TopologyException: found non-noded intersection between LINESTRING (5.59847e+06 6.17144e+06, 5.59846e+06 6.17144e+06) and LINESTRING (5.59844e+06 6.17145e+06, 5.59857e+06 6.17141e+06) at 5598467.2086282168 6171438.6117269164\n",
      "TopologyException: found non-noded intersection between LINESTRING (5.59847e+06 6.17144e+06, 5.59846e+06 6.17144e+06) and LINESTRING (5.59844e+06 6.17145e+06, 5.59857e+06 6.17141e+06) at 5598467.2086282168 6171438.6117269164\n",
      "TopologyException: Directed Edge visited twice during ring-building at 5613217.3448867993 6184894.2529578889\n",
      "TopologyException: Directed Edge visited twice during ring-building at 5613217.3448867993 6184894.2529578889\n",
      "TopologyException: found non-noded intersection between LINESTRING (5.62408e+06 6.18908e+06, 5.62408e+06 6.18908e+06) and LINESTRING (5.62409e+06 6.18907e+06, 5.62405e+06 6.1891e+06) at 5624077.9095266806 6189080.6289979015\n",
      "TopologyException: found non-noded intersection between LINESTRING (5.62408e+06 6.18908e+06, 5.62408e+06 6.18908e+06) and LINESTRING (5.62409e+06 6.18907e+06, 5.62405e+06 6.1891e+06) at 5624077.9095266806 6189080.6289979015\n"
     ]
    }
   ],
   "source": [
    "linkConProblemas = []\n",
    "for i in intercept.LINK.unique():\n",
    "    try:\n",
    "        intercept.loc[intercept.LINK==i,:].dissolve(by='LINK')\n",
    "    except:\n",
    "        linkConProblemas.append(i)"
   ]
  },
  {
   "cell_type": "code",
   "execution_count": 82,
   "metadata": {
    "collapsed": false
   },
   "outputs": [
    {
     "data": {
      "text/plain": [
       "[u'063640823', u'065151704', u'068050901']"
      ]
     },
     "execution_count": 82,
     "metadata": {},
     "output_type": "execute_result"
    }
   ],
   "source": [
    "linkConProblemas"
   ]
  },
  {
   "cell_type": "code",
   "execution_count": 87,
   "metadata": {
    "collapsed": false
   },
   "outputs": [],
   "source": [
    "intercepDissolve = gpd.GeoDataFrame(intercept.loc[~intercept.LINK.isin(linkConProblemas),['LINK','geometry']].groupby(\"LINK\").geometry.agg(shapely.ops.unary_union).reset_index(), geometry=\"geometry\", crs=agba.crs) \n",
    "#intercepDissolve = intercept.loc[~intercept.LINK.isin(linkConProblemas),['LINK','geometry']].dissolve(by='LINK')\n"
   ]
  },
  {
   "cell_type": "code",
   "execution_count": 88,
   "metadata": {
    "collapsed": false
   },
   "outputs": [],
   "source": [
    "intercepDissolve.reset_index().to_file('intercept')"
   ]
  },
  {
   "cell_type": "code",
   "execution_count": null,
   "metadata": {
    "collapsed": true
   },
   "outputs": [],
   "source": []
  }
 ],
 "metadata": {
  "anaconda-cloud": {},
  "kernelspec": {
   "display_name": "Python 2",
   "language": "python",
   "name": "python2"
  },
  "language_info": {
   "codemirror_mode": {
    "name": "ipython",
    "version": 2
   },
   "file_extension": ".py",
   "mimetype": "text/x-python",
   "name": "python",
   "nbconvert_exporter": "python",
   "pygments_lexer": "ipython2",
   "version": "2.7.13"
  }
 },
 "nbformat": 4,
 "nbformat_minor": 2
}
