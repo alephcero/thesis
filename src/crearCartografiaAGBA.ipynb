{
 "cells": [
  {
   "cell_type": "markdown",
   "metadata": {},
   "source": [
    "# Determinar el Aglomerado Gran Buenos Aires usando datos abiertos de Open Street Map"
   ]
  },
  {
   "cell_type": "code",
   "execution_count": null,
   "metadata": {
    "collapsed": true
   },
   "outputs": [],
   "source": [
    "#https://datos.minem.gob.ar/informacion-socioeconomica-areas-urbanas-segun-calles-osm\n",
    "#https://sig.se.gob.ar/geoportal/docs/Ponencia_SE_Nucleos_Poblados_2015.pdf"
   ]
  },
  {
   "cell_type": "code",
   "execution_count": 1,
   "metadata": {
    "collapsed": false
   },
   "outputs": [],
   "source": [
    "import pandas as pd\n",
    "import geopandas as gpd\n",
    "import shapely\n",
    "import os\n",
    "\n",
    "import matplotlib.pyplot as plt\n",
    "%matplotlib inline\n"
   ]
  },
  {
   "cell_type": "code",
   "execution_count": 2,
   "metadata": {
    "collapsed": false
   },
   "outputs": [
    {
     "data": {
      "application/javascript": [
       "$.getScript('https://kmahelona.github.io/ipython_notebook_goodies/ipython_notebook_toc.js')"
      ],
      "text/plain": [
       "<IPython.core.display.Javascript object>"
      ]
     },
     "metadata": {},
     "output_type": "display_data"
    }
   ],
   "source": [
    "%%javascript\n",
    "$.getScript('https://kmahelona.github.io/ipython_notebook_goodies/ipython_notebook_toc.js')\n"
   ]
  },
  {
   "cell_type": "markdown",
   "metadata": {},
   "source": [
    "## Introducción\n",
    "\n",
    "El objetivo de este trabajo es ofrecer una metodología sencilla para determinar de una manera práctica qué constituye el **Aglomerado Gran Buenos Aires (AGBA)**. El Instituto Nacional de Estadísticas y Censos de Argentina (INDEC) [establece](http://www.indec.gov.ar/nuevaweb/cuadros/4/folleto%20gba.pdf) una distinción entre este y el **Gran Buenos Aires (AGBA)**: *\"La diferencia entre el Gran Buenos Aires y el Aglomerado Gran Buenos Aires es que el primero alude a un conjunto de partidos (más la Ciudad de Buenos Aires) tomados en su totalidad, mientras el\n",
    "segundo alude a un área que se va moviendo con el tiempo y que incluye a algunos partidos de manera\n",
    "parcial.*\n",
    "\n",
    "Esta naturaleza cambiante del envolvente de población alude al denominado [Modifiable areal unit problem (MAUP)](https://en.wikipedia.org/wiki/Modifiable_areal_unit_problem) o *Problema de la Unidad Espacial Modificable (PUEM)*.  En este trabajo buscamos ofrecer una solución rápida y práctica, utilizando datos abiertos de [Open Street Map](https://www.openstreetmap.org/#map=10/-34.7427/-58.6230). La ventaja de este método es, por un lado, su sencillez y rapidez. Por el otro, al ser OpenStreetMap actualizado permanentemente permite mantener actualizados los cambios en el **AGBA** a raíz del avance de urbanización del espacio rural. También permite delimitar hacia el interior del espacio urbano consolidado, radios censales que en su mayoría no contienen espacios residenciales, generando radios de áreas extensas donde no se encuentra realmente población alguna (parques, plazas, zonas industriales, etc.). En las destenvajas se puede enumerar el posible sesgo de recolección de datos por parte de OpenStreetMap, como así también la toma de decisiones arbitrarias de parte nuestra para solucionar algunos escollos.  \n",
    "\n",
    "El proceso puede ser resumido en las siguientes etapas:\n",
    "\n",
    "   1. Descargar cartografía de Ciudad Autónoma de Buenos Aires (CABA) y Provincia de Buenos Aires (PBA)\n",
    "   1. Seleccionar los departamentos considerados por el INDEC como parte del AGBA\n",
    "   1. Seleccionar aquellos radios censales con baja densidad o caracterizados como de zona mixta por la cédula censal\n",
    "   1. Descargar calles de Open Street Map\n",
    "   1. Seleccionar calles residenciales y asignarles un buffer de 100m \n",
    "   1. Para cada radio censal seleccionado, obtener el area cubierta por calles residenciales\n",
    "   1. Seleccionar areas donde las calles residenciales conforme un entramado compacto \n",
    "   1. Recortar para los radios seleccionados ese area, asignarles la a=indentificación del radio y descartar el resto del área\n"
   ]
  },
  {
   "cell_type": "markdown",
   "metadata": {},
   "source": [
    "## 1. Cartografía "
   ]
  },
  {
   "cell_type": "code",
   "execution_count": 3,
   "metadata": {
    "collapsed": true
   },
   "outputs": [],
   "source": [
    "#CARGO CARTOGRAFIA NACIONAL NO OFICIAL\n",
    "agba = gpd.GeoDataFrame.from_file('/home/pipe/Downloads/paisNoOficial/rad_paisp.shp')\n",
    "agba['LINK'] = agba.PROV + agba.DEPTO + agba.FRAC + agba.RADIO\n",
    "agba.drop([u'DEPTO', u'FRAC', u'PERIMETER', u'PROV', u'RADIO', u'RADPAIS_',\n",
    "       u'RADPAIS_ID'],axis=1,inplace=True)\n",
    "\n",
    "#CREO EL CODIGO DEPARTAMENTO PARA FILTRAR LOS PERTENECIENTES A PARTIDOS DEL AGBA\n",
    "agba['DEPARTAMENTO'] = agba.LINK.map(lambda x: x[0:5])\n"
   ]
  },
  {
   "cell_type": "markdown",
   "metadata": {},
   "source": [
    "## 2. Selección de departamentos pertenecientes al AGBA"
   ]
  },
  {
   "cell_type": "code",
   "execution_count": 4,
   "metadata": {
    "collapsed": false
   },
   "outputs": [],
   "source": [
    "#departamentos AGBA segun INDEC\n",
    "departamentos = {\n",
    "    'Comuna 1':'02001',\n",
    "    'Comuna 2':'02002',\n",
    "    'Comuna 3':'02003',\n",
    "    'Comuna 4':'02004',\n",
    "    'Comuna 5':'02005',\n",
    "    'Comuna 6':'02006',\n",
    "    'Comuna 7':'02007',\n",
    "    'Comuna 8':'02008',\n",
    "    'Comuna 9':'02009',\n",
    "    'Comuna 10':'02010',\n",
    "    'Comuna 11':'02011',\n",
    "    'Comuna 12':'02012',\n",
    "    'Comuna 13':'02013',\n",
    "    'Comuna 14':'02014',\n",
    "    'Comuna 15':'02015',\n",
    "    'ALMIRANTE BROWN':'06028',\n",
    "    'AVELLANEDA':'06035',\n",
    "    'BERAZATEGUI':'06091',\n",
    "    'ESCOBAR':'06252',\n",
    "    'ESTEBAN ECHEVERRIA':'06260',\n",
    "    'EZEIZA':'06270',\n",
    "    'FLORENCIO VARELA':'06274',\n",
    "    'GENERAL RODRIGUEZ':'06364',\n",
    "    'GENERAL SAN MARTIN':'06371',\n",
    "    'HURLINGHAM':'06408',\n",
    "    'ITUZAINGO':'06410',\n",
    "    'JOSE C PAZ':'06412',\n",
    "    'LA MATANZA':'06427',\n",
    "    'LANUS':'06434',\n",
    "    'LOMAS DE ZAMORA':'06490',\n",
    "    'MALVINAS ARGENTINAS':'06515',\n",
    "    'MARCOS PAZ':'06525',\n",
    "    'MERLO':'06539',\n",
    "    'MORENO':'06560',\n",
    "    'MORON':'06568',\n",
    "    'PILAR':'06638',\n",
    "    'PRESIDENTE PERON':'06648',\n",
    "    'QUILMES':'06658',\n",
    "    'SAN FERNANDO':'06749',\n",
    "    'SAN ISIDRO':'06756',\n",
    "    'SAN MIGUEL':'06760',\n",
    "    'SAN VICENTE':'06778',\n",
    "    'TIGRE':'06805',\n",
    "    'TRES DE FEBRERO':'06840',\n",
    "    'VICENTE LOPEZ':'06861'\n",
    "}\n",
    "\n",
    "departamentosName = {\n",
    "    '02001':'Comuna 1',\n",
    "    '02002':'Comuna 2',\n",
    "    '02003':'Comuna 3',\n",
    "    '02004':'Comuna 4',\n",
    "    '02005':'Comuna 5',\n",
    "    '02006':'Comuna 6',\n",
    "    '02007':'Comuna 7',\n",
    "    '02008':'Comuna 8',\n",
    "    '02009':'Comuna 9',\n",
    "    '02010':'Comuna 10',\n",
    "    '02011':'Comuna 11',\n",
    "    '02012':'Comuna 12',\n",
    "    '02013':'Comuna 13',\n",
    "    '02014':'Comuna 14',\n",
    "    '02015':'Comuna 15',\n",
    "    '06028':'ALMIRANTE BROWN',\n",
    "    '06035':'AVELLANEDA',\n",
    "    '06091':'BERAZATEGUI',\n",
    "    '06252':'ESCOBAR',\n",
    "    '06260':'ESTEBAN ECHEVERRIA',\n",
    "    '06270':'EZEIZA',\n",
    "    '06274':'FLORENCIO VARELA',\n",
    "    '06364':'GENERAL RODRIGUEZ',\n",
    "    '06371':'GENERAL SAN MARTIN',\n",
    "    '06408':'HURLINGHAM',\n",
    "    '06410':'ITUZAINGO',\n",
    "    '06412':'JOSE C PAZ',\n",
    "    '06427':'LA MATANZA',\n",
    "    '06434':'LANUS',\n",
    "    '06490':'LOMAS DE ZAMORA',\n",
    "    '06515':'MALVINAS ARGENTINAS',\n",
    "    '06525':'MARCOS PAZ',\n",
    "    '06539':'MERLO',\n",
    "    '06560':'MORENO',\n",
    "    '06568':'MORON',\n",
    "    '06638':'PILAR',\n",
    "    '06648':'PRESIDENTE PERON',\n",
    "    '06658':'QUILMES',\n",
    "    '06749':'SAN FERNANDO',\n",
    "    '06756':'SAN ISIDRO',\n",
    "    '06760':'SAN MIGUEL',\n",
    "    '06778':'SAN VICENTE',\n",
    "    '06805':'TIGRE',\n",
    "    '06840':'TRES DE FEBRERO',\n",
    "    '06861':'VICENTE LOPEZ'\n",
    "}\n"
   ]
  },
  {
   "cell_type": "code",
   "execution_count": 5,
   "metadata": {
    "collapsed": false
   },
   "outputs": [
    {
     "data": {
      "text/html": [
       "<div>\n",
       "<table border=\"1\" class=\"dataframe\">\n",
       "  <thead>\n",
       "    <tr style=\"text-align: right;\">\n",
       "      <th></th>\n",
       "      <th>AREA</th>\n",
       "      <th>LINK</th>\n",
       "      <th>TIPO</th>\n",
       "      <th>geometry</th>\n",
       "      <th>DEPARTAMENTO</th>\n",
       "      <th>DEPTO_NAME</th>\n",
       "    </tr>\n",
       "  </thead>\n",
       "  <tbody>\n",
       "    <tr>\n",
       "      <th>26688</th>\n",
       "      <td>16948780.0</td>\n",
       "      <td>062520101</td>\n",
       "      <td>M</td>\n",
       "      <td>POLYGON ((5605573.523703439 6208535.44525929, ...</td>\n",
       "      <td>06252</td>\n",
       "      <td>ESCOBAR</td>\n",
       "    </tr>\n",
       "    <tr>\n",
       "      <th>26704</th>\n",
       "      <td>12351870.0</td>\n",
       "      <td>062520102</td>\n",
       "      <td>M</td>\n",
       "      <td>POLYGON ((5606597.563514996 6207794.426813126,...</td>\n",
       "      <td>06252</td>\n",
       "      <td>ESCOBAR</td>\n",
       "    </tr>\n",
       "    <tr>\n",
       "      <th>26719</th>\n",
       "      <td>11063170.0</td>\n",
       "      <td>062520208</td>\n",
       "      <td>U</td>\n",
       "      <td>POLYGON ((5608236.390336967 6207306.631047663,...</td>\n",
       "      <td>06252</td>\n",
       "      <td>ESCOBAR</td>\n",
       "    </tr>\n",
       "    <tr>\n",
       "      <th>26741</th>\n",
       "      <td>796720.3</td>\n",
       "      <td>062520201</td>\n",
       "      <td>U</td>\n",
       "      <td>POLYGON ((5611075.149383005 6206034.538516479,...</td>\n",
       "      <td>06252</td>\n",
       "      <td>ESCOBAR</td>\n",
       "    </tr>\n",
       "    <tr>\n",
       "      <th>26747</th>\n",
       "      <td>2996825.0</td>\n",
       "      <td>062520202</td>\n",
       "      <td>U</td>\n",
       "      <td>POLYGON ((5613709.611741914 6205445.958880841,...</td>\n",
       "      <td>06252</td>\n",
       "      <td>ESCOBAR</td>\n",
       "    </tr>\n",
       "  </tbody>\n",
       "</table>\n",
       "</div>"
      ],
      "text/plain": [
       "             AREA       LINK TIPO  \\\n",
       "26688  16948780.0  062520101    M   \n",
       "26704  12351870.0  062520102    M   \n",
       "26719  11063170.0  062520208    U   \n",
       "26741    796720.3  062520201    U   \n",
       "26747   2996825.0  062520202    U   \n",
       "\n",
       "                                                geometry DEPARTAMENTO  \\\n",
       "26688  POLYGON ((5605573.523703439 6208535.44525929, ...        06252   \n",
       "26704  POLYGON ((5606597.563514996 6207794.426813126,...        06252   \n",
       "26719  POLYGON ((5608236.390336967 6207306.631047663,...        06252   \n",
       "26741  POLYGON ((5611075.149383005 6206034.538516479,...        06252   \n",
       "26747  POLYGON ((5613709.611741914 6205445.958880841,...        06252   \n",
       "\n",
       "      DEPTO_NAME  \n",
       "26688    ESCOBAR  \n",
       "26704    ESCOBAR  \n",
       "26719    ESCOBAR  \n",
       "26741    ESCOBAR  \n",
       "26747    ESCOBAR  "
      ]
     },
     "execution_count": 5,
     "metadata": {},
     "output_type": "execute_result"
    }
   ],
   "source": [
    "\n",
    "#ELIMINAMOS LOS DEPARTAMENTOS QUE NO SEAN DE AGBA SEGUN INDEC\n",
    "agba = agba.loc[agba.DEPARTAMENTO.isin(departamentos.values()),:]\n",
    "\n",
    "#LOS RADIOS FALTANTES DE CABA SON URBANOS\n",
    "agba.TIPO.fillna('U',inplace=True)\n",
    "\n",
    "#ELIMINAMOS LOS RADIOS RURALES\n",
    "agba = agba.loc[agba.TIPO!='R',:]\n",
    "\n",
    "#AGREGAMOS ETIQUETAS A LOS DEPARTAMENTOS\n",
    "deptos = []\n",
    "for i in range(agba.shape[0]):\n",
    "    deptos.append(departamentosName[agba.DEPARTAMENTO.iloc[i]])\n",
    "agba['DEPTO_NAME'] = deptos\n",
    "agba = agba.to_crs(epsg=22185)\n",
    "\n",
    "agba.head()\n"
   ]
  },
  {
   "cell_type": "markdown",
   "metadata": {},
   "source": [
    "## 3. Seleccionar los radios con baja densidad o de zonas mixtas"
   ]
  },
  {
   "cell_type": "code",
   "execution_count": 6,
   "metadata": {
    "collapsed": false
   },
   "outputs": [
    {
     "name": "stdout",
     "output_type": "stream",
     "text": [
      "(19552, 2)\n",
      "(3553, 2)\n",
      "(23105, 2)\n"
     ]
    }
   ],
   "source": [
    "#esta data fue descargada desde la pagina oficial de indec \n",
    "#http://200.51.91.245/argbin/RpWebEngine.exe/PortalAction?&MODE=MAIN&BASE=CPV2010B&MAIN=WebServerMain.inl\n",
    "#obteniendo listado por areas a nivel de radio censal\n",
    "#sexo, con total de filas, para: \n",
    "\n",
    "#los 24 partidos del Gran Benos Aires\n",
    "pbaPob = pd.read_csv('../dt/poblacionPBAcenso.csv')\n",
    "pbaPob.LINK = pbaPob.LINK.map(lambda x: '0'+str(x))\n",
    "print pbaPob.shape\n",
    "\n",
    "#CABA \n",
    "cabaPob = pd.read_csv('../dt/poblacionCABAcenso.csv')\n",
    "cabaPob.LINK = cabaPob.LINK.map(lambda x: '0'+str(x))\n",
    "print cabaPob.shape\n",
    "\n",
    "poblacion = cabaPob.append(pbaPob)\n",
    "print poblacion.shape"
   ]
  },
  {
   "cell_type": "code",
   "execution_count": 7,
   "metadata": {
    "collapsed": false
   },
   "outputs": [],
   "source": [
    "agba = agba.merge(poblacion, on='LINK',how='left')\n"
   ]
  },
  {
   "cell_type": "code",
   "execution_count": 8,
   "metadata": {
    "collapsed": false
   },
   "outputs": [
    {
     "data": {
      "text/html": [
       "<div>\n",
       "<table border=\"1\" class=\"dataframe\">\n",
       "  <thead>\n",
       "    <tr style=\"text-align: right;\">\n",
       "      <th></th>\n",
       "      <th>AREA</th>\n",
       "      <th>LINK</th>\n",
       "      <th>TIPO</th>\n",
       "      <th>geometry</th>\n",
       "      <th>DEPARTAMENTO</th>\n",
       "      <th>DEPTO_NAME</th>\n",
       "      <th>Pob</th>\n",
       "    </tr>\n",
       "  </thead>\n",
       "  <tbody>\n",
       "    <tr>\n",
       "      <th>2336</th>\n",
       "      <td>18459.31</td>\n",
       "      <td>020130104</td>\n",
       "      <td></td>\n",
       "      <td>POLYGON ((5640843.337760887 6177613.239423731,...</td>\n",
       "      <td>02013</td>\n",
       "      <td>Comuna 13</td>\n",
       "      <td>763</td>\n",
       "    </tr>\n",
       "    <tr>\n",
       "      <th>3371</th>\n",
       "      <td>22525.75</td>\n",
       "      <td>020121607</td>\n",
       "      <td></td>\n",
       "      <td>POLYGON ((5638863.653027886 6173784.750408883,...</td>\n",
       "      <td>02012</td>\n",
       "      <td>Comuna 12</td>\n",
       "      <td>754</td>\n",
       "    </tr>\n",
       "  </tbody>\n",
       "</table>\n",
       "</div>"
      ],
      "text/plain": [
       "          AREA       LINK TIPO  \\\n",
       "2336  18459.31  020130104        \n",
       "3371  22525.75  020121607        \n",
       "\n",
       "                                               geometry DEPARTAMENTO  \\\n",
       "2336  POLYGON ((5640843.337760887 6177613.239423731,...        02013   \n",
       "3371  POLYGON ((5638863.653027886 6173784.750408883,...        02012   \n",
       "\n",
       "     DEPTO_NAME  Pob  \n",
       "2336  Comuna 13  763  \n",
       "3371  Comuna 12  754  "
      ]
     },
     "execution_count": 8,
     "metadata": {},
     "output_type": "execute_result"
    }
   ],
   "source": [
    "agba.loc[agba.LINK.duplicated(),:]"
   ]
  },
  {
   "cell_type": "code",
   "execution_count": 9,
   "metadata": {
    "collapsed": false
   },
   "outputs": [],
   "source": [
    "agba['densidad'] = agba.Pob / agba.AREA\n",
    "agba['densidad'] = pd.qcut(agba.densidad,10,labels=False)\n"
   ]
  },
  {
   "cell_type": "code",
   "execution_count": 10,
   "metadata": {
    "collapsed": false
   },
   "outputs": [
    {
     "data": {
      "text/html": [
       "<div>\n",
       "<table border=\"1\" class=\"dataframe\">\n",
       "  <thead>\n",
       "    <tr style=\"text-align: right;\">\n",
       "      <th>TIPO</th>\n",
       "      <th></th>\n",
       "      <th>M</th>\n",
       "      <th>U</th>\n",
       "    </tr>\n",
       "    <tr>\n",
       "      <th>densidad</th>\n",
       "      <th></th>\n",
       "      <th></th>\n",
       "      <th></th>\n",
       "    </tr>\n",
       "  </thead>\n",
       "  <tbody>\n",
       "    <tr>\n",
       "      <th>0</th>\n",
       "      <td>65</td>\n",
       "      <td>76</td>\n",
       "      <td>1204</td>\n",
       "    </tr>\n",
       "    <tr>\n",
       "      <th>1</th>\n",
       "      <td>55</td>\n",
       "      <td>0</td>\n",
       "      <td>1290</td>\n",
       "    </tr>\n",
       "    <tr>\n",
       "      <th>2</th>\n",
       "      <td>75</td>\n",
       "      <td>0</td>\n",
       "      <td>1269</td>\n",
       "    </tr>\n",
       "    <tr>\n",
       "      <th>3</th>\n",
       "      <td>89</td>\n",
       "      <td>0</td>\n",
       "      <td>1256</td>\n",
       "    </tr>\n",
       "    <tr>\n",
       "      <th>4</th>\n",
       "      <td>111</td>\n",
       "      <td>1</td>\n",
       "      <td>1232</td>\n",
       "    </tr>\n",
       "    <tr>\n",
       "      <th>5</th>\n",
       "      <td>159</td>\n",
       "      <td>0</td>\n",
       "      <td>1186</td>\n",
       "    </tr>\n",
       "    <tr>\n",
       "      <th>6</th>\n",
       "      <td>305</td>\n",
       "      <td>0</td>\n",
       "      <td>1039</td>\n",
       "    </tr>\n",
       "    <tr>\n",
       "      <th>7</th>\n",
       "      <td>557</td>\n",
       "      <td>0</td>\n",
       "      <td>788</td>\n",
       "    </tr>\n",
       "    <tr>\n",
       "      <th>8</th>\n",
       "      <td>940</td>\n",
       "      <td>0</td>\n",
       "      <td>404</td>\n",
       "    </tr>\n",
       "    <tr>\n",
       "      <th>9</th>\n",
       "      <td>1197</td>\n",
       "      <td>0</td>\n",
       "      <td>148</td>\n",
       "    </tr>\n",
       "  </tbody>\n",
       "</table>\n",
       "</div>"
      ],
      "text/plain": [
       "TIPO             M     U\n",
       "densidad                \n",
       "0           65  76  1204\n",
       "1           55   0  1290\n",
       "2           75   0  1269\n",
       "3           89   0  1256\n",
       "4          111   1  1232\n",
       "5          159   0  1186\n",
       "6          305   0  1039\n",
       "7          557   0   788\n",
       "8          940   0   404\n",
       "9         1197   0   148"
      ]
     },
     "execution_count": 10,
     "metadata": {},
     "output_type": "execute_result"
    }
   ],
   "source": [
    "pd.crosstab(agba.densidad,agba.TIPO)"
   ]
  },
  {
   "cell_type": "code",
   "execution_count": 11,
   "metadata": {
    "collapsed": false
   },
   "outputs": [
    {
     "data": {
      "text/html": [
       "<div>\n",
       "<table border=\"1\" class=\"dataframe\">\n",
       "  <thead>\n",
       "    <tr style=\"text-align: right;\">\n",
       "      <th></th>\n",
       "      <th>LINK</th>\n",
       "      <th>geometry</th>\n",
       "      <th>DEPTO_NAME</th>\n",
       "      <th>mixYden</th>\n",
       "    </tr>\n",
       "  </thead>\n",
       "  <tbody>\n",
       "    <tr>\n",
       "      <th>0</th>\n",
       "      <td>062520101</td>\n",
       "      <td>POLYGON ((5605573.523703439 6208535.44525929, ...</td>\n",
       "      <td>ESCOBAR</td>\n",
       "      <td>True</td>\n",
       "    </tr>\n",
       "    <tr>\n",
       "      <th>1</th>\n",
       "      <td>062520102</td>\n",
       "      <td>POLYGON ((5606597.563514996 6207794.426813126,...</td>\n",
       "      <td>ESCOBAR</td>\n",
       "      <td>True</td>\n",
       "    </tr>\n",
       "    <tr>\n",
       "      <th>2</th>\n",
       "      <td>062520208</td>\n",
       "      <td>POLYGON ((5608236.390336967 6207306.631047663,...</td>\n",
       "      <td>ESCOBAR</td>\n",
       "      <td>True</td>\n",
       "    </tr>\n",
       "    <tr>\n",
       "      <th>3</th>\n",
       "      <td>062520201</td>\n",
       "      <td>POLYGON ((5611075.149383005 6206034.538516479,...</td>\n",
       "      <td>ESCOBAR</td>\n",
       "      <td>True</td>\n",
       "    </tr>\n",
       "    <tr>\n",
       "      <th>4</th>\n",
       "      <td>062520202</td>\n",
       "      <td>POLYGON ((5613709.611741914 6205445.958880841,...</td>\n",
       "      <td>ESCOBAR</td>\n",
       "      <td>True</td>\n",
       "    </tr>\n",
       "  </tbody>\n",
       "</table>\n",
       "</div>"
      ],
      "text/plain": [
       "        LINK                                           geometry DEPTO_NAME  \\\n",
       "0  062520101  POLYGON ((5605573.523703439 6208535.44525929, ...    ESCOBAR   \n",
       "1  062520102  POLYGON ((5606597.563514996 6207794.426813126,...    ESCOBAR   \n",
       "2  062520208  POLYGON ((5608236.390336967 6207306.631047663,...    ESCOBAR   \n",
       "3  062520201  POLYGON ((5611075.149383005 6206034.538516479,...    ESCOBAR   \n",
       "4  062520202  POLYGON ((5613709.611741914 6205445.958880841,...    ESCOBAR   \n",
       "\n",
       "  mixYden  \n",
       "0    True  \n",
       "1    True  \n",
       "2    True  \n",
       "3    True  \n",
       "4    True  "
      ]
     },
     "execution_count": 11,
     "metadata": {},
     "output_type": "execute_result"
    }
   ],
   "source": [
    "\n",
    "mixYden = (agba.TIPO == 'M') | (agba.densidad == 0)\n",
    "agba['mixYden'] =mixYden\n",
    "agba.drop(['AREA','DEPARTAMENTO','Pob','TIPO','densidad'], axis=1,inplace=True)\n",
    "agbaAltaDens = agba.loc[~agba.mixYden,:]\n",
    "agbaBajaDens = agba.loc[agba.mixYden,:]\n",
    "\n",
    "agba.head()"
   ]
  },
  {
   "cell_type": "code",
   "execution_count": 12,
   "metadata": {
    "collapsed": false
   },
   "outputs": [],
   "source": [
    "agba.drop(['mixYden'],axis=1).to_file('../dt/carto/agba')"
   ]
  },
  {
   "cell_type": "markdown",
   "metadata": {
    "collapsed": true
   },
   "source": [
    "## 4. Descargar data de OpenSteetMap"
   ]
  },
  {
   "cell_type": "code",
   "execution_count": 18,
   "metadata": {
    "collapsed": false
   },
   "outputs": [],
   "source": [
    "#download data\n",
    "osmFile = os.path.expanduser('~')+'/Downloads/buenos-aires_argentina.osm2pgsql-shapefiles/buenos-aires_argentina_osm_line.shp'\n",
    "if not os.path.isfile(osmFile):\n",
    "    os.sys('wget https://s3.amazonaws.com/metro-extracts.mapzen.com/buenos-aires_argentina.osm2pgsql-shapefiles.zip')\n",
    "    os.sys('unzip https://s3.amazonaws.com/metro-extracts.mapzen.com/buenos-aires_argentina.osm2pgsql-shapefiles.zip')\n",
    "\n",
    "calles = gpd.read_file('/home/pipe/Downloads/buenos-aires_argentina.osm2pgsql-shapefiles/buenos-aires_argentina_osm_line.shp')\n",
    "calles = calles.loc[:,['highway','geometry']]\n"
   ]
  },
  {
   "cell_type": "markdown",
   "metadata": {},
   "source": [
    "## 5. Seleccionar calles residenciales y asignar buffer"
   ]
  },
  {
   "cell_type": "code",
   "execution_count": 21,
   "metadata": {
    "collapsed": false
   },
   "outputs": [
    {
     "data": {
      "text/plain": [
       "0.03838362037966517"
      ]
     },
     "execution_count": 21,
     "metadata": {},
     "output_type": "execute_result"
    }
   ],
   "source": [
    "calles.geometry.iloc[0].length"
   ]
  },
  {
   "cell_type": "code",
   "execution_count": 23,
   "metadata": {
    "collapsed": false,
    "scrolled": true
   },
   "outputs": [],
   "source": [
    "mask =  (calles.highway == 'residential') |  (calles.highway == 'living_street') | (calles.highway == 'footway') |  (calles.highway == 'pedestrian') \n",
    "calles = calles.loc[mask,:]\n",
    "calles = calles.to_crs(epsg=22185)\n"
   ]
  },
  {
   "cell_type": "code",
   "execution_count": 24,
   "metadata": {
    "collapsed": true
   },
   "outputs": [],
   "source": [
    "calles['largo'] = calles.geometry.map(lambda x: x.length)"
   ]
  },
  {
   "cell_type": "code",
   "execution_count": 25,
   "metadata": {
    "collapsed": true
   },
   "outputs": [],
   "source": [
    "#calles.to_file('caca')"
   ]
  },
  {
   "cell_type": "code",
   "execution_count": 27,
   "metadata": {
    "collapsed": true
   },
   "outputs": [],
   "source": [
    "calles = calles.loc[calles.largo <= 2000,:]\n",
    "calles.drop(['largo'],axis=1,inplace = True)"
   ]
  },
  {
   "cell_type": "code",
   "execution_count": 28,
   "metadata": {
    "collapsed": true
   },
   "outputs": [],
   "source": [
    "\n",
    "calles['buffer'] = calles.geometry.buffer(100)\n",
    "calles.drop(['geometry'],axis=1,inplace=True)\n",
    "calles.columns = [u'highway', u'geometry']"
   ]
  },
  {
   "cell_type": "markdown",
   "metadata": {},
   "source": [
    "## 6. Obtener el area del radio cubierta por calles residenciales"
   ]
  },
  {
   "cell_type": "markdown",
   "metadata": {},
   "source": [
    "### Ejemplo "
   ]
  },
  {
   "cell_type": "code",
   "execution_count": 15,
   "metadata": {
    "collapsed": false
   },
   "outputs": [],
   "source": [
    "radiosSel = gpd.read_file('dataPrueba/radiosSeleccionados.shp')\n",
    "calleConectada = gpd.read_file('dataPrueba/calleConConexion.shp')\n",
    "calleConectada['buffer'] = calleConectada.geometry.buffer(70)\n",
    "calleConectada.drop(['geometry'],axis=1,inplace=True)\n",
    "calleConectada.columns = [u'highway', u'geometry']\n",
    "\n",
    "calleAislada = gpd.read_file('dataPrueba/calleSinConexion.shp')\n",
    "calleAislada['buffer'] = calleAislada.geometry.buffer(70)\n",
    "calleAislada.drop(['geometry'],axis=1,inplace=True)\n",
    "calleAislada.columns = [u'highway', u'geometry']"
   ]
  },
  {
   "cell_type": "code",
   "execution_count": 16,
   "metadata": {
    "collapsed": false
   },
   "outputs": [
    {
     "data": {
      "text/plain": [
       "<matplotlib.axes._subplots.AxesSubplot at 0x7f6a45709bd0>"
      ]
     },
     "execution_count": 16,
     "metadata": {},
     "output_type": "execute_result"
    },
    {
     "data": {
      "image/png": "[encoded data removed]",
      "text/plain": [
       "<matplotlib.figure.Figure at 0x7f6a45709a90>"
      ]
     },
     "metadata": {},
     "output_type": "display_data"
    }
   ],
   "source": [
    "fig = plt.figure(figsize=(6,6))\n",
    "ax = fig.add_subplot(1,1,1)\n",
    "radiosSel.plot(ax=ax,color='green')\n",
    "calleAislada.plot(ax=ax,color='blue')\n",
    "calleConectada.plot(ax=ax,color='red')"
   ]
  },
  {
   "cell_type": "code",
   "execution_count": 17,
   "metadata": {
    "collapsed": false
   },
   "outputs": [
    {
     "data": {
      "text/html": [
       "<div>\n",
       "<table border=\"1\" class=\"dataframe\">\n",
       "  <thead>\n",
       "    <tr style=\"text-align: right;\">\n",
       "      <th></th>\n",
       "      <th>AREA</th>\n",
       "      <th>DEPARTAMEN</th>\n",
       "      <th>DEPTO_NAME</th>\n",
       "      <th>LINK</th>\n",
       "      <th>Pob</th>\n",
       "      <th>TIPO</th>\n",
       "      <th>densidad</th>\n",
       "      <th>highway</th>\n",
       "      <th>geometry</th>\n",
       "    </tr>\n",
       "  </thead>\n",
       "  <tbody>\n",
       "    <tr>\n",
       "      <th>0</th>\n",
       "      <td>10753800.0</td>\n",
       "      <td>06539</td>\n",
       "      <td>MERLO</td>\n",
       "      <td>065391007</td>\n",
       "      <td>2913</td>\n",
       "      <td>M</td>\n",
       "      <td>0</td>\n",
       "      <td>residential</td>\n",
       "      <td>POLYGON ((5621831.386868679 6159061.582841514,...</td>\n",
       "    </tr>\n",
       "    <tr>\n",
       "      <th>1</th>\n",
       "      <td>297245.6</td>\n",
       "      <td>06539</td>\n",
       "      <td>MERLO</td>\n",
       "      <td>065391008</td>\n",
       "      <td>2204</td>\n",
       "      <td>U</td>\n",
       "      <td>3</td>\n",
       "      <td>residential</td>\n",
       "      <td>POLYGON ((5621789.358866802 6159012.434962539,...</td>\n",
       "    </tr>\n",
       "    <tr>\n",
       "      <th>2</th>\n",
       "      <td>10753800.0</td>\n",
       "      <td>06539</td>\n",
       "      <td>MERLO</td>\n",
       "      <td>065391007</td>\n",
       "      <td>2913</td>\n",
       "      <td>M</td>\n",
       "      <td>0</td>\n",
       "      <td>residential</td>\n",
       "      <td>POLYGON ((5622304.19733424 6158390.687202398, ...</td>\n",
       "    </tr>\n",
       "    <tr>\n",
       "      <th>3</th>\n",
       "      <td>169436.9</td>\n",
       "      <td>06539</td>\n",
       "      <td>MERLO</td>\n",
       "      <td>065391009</td>\n",
       "      <td>1766</td>\n",
       "      <td>U</td>\n",
       "      <td>5</td>\n",
       "      <td>residential</td>\n",
       "      <td>POLYGON ((5622352.559752863 6158443.872580742,...</td>\n",
       "    </tr>\n",
       "  </tbody>\n",
       "</table>\n",
       "</div>"
      ],
      "text/plain": [
       "         AREA DEPARTAMEN DEPTO_NAME       LINK   Pob TIPO  densidad  \\\n",
       "0  10753800.0      06539      MERLO  065391007  2913    M         0   \n",
       "1    297245.6      06539      MERLO  065391008  2204    U         3   \n",
       "2  10753800.0      06539      MERLO  065391007  2913    M         0   \n",
       "3    169436.9      06539      MERLO  065391009  1766    U         5   \n",
       "\n",
       "       highway                                           geometry  \n",
       "0  residential  POLYGON ((5621831.386868679 6159061.582841514,...  \n",
       "1  residential  POLYGON ((5621789.358866802 6159012.434962539,...  \n",
       "2  residential  POLYGON ((5622304.19733424 6158390.687202398, ...  \n",
       "3  residential  POLYGON ((5622352.559752863 6158443.872580742,...  "
      ]
     },
     "execution_count": 17,
     "metadata": {},
     "output_type": "execute_result"
    }
   ],
   "source": [
    "intersec = gpd.overlay(radiosSel, calleConectada, how='intersection')\n",
    "intersec"
   ]
  },
  {
   "cell_type": "code",
   "execution_count": 18,
   "metadata": {
    "collapsed": false
   },
   "outputs": [
    {
     "data": {
      "text/plain": [
       "<matplotlib.axes._subplots.AxesSubplot at 0x7f6a4465f110>"
      ]
     },
     "execution_count": 18,
     "metadata": {},
     "output_type": "execute_result"
    },
    {
     "data": {
      "image/png": "[encoded data removed]",
      "text/plain": [
       "<matplotlib.figure.Figure at 0x7f6a4465f350>"
      ]
     },
     "metadata": {},
     "output_type": "display_data"
    }
   ],
   "source": [
    "fig = plt.figure(figsize=(6,6))\n",
    "ax = fig.add_subplot(1,1,1)\n",
    "radiosSel.plot(ax=ax,color='green')\n",
    "intersec.plot(ax=ax,column='LINK')\n"
   ]
  },
  {
   "cell_type": "code",
   "execution_count": 19,
   "metadata": {
    "collapsed": false
   },
   "outputs": [],
   "source": [
    "noIntersec = gpd.overlay(radiosSel, calleAislada, how='intersection')\n"
   ]
  },
  {
   "cell_type": "code",
   "execution_count": 20,
   "metadata": {
    "collapsed": false
   },
   "outputs": [
    {
     "data": {
      "text/plain": [
       "(0, 0)"
      ]
     },
     "execution_count": 20,
     "metadata": {},
     "output_type": "execute_result"
    }
   ],
   "source": [
    "noIntersec.shape"
   ]
  },
  {
   "cell_type": "code",
   "execution_count": 21,
   "metadata": {
    "collapsed": true
   },
   "outputs": [],
   "source": [
    "calleConectada2 = gpd.read_file('dataPrueba/calleConConexion2.shp')\n",
    "calleConectada2['buffer'] = calleConectada2.geometry.buffer(70)\n",
    "calleConectada2.drop(['geometry'],axis=1,inplace=True)\n",
    "calleConectada2.columns = [u'highway', u'geometry']\n",
    "\n"
   ]
  },
  {
   "cell_type": "code",
   "execution_count": 22,
   "metadata": {
    "collapsed": false
   },
   "outputs": [
    {
     "data": {
      "text/plain": [
       "<matplotlib.axes._subplots.AxesSubplot at 0x7f6a44632d10>"
      ]
     },
     "execution_count": 22,
     "metadata": {},
     "output_type": "execute_result"
    },
    {
     "data": {
      "image/png": "[encoded data removed]",
      "text/plain": [
       "<matplotlib.figure.Figure at 0x7f6a44632850>"
      ]
     },
     "metadata": {},
     "output_type": "display_data"
    }
   ],
   "source": [
    "fig = plt.figure(figsize=(6,6))\n",
    "ax = fig.add_subplot(1,1,1)\n",
    "radiosSel.plot(ax=ax,color='green')\n",
    "radiosSel.loc[radiosSel.LINK == '065391011',:].plot(ax=ax,color='blue')\n",
    "calleConectada2.plot(ax=ax,color='RED')\n"
   ]
  },
  {
   "cell_type": "code",
   "execution_count": 23,
   "metadata": {
    "collapsed": false
   },
   "outputs": [
    {
     "data": {
      "text/html": [
       "<div>\n",
       "<table border=\"1\" class=\"dataframe\">\n",
       "  <thead>\n",
       "    <tr style=\"text-align: right;\">\n",
       "      <th></th>\n",
       "      <th>AREA</th>\n",
       "      <th>DEPARTAMEN</th>\n",
       "      <th>DEPTO_NAME</th>\n",
       "      <th>LINK</th>\n",
       "      <th>Pob</th>\n",
       "      <th>TIPO</th>\n",
       "      <th>densidad</th>\n",
       "      <th>highway</th>\n",
       "      <th>geometry</th>\n",
       "    </tr>\n",
       "  </thead>\n",
       "  <tbody>\n",
       "    <tr>\n",
       "      <th>0</th>\n",
       "      <td>10753800.0</td>\n",
       "      <td>06539</td>\n",
       "      <td>MERLO</td>\n",
       "      <td>065391007</td>\n",
       "      <td>2913</td>\n",
       "      <td>M</td>\n",
       "      <td>0</td>\n",
       "      <td>residential</td>\n",
       "      <td>POLYGON ((5621985.381953466 6158252.55699361, ...</td>\n",
       "    </tr>\n",
       "    <tr>\n",
       "      <th>1</th>\n",
       "      <td>169436.9</td>\n",
       "      <td>06539</td>\n",
       "      <td>MERLO</td>\n",
       "      <td>065391009</td>\n",
       "      <td>1766</td>\n",
       "      <td>U</td>\n",
       "      <td>5</td>\n",
       "      <td>residential</td>\n",
       "      <td>POLYGON ((5621991.465134294 6158246.843687637,...</td>\n",
       "    </tr>\n",
       "    <tr>\n",
       "      <th>2</th>\n",
       "      <td>985014.2</td>\n",
       "      <td>06539</td>\n",
       "      <td>MERLO</td>\n",
       "      <td>065391016</td>\n",
       "      <td>1801</td>\n",
       "      <td>M</td>\n",
       "      <td>0</td>\n",
       "      <td>residential</td>\n",
       "      <td>POLYGON ((5622423.833162273 6158721.66510212, ...</td>\n",
       "    </tr>\n",
       "    <tr>\n",
       "      <th>3</th>\n",
       "      <td>709438.6</td>\n",
       "      <td>06539</td>\n",
       "      <td>MERLO</td>\n",
       "      <td>065391011</td>\n",
       "      <td>1698</td>\n",
       "      <td>M</td>\n",
       "      <td>0</td>\n",
       "      <td>residential</td>\n",
       "      <td>POLYGON ((5622709.271911588 6159046.506834115,...</td>\n",
       "    </tr>\n",
       "  </tbody>\n",
       "</table>\n",
       "</div>"
      ],
      "text/plain": [
       "         AREA DEPARTAMEN DEPTO_NAME       LINK   Pob TIPO  densidad  \\\n",
       "0  10753800.0      06539      MERLO  065391007  2913    M         0   \n",
       "1    169436.9      06539      MERLO  065391009  1766    U         5   \n",
       "2    985014.2      06539      MERLO  065391016  1801    M         0   \n",
       "3    709438.6      06539      MERLO  065391011  1698    M         0   \n",
       "\n",
       "       highway                                           geometry  \n",
       "0  residential  POLYGON ((5621985.381953466 6158252.55699361, ...  \n",
       "1  residential  POLYGON ((5621991.465134294 6158246.843687637,...  \n",
       "2  residential  POLYGON ((5622423.833162273 6158721.66510212, ...  \n",
       "3  residential  POLYGON ((5622709.271911588 6159046.506834115,...  "
      ]
     },
     "execution_count": 23,
     "metadata": {},
     "output_type": "execute_result"
    }
   ],
   "source": [
    "intersec2 = gpd.overlay(radiosSel, calleConectada2, how='intersection')\n",
    "intersec2"
   ]
  },
  {
   "cell_type": "code",
   "execution_count": 24,
   "metadata": {
    "collapsed": false
   },
   "outputs": [
    {
     "data": {
      "text/html": [
       "<div>\n",
       "<table border=\"1\" class=\"dataframe\">\n",
       "  <thead>\n",
       "    <tr style=\"text-align: right;\">\n",
       "      <th></th>\n",
       "      <th>AREA</th>\n",
       "      <th>DEPARTAMEN</th>\n",
       "      <th>DEPTO_NAME</th>\n",
       "      <th>LINK</th>\n",
       "      <th>Pob</th>\n",
       "      <th>TIPO</th>\n",
       "      <th>densidad</th>\n",
       "      <th>highway</th>\n",
       "      <th>geometry</th>\n",
       "    </tr>\n",
       "  </thead>\n",
       "  <tbody>\n",
       "    <tr>\n",
       "      <th>0</th>\n",
       "      <td>10753800.0</td>\n",
       "      <td>06539</td>\n",
       "      <td>MERLO</td>\n",
       "      <td>065391007</td>\n",
       "      <td>2913</td>\n",
       "      <td>M</td>\n",
       "      <td>0</td>\n",
       "      <td>residential</td>\n",
       "      <td>POLYGON ((5621985.381953466 6158252.55699361, ...</td>\n",
       "    </tr>\n",
       "    <tr>\n",
       "      <th>1</th>\n",
       "      <td>169436.9</td>\n",
       "      <td>06539</td>\n",
       "      <td>MERLO</td>\n",
       "      <td>065391009</td>\n",
       "      <td>1766</td>\n",
       "      <td>U</td>\n",
       "      <td>5</td>\n",
       "      <td>residential</td>\n",
       "      <td>POLYGON ((5621991.465134294 6158246.843687637,...</td>\n",
       "    </tr>\n",
       "    <tr>\n",
       "      <th>2</th>\n",
       "      <td>985014.2</td>\n",
       "      <td>06539</td>\n",
       "      <td>MERLO</td>\n",
       "      <td>065391016</td>\n",
       "      <td>1801</td>\n",
       "      <td>M</td>\n",
       "      <td>0</td>\n",
       "      <td>residential</td>\n",
       "      <td>POLYGON ((5622423.833162273 6158721.66510212, ...</td>\n",
       "    </tr>\n",
       "    <tr>\n",
       "      <th>3</th>\n",
       "      <td>709438.6</td>\n",
       "      <td>06539</td>\n",
       "      <td>MERLO</td>\n",
       "      <td>065391011</td>\n",
       "      <td>1698</td>\n",
       "      <td>M</td>\n",
       "      <td>0</td>\n",
       "      <td>residential</td>\n",
       "      <td>POLYGON ((5622709.271911588 6159046.506834115,...</td>\n",
       "    </tr>\n",
       "    <tr>\n",
       "      <th>0</th>\n",
       "      <td>10753800.0</td>\n",
       "      <td>06539</td>\n",
       "      <td>MERLO</td>\n",
       "      <td>065391007</td>\n",
       "      <td>2913</td>\n",
       "      <td>M</td>\n",
       "      <td>0</td>\n",
       "      <td>residential</td>\n",
       "      <td>POLYGON ((5621831.386868679 6159061.582841514,...</td>\n",
       "    </tr>\n",
       "    <tr>\n",
       "      <th>1</th>\n",
       "      <td>297245.6</td>\n",
       "      <td>06539</td>\n",
       "      <td>MERLO</td>\n",
       "      <td>065391008</td>\n",
       "      <td>2204</td>\n",
       "      <td>U</td>\n",
       "      <td>3</td>\n",
       "      <td>residential</td>\n",
       "      <td>POLYGON ((5621789.358866802 6159012.434962539,...</td>\n",
       "    </tr>\n",
       "    <tr>\n",
       "      <th>2</th>\n",
       "      <td>10753800.0</td>\n",
       "      <td>06539</td>\n",
       "      <td>MERLO</td>\n",
       "      <td>065391007</td>\n",
       "      <td>2913</td>\n",
       "      <td>M</td>\n",
       "      <td>0</td>\n",
       "      <td>residential</td>\n",
       "      <td>POLYGON ((5622304.19733424 6158390.687202398, ...</td>\n",
       "    </tr>\n",
       "    <tr>\n",
       "      <th>3</th>\n",
       "      <td>169436.9</td>\n",
       "      <td>06539</td>\n",
       "      <td>MERLO</td>\n",
       "      <td>065391009</td>\n",
       "      <td>1766</td>\n",
       "      <td>U</td>\n",
       "      <td>5</td>\n",
       "      <td>residential</td>\n",
       "      <td>POLYGON ((5622352.559752863 6158443.872580742,...</td>\n",
       "    </tr>\n",
       "  </tbody>\n",
       "</table>\n",
       "</div>"
      ],
      "text/plain": [
       "         AREA DEPARTAMEN DEPTO_NAME       LINK   Pob TIPO  densidad  \\\n",
       "0  10753800.0      06539      MERLO  065391007  2913    M         0   \n",
       "1    169436.9      06539      MERLO  065391009  1766    U         5   \n",
       "2    985014.2      06539      MERLO  065391016  1801    M         0   \n",
       "3    709438.6      06539      MERLO  065391011  1698    M         0   \n",
       "0  10753800.0      06539      MERLO  065391007  2913    M         0   \n",
       "1    297245.6      06539      MERLO  065391008  2204    U         3   \n",
       "2  10753800.0      06539      MERLO  065391007  2913    M         0   \n",
       "3    169436.9      06539      MERLO  065391009  1766    U         5   \n",
       "\n",
       "       highway                                           geometry  \n",
       "0  residential  POLYGON ((5621985.381953466 6158252.55699361, ...  \n",
       "1  residential  POLYGON ((5621991.465134294 6158246.843687637,...  \n",
       "2  residential  POLYGON ((5622423.833162273 6158721.66510212, ...  \n",
       "3  residential  POLYGON ((5622709.271911588 6159046.506834115,...  \n",
       "0  residential  POLYGON ((5621831.386868679 6159061.582841514,...  \n",
       "1  residential  POLYGON ((5621789.358866802 6159012.434962539,...  \n",
       "2  residential  POLYGON ((5622304.19733424 6158390.687202398, ...  \n",
       "3  residential  POLYGON ((5622352.559752863 6158443.872580742,...  "
      ]
     },
     "execution_count": 24,
     "metadata": {},
     "output_type": "execute_result"
    }
   ],
   "source": [
    "appenDF = intersec2.append(intersec)\n",
    "appenDF"
   ]
  },
  {
   "cell_type": "code",
   "execution_count": 25,
   "metadata": {
    "collapsed": true
   },
   "outputs": [],
   "source": [
    "appenDFdiss = appenDF.dissolve(by='LINK')\n"
   ]
  },
  {
   "cell_type": "code",
   "execution_count": 26,
   "metadata": {
    "collapsed": false,
    "scrolled": true
   },
   "outputs": [
    {
     "data": {
      "text/plain": [
       "<matplotlib.axes._subplots.AxesSubplot at 0x7f6a43319bd0>"
      ]
     },
     "execution_count": 26,
     "metadata": {},
     "output_type": "execute_result"
    },
    {
     "data": {
      "image/png": "[encoded data removed]",
      "text/plain": [
       "<matplotlib.figure.Figure at 0x7f6a434e7ad0>"
      ]
     },
     "metadata": {},
     "output_type": "display_data"
    }
   ],
   "source": [
    "fig = plt.figure(figsize=(6,6))\n",
    "ax = fig.add_subplot(1,1,1)\n",
    "radiosSel.plot(ax=ax,color='green')\n",
    "appenDFdiss.plot(ax=ax)"
   ]
  },
  {
   "cell_type": "markdown",
   "metadata": {},
   "source": [
    "###  Ejecución en el total del conjunto de datos"
   ]
  },
  {
   "cell_type": "code",
   "execution_count": 29,
   "metadata": {
    "collapsed": false
   },
   "outputs": [],
   "source": [
    "calles.drop(['highway'],axis=1,inplace=True)\n",
    "calles['calleID'] = calles.index"
   ]
  },
  {
   "cell_type": "code",
   "execution_count": 30,
   "metadata": {
    "collapsed": false
   },
   "outputs": [
    {
     "data": {
      "text/html": [
       "<div>\n",
       "<table border=\"1\" class=\"dataframe\">\n",
       "  <thead>\n",
       "    <tr style=\"text-align: right;\">\n",
       "      <th></th>\n",
       "      <th>geometry</th>\n",
       "      <th>calleID</th>\n",
       "      <th>LINK</th>\n",
       "    </tr>\n",
       "  </thead>\n",
       "  <tbody>\n",
       "    <tr>\n",
       "      <th>0</th>\n",
       "      <td>POLYGON ((5585797.157224065 6157690.710567379,...</td>\n",
       "      <td>279</td>\n",
       "      <td>063640504</td>\n",
       "    </tr>\n",
       "    <tr>\n",
       "      <th>1</th>\n",
       "      <td>POLYGON ((5585766.893090877 6157819.541789982,...</td>\n",
       "      <td>280</td>\n",
       "      <td>063640504</td>\n",
       "    </tr>\n",
       "    <tr>\n",
       "      <th>2</th>\n",
       "      <td>POLYGON ((5585824.361333102 6157929.274601583,...</td>\n",
       "      <td>281</td>\n",
       "      <td>063640504</td>\n",
       "    </tr>\n",
       "    <tr>\n",
       "      <th>3</th>\n",
       "      <td>POLYGON ((5585928.447176262 6157857.453439912,...</td>\n",
       "      <td>282</td>\n",
       "      <td>063640504</td>\n",
       "    </tr>\n",
       "    <tr>\n",
       "      <th>4</th>\n",
       "      <td>POLYGON ((5585901.694404183 6157967.977852936,...</td>\n",
       "      <td>283</td>\n",
       "      <td>063640504</td>\n",
       "    </tr>\n",
       "  </tbody>\n",
       "</table>\n",
       "</div>"
      ],
      "text/plain": [
       "                                            geometry  calleID       LINK\n",
       "0  POLYGON ((5585797.157224065 6157690.710567379,...      279  063640504\n",
       "1  POLYGON ((5585766.893090877 6157819.541789982,...      280  063640504\n",
       "2  POLYGON ((5585824.361333102 6157929.274601583,...      281  063640504\n",
       "3  POLYGON ((5585928.447176262 6157857.453439912,...      282  063640504\n",
       "4  POLYGON ((5585901.694404183 6157967.977852936,...      283  063640504"
      ]
     },
     "execution_count": 30,
     "metadata": {},
     "output_type": "execute_result"
    }
   ],
   "source": [
    "#spatial join\n",
    "#a cada calle le asigno el radio al que pertenece\n",
    "#una calle puede atravesar mas de un radio, por eso van a aparecer calles repedidas en la tabla\n",
    "calles = gpd.sjoin(calles, agbaBajaDens.loc[:,['geometry','LINK']], how=\"inner\", op='intersects')\n",
    "calles.reset_index(inplace=True)\n",
    "calles.drop(['index','index_right'],axis=1,inplace=True)\n",
    "calles.head()"
   ]
  },
  {
   "cell_type": "code",
   "execution_count": 31,
   "metadata": {
    "collapsed": false
   },
   "outputs": [
    {
     "name": "stdout",
     "output_type": "stream",
     "text": [
      "% 100.\n"
     ]
    }
   ],
   "source": [
    "primerID = calles.calleID.unique()[0]\n",
    "counter = 0\n",
    "for i in calles.calleID.unique():\n",
    "    #para cada calle\n",
    "    subset = calles.loc[calles.calleID==i,:]\n",
    "    #selecciono de a una calle\n",
    "    unaLinea = subset.iloc[0:1,:]\n",
    "    #de todos los radios, selecciono los que interseccionan esta calle\n",
    "    conjuntoDeRadios = agbaBajaDens.loc[agbaBajaDens.LINK.isin(subset.LINK),:]\n",
    "    #realizo una intercepcion\n",
    "    if i == primerID:\n",
    "        intercept = gpd.overlay(conjuntoDeRadios, unaLinea, how='intersection')\n",
    "    else:\n",
    "        tmp = gpd.overlay(conjuntoDeRadios, unaLinea, how='intersection')\n",
    "        intercept = intercept.append(tmp)\n",
    "    counter += 1\n",
    "        \n",
    "    print '\\r',\"%\",str((counter+1)*100./len(calles.calleID.unique()))[:4],"
   ]
  },
  {
   "cell_type": "code",
   "execution_count": 32,
   "metadata": {
    "collapsed": false
   },
   "outputs": [
    {
     "data": {
      "text/html": [
       "<div>\n",
       "<table border=\"1\" class=\"dataframe\">\n",
       "  <thead>\n",
       "    <tr style=\"text-align: right;\">\n",
       "      <th></th>\n",
       "      <th>LINK</th>\n",
       "      <th>DEPTO_NAME</th>\n",
       "      <th>mixYden</th>\n",
       "      <th>calleID</th>\n",
       "      <th>LINK_2</th>\n",
       "      <th>geometry</th>\n",
       "    </tr>\n",
       "  </thead>\n",
       "  <tbody>\n",
       "    <tr>\n",
       "      <th>0</th>\n",
       "      <td>063640504</td>\n",
       "      <td>GENERAL RODRIGUEZ</td>\n",
       "      <td>True</td>\n",
       "      <td>279</td>\n",
       "      <td>063640504</td>\n",
       "      <td>POLYGON ((5585876.703430125 6157766.650889304,...</td>\n",
       "    </tr>\n",
       "    <tr>\n",
       "      <th>0</th>\n",
       "      <td>063640504</td>\n",
       "      <td>GENERAL RODRIGUEZ</td>\n",
       "      <td>True</td>\n",
       "      <td>280</td>\n",
       "      <td>063640504</td>\n",
       "      <td>POLYGON ((5585816.305761689 6157867.002179299,...</td>\n",
       "    </tr>\n",
       "    <tr>\n",
       "      <th>0</th>\n",
       "      <td>063640504</td>\n",
       "      <td>GENERAL RODRIGUEZ</td>\n",
       "      <td>True</td>\n",
       "      <td>281</td>\n",
       "      <td>063640504</td>\n",
       "      <td>POLYGON ((5585652.716804017 6158033.904114954,...</td>\n",
       "    </tr>\n",
       "    <tr>\n",
       "      <th>0</th>\n",
       "      <td>063640504</td>\n",
       "      <td>GENERAL RODRIGUEZ</td>\n",
       "      <td>True</td>\n",
       "      <td>282</td>\n",
       "      <td>063640504</td>\n",
       "      <td>POLYGON ((5585735.918334833 6157949.005015798,...</td>\n",
       "    </tr>\n",
       "    <tr>\n",
       "      <th>0</th>\n",
       "      <td>063640504</td>\n",
       "      <td>GENERAL RODRIGUEZ</td>\n",
       "      <td>True</td>\n",
       "      <td>283</td>\n",
       "      <td>063640504</td>\n",
       "      <td>POLYGON ((5585654.270403223 6158032.318814625,...</td>\n",
       "    </tr>\n",
       "  </tbody>\n",
       "</table>\n",
       "</div>"
      ],
      "text/plain": [
       "        LINK         DEPTO_NAME mixYden  calleID     LINK_2  \\\n",
       "0  063640504  GENERAL RODRIGUEZ    True      279  063640504   \n",
       "0  063640504  GENERAL RODRIGUEZ    True      280  063640504   \n",
       "0  063640504  GENERAL RODRIGUEZ    True      281  063640504   \n",
       "0  063640504  GENERAL RODRIGUEZ    True      282  063640504   \n",
       "0  063640504  GENERAL RODRIGUEZ    True      283  063640504   \n",
       "\n",
       "                                            geometry  \n",
       "0  POLYGON ((5585876.703430125 6157766.650889304,...  \n",
       "0  POLYGON ((5585816.305761689 6157867.002179299,...  \n",
       "0  POLYGON ((5585652.716804017 6158033.904114954,...  \n",
       "0  POLYGON ((5585735.918334833 6157949.005015798,...  \n",
       "0  POLYGON ((5585654.270403223 6158032.318814625,...  "
      ]
     },
     "execution_count": 32,
     "metadata": {},
     "output_type": "execute_result"
    }
   ],
   "source": [
    "intercept.head()"
   ]
  },
  {
   "cell_type": "code",
   "execution_count": 33,
   "metadata": {
    "collapsed": false
   },
   "outputs": [],
   "source": [
    "intercept = intercept.loc[:,['LINK','geometry']]"
   ]
  },
  {
   "cell_type": "code",
   "execution_count": 34,
   "metadata": {
    "collapsed": false
   },
   "outputs": [
    {
     "name": "stderr",
     "output_type": "stream",
     "text": [
      "TopologyException: found non-noded intersection between LINESTRING (5.64429e+06 6.13899e+06, 5.64435e+06 6.13908e+06) and LINESTRING (5.64435e+06 6.13908e+06, 5.64434e+06 6.13906e+06) at 5644348.837400442 6139080.3267585943\n",
      "TopologyException: found non-noded intersection between LINESTRING (5.64429e+06 6.13899e+06, 5.64435e+06 6.13908e+06) and LINESTRING (5.64435e+06 6.13908e+06, 5.64434e+06 6.13906e+06) at 5644348.837400442 6139080.3267585943\n",
      "TopologyException: found non-noded intersection between LINESTRING (5.60281e+06 6.16622e+06, 5.60283e+06 6.16623e+06) and LINESTRING (5.60281e+06 6.16622e+06, 5.60281e+06 6.16622e+06) at 5602814.4831207125 6166222.2533008074\n",
      "TopologyException: found non-noded intersection between LINESTRING (5.60281e+06 6.16622e+06, 5.60283e+06 6.16623e+06) and LINESTRING (5.60281e+06 6.16622e+06, 5.60281e+06 6.16622e+06) at 5602814.4831207125 6166222.2533008074\n",
      "TopologyException: found non-noded intersection between LINESTRING (5.59847e+06 6.17144e+06, 5.59846e+06 6.17144e+06) and LINESTRING (5.59844e+06 6.17145e+06, 5.59857e+06 6.17141e+06) at 5598467.2086282168 6171438.6117269164\n",
      "TopologyException: found non-noded intersection between LINESTRING (5.59847e+06 6.17144e+06, 5.59846e+06 6.17144e+06) and LINESTRING (5.59844e+06 6.17145e+06, 5.59857e+06 6.17141e+06) at 5598467.2086282168 6171438.6117269164\n",
      "TopologyException: found non-noded intersection between LINESTRING (5.60172e+06 6.18444e+06, 5.60172e+06 6.18444e+06) and LINESTRING (5.60172e+06 6.18444e+06, 5.60172e+06 6.18445e+06) at 5601723.0958356857 6184444.2507063476\n",
      "TopologyException: found non-noded intersection between LINESTRING (5.60172e+06 6.18444e+06, 5.60172e+06 6.18444e+06) and LINESTRING (5.60172e+06 6.18444e+06, 5.60172e+06 6.18445e+06) at 5601723.0958356857 6184444.2507063476\n",
      "TopologyException: found non-noded intersection between LINESTRING (5.61931e+06 6.17229e+06, 5.61928e+06 6.17231e+06) and LINESTRING (5.61928e+06 6.17231e+06, 5.61931e+06 6.17229e+06) at 5619289.5005699927 6172307.7186321784\n",
      "TopologyException: found non-noded intersection between LINESTRING (5.61931e+06 6.17229e+06, 5.61928e+06 6.17231e+06) and LINESTRING (5.61928e+06 6.17231e+06, 5.61931e+06 6.17229e+06) at 5619289.5005699927 6172307.7186321784\n",
      "TopologyException: found non-noded intersection between LINESTRING (5.62408e+06 6.18908e+06, 5.62408e+06 6.18908e+06) and LINESTRING (5.62409e+06 6.18907e+06, 5.62405e+06 6.1891e+06) at 5624077.9095266806 6189080.6289979015\n",
      "TopologyException: found non-noded intersection between LINESTRING (5.62408e+06 6.18908e+06, 5.62408e+06 6.18908e+06) and LINESTRING (5.62409e+06 6.18907e+06, 5.62405e+06 6.1891e+06) at 5624077.9095266806 6189080.6289979015\n",
      "TopologyException: found non-noded intersection between LINESTRING (5.616e+06 6.19678e+06, 5.61605e+06 6.19681e+06) and LINESTRING (5.6161e+06 6.19685e+06, 5.61598e+06 6.19676e+06) at 5616034.7246626467 6196800.7990280474\n",
      "TopologyException: found non-noded intersection between LINESTRING (5.616e+06 6.19678e+06, 5.61605e+06 6.19681e+06) and LINESTRING (5.6161e+06 6.19685e+06, 5.61598e+06 6.19676e+06) at 5616034.7246626467 6196800.7990280474\n",
      "TopologyException: found non-noded intersection between LINESTRING (5.61224e+06 6.2047e+06, 5.61225e+06 6.2047e+06) and LINESTRING (5.61222e+06 6.20471e+06, 5.61225e+06 6.2047e+06) at 5612244.4932307163 6204699.5929866936\n",
      "TopologyException: found non-noded intersection between LINESTRING (5.61224e+06 6.2047e+06, 5.61225e+06 6.2047e+06) and LINESTRING (5.61222e+06 6.20471e+06, 5.61225e+06 6.2047e+06) at 5612244.4932307163 6204699.5929866936\n"
     ]
    }
   ],
   "source": [
    "primerLINKid = intercept.LINK.unique()[0]\n",
    "for i in intercept.LINK.unique():\n",
    "    if i == primerLINKid:\n",
    "        dissolve = intercept.loc[intercept.LINK==i,:].dissolve(by='LINK').reset_index()\n",
    "    else:\n",
    "        try:\n",
    "            tmp = intercept.loc[intercept.LINK==i,:].dissolve(by='LINK').reset_index()\n",
    "        except:\n",
    "            #tomo los intercepts dentro de un radio por su LINK\n",
    "            tmp = intercept.loc[intercept.LINK==i,:]\n",
    "            #creo el primer elemento de la cascade_union\n",
    "            geoConError = tmp.geometry.iloc[0]\n",
    "            for i in range(1,tmp.shape[0]):\n",
    "                geoConError = shapely.ops.cascaded_union([geoConError,tmp.geometry.iloc[i]])\n",
    "            tmp = tmp.iloc[0:1,:].reset_index().drop(['index'],axis=1)\n",
    "            tmp['geometry'][0] = geoConError\n",
    "            \n",
    "        dissolve = dissolve.append(tmp)\n",
    "            \n"
   ]
  },
  {
   "cell_type": "code",
   "execution_count": 35,
   "metadata": {
    "collapsed": false
   },
   "outputs": [],
   "source": [
    "dissolve = gpd.GeoDataFrame(dissolve, geometry=\"geometry\", crs=agba.crs)\n",
    "dissolve = dissolve.reset_index().drop(['index'],axis=1)"
   ]
  },
  {
   "cell_type": "code",
   "execution_count": 36,
   "metadata": {
    "collapsed": false
   },
   "outputs": [],
   "source": [
    "agbaAltaDens = agbaAltaDens.reset_index().drop(['index','DEPTO_NAME','mixYden'],axis=1)"
   ]
  },
  {
   "cell_type": "code",
   "execution_count": 37,
   "metadata": {
    "collapsed": false
   },
   "outputs": [
    {
     "data": {
      "text/html": [
       "<div>\n",
       "<table border=\"1\" class=\"dataframe\">\n",
       "  <thead>\n",
       "    <tr style=\"text-align: right;\">\n",
       "      <th></th>\n",
       "      <th>LINK</th>\n",
       "      <th>geometry</th>\n",
       "    </tr>\n",
       "  </thead>\n",
       "  <tbody>\n",
       "    <tr>\n",
       "      <th>0</th>\n",
       "      <td>062520209</td>\n",
       "      <td>POLYGON ((5612723.096547182 6201186.305513684,...</td>\n",
       "    </tr>\n",
       "    <tr>\n",
       "      <th>1</th>\n",
       "      <td>062520216</td>\n",
       "      <td>POLYGON ((5611865.994244184 6200953.547424132,...</td>\n",
       "    </tr>\n",
       "    <tr>\n",
       "      <th>2</th>\n",
       "      <td>062520105</td>\n",
       "      <td>POLYGON ((5610396.67145441 6200626.129762402, ...</td>\n",
       "    </tr>\n",
       "    <tr>\n",
       "      <th>3</th>\n",
       "      <td>062520217</td>\n",
       "      <td>POLYGON ((5611665.072409396 6200842.464373552,...</td>\n",
       "    </tr>\n",
       "    <tr>\n",
       "      <th>4</th>\n",
       "      <td>062520104</td>\n",
       "      <td>POLYGON ((5610396.67145441 6200626.129762402, ...</td>\n",
       "    </tr>\n",
       "  </tbody>\n",
       "</table>\n",
       "</div>"
      ],
      "text/plain": [
       "        LINK                                           geometry\n",
       "0  062520209  POLYGON ((5612723.096547182 6201186.305513684,...\n",
       "1  062520216  POLYGON ((5611865.994244184 6200953.547424132,...\n",
       "2  062520105  POLYGON ((5610396.67145441 6200626.129762402, ...\n",
       "3  062520217  POLYGON ((5611665.072409396 6200842.464373552,...\n",
       "4  062520104  POLYGON ((5610396.67145441 6200626.129762402, ..."
      ]
     },
     "execution_count": 37,
     "metadata": {},
     "output_type": "execute_result"
    }
   ],
   "source": [
    "agbaOSM = agbaAltaDens.append(dissolve)\n",
    "agbaOSM.head()"
   ]
  },
  {
   "cell_type": "code",
   "execution_count": 39,
   "metadata": {
    "collapsed": false
   },
   "outputs": [],
   "source": [
    "agbaOSM.to_file('../dt/carto/agbaOSM/')"
   ]
  },
  {
   "cell_type": "code",
   "execution_count": null,
   "metadata": {
    "collapsed": true
   },
   "outputs": [],
   "source": []
  },
  {
   "cell_type": "code",
   "execution_count": null,
   "metadata": {
    "collapsed": true
   },
   "outputs": [],
   "source": []
  },
  {
   "cell_type": "code",
   "execution_count": null,
   "metadata": {
    "collapsed": true
   },
   "outputs": [],
   "source": []
  },
  {
   "cell_type": "code",
   "execution_count": null,
   "metadata": {
    "collapsed": true
   },
   "outputs": [],
   "source": []
  }
 ],
 "metadata": {
  "anaconda-cloud": {},
  "kernelspec": {
   "display_name": "Python [default]",
   "language": "python",
   "name": "python2"
  },
  "language_info": {
   "codemirror_mode": {
    "name": "ipython",
    "version": 2
   },
   "file_extension": ".py",
   "mimetype": "text/x-python",
   "name": "python",
   "nbconvert_exporter": "python",
   "pygments_lexer": "ipython2",
   "version": "2.7.12"
  }
 },
 "nbformat": 4,
 "nbformat_minor": 2
}
