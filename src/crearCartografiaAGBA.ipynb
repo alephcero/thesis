{
 "cells": [
  {
   "cell_type": "markdown",
   "metadata": {},
   "source": [
    "# Determinar el Aglomerado Gran Buenos Aires usando datos abiertos de Open Street Map"
   ]
  },
  {
   "cell_type": "code",
   "execution_count": null,
   "metadata": {
    "collapsed": true
   },
   "outputs": [],
   "source": [
    "#https://datos.minem.gob.ar/informacion-socioeconomica-areas-urbanas-segun-calles-osm\n",
    "#https://sig.se.gob.ar/geoportal/docs/Ponencia_SE_Nucleos_Poblados_2015.pdf"
   ]
  },
  {
   "cell_type": "code",
   "execution_count": null,
   "metadata": {
    "collapsed": false
   },
   "outputs": [],
   "source": [
    "import pandas as pd\n",
    "import geopandas as gpd\n",
    "import shapely\n",
    "import os\n",
    "import seaborn as sns\n",
    "\n",
    "import matplotlib.pyplot as plt\n",
    "%matplotlib inline\n"
   ]
  },
  {
   "cell_type": "code",
   "execution_count": null,
   "metadata": {
    "collapsed": false
   },
   "outputs": [],
   "source": [
    "%%javascript\n",
    "$.getScript('https://kmahelona.github.io/ipython_notebook_goodies/ipython_notebook_toc.js')\n"
   ]
  },
  {
   "cell_type": "markdown",
   "metadata": {},
   "source": [
    "## Introducción\n",
    "\n",
    "El objetivo de este trabajo es ofrecer una metodología sencilla para determinar de una manera práctica qué constituye el **Aglomerado Gran Buenos Aires (AGBA)**. El Instituto Nacional de Estadísticas y Censos de Argentina (INDEC) [establece](http://www.indec.gov.ar/nuevaweb/cuadros/4/folleto%20gba.pdf) una distinción entre este y el **Gran Buenos Aires (AGBA)**: *\"La diferencia entre el Gran Buenos Aires y el Aglomerado Gran Buenos Aires es que el primero alude a un conjunto de partidos (más la Ciudad de Buenos Aires) tomados en su totalidad, mientras el\n",
    "segundo alude a un área que se va moviendo con el tiempo y que incluye a algunos partidos de manera\n",
    "parcial.*\n",
    "\n",
    "Esta naturaleza cambiante del envolvente de población alude al denominado [Modifiable areal unit problem (MAUP)](https://en.wikipedia.org/wiki/Modifiable_areal_unit_problem) o *Problema de la Unidad Espacial Modificable (PUEM)*.  En este trabajo buscamos ofrecer una solución rápida y práctica, utilizando datos abiertos de [Open Street Map](https://www.openstreetmap.org/#map=10/-34.7427/-58.6230). La ventaja de este método es, por un lado, su sencillez y rapidez. Por el otro, al ser OpenStreetMap actualizado permanentemente permite mantener actualizados los cambios en el **AGBA** a raíz del avance de urbanización del espacio rural. También permite delimitar hacia el interior del espacio urbano consolidado, radios censales que en su mayoría no contienen espacios residenciales, generando radios de áreas extensas donde no se encuentra realmente población alguna (parques, plazas, zonas industriales, etc.). En las destenvajas se puede enumerar el posible sesgo de recolección de datos por parte de OpenStreetMap, como así también la toma de decisiones arbitrarias de parte nuestra para solucionar algunos escollos.  \n",
    "\n",
    "El proceso puede ser resumido en las siguientes etapas:\n",
    "\n",
    "   1. Descargar cartografía de Ciudad Autónoma de Buenos Aires (CABA) y Provincia de Buenos Aires (PBA)\n",
    "   1. Seleccionar los departamentos considerados por el INDEC como parte del AGBA\n",
    "   1. Seleccionar aquellos radios censales con baja densidad o caracterizados como de zona mixta por la cédula censal\n",
    "   1. Descargar calles de Open Street Map\n",
    "   1. Seleccionar calles residenciales y asignarles un buffer de 100m \n",
    "   1. Para cada radio censal seleccionado, obtener el area cubierta por calles residenciales\n",
    "   1. Seleccionar areas donde las calles residenciales conforme un entramado compacto \n",
    "   1. Recortar para los radios seleccionados ese area, asignarles la a=indentificación del radio y descartar el resto del área\n"
   ]
  },
  {
   "cell_type": "markdown",
   "metadata": {},
   "source": [
    "## 1. Cartografía \n",
    "\n",
    "El INDEC reliza el relevamiento de cada radio censal al cual se le asigna una categoria de urbano, rural o mixto. Esta información no se encuentra disponible aún de manera oficial, aunque puede construirse en base a los radios que publica el Gobierno de la Provincia de Buenos Aires en su [portal de datos abiertos](http://catalogo.datos.gba.gob.ar/dataviews/230038/RADIO-CENSA/) (asumimos que todos los radios de la Ciudad de Buenos Aires son de tipo urbano). Esto es un problema para la reproducibilidad de este trabajo, con el tiempo será subsanada."
   ]
  },
  {
   "cell_type": "code",
   "execution_count": null,
   "metadata": {
    "collapsed": true
   },
   "outputs": [],
   "source": [
    "#cargo cartografia no oficial de INDEC\n",
    "home = os.path.expanduser(\"~\")\n",
    "agba = gpd.GeoDataFrame.from_file(home + '/Downloads/paisNoOficial/rad_paisp.shp')\n",
    "\n",
    "#construyo el campo LINK como id unica del radio\n",
    "agba['LINK'] = agba.PROV + agba.DEPTO + agba.FRAC + agba.RADIO\n",
    "agba.drop([u'DEPTO', u'FRAC', u'PERIMETER', u'PROV', u'RADIO', u'RADPAIS_',\n",
    "       u'RADPAIS_ID'],axis=1,inplace=True)\n",
    "\n"
   ]
  },
  {
   "cell_type": "markdown",
   "metadata": {},
   "source": [
    "## 2. Selección de departamentos pertenecientes al AGBA\n",
    "\n",
    "En primer lugar se seleccionan los radios pertenecientes a los departamentos que el INDEC considera del AGBA. En segundo lugar se eliminan los radios de tipo rural. Esto nos deja con los radios urbanos y los mixtos. Estos últimos son los que presentarán un desafío a la hora de terminar la porción efectivamente poblada."
   ]
  },
  {
   "cell_type": "code",
   "execution_count": null,
   "metadata": {
    "collapsed": false
   },
   "outputs": [],
   "source": [
    "#creo el codigo departamento para filtrar los pertenecientes al agba \n",
    "agba['DEPARTAMENTO'] = agba.LINK.map(lambda x: x[0:5])\n",
    "\n",
    "#departamentos AGBA segun INDEC\n",
    "departamentos = {\n",
    "    'Comuna 1':'02001',\n",
    "    'Comuna 2':'02002',\n",
    "    'Comuna 3':'02003',\n",
    "    'Comuna 4':'02004',\n",
    "    'Comuna 5':'02005',\n",
    "    'Comuna 6':'02006',\n",
    "    'Comuna 7':'02007',\n",
    "    'Comuna 8':'02008',\n",
    "    'Comuna 9':'02009',\n",
    "    'Comuna 10':'02010',\n",
    "    'Comuna 11':'02011',\n",
    "    'Comuna 12':'02012',\n",
    "    'Comuna 13':'02013',\n",
    "    'Comuna 14':'02014',\n",
    "    'Comuna 15':'02015',\n",
    "    'ALMIRANTE BROWN':'06028',\n",
    "    'AVELLANEDA':'06035',\n",
    "    'BERAZATEGUI':'06091',\n",
    "    'ESCOBAR':'06252',\n",
    "    'ESTEBAN ECHEVERRIA':'06260',\n",
    "    'EZEIZA':'06270',\n",
    "    'FLORENCIO VARELA':'06274',\n",
    "    'GENERAL RODRIGUEZ':'06364',\n",
    "    'GENERAL SAN MARTIN':'06371',\n",
    "    'HURLINGHAM':'06408',\n",
    "    'ITUZAINGO':'06410',\n",
    "    'JOSE C PAZ':'06412',\n",
    "    'LA MATANZA':'06427',\n",
    "    'LANUS':'06434',\n",
    "    'LOMAS DE ZAMORA':'06490',\n",
    "    'MALVINAS ARGENTINAS':'06515',\n",
    "    'MARCOS PAZ':'06525',\n",
    "    'MERLO':'06539',\n",
    "    'MORENO':'06560',\n",
    "    'MORON':'06568',\n",
    "    'PILAR':'06638',\n",
    "    'PRESIDENTE PERON':'06648',\n",
    "    'QUILMES':'06658',\n",
    "    'SAN FERNANDO':'06749',\n",
    "    'SAN ISIDRO':'06756',\n",
    "    'SAN MIGUEL':'06760',\n",
    "    'SAN VICENTE':'06778',\n",
    "    'TIGRE':'06805',\n",
    "    'TRES DE FEBRERO':'06840',\n",
    "    'VICENTE LOPEZ':'06861'\n",
    "}\n",
    "\n",
    "\n",
    "#se eliminan los departamentos no pertenecientes al AGBA\n",
    "agba = agba.loc[agba.DEPARTAMENTO.isin(departamentos.values()),:]\n",
    "agba.drop(['DEPARTAMENTO'],axis=1,inplace=True)\n",
    "\n",
    "#los radios faltantes correspondientes a CABA son urbanos\n",
    "agba.TIPO.fillna('U',inplace=True)\n",
    "\n",
    "#se eliminan los radios rurales \n",
    "agba = agba.loc[agba.TIPO!='R',:]\n",
    "\n",
    "#se agregan etiquetas para los departamentos\n",
    "#deptos = []\n",
    "#for i in range(agba.shape[0]):\n",
    "#    deptos.append(departamentosName[agba.DEPARTAMENTO.iloc[i]])\n",
    "#agba['DEPTO_NAME'] = deptos\n",
    "\n",
    "#se proyecta el geodataframe como POSGAR94 Argentina 5 \n",
    "agba = agba.to_crs(epsg=22185)\n",
    "\n",
    "agba.head()\n"
   ]
  },
  {
   "cell_type": "code",
   "execution_count": null,
   "metadata": {
    "collapsed": false
   },
   "outputs": [],
   "source": [
    "\n",
    "departamentosName = {\n",
    "    '02001':'Comuna 1',\n",
    "    '02002':'Comuna 2',\n",
    "    '02003':'Comuna 3',\n",
    "    '02004':'Comuna 4',\n",
    "    '02005':'Comuna 5',\n",
    "    '02006':'Comuna 6',\n",
    "    '02007':'Comuna 7',\n",
    "    '02008':'Comuna 8',\n",
    "    '02009':'Comuna 9',\n",
    "    '02010':'Comuna 10',\n",
    "    '02011':'Comuna 11',\n",
    "    '02012':'Comuna 12',\n",
    "    '02013':'Comuna 13',\n",
    "    '02014':'Comuna 14',\n",
    "    '02015':'Comuna 15',\n",
    "    '06028':'ALMIRANTE BROWN',\n",
    "    '06035':'AVELLANEDA',\n",
    "    '06091':'BERAZATEGUI',\n",
    "    '06252':'ESCOBAR',\n",
    "    '06260':'ESTEBAN ECHEVERRIA',\n",
    "    '06270':'EZEIZA',\n",
    "    '06274':'FLORENCIO VARELA',\n",
    "    '06364':'GENERAL RODRIGUEZ',\n",
    "    '06371':'GENERAL SAN MARTIN',\n",
    "    '06408':'HURLINGHAM',\n",
    "    '06410':'ITUZAINGO',\n",
    "    '06412':'JOSE C PAZ',\n",
    "    '06427':'LA MATANZA',\n",
    "    '06434':'LANUS',\n",
    "    '06490':'LOMAS DE ZAMORA',\n",
    "    '06515':'MALVINAS ARGENTINAS',\n",
    "    '06525':'MARCOS PAZ',\n",
    "    '06539':'MERLO',\n",
    "    '06560':'MORENO',\n",
    "    '06568':'MORON',\n",
    "    '06638':'PILAR',\n",
    "    '06648':'PRESIDENTE PERON',\n",
    "    '06658':'QUILMES',\n",
    "    '06749':'SAN FERNANDO',\n",
    "    '06756':'SAN ISIDRO',\n",
    "    '06760':'SAN MIGUEL',\n",
    "    '06778':'SAN VICENTE',\n",
    "    '06805':'TIGRE',\n",
    "    '06840':'TRES DE FEBRERO',\n",
    "    '06861':'VICENTE LOPEZ'\n",
    "}\n"
   ]
  },
  {
   "cell_type": "markdown",
   "metadata": {},
   "source": [
    "## 3. Seleccionar los radios con baja densidad o de zonas mixtas\n",
    "\n",
    "Utilizando el [sistema de consulta](http://200.51.91.245/argbin/RpWebEngine.exe/PortalAction?&MODE=MAIN&BASE=CPV2010B&MAIN=WebServerMain.inl) para el Censo 2010 de REDATAM en el sitio oficial de INDEC, se obtiene la cantidad de población de cada radio para la provincia de Buenos Aires como para la Ciudad, con el objetivo de estimar la densidad poblacional. "
   ]
  },
  {
   "cell_type": "code",
   "execution_count": null,
   "metadata": {
    "collapsed": false
   },
   "outputs": [],
   "source": [
    "#esta data fue descargada desde la pagina oficial de indec \n",
    "#http://200.51.91.245/argbin/RpWebEngine.exe/PortalAction?&MODE=MAIN&BASE=CPV2010B&MAIN=WebServerMain.inl\n",
    "#obteniendo listado por areas a nivel de radio censal\n",
    "#sexo, con total de filas, para: \n",
    "\n",
    "#los 24 partidos del Gran Benos Aires\n",
    "pbaPob = pd.read_csv('../dt/poblacionPBAcenso.csv')\n",
    "pbaPob.LINK = pbaPob.LINK.map(lambda x: '0'+str(x))\n",
    "\n",
    "\n",
    "#CABA \n",
    "cabaPob = pd.read_csv('../dt/poblacionCABAcenso.csv')\n",
    "cabaPob.LINK = cabaPob.LINK.map(lambda x: '0'+str(x))\n",
    "\n",
    "poblacion = cabaPob.append(pbaPob)\n",
    "\n",
    "#se agregan los datos a la tabla de agba con la geografia\n",
    "agba = agba.merge(poblacion, on='LINK',how='left')\n",
    "\n",
    "#se calcula la densidad de cada radio censal y se la divide en \n",
    "agba['densidad'] = agba.Pob / agba.AREA\n",
    "agba['densidad'] = pd.qcut(agba.densidad,10,labels=False)"
   ]
  },
  {
   "cell_type": "code",
   "execution_count": null,
   "metadata": {
    "collapsed": false
   },
   "outputs": [],
   "source": [
    "pd.crosstab(agba.densidad,agba.TIPO)"
   ]
  },
  {
   "cell_type": "markdown",
   "metadata": {},
   "source": [
    "Como es de esperar los radios mixtos se encuentran en el primer decil de densidad demográfica (esto es decir, el grupo con menor densidad). Existe una excepcion "
   ]
  },
  {
   "cell_type": "code",
   "execution_count": null,
   "metadata": {
    "collapsed": false,
    "scrolled": true
   },
   "outputs": [],
   "source": [
    "idRadioEspecial = agba.LINK[(agba.TIPO == 'M') & (agba.densidad == 4)].iloc[0]\n",
    "radioEspecial = agba.loc[agba.LINK == idRadioEspecial,:].copy()\n",
    "punto = radioEspecial.geometry.iloc[0].centroid\n",
    "radioEspecial.geometry.iloc[0] = punto\n",
    "\n",
    "print idRadioEspecial"
   ]
  },
  {
   "cell_type": "markdown",
   "metadata": {},
   "source": [
    "Como se explicó al principio nuestor interés se encuentra en los radios que no se encuentran poblados en toda su extensión. Esto puede ser porque son radios de tipo mixto ubicados en los bordes del área urbana o porque, aún encontrándose dentro de un ámbito urbano consolidado, presentan grandes extensiones sin poblar (grandes parques por ejemplo). Por lo tanto los radios que son de nuestro interés son aquellos que son de tipo mixto o que son de baja densidad. Crearemos dos tablas, una que contenga los radios que intuimos estan poblados en su totalidad y no nos interesa determinar el area realmente poblada y la otra con los radios en los cuales utilizaremos las calles de OSM para detemrinar dicha area. "
   ]
  },
  {
   "cell_type": "code",
   "execution_count": null,
   "metadata": {
    "collapsed": false
   },
   "outputs": [],
   "source": [
    "#se crea un vector que identifique los radios de baja densidad o de tipo mixto\n",
    "mixYden = (agba.TIPO == 'M') | (agba.densidad == 0)\n",
    "agba['mixYden'] = mixYden\n",
    "\n",
    "agba.drop(['AREA','Pob','TIPO','densidad'], axis=1,inplace=True)\n",
    "#se crean dos tablas de datos, una con los radios de interes y otra con los radios\n",
    "agbaAltaDens = agba.loc[~agba.mixYden,:]\n",
    "agbaBajaDens = agba.loc[agba.mixYden,:]\n",
    "\n",
    "\n",
    "agba.head()"
   ]
  },
  {
   "cell_type": "code",
   "execution_count": null,
   "metadata": {
    "collapsed": false
   },
   "outputs": [],
   "source": [
    "agba['tipo'] = ''\n",
    "agba['tipo'][agba.mixYden] = 'Baja densidad o mixto'\n",
    "agba['tipo'][~agba.mixYden] = 'Alta densidad o urbano'\n",
    "agba.drop(['mixYden'],axis=1,inplace = True)\n",
    "agba.head()"
   ]
  },
  {
   "cell_type": "code",
   "execution_count": null,
   "metadata": {
    "collapsed": false
   },
   "outputs": [],
   "source": [
    "fig = plt.figure(figsize=(10,10))\n",
    "ax = fig.add_subplot(1,1,1)\n",
    "\n",
    "agba.plot(ax=ax,linewidth=0.1, column = 'tipo',cmap='Set3',legend = True)\n",
    "radioEspecial.plot(ax=ax, color = 'red', markersize=5,label = 'Radio mixto densidad media', legend = True)\n",
    "\n",
    "ax.get_xaxis().set_visible(False)\n",
    "ax.get_yaxis().set_visible(False)\n",
    "\n"
   ]
  },
  {
   "cell_type": "code",
   "execution_count": null,
   "metadata": {
    "collapsed": false
   },
   "outputs": [],
   "source": [
    "agba.drop(['tipo'],axis=1,inplace=True)"
   ]
  },
  {
   "cell_type": "code",
   "execution_count": null,
   "metadata": {
    "collapsed": false
   },
   "outputs": [],
   "source": [
    "agba.to_file('../dt/carto/agba')"
   ]
  },
  {
   "cell_type": "markdown",
   "metadata": {
    "collapsed": true
   },
   "source": [
    "## 4. Descargar data de OpenSteetMap\n",
    "\n",
    "Open Street Map posee archivos con las calles de numerosas ciudades del mundo. Las mismas a su vez se catalogan en una [tipología](http://wiki.openstreetmap.org/wiki/Key:highway). Utilizamos el servicios de Mapzen porque ofrece los datos para una zona extensa de Buenos Aires y alrededores.\n",
    "\n"
   ]
  },
  {
   "cell_type": "code",
   "execution_count": null,
   "metadata": {
    "collapsed": false
   },
   "outputs": [],
   "source": [
    "#download data\n",
    "osmFile = home + '/Downloads/buenos-aires_argentina.osm2pgsql-shapefiles/buenos-aires_argentina_osm_line.shp'\n",
    "if not os.path.isfile(osmFile):\n",
    "    os.sys('wget https://s3.amazonaws.com/metro-extracts.mapzen.com/buenos-aires_argentina.osm2pgsql-shapefiles.zip')\n",
    "    os.sys('unzip https://s3.amazonaws.com/metro-extracts.mapzen.com/buenos-aires_argentina.osm2pgsql-shapefiles.zip')\n",
    "\n",
    "calles = gpd.read_file(home + '/Downloads/buenos-aires_argentina.osm2pgsql-shapefiles/buenos-aires_argentina_osm_line.shp')\n",
    "calles = calles.loc[:,['highway','geometry']]\n"
   ]
  },
  {
   "cell_type": "markdown",
   "metadata": {},
   "source": [
    "## 5. Seleccionar calles residenciales y computar un buffer de 100 metros\n",
    "\n",
    "A continuación seleccionamos las calles que consideramos son típicas de una zona residencial. A las mismas le aplicamos un área alrededor de 100 metros. A su vez seleccionamos las calles de un largo menor a 2 km para evitar seleccionar areas constituidas unicamente por una sola calle.\n",
    "\n",
    "| Residential| Living street        | \n",
    "| ------------- |:-------------:|\n",
    "| ![residential](http://wiki.openstreetmap.org/w/images/3/30/Residential.jpg)     | ![Living street](http://wiki.openstreetmap.org/w/images/6/6a/Spielstrasse.jpg) |\n",
    "| **Footway**| **Pedestrian**        | \n",
    "|      ![Footway](http://wiki.openstreetmap.org/w/images/6/64/Dscf0487_600.jpg) |  ![Pedestrian](https://upload.wikimedia.org/wikipedia/commons/1/1c/Cambridge_Rd_-_geograph.org.uk_-_1189572.jpg)|\n"
   ]
  },
  {
   "cell_type": "code",
   "execution_count": null,
   "metadata": {
    "collapsed": false,
    "scrolled": true
   },
   "outputs": [],
   "source": [
    "#se eligen el tipo de calles que asumimos constituyen parte de un area urbana\n",
    "mask =  (calles.highway == 'residential') |  (calles.highway == 'living_street') | (calles.highway == 'footway') |  (calles.highway == 'pedestrian') \n",
    "calles = calles.loc[mask,:]\n",
    "\n",
    "#se proyecta el geodataframe con la misma proyeccion que los radios POSGAR94 Argentina 5 \n",
    "calles = calles.to_crs(epsg=22185)\n",
    "\n",
    "#se detemrina el largo de la linea\n",
    "calles['largo'] = calles.geometry.map(lambda x: x.length)\n",
    "\n",
    "#se selecciona las calles con un largo menos a 2 kilometros\n",
    "calles = calles.loc[calles.largo <= 2000,:]\n",
    "calles.drop(['largo'],axis=1,inplace = True)\n",
    "\n",
    "calles['buffer'] = calles.geometry.buffer(100)\n",
    "calles.drop(['geometry'],axis=1,inplace=True)\n",
    "calles.columns = [u'highway', u'geometry']"
   ]
  },
  {
   "cell_type": "markdown",
   "metadata": {},
   "source": [
    "## 6. Obtener el area del radio cubierta por calles residenciales"
   ]
  },
  {
   "cell_type": "markdown",
   "metadata": {},
   "source": [
    "### Ejemplo "
   ]
  },
  {
   "cell_type": "code",
   "execution_count": null,
   "metadata": {
    "collapsed": false
   },
   "outputs": [],
   "source": [
    "radiosSel = gpd.read_file('dataPrueba/radiosSeleccionados.shp')\n",
    "calleConectada = gpd.read_file('dataPrueba/calleConConexion.shp')\n",
    "calleConectada['buffer'] = calleConectada.geometry.buffer(70)\n",
    "calleConectada.drop(['geometry'],axis=1,inplace=True)\n",
    "calleConectada.columns = [u'highway', u'geometry']\n",
    "\n",
    "calleAislada = gpd.read_file('dataPrueba/calleSinConexion.shp')\n",
    "calleAislada['buffer'] = calleAislada.geometry.buffer(70)\n",
    "calleAislada.drop(['geometry'],axis=1,inplace=True)\n",
    "calleAislada.columns = [u'highway', u'geometry']"
   ]
  },
  {
   "cell_type": "code",
   "execution_count": null,
   "metadata": {
    "collapsed": false
   },
   "outputs": [],
   "source": [
    "fig = plt.figure(figsize=(6,6))\n",
    "ax = fig.add_subplot(1,1,1)\n",
    "radiosSel.plot(ax=ax,color='green')\n",
    "calleAislada.plot(ax=ax,color='blue')\n",
    "calleConectada.plot(ax=ax,color='red')"
   ]
  },
  {
   "cell_type": "code",
   "execution_count": null,
   "metadata": {
    "collapsed": false
   },
   "outputs": [],
   "source": [
    "intersec = gpd.overlay(radiosSel, calleConectada, how='intersection')\n",
    "intersec"
   ]
  },
  {
   "cell_type": "code",
   "execution_count": null,
   "metadata": {
    "collapsed": false
   },
   "outputs": [],
   "source": [
    "fig = plt.figure(figsize=(6,6))\n",
    "ax = fig.add_subplot(1,1,1)\n",
    "radiosSel.plot(ax=ax,color='green')\n",
    "intersec.plot(ax=ax,column='LINK')\n"
   ]
  },
  {
   "cell_type": "code",
   "execution_count": null,
   "metadata": {
    "collapsed": false
   },
   "outputs": [],
   "source": [
    "noIntersec = gpd.overlay(radiosSel, calleAislada, how='intersection')\n"
   ]
  },
  {
   "cell_type": "code",
   "execution_count": null,
   "metadata": {
    "collapsed": false
   },
   "outputs": [],
   "source": [
    "noIntersec.shape"
   ]
  },
  {
   "cell_type": "code",
   "execution_count": null,
   "metadata": {
    "collapsed": true
   },
   "outputs": [],
   "source": [
    "calleConectada2 = gpd.read_file('dataPrueba/calleConConexion2.shp')\n",
    "calleConectada2['buffer'] = calleConectada2.geometry.buffer(70)\n",
    "calleConectada2.drop(['geometry'],axis=1,inplace=True)\n",
    "calleConectada2.columns = [u'highway', u'geometry']\n",
    "\n"
   ]
  },
  {
   "cell_type": "code",
   "execution_count": null,
   "metadata": {
    "collapsed": false
   },
   "outputs": [],
   "source": [
    "fig = plt.figure(figsize=(6,6))\n",
    "ax = fig.add_subplot(1,1,1)\n",
    "radiosSel.plot(ax=ax,color='green')\n",
    "radiosSel.loc[radiosSel.LINK == '065391011',:].plot(ax=ax,color='blue')\n",
    "calleConectada2.plot(ax=ax,color='RED')\n"
   ]
  },
  {
   "cell_type": "code",
   "execution_count": null,
   "metadata": {
    "collapsed": false
   },
   "outputs": [],
   "source": [
    "intersec2 = gpd.overlay(radiosSel, calleConectada2, how='intersection')\n",
    "intersec2"
   ]
  },
  {
   "cell_type": "code",
   "execution_count": null,
   "metadata": {
    "collapsed": false
   },
   "outputs": [],
   "source": [
    "appenDF = intersec2.append(intersec)\n",
    "appenDF"
   ]
  },
  {
   "cell_type": "code",
   "execution_count": null,
   "metadata": {
    "collapsed": true
   },
   "outputs": [],
   "source": [
    "appenDFdiss = appenDF.dissolve(by='LINK')\n"
   ]
  },
  {
   "cell_type": "code",
   "execution_count": null,
   "metadata": {
    "collapsed": false,
    "scrolled": true
   },
   "outputs": [],
   "source": [
    "fig = plt.figure(figsize=(6,6))\n",
    "ax = fig.add_subplot(1,1,1)\n",
    "radiosSel.plot(ax=ax,color='green')\n",
    "appenDFdiss.plot(ax=ax)"
   ]
  },
  {
   "cell_type": "markdown",
   "metadata": {},
   "source": [
    "###  Ejecución en el total del conjunto de datos"
   ]
  },
  {
   "cell_type": "code",
   "execution_count": null,
   "metadata": {
    "collapsed": false
   },
   "outputs": [],
   "source": [
    "calles.drop(['highway'],axis=1,inplace=True)\n",
    "calles['calleID'] = calles.index"
   ]
  },
  {
   "cell_type": "code",
   "execution_count": null,
   "metadata": {
    "collapsed": false
   },
   "outputs": [],
   "source": [
    "#spatial join\n",
    "#a cada calle le asigno el radio al que pertenece\n",
    "#una calle puede atravesar mas de un radio, por eso van a aparecer calles repedidas en la tabla\n",
    "calles = gpd.sjoin(calles, agbaBajaDens.loc[:,['geometry','LINK']], how=\"inner\", op='intersects')\n",
    "calles.reset_index(inplace=True)\n",
    "calles.drop(['index','index_right'],axis=1,inplace=True)\n",
    "calles.head()"
   ]
  },
  {
   "cell_type": "code",
   "execution_count": null,
   "metadata": {
    "collapsed": false
   },
   "outputs": [],
   "source": [
    "primerID = calles.calleID.unique()[0]\n",
    "counter = 0\n",
    "for i in calles.calleID.unique():\n",
    "    #para cada calle\n",
    "    subset = calles.loc[calles.calleID==i,:]\n",
    "    #selecciono de a una calle\n",
    "    unaLinea = subset.iloc[0:1,:]\n",
    "    #de todos los radios, selecciono los que interseccionan esta calle\n",
    "    conjuntoDeRadios = agbaBajaDens.loc[agbaBajaDens.LINK.isin(subset.LINK),:]\n",
    "    #realizo una intercepcion\n",
    "    if i == primerID:\n",
    "        intercept = gpd.overlay(conjuntoDeRadios, unaLinea, how='intersection')\n",
    "    else:\n",
    "        tmp = gpd.overlay(conjuntoDeRadios, unaLinea, how='intersection')\n",
    "        intercept = intercept.append(tmp)\n",
    "    counter += 1\n",
    "        \n",
    "    print '\\r',\"%\",str((counter+1)*100./len(calles.calleID.unique()))[:4],"
   ]
  },
  {
   "cell_type": "code",
   "execution_count": null,
   "metadata": {
    "collapsed": false
   },
   "outputs": [],
   "source": [
    "intercept.head()"
   ]
  },
  {
   "cell_type": "code",
   "execution_count": null,
   "metadata": {
    "collapsed": false
   },
   "outputs": [],
   "source": [
    "intercept = intercept.loc[:,['LINK','geometry']]"
   ]
  },
  {
   "cell_type": "code",
   "execution_count": null,
   "metadata": {
    "collapsed": false
   },
   "outputs": [],
   "source": [
    "primerLINKid = intercept.LINK.unique()[0]\n",
    "for i in intercept.LINK.unique():\n",
    "    if i == primerLINKid:\n",
    "        dissolve = intercept.loc[intercept.LINK==i,:].dissolve(by='LINK').reset_index()\n",
    "    else:\n",
    "        try:\n",
    "            tmp = intercept.loc[intercept.LINK==i,:].dissolve(by='LINK').reset_index()\n",
    "        except:\n",
    "            #tomo los intercepts dentro de un radio por su LINK\n",
    "            tmp = intercept.loc[intercept.LINK==i,:]\n",
    "            #creo el primer elemento de la cascade_union\n",
    "            geoConError = tmp.geometry.iloc[0]\n",
    "            for i in range(1,tmp.shape[0]):\n",
    "                geoConError = shapely.ops.cascaded_union([geoConError,tmp.geometry.iloc[i]])\n",
    "            tmp = tmp.iloc[0:1,:].reset_index().drop(['index'],axis=1)\n",
    "            tmp['geometry'][0] = geoConError\n",
    "            \n",
    "        dissolve = dissolve.append(tmp)\n",
    "            \n"
   ]
  },
  {
   "cell_type": "code",
   "execution_count": null,
   "metadata": {
    "collapsed": false
   },
   "outputs": [],
   "source": [
    "dissolve = gpd.GeoDataFrame(dissolve, geometry=\"geometry\", crs=agba.crs)\n",
    "dissolve = dissolve.reset_index().drop(['index'],axis=1)"
   ]
  },
  {
   "cell_type": "code",
   "execution_count": null,
   "metadata": {
    "collapsed": false
   },
   "outputs": [],
   "source": [
    "agbaAltaDens = agbaAltaDens.reset_index().drop(['index','DEPTO_NAME','mixYden'],axis=1)"
   ]
  },
  {
   "cell_type": "code",
   "execution_count": null,
   "metadata": {
    "collapsed": false
   },
   "outputs": [],
   "source": [
    "agbaOSM = agbaAltaDens.append(dissolve)\n",
    "agbaOSM.head()"
   ]
  },
  {
   "cell_type": "code",
   "execution_count": null,
   "metadata": {
    "collapsed": false
   },
   "outputs": [],
   "source": [
    "agbaOSM.to_file('../dt/carto/agbaOSM/')"
   ]
  },
  {
   "cell_type": "code",
   "execution_count": null,
   "metadata": {
    "collapsed": true
   },
   "outputs": [],
   "source": []
  },
  {
   "cell_type": "code",
   "execution_count": null,
   "metadata": {
    "collapsed": true
   },
   "outputs": [],
   "source": []
  },
  {
   "cell_type": "code",
   "execution_count": null,
   "metadata": {
    "collapsed": true
   },
   "outputs": [],
   "source": []
  },
  {
   "cell_type": "code",
   "execution_count": null,
   "metadata": {
    "collapsed": true
   },
   "outputs": [],
   "source": []
  }
 ],
 "metadata": {
  "anaconda-cloud": {},
  "kernelspec": {
   "display_name": "Python 2",
   "language": "python",
   "name": "python2"
  },
  "language_info": {
   "codemirror_mode": {
    "name": "ipython",
    "version": 2
   },
   "file_extension": ".py",
   "mimetype": "text/x-python",
   "name": "python",
   "nbconvert_exporter": "python",
   "pygments_lexer": "ipython2",
   "version": "2.7.13"
  }
 },
 "nbformat": 4,
 "nbformat_minor": 2
}
