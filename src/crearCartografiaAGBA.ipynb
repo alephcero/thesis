{
 "cells": [
  {
   "cell_type": "code",
   "execution_count": 1,
   "metadata": {
    "collapsed": true
   },
   "outputs": [],
   "source": [
    "import pandas as pd\n",
    "import geopandas as gpd\n",
    "from shapely import geometry\n"
   ]
  },
  {
   "cell_type": "code",
   "execution_count": 2,
   "metadata": {
    "collapsed": true
   },
   "outputs": [],
   "source": [
    "#departamentos AGBA segun INDEC\n",
    "departamentos = {\n",
    "    'Comuna 1':'02001',\n",
    "    'Comuna 2':'02002',\n",
    "    'Comuna 3':'02003',\n",
    "    'Comuna 4':'02004',\n",
    "    'Comuna 5':'02005',\n",
    "    'Comuna 6':'02006',\n",
    "    'Comuna 7':'02007',\n",
    "    'Comuna 8':'02008',\n",
    "    'Comuna 9':'02009',\n",
    "    'Comuna 10':'02010',\n",
    "    'Comuna 11':'02011',\n",
    "    'Comuna 12':'02012',\n",
    "    'Comuna 13':'02013',\n",
    "    'Comuna 14':'02014',\n",
    "    'Comuna 15':'02015',\n",
    "    'ALMIRANTE BROWN':'06028',\n",
    "    'AVELLANEDA':'06035',\n",
    "    'BERAZATEGUI':'06091',\n",
    "    'ESCOBAR':'06252',\n",
    "    'ESTEBAN ECHEVERRIA':'06260',\n",
    "    'EZEIZA':'06270',\n",
    "    'FLORENCIO VARELA':'06274',\n",
    "    'GENERAL RODRIGUEZ':'06364',\n",
    "    'GENERAL SAN MARTIN':'06371',\n",
    "    'HURLINGHAM':'06408',\n",
    "    'ITUZAINGO':'06410',\n",
    "    'JOSE C PAZ':'06412',\n",
    "    'LA MATANZA':'06427',\n",
    "    'LANUS':'06434',\n",
    "    'LOMAS DE ZAMORA':'06490',\n",
    "    'MALVINAS ARGENTINAS':'06515',\n",
    "    'MARCOS PAZ':'06525',\n",
    "    'MERLO':'06539',\n",
    "    'MORENO':'06560',\n",
    "    'MORON':'06568',\n",
    "    'PILAR':'06638',\n",
    "    'PRESIDENTE PERON':'06648',\n",
    "    'QUILMES':'06658',\n",
    "    'SAN FERNANDO':'06749',\n",
    "    'SAN ISIDRO':'06756',\n",
    "    'SAN MIGUEL':'06760',\n",
    "    'SAN VICENTE':'06778',\n",
    "    'TIGRE':'06805',\n",
    "    'TRES DE FEBRERO':'06840',\n",
    "    'VICENTE LOPEZ':'06861'\n",
    "}\n",
    "\n",
    "departamentosName = {\n",
    "    '02001':'Comuna 1',\n",
    "    '02002':'Comuna 2',\n",
    "    '02003':'Comuna 3',\n",
    "    '02004':'Comuna 4',\n",
    "    '02005':'Comuna 5',\n",
    "    '02006':'Comuna 6',\n",
    "    '02007':'Comuna 7',\n",
    "    '02008':'Comuna 8',\n",
    "    '02009':'Comuna 9',\n",
    "    '02010':'Comuna 10',\n",
    "    '02011':'Comuna 11',\n",
    "    '02012':'Comuna 12',\n",
    "    '02013':'Comuna 13',\n",
    "    '02014':'Comuna 14',\n",
    "    '02015':'Comuna 15',\n",
    "    '06028':'ALMIRANTE BROWN',\n",
    "    '06035':'AVELLANEDA',\n",
    "    '06091':'BERAZATEGUI',\n",
    "    '06252':'ESCOBAR',\n",
    "    '06260':'ESTEBAN ECHEVERRIA',\n",
    "    '06270':'EZEIZA',\n",
    "    '06274':'FLORENCIO VARELA',\n",
    "    '06364':'GENERAL RODRIGUEZ',\n",
    "    '06371':'GENERAL SAN MARTIN',\n",
    "    '06408':'HURLINGHAM',\n",
    "    '06410':'ITUZAINGO',\n",
    "    '06412':'JOSE C PAZ',\n",
    "    '06427':'LA MATANZA',\n",
    "    '06434':'LANUS',\n",
    "    '06490':'LOMAS DE ZAMORA',\n",
    "    '06515':'MALVINAS ARGENTINAS',\n",
    "    '06525':'MARCOS PAZ',\n",
    "    '06539':'MERLO',\n",
    "    '06560':'MORENO',\n",
    "    '06568':'MORON',\n",
    "    '06638':'PILAR',\n",
    "    '06648':'PRESIDENTE PERON',\n",
    "    '06658':'QUILMES',\n",
    "    '06749':'SAN FERNANDO',\n",
    "    '06756':'SAN ISIDRO',\n",
    "    '06760':'SAN MIGUEL',\n",
    "    '06778':'SAN VICENTE',\n",
    "    '06805':'TIGRE',\n",
    "    '06840':'TRES DE FEBRERO',\n",
    "    '06861':'VICENTE LOPEZ'\n",
    "}\n",
    "\n"
   ]
  },
  {
   "cell_type": "code",
   "execution_count": 3,
   "metadata": {
    "collapsed": false
   },
   "outputs": [
    {
     "data": {
      "text/html": [
       "<div>\n",
       "<table border=\"1\" class=\"dataframe\">\n",
       "  <thead>\n",
       "    <tr style=\"text-align: right;\">\n",
       "      <th></th>\n",
       "      <th>AREA</th>\n",
       "      <th>DEPTO</th>\n",
       "      <th>FRAC</th>\n",
       "      <th>LINK</th>\n",
       "      <th>PERIMETER</th>\n",
       "      <th>PROV</th>\n",
       "      <th>RADIO</th>\n",
       "      <th>RADPAIS_</th>\n",
       "      <th>RADPAIS_ID</th>\n",
       "      <th>TIPO</th>\n",
       "      <th>geometry</th>\n",
       "      <th>REDCODE</th>\n",
       "      <th>DEPARTAMENTO</th>\n",
       "      <th>DEPTO_NAME</th>\n",
       "    </tr>\n",
       "  </thead>\n",
       "  <tbody>\n",
       "    <tr>\n",
       "      <th>26688</th>\n",
       "      <td>16948780.0</td>\n",
       "      <td>252</td>\n",
       "      <td>01</td>\n",
       "      <td>062520101</td>\n",
       "      <td>26902.490</td>\n",
       "      <td>06</td>\n",
       "      <td>01</td>\n",
       "      <td>26690</td>\n",
       "      <td>26690</td>\n",
       "      <td>M</td>\n",
       "      <td>POLYGON ((4158793.5 6185928, 4158824.25 618588...</td>\n",
       "      <td>062520101</td>\n",
       "      <td>06252</td>\n",
       "      <td>ESCOBAR</td>\n",
       "    </tr>\n",
       "    <tr>\n",
       "      <th>26704</th>\n",
       "      <td>12351870.0</td>\n",
       "      <td>252</td>\n",
       "      <td>01</td>\n",
       "      <td>062520102</td>\n",
       "      <td>30469.020</td>\n",
       "      <td>06</td>\n",
       "      <td>02</td>\n",
       "      <td>26706</td>\n",
       "      <td>26707</td>\n",
       "      <td>M</td>\n",
       "      <td>POLYGON ((4159777 6185123.5, 4159847 6185160, ...</td>\n",
       "      <td>062520102</td>\n",
       "      <td>06252</td>\n",
       "      <td>ESCOBAR</td>\n",
       "    </tr>\n",
       "    <tr>\n",
       "      <th>26719</th>\n",
       "      <td>11063170.0</td>\n",
       "      <td>252</td>\n",
       "      <td>02</td>\n",
       "      <td>062520208</td>\n",
       "      <td>25350.040</td>\n",
       "      <td>06</td>\n",
       "      <td>08</td>\n",
       "      <td>26721</td>\n",
       "      <td>26723</td>\n",
       "      <td>U</td>\n",
       "      <td>POLYGON ((4161392.5 6184536.5, 4161399.75 6184...</td>\n",
       "      <td>062520208</td>\n",
       "      <td>06252</td>\n",
       "      <td>ESCOBAR</td>\n",
       "    </tr>\n",
       "    <tr>\n",
       "      <th>26741</th>\n",
       "      <td>796720.3</td>\n",
       "      <td>252</td>\n",
       "      <td>02</td>\n",
       "      <td>062520201</td>\n",
       "      <td>6843.383</td>\n",
       "      <td>06</td>\n",
       "      <td>01</td>\n",
       "      <td>26743</td>\n",
       "      <td>26743</td>\n",
       "      <td>U</td>\n",
       "      <td>POLYGON ((4164165.5 6183091, 4164223.5 6183021...</td>\n",
       "      <td>062520201</td>\n",
       "      <td>06252</td>\n",
       "      <td>ESCOBAR</td>\n",
       "    </tr>\n",
       "    <tr>\n",
       "      <th>26747</th>\n",
       "      <td>2996825.0</td>\n",
       "      <td>252</td>\n",
       "      <td>02</td>\n",
       "      <td>062520202</td>\n",
       "      <td>8393.760</td>\n",
       "      <td>06</td>\n",
       "      <td>02</td>\n",
       "      <td>26749</td>\n",
       "      <td>26749</td>\n",
       "      <td>U</td>\n",
       "      <td>POLYGON ((4166774.25 6182343.5, 4166960.5 6182...</td>\n",
       "      <td>062520202</td>\n",
       "      <td>06252</td>\n",
       "      <td>ESCOBAR</td>\n",
       "    </tr>\n",
       "  </tbody>\n",
       "</table>\n",
       "</div>"
      ],
      "text/plain": [
       "             AREA DEPTO FRAC       LINK  PERIMETER PROV RADIO  RADPAIS_  \\\n",
       "26688  16948780.0   252   01  062520101  26902.490   06    01     26690   \n",
       "26704  12351870.0   252   01  062520102  30469.020   06    02     26706   \n",
       "26719  11063170.0   252   02  062520208  25350.040   06    08     26721   \n",
       "26741    796720.3   252   02  062520201   6843.383   06    01     26743   \n",
       "26747   2996825.0   252   02  062520202   8393.760   06    02     26749   \n",
       "\n",
       "       RADPAIS_ID TIPO                                           geometry  \\\n",
       "26688       26690    M  POLYGON ((4158793.5 6185928, 4158824.25 618588...   \n",
       "26704       26707    M  POLYGON ((4159777 6185123.5, 4159847 6185160, ...   \n",
       "26719       26723    U  POLYGON ((4161392.5 6184536.5, 4161399.75 6184...   \n",
       "26741       26743    U  POLYGON ((4164165.5 6183091, 4164223.5 6183021...   \n",
       "26747       26749    U  POLYGON ((4166774.25 6182343.5, 4166960.5 6182...   \n",
       "\n",
       "         REDCODE DEPARTAMENTO DEPTO_NAME  \n",
       "26688  062520101        06252    ESCOBAR  \n",
       "26704  062520102        06252    ESCOBAR  \n",
       "26719  062520208        06252    ESCOBAR  \n",
       "26741  062520201        06252    ESCOBAR  \n",
       "26747  062520202        06252    ESCOBAR  "
      ]
     },
     "execution_count": 3,
     "metadata": {},
     "output_type": "execute_result"
    }
   ],
   "source": [
    "#CARGO CARTOGRAFIA NACIONAL NO OFICIAL\n",
    "pais = gpd.GeoDataFrame.from_file('../dt/carto/paisNoOficial/rad_paisp.shp')\n",
    "#CREO ID REDCODE PARA TODAS LAS PROVINCIAS PORQUE CABA NO TIENE LINK\n",
    "pais['REDCODE'] = pais.PROV + pais.DEPTO + pais.FRAC + pais.RADIO\n",
    "\n",
    "#CREO EL CODIGO DEPARTAMENTO PARA FILTRAR LOS PERTENECIENTES A PARTIDOS DEL AGBA\n",
    "pais['DEPARTAMENTO'] = pais.REDCODE.map(lambda x: x[0:5])\n",
    "\n",
    "#ELIMINAMOS LOS DEPARTAMENTOS QUE NO SEAN DE AGBA SEGUN INDEC\n",
    "pais = pais.loc[pais.DEPARTAMENTO.isin(departamentos.values()),:]\n",
    "\n",
    "#LOS RADIOS FALTANTES DE CABA SON URBANOS\n",
    "pais.TIPO.fillna('U',inplace=True)\n",
    "\n",
    "#ELIMINAMOS LOS RADIOS RURALES\n",
    "pais = pais.loc[pais.TIPO!='R',:]\n",
    "\n",
    "#AGREGAMOS ETIQUETAS A LOS DEPARTAMENTOS\n",
    "deptos = []\n",
    "for i in range(pais.shape[0]):\n",
    "    deptos.append(departamentosName[pais.DEPARTAMENTO.iloc[i]])\n",
    "pais['DEPTO_NAME'] = deptos\n",
    "pais = pais.to_crs(epsg=22185)\n",
    "pais.head()"
   ]
  },
  {
   "cell_type": "code",
   "execution_count": 7,
   "metadata": {
    "collapsed": true
   },
   "outputs": [],
   "source": [
    "pais.to_file('../dt/carto/agba')"
   ]
  },
  {
   "cell_type": "markdown",
   "metadata": {},
   "source": [
    "## load density"
   ]
  },
  {
   "cell_type": "code",
   "execution_count": 61,
   "metadata": {
    "collapsed": false
   },
   "outputs": [
    {
     "data": {
      "text/html": [
       "<div>\n",
       "<table border=\"1\" class=\"dataframe\">\n",
       "  <thead>\n",
       "    <tr style=\"text-align: right;\">\n",
       "      <th></th>\n",
       "      <th>REDCODE</th>\n",
       "      <th>pob</th>\n",
       "    </tr>\n",
       "  </thead>\n",
       "  <tbody>\n",
       "    <tr>\n",
       "      <th>0</th>\n",
       "      <td>068821704</td>\n",
       "      <td>2003.0</td>\n",
       "    </tr>\n",
       "    <tr>\n",
       "      <th>1</th>\n",
       "      <td>060141201</td>\n",
       "      <td>56.0</td>\n",
       "    </tr>\n",
       "    <tr>\n",
       "      <th>2</th>\n",
       "      <td>060210206</td>\n",
       "      <td>177.0</td>\n",
       "    </tr>\n",
       "    <tr>\n",
       "      <th>3</th>\n",
       "      <td>060070107</td>\n",
       "      <td>216.0</td>\n",
       "    </tr>\n",
       "    <tr>\n",
       "      <th>4</th>\n",
       "      <td>060210609</td>\n",
       "      <td>80.0</td>\n",
       "    </tr>\n",
       "  </tbody>\n",
       "</table>\n",
       "</div>"
      ],
      "text/plain": [
       "     REDCODE     pob\n",
       "0  068821704  2003.0\n",
       "1  060141201    56.0\n",
       "2  060210206   177.0\n",
       "3  060070107   216.0\n",
       "4  060210609    80.0"
      ]
     },
     "execution_count": 61,
     "metadata": {},
     "output_type": "execute_result"
    }
   ],
   "source": [
    "    #probar aca http://catalogo.datos.gba.gob.ar/dataviews/230038/radios-censales/\n",
    "pba = gpd.read_file('../dt/carto/Codgeo_Buenos_Aires_con_datos/Buenos_Aires_con_datos.shp')\n",
    "pba = pba.loc[:,['link','totalpobl']]\n",
    "pba.columns = ['REDCODE','pob']\n",
    "pba.head()"
   ]
  },
  {
   "cell_type": "code",
   "execution_count": 62,
   "metadata": {
    "collapsed": false
   },
   "outputs": [
    {
     "data": {
      "text/html": [
       "<div>\n",
       "<table border=\"1\" class=\"dataframe\">\n",
       "  <thead>\n",
       "    <tr style=\"text-align: right;\">\n",
       "      <th></th>\n",
       "      <th>REDCODE</th>\n",
       "      <th>pob</th>\n",
       "    </tr>\n",
       "  </thead>\n",
       "  <tbody>\n",
       "    <tr>\n",
       "      <th>0</th>\n",
       "      <td>020130302</td>\n",
       "      <td>654.0</td>\n",
       "    </tr>\n",
       "    <tr>\n",
       "      <th>1</th>\n",
       "      <td>020131101</td>\n",
       "      <td>568.0</td>\n",
       "    </tr>\n",
       "    <tr>\n",
       "      <th>2</th>\n",
       "      <td>020130104</td>\n",
       "      <td>763.0</td>\n",
       "    </tr>\n",
       "    <tr>\n",
       "      <th>3</th>\n",
       "      <td>020130103</td>\n",
       "      <td>612.0</td>\n",
       "    </tr>\n",
       "    <tr>\n",
       "      <th>4</th>\n",
       "      <td>020130102</td>\n",
       "      <td>770.0</td>\n",
       "    </tr>\n",
       "  </tbody>\n",
       "</table>\n",
       "</div>"
      ],
      "text/plain": [
       "     REDCODE    pob\n",
       "0  020130302  654.0\n",
       "1  020131101  568.0\n",
       "2  020130104  763.0\n",
       "3  020130103  612.0\n",
       "4  020130102  770.0"
      ]
     },
     "execution_count": 62,
     "metadata": {},
     "output_type": "execute_result"
    }
   ],
   "source": [
    "caba = gpd.read_file('../dt/carto/Codgeo_CABA_con_datos/cabaxrdatos.shp')\n",
    "caba = caba.loc[:,['LINK','TOT_POB']]\n",
    "caba.columns = ['REDCODE','pob']\n",
    "caba.head()"
   ]
  },
  {
   "cell_type": "code",
   "execution_count": 63,
   "metadata": {
    "collapsed": false
   },
   "outputs": [
    {
     "data": {
      "text/html": [
       "<div>\n",
       "<table border=\"1\" class=\"dataframe\">\n",
       "  <thead>\n",
       "    <tr style=\"text-align: right;\">\n",
       "      <th></th>\n",
       "      <th>REDCODE</th>\n",
       "      <th>pob</th>\n",
       "    </tr>\n",
       "  </thead>\n",
       "  <tbody>\n",
       "    <tr>\n",
       "      <th>2202</th>\n",
       "      <td>020061201</td>\n",
       "      <td>522.0</td>\n",
       "    </tr>\n",
       "    <tr>\n",
       "      <th>2881</th>\n",
       "      <td>020071205</td>\n",
       "      <td>740.0</td>\n",
       "    </tr>\n",
       "  </tbody>\n",
       "</table>\n",
       "</div>"
      ],
      "text/plain": [
       "        REDCODE    pob\n",
       "2202  020061201  522.0\n",
       "2881  020071205  740.0"
      ]
     },
     "execution_count": 63,
     "metadata": {},
     "output_type": "execute_result"
    }
   ],
   "source": [
    "caba.loc[~caba.REDCODE.isin(pais.REDCODE),:]"
   ]
  },
  {
   "cell_type": "code",
   "execution_count": 64,
   "metadata": {
    "collapsed": true
   },
   "outputs": [],
   "source": [
    "paraMerge = caba.app\n",
    "end(pba)\n",
    "pais = pais.merge(paraMerge, how='left')\n",
    "pais['densidad'] = pais.pob / pais.AREA\n",
    "pais['densidad'] = pd.qcut(pais.densidad,10,labels=False)"
   ]
  },
  {
   "cell_type": "code",
   "execution_count": 74,
   "metadata": {
    "collapsed": false
   },
   "outputs": [],
   "source": [
    "pais['densidad'] = pd.qcut(pais.densidad,10,labels=False)"
   ]
  },
  {
   "cell_type": "code",
   "execution_count": 76,
   "metadata": {
    "collapsed": false
   },
   "outputs": [],
   "source": [
    "paisBajaDensidad = pais.loc[pais.densidad==0,:]\n",
    "paisBajaDensidad.head()\n",
    "paisBajaDensidad.to_file('../dt/carto/agbaDensiBaja')"
   ]
  },
  {
   "cell_type": "code",
   "execution_count": null,
   "metadata": {
    "collapsed": true
   },
   "outputs": [],
   "source": [
    "#SACAR DECILES DE DENCIDAD Y QUEDARME CON EL 1 DECIL\n",
    "\n",
    "pais.to_file('../dt/carto/agba')"
   ]
  },
  {
   "cell_type": "markdown",
   "metadata": {
    "collapsed": true
   },
   "source": [
    "## Load OSM"
   ]
  },
  {
   "cell_type": "code",
   "execution_count": 31,
   "metadata": {
    "collapsed": false
   },
   "outputs": [
    {
     "data": {
      "text/html": [
       "<div>\n",
       "<table border=\"1\" class=\"dataframe\">\n",
       "  <thead>\n",
       "    <tr style=\"text-align: right;\">\n",
       "      <th></th>\n",
       "      <th>highway</th>\n",
       "      <th>geometry</th>\n",
       "    </tr>\n",
       "  </thead>\n",
       "  <tbody>\n",
       "    <tr>\n",
       "      <th>0</th>\n",
       "      <td>unclassified</td>\n",
       "      <td>LINESTRING (-59.2536487 -35.0956878, -59.25235...</td>\n",
       "    </tr>\n",
       "    <tr>\n",
       "      <th>1</th>\n",
       "      <td>unclassified</td>\n",
       "      <td>LINESTRING (-59.2460124 -35.0346348, -59.24599...</td>\n",
       "    </tr>\n",
       "    <tr>\n",
       "      <th>2</th>\n",
       "      <td>unclassified</td>\n",
       "      <td>LINESTRING (-59.2556364 -35.027778, -59.255110...</td>\n",
       "    </tr>\n",
       "    <tr>\n",
       "      <th>3</th>\n",
       "      <td>None</td>\n",
       "      <td>LINESTRING (-59.256935 -35.0258877, -59.246128...</td>\n",
       "    </tr>\n",
       "    <tr>\n",
       "      <th>4</th>\n",
       "      <td>unclassified</td>\n",
       "      <td>LINESTRING (-59.2547303 -35.0182057, -59.25593...</td>\n",
       "    </tr>\n",
       "  </tbody>\n",
       "</table>\n",
       "</div>"
      ],
      "text/plain": [
       "        highway                                           geometry\n",
       "0  unclassified  LINESTRING (-59.2536487 -35.0956878, -59.25235...\n",
       "1  unclassified  LINESTRING (-59.2460124 -35.0346348, -59.24599...\n",
       "2  unclassified  LINESTRING (-59.2556364 -35.027778, -59.255110...\n",
       "3          None  LINESTRING (-59.256935 -35.0258877, -59.246128...\n",
       "4  unclassified  LINESTRING (-59.2547303 -35.0182057, -59.25593..."
      ]
     },
     "execution_count": 31,
     "metadata": {},
     "output_type": "execute_result"
    }
   ],
   "source": [
    "#https://mapzen.com/data/metro-extracts/metro/buenos-aires_argentina/\n",
    "osm = gpd.read_file('../dt/carto/buenos-aires_argentina.osm2pgsql-shapefiles/buenos-aires_argentina_osm_line.shp')\n",
    "osm = osm.loc[:,['highway','geometry']]\n",
    "osm.head()"
   ]
  },
  {
   "cell_type": "code",
   "execution_count": 33,
   "metadata": {
    "collapsed": true
   },
   "outputs": [],
   "source": [
    "mask =  (osm.highway == 'residential') | (osm.highway == 'unclassified') |  (osm.highway == 'living_street') "
   ]
  },
  {
   "cell_type": "code",
   "execution_count": 34,
   "metadata": {
    "collapsed": true
   },
   "outputs": [],
   "source": [
    "osm2 = osm.loc[mask,:]\n",
    "osm2 = osm2.to_crs(epsg=22185)\n",
    "osm2.to_file('../dt/carto/osmResidential')"
   ]
  },
  {
   "cell_type": "code",
   "execution_count": 82,
   "metadata": {
    "collapsed": true
   },
   "outputs": [],
   "source": []
  },
  {
   "cell_type": "code",
   "execution_count": 79,
   "metadata": {
    "collapsed": false
   },
   "outputs": [
    {
     "data": {
      "text/html": [
       "<div>\n",
       "<table border=\"1\" class=\"dataframe\">\n",
       "  <thead>\n",
       "    <tr style=\"text-align: right;\">\n",
       "      <th></th>\n",
       "      <th>AREA</th>\n",
       "      <th>DEPTO</th>\n",
       "      <th>FRAC</th>\n",
       "      <th>LINK</th>\n",
       "      <th>PERIMETER</th>\n",
       "      <th>PROV</th>\n",
       "      <th>RADIO</th>\n",
       "      <th>RADPAIS_</th>\n",
       "      <th>RADPAIS_ID</th>\n",
       "      <th>TIPO</th>\n",
       "      <th>geometry</th>\n",
       "      <th>REDCODE</th>\n",
       "      <th>DEPARTAMENTO</th>\n",
       "      <th>DEPTO_NAME</th>\n",
       "      <th>pob</th>\n",
       "      <th>densidad</th>\n",
       "    </tr>\n",
       "  </thead>\n",
       "  <tbody>\n",
       "    <tr>\n",
       "      <th>0</th>\n",
       "      <td>16948780.0</td>\n",
       "      <td>252</td>\n",
       "      <td>01</td>\n",
       "      <td>062520101</td>\n",
       "      <td>26902.490</td>\n",
       "      <td>06</td>\n",
       "      <td>01</td>\n",
       "      <td>26690</td>\n",
       "      <td>26690</td>\n",
       "      <td>M</td>\n",
       "      <td>POLYGON ((5605573.523703439 6208535.44525929, ...</td>\n",
       "      <td>062520101</td>\n",
       "      <td>06252</td>\n",
       "      <td>ESCOBAR</td>\n",
       "      <td>597.0</td>\n",
       "      <td>0.0</td>\n",
       "    </tr>\n",
       "    <tr>\n",
       "      <th>1</th>\n",
       "      <td>12351870.0</td>\n",
       "      <td>252</td>\n",
       "      <td>01</td>\n",
       "      <td>062520102</td>\n",
       "      <td>30469.020</td>\n",
       "      <td>06</td>\n",
       "      <td>02</td>\n",
       "      <td>26706</td>\n",
       "      <td>26707</td>\n",
       "      <td>M</td>\n",
       "      <td>POLYGON ((5606597.563514996 6207794.426813126,...</td>\n",
       "      <td>062520102</td>\n",
       "      <td>06252</td>\n",
       "      <td>ESCOBAR</td>\n",
       "      <td>1009.0</td>\n",
       "      <td>0.0</td>\n",
       "    </tr>\n",
       "    <tr>\n",
       "      <th>2</th>\n",
       "      <td>11063170.0</td>\n",
       "      <td>252</td>\n",
       "      <td>02</td>\n",
       "      <td>062520208</td>\n",
       "      <td>25350.040</td>\n",
       "      <td>06</td>\n",
       "      <td>08</td>\n",
       "      <td>26721</td>\n",
       "      <td>26723</td>\n",
       "      <td>U</td>\n",
       "      <td>POLYGON ((5608236.390336967 6207306.631047663,...</td>\n",
       "      <td>062520208</td>\n",
       "      <td>06252</td>\n",
       "      <td>ESCOBAR</td>\n",
       "      <td>208.0</td>\n",
       "      <td>0.0</td>\n",
       "    </tr>\n",
       "    <tr>\n",
       "      <th>3</th>\n",
       "      <td>796720.3</td>\n",
       "      <td>252</td>\n",
       "      <td>02</td>\n",
       "      <td>062520201</td>\n",
       "      <td>6843.383</td>\n",
       "      <td>06</td>\n",
       "      <td>01</td>\n",
       "      <td>26743</td>\n",
       "      <td>26743</td>\n",
       "      <td>U</td>\n",
       "      <td>POLYGON ((5611075.149383005 6206034.538516479,...</td>\n",
       "      <td>062520201</td>\n",
       "      <td>06252</td>\n",
       "      <td>ESCOBAR</td>\n",
       "      <td>281.0</td>\n",
       "      <td>0.0</td>\n",
       "    </tr>\n",
       "    <tr>\n",
       "      <th>4</th>\n",
       "      <td>2996825.0</td>\n",
       "      <td>252</td>\n",
       "      <td>02</td>\n",
       "      <td>062520202</td>\n",
       "      <td>8393.760</td>\n",
       "      <td>06</td>\n",
       "      <td>02</td>\n",
       "      <td>26749</td>\n",
       "      <td>26749</td>\n",
       "      <td>U</td>\n",
       "      <td>POLYGON ((5613709.611741914 6205445.958880841,...</td>\n",
       "      <td>062520202</td>\n",
       "      <td>06252</td>\n",
       "      <td>ESCOBAR</td>\n",
       "      <td>426.0</td>\n",
       "      <td>0.0</td>\n",
       "    </tr>\n",
       "  </tbody>\n",
       "</table>\n",
       "</div>"
      ],
      "text/plain": [
       "         AREA DEPTO FRAC       LINK  PERIMETER PROV RADIO  RADPAIS_  \\\n",
       "0  16948780.0   252   01  062520101  26902.490   06    01     26690   \n",
       "1  12351870.0   252   01  062520102  30469.020   06    02     26706   \n",
       "2  11063170.0   252   02  062520208  25350.040   06    08     26721   \n",
       "3    796720.3   252   02  062520201   6843.383   06    01     26743   \n",
       "4   2996825.0   252   02  062520202   8393.760   06    02     26749   \n",
       "\n",
       "   RADPAIS_ID TIPO                                           geometry  \\\n",
       "0       26690    M  POLYGON ((5605573.523703439 6208535.44525929, ...   \n",
       "1       26707    M  POLYGON ((5606597.563514996 6207794.426813126,...   \n",
       "2       26723    U  POLYGON ((5608236.390336967 6207306.631047663,...   \n",
       "3       26743    U  POLYGON ((5611075.149383005 6206034.538516479,...   \n",
       "4       26749    U  POLYGON ((5613709.611741914 6205445.958880841,...   \n",
       "\n",
       "     REDCODE DEPARTAMENTO DEPTO_NAME     pob  densidad  \n",
       "0  062520101        06252    ESCOBAR   597.0       0.0  \n",
       "1  062520102        06252    ESCOBAR  1009.0       0.0  \n",
       "2  062520208        06252    ESCOBAR   208.0       0.0  \n",
       "3  062520201        06252    ESCOBAR   281.0       0.0  \n",
       "4  062520202        06252    ESCOBAR   426.0       0.0  "
      ]
     },
     "execution_count": 79,
     "metadata": {},
     "output_type": "execute_result"
    }
   ],
   "source": [
    "paisBajaDensidad.head()"
   ]
  },
  {
   "cell_type": "code",
   "execution_count": 90,
   "metadata": {
    "collapsed": false
   },
   "outputs": [
    {
     "data": {
      "text/html": [
       "<div>\n",
       "<table border=\"1\" class=\"dataframe\">\n",
       "  <thead>\n",
       "    <tr style=\"text-align: right;\">\n",
       "      <th></th>\n",
       "      <th>coordenadas</th>\n",
       "    </tr>\n",
       "  </thead>\n",
       "  <tbody>\n",
       "    <tr>\n",
       "      <th>0</th>\n",
       "      <td>-63.23964037201355,-37.45716462906551,0.0 -63....</td>\n",
       "    </tr>\n",
       "    <tr>\n",
       "      <th>1</th>\n",
       "      <td>-63.23976119742675,-37.45725926272377,0.0 -63....</td>\n",
       "    </tr>\n",
       "    <tr>\n",
       "      <th>2</th>\n",
       "      <td>-63.23981305454304,-37.460301595881454,0.0 -63...</td>\n",
       "    </tr>\n",
       "    <tr>\n",
       "      <th>3</th>\n",
       "      <td>-63.241806494307596,-37.46015847807085,0.0 -63...</td>\n",
       "    </tr>\n",
       "    <tr>\n",
       "      <th>4</th>\n",
       "      <td>-63.25172350409261,-37.45086428064242,0.0 -63....</td>\n",
       "    </tr>\n",
       "  </tbody>\n",
       "</table>\n",
       "</div>"
      ],
      "text/plain": [
       "                                         coordenadas\n",
       "0  -63.23964037201355,-37.45716462906551,0.0 -63....\n",
       "1  -63.23976119742675,-37.45725926272377,0.0 -63....\n",
       "2  -63.23981305454304,-37.460301595881454,0.0 -63...\n",
       "3  -63.241806494307596,-37.46015847807085,0.0 -63...\n",
       "4  -63.25172350409261,-37.45086428064242,0.0 -63...."
      ]
     },
     "execution_count": 90,
     "metadata": {},
     "output_type": "execute_result"
    }
   ],
   "source": [
    "#http://catalogo.datos.gba.gob.ar/dataviews/232662/manzanas/\n",
    "manzanas = pd.read_csv('/home/pipe/Downloads/manzanas.csv',usecols=[2])\n",
    "manzanas.head()"
   ]
  },
  {
   "cell_type": "code",
   "execution_count": 126,
   "metadata": {
    "collapsed": true
   },
   "outputs": [],
   "source": []
  },
  {
   "cell_type": "code",
   "execution_count": 158,
   "metadata": {
    "collapsed": false
   },
   "outputs": [],
   "source": [
    "#Y es 30s\n",
    "#X es 60s\n",
    "poligonList=[]\n",
    "for i in range(manzanas.shape[0]):\n",
    "    pointList = []\n",
    "    texto = manzanas.coordenadas[i].replace('0.0','').replace(' ','')\n",
    "    lista = str.split(texto,',')\n",
    "\n",
    "    if len(lista)%2>0:\n",
    "        del lista[-1]\n",
    "\n",
    "    for i in range(len(lista)):\n",
    "        if i % 2== 0:\n",
    "            #i es x\n",
    "            #Point(float(row['lon']), float(row['lat']))\n",
    "\n",
    "            pointList.append(geometry.Point(float(lista[i]),float(lista[i+1])))         \n",
    "        else:\n",
    "            pass\n",
    "    coords = [(p.x, p.y) for p in pointList]\n",
    "    poly = Polygon(coords)\n",
    "    poligonList.append(poly)\n",
    "\n",
    "\n",
    "crs = {'init': 'epsg:4326'}\n",
    "geo_df = gpd.GeoDataFrame(manzanas, crs=crs, geometry=poligonList)"
   ]
  },
  {
   "cell_type": "code",
   "execution_count": 162,
   "metadata": {
    "collapsed": false
   },
   "outputs": [],
   "source": [
    "geo_df = geo_df.to_crs(epsg=22185)\n",
    "geo_df.to_file('../dt/carto/manzanas')"
   ]
  },
  {
   "cell_type": "code",
   "execution_count": null,
   "metadata": {
    "collapsed": true
   },
   "outputs": [],
   "source": [
    "#clip las calles solo dentro de los poligonos de baja densidad\n",
    "#para cada poligono, conseguir alguna metrica de densidad de calles polygonizr\n",
    "#"
   ]
  }
 ],
 "metadata": {
  "anaconda-cloud": {},
  "kernelspec": {
   "display_name": "Python 2",
   "language": "python",
   "name": "python2"
  },
  "language_info": {
   "codemirror_mode": {
    "name": "ipython",
    "version": 2
   },
   "file_extension": ".py",
   "mimetype": "text/x-python",
   "name": "python",
   "nbconvert_exporter": "python",
   "pygments_lexer": "ipython2",
   "version": "2.7.13"
  }
 },
 "nbformat": 4,
 "nbformat_minor": 2
}
