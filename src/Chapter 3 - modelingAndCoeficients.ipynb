{
 "cells": [
  {
   "cell_type": "code",
   "execution_count": 1,
   "metadata": {
    "collapsed": false
   },
   "outputs": [
    {
     "name": "stderr",
     "output_type": "stream",
     "text": [
      "/home/pipe/anaconda2/lib/python2.7/site-packages/sklearn/cross_validation.py:44: DeprecationWarning: This module was deprecated in version 0.18 in favor of the model_selection module into which all the refactored classes and functions are moved. Also note that the interface of the new CV iterators are different from that of this module. This module will be removed in 0.20.\n",
      "  \"This module will be removed in 0.20.\", DeprecationWarning)\n"
     ]
    }
   ],
   "source": [
    "#libraries\n",
    "import thesisFunctions\n",
    "import pandas as pd\n",
    "import numpy as np\n",
    "import statsmodels.api as sm\n",
    "from sklearn.linear_model import LinearRegression\n",
    "from sklearn.cross_validation import train_test_split\n",
    "import seaborn as sns\n",
    "sns.set_style('ticks')\n",
    "from statsmodels.graphics.gofplots import qqplot\n",
    "from scipy.stats import normaltest\n",
    "import matplotlib.pyplot as plt\n",
    "plt.rcParams['figure.figsize'] = (16.0, 12.0)\n",
    "\n",
    "%matplotlib inline"
   ]
  },
  {
   "cell_type": "markdown",
   "metadata": {},
   "source": [
    "# Introduccion\n",
    "\n",
    "El proposito de este trabajo es actualizar el indice CAPECO creado por el INDEC, con datos del censo de 2001, con los datos del censo 2010. El modelo subyacente utiliza las siguientes variables para aproximarse al ingreso individual de las personas:\n",
    "\n",
    "* Años de escolaridad primaria (*primary*)\n",
    "* Años de escolaridad secundaria (*secondary*)\n",
    "* Años de escolaridad universitaria (*university*)\n",
    "* Varón entre 14 y 24 años (*male_14to24*)\n",
    "* Varón entre 25 y 34 años (*male_25to34*)\n",
    "* Mujer entre 14 y 24 años (*female_14to24*)\n",
    "* Mujer entre 25 y 34 años (*female_25to34*)\n",
    "* Mujer entre de 35 años o más (*female_35more*)\n",
    "\n",
    "El modelo original incluye la región a la que pertenece la persona (los ingresos varían según la región del país) y si la persona percibía jubilación o pensión. Sin embargo en este trabajo únicamente analizamos el modelo para la región del Aglomerado Gran Buenos Aires y en el censo 2010 no se preguntó en el formulario básico sobre la percepción de jubilación o pensión."
   ]
  },
  {
   "cell_type": "markdown",
   "metadata": {},
   "source": [
    "# El modelo\n",
    "Creamos una tabla de datos con los registros personales de la EPH para el tercer trimestre de 2010, las varibables de interés en la especificación requerida por el modelo y el ponderador. Uno de los requerimientos del modelo es trabajar con el logaritmo del ingreso. Esta variable será nuestra regresor."
   ]
  },
  {
   "cell_type": "code",
   "execution_count": 2,
   "metadata": {
    "collapsed": false,
    "scrolled": true
   },
   "outputs": [
    {
     "data": {
      "text/html": [
       "<div>\n",
       "<table border=\"1\" class=\"dataframe\">\n",
       "  <thead>\n",
       "    <tr style=\"text-align: right;\">\n",
       "      <th></th>\n",
       "      <th>CODUSU</th>\n",
       "      <th>NRO_HOGAR</th>\n",
       "      <th>COMPONENTE</th>\n",
       "      <th>AGLOMERADO</th>\n",
       "      <th>PONDERA</th>\n",
       "      <th>familyRelation</th>\n",
       "      <th>female</th>\n",
       "      <th>age</th>\n",
       "      <th>schoolLevel</th>\n",
       "      <th>finishedYear</th>\n",
       "      <th>...</th>\n",
       "      <th>male_25to34</th>\n",
       "      <th>female_14to24</th>\n",
       "      <th>female_25to34</th>\n",
       "      <th>female_35more</th>\n",
       "      <th>education</th>\n",
       "      <th>education2</th>\n",
       "      <th>age2</th>\n",
       "      <th>id</th>\n",
       "      <th>lnIncome</th>\n",
       "      <th>lnIncomeT</th>\n",
       "    </tr>\n",
       "  </thead>\n",
       "  <tbody>\n",
       "    <tr>\n",
       "      <th>0</th>\n",
       "      <td>302468</td>\n",
       "      <td>1</td>\n",
       "      <td>1</td>\n",
       "      <td>32</td>\n",
       "      <td>1287</td>\n",
       "      <td>1</td>\n",
       "      <td>1</td>\n",
       "      <td>20</td>\n",
       "      <td>7.0</td>\n",
       "      <td>2</td>\n",
       "      <td>...</td>\n",
       "      <td>0</td>\n",
       "      <td>1</td>\n",
       "      <td>0</td>\n",
       "      <td>0</td>\n",
       "      <td>13.0</td>\n",
       "      <td>169.0</td>\n",
       "      <td>400</td>\n",
       "      <td>3024681</td>\n",
       "      <td>0.000000</td>\n",
       "      <td>7.600902</td>\n",
       "    </tr>\n",
       "    <tr>\n",
       "      <th>1</th>\n",
       "      <td>302468</td>\n",
       "      <td>1</td>\n",
       "      <td>2</td>\n",
       "      <td>32</td>\n",
       "      <td>1287</td>\n",
       "      <td>10</td>\n",
       "      <td>1</td>\n",
       "      <td>20</td>\n",
       "      <td>6.0</td>\n",
       "      <td>2</td>\n",
       "      <td>...</td>\n",
       "      <td>0</td>\n",
       "      <td>1</td>\n",
       "      <td>0</td>\n",
       "      <td>0</td>\n",
       "      <td>13.0</td>\n",
       "      <td>169.0</td>\n",
       "      <td>400</td>\n",
       "      <td>3024681</td>\n",
       "      <td>0.000000</td>\n",
       "      <td>7.600902</td>\n",
       "    </tr>\n",
       "    <tr>\n",
       "      <th>2</th>\n",
       "      <td>307861</td>\n",
       "      <td>1</td>\n",
       "      <td>1</td>\n",
       "      <td>32</td>\n",
       "      <td>1674</td>\n",
       "      <td>1</td>\n",
       "      <td>0</td>\n",
       "      <td>42</td>\n",
       "      <td>2.0</td>\n",
       "      <td>1</td>\n",
       "      <td>...</td>\n",
       "      <td>0</td>\n",
       "      <td>0</td>\n",
       "      <td>0</td>\n",
       "      <td>0</td>\n",
       "      <td>7.0</td>\n",
       "      <td>49.0</td>\n",
       "      <td>1764</td>\n",
       "      <td>3078611</td>\n",
       "      <td>8.006368</td>\n",
       "      <td>8.006368</td>\n",
       "    </tr>\n",
       "    <tr>\n",
       "      <th>3</th>\n",
       "      <td>307861</td>\n",
       "      <td>1</td>\n",
       "      <td>2</td>\n",
       "      <td>32</td>\n",
       "      <td>1674</td>\n",
       "      <td>2</td>\n",
       "      <td>1</td>\n",
       "      <td>44</td>\n",
       "      <td>7.0</td>\n",
       "      <td>1</td>\n",
       "      <td>...</td>\n",
       "      <td>0</td>\n",
       "      <td>0</td>\n",
       "      <td>0</td>\n",
       "      <td>1</td>\n",
       "      <td>17.0</td>\n",
       "      <td>289.0</td>\n",
       "      <td>1936</td>\n",
       "      <td>3078611</td>\n",
       "      <td>7.937375</td>\n",
       "      <td>7.937375</td>\n",
       "    </tr>\n",
       "    <tr>\n",
       "      <th>4</th>\n",
       "      <td>307861</td>\n",
       "      <td>1</td>\n",
       "      <td>3</td>\n",
       "      <td>32</td>\n",
       "      <td>1674</td>\n",
       "      <td>3</td>\n",
       "      <td>0</td>\n",
       "      <td>13</td>\n",
       "      <td>4.0</td>\n",
       "      <td>2</td>\n",
       "      <td>...</td>\n",
       "      <td>0</td>\n",
       "      <td>0</td>\n",
       "      <td>0</td>\n",
       "      <td>0</td>\n",
       "      <td>7.0</td>\n",
       "      <td>49.0</td>\n",
       "      <td>169</td>\n",
       "      <td>3078611</td>\n",
       "      <td>0.000000</td>\n",
       "      <td>0.000000</td>\n",
       "    </tr>\n",
       "  </tbody>\n",
       "</table>\n",
       "<p>5 rows × 32 columns</p>\n",
       "</div>"
      ],
      "text/plain": [
       "   CODUSU  NRO_HOGAR  COMPONENTE  AGLOMERADO  PONDERA  familyRelation  female  \\\n",
       "0  302468          1           1          32     1287               1       1   \n",
       "1  302468          1           2          32     1287              10       1   \n",
       "2  307861          1           1          32     1674               1       0   \n",
       "3  307861          1           2          32     1674               2       1   \n",
       "4  307861          1           3          32     1674               3       0   \n",
       "\n",
       "   age  schoolLevel  finishedYear    ...      male_25to34  female_14to24  \\\n",
       "0   20          7.0             2    ...                0              1   \n",
       "1   20          6.0             2    ...                0              1   \n",
       "2   42          2.0             1    ...                0              0   \n",
       "3   44          7.0             1    ...                0              0   \n",
       "4   13          4.0             2    ...                0              0   \n",
       "\n",
       "   female_25to34  female_35more  education  education2  age2       id  \\\n",
       "0              0              0       13.0       169.0   400  3024681   \n",
       "1              0              0       13.0       169.0   400  3024681   \n",
       "2              0              0        7.0        49.0  1764  3078611   \n",
       "3              0              1       17.0       289.0  1936  3078611   \n",
       "4              0              0        7.0        49.0   169  3078611   \n",
       "\n",
       "   lnIncome  lnIncomeT  \n",
       "0  0.000000   7.600902  \n",
       "1  0.000000   7.600902  \n",
       "2  8.006368   8.006368  \n",
       "3  7.937375   7.937375  \n",
       "4  0.000000   0.000000  \n",
       "\n",
       "[5 rows x 32 columns]"
      ]
     },
     "execution_count": 2,
     "metadata": {},
     "output_type": "execute_result"
    }
   ],
   "source": [
    "ind3t10 = pd.read_csv('../dt/t310/ind3t10.csv') \n",
    "ind3t10.head()"
   ]
  },
  {
   "cell_type": "code",
   "execution_count": 3,
   "metadata": {
    "collapsed": false
   },
   "outputs": [],
   "source": [
    "estado = []\n",
    "for i in ind3t10.activity:\n",
    "    if i == 1.0:\n",
    "        estado.append('Ocupado')\n",
    "    elif i == 2.0:\n",
    "        estado.append('Desocupado')\n",
    "    elif i == 3.0:\n",
    "        estado.append('Inactivo')\n",
    "    elif i == 4.0:\n",
    "        estado.append('Menor')\n",
    "    else:\n",
    "        estado.append(np.nan)\n",
    "        \n",
    "ind3t10['estado'] = estado\n",
    "ind3t10['genero'] = ['Mujer' if i==1 else 'Varon' for i in ind3t10.female ]\n"
   ]
  },
  {
   "cell_type": "code",
   "execution_count": 4,
   "metadata": {
    "collapsed": false
   },
   "outputs": [
    {
     "data": {
      "text/plain": [
       "Index([u'CODUSU', u'NRO_HOGAR', u'COMPONENTE', u'AGLOMERADO', u'PONDERA',\n",
       "       u'familyRelation', u'female', u'age', u'schoolLevel', u'finishedYear',\n",
       "       u'lastYear', u'activity', u'empCond', u'unempCond', u'ITF', u'IPCF',\n",
       "       u'P47T', u'P21', u'primary', u'secondary', u'university',\n",
       "       u'male_14to24', u'male_25to34', u'female_14to24', u'female_25to34',\n",
       "       u'female_35more', u'education', u'education2', u'age2', u'id',\n",
       "       u'lnIncome', u'lnIncomeT', u'estado', u'genero'],\n",
       "      dtype='object')"
      ]
     },
     "execution_count": 4,
     "metadata": {},
     "output_type": "execute_result"
    }
   ],
   "source": [
    "ind3t10.columns"
   ]
  },
  {
   "cell_type": "code",
   "execution_count": null,
   "metadata": {
    "collapsed": false
   },
   "outputs": [],
   "source": [
    "dataPlot = ind3t10.loc[:,['CODUSU','PONDERA','female','genero','estado',\n",
    "                          'empCond', 'unempCond','education','age',\n",
    "                          'lnIncome',u'P47T', u'P21',\n",
    "                         u'primary', u'secondary', u'university',\n",
    "       u'male_14to24', u'male_25to34', u'female_14to24', u'female_25to34',\n",
    "       u'female_35more']]"
   ]
  },
  {
   "cell_type": "code",
   "execution_count": null,
   "metadata": {
    "collapsed": true
   },
   "outputs": [],
   "source": [
    "#lnIncome = ind3t10.lnIncome.loc[np.repeat(ind3t10.index.values,ind3t10.PONDERA)]\n",
    "#estado = estado.loc[np.repeat(ind3t10.index.values,ind3t10.PONDERA)]\n",
    "#dataPlot = pd.DataFrame(lnIncome,columns=['lnIncome'])\n",
    "#dataPlot['estado'] = estado"
   ]
  },
  {
   "cell_type": "code",
   "execution_count": null,
   "metadata": {
    "collapsed": false
   },
   "outputs": [],
   "source": [
    "dataPlot=dataPlot.loc[np.repeat(dataPlot.index.values,dataPlot.PONDERA)]"
   ]
  },
  {
   "cell_type": "code",
   "execution_count": null,
   "metadata": {
    "collapsed": false
   },
   "outputs": [],
   "source": [
    "fig, ax = plt.subplots()\n",
    "fig.set_size_inches(8, 6)\n",
    "sns.kdeplot(data=dataPlot.lnIncome, ax=ax)    \n",
    "sns.despine()\n",
    "plt.title(u'Distribución del logaritmo del Ingreso')\n",
    "plt.xlabel('ln Ingreso')\n",
    "ax.legend_.remove()\n",
    "fig.savefig('../img/capitulo3/kdePlotIngreso1.png')\n"
   ]
  },
  {
   "cell_type": "markdown",
   "metadata": {},
   "source": [
    "Numerosos casos registran nulos ingresos 0 y/o actualmente no tienen trabajo. Este modelo basado en el paradigma de capital humano, se sustenta en los retornos que el mercado de trabajo ofrece a la inversión en educación por parte de los individuos. De modo que, solo puede dar cuenta de los ingresos laborales de aquellos que tienen trabajo. Esto implica una limitación a la hora de percibir el conjunto de los ingresos (de los cuales los laborales, si bien una parte importante, constituyen solo una porción). Al mismo tiempo, las personas con trabajo que no perciben ingresos y tienen trabajo constituyen un caso extremo que perjudica la performance del modelo. Puede deberse a que el trabajo es reciente y aún no cobraron el primer salario."
   ]
  },
  {
   "cell_type": "code",
   "execution_count": null,
   "metadata": {
    "collapsed": false
   },
   "outputs": [],
   "source": [
    "fig, ax = plt.subplots()\n",
    "fig.set_size_inches(8, 6)\n",
    "sns.boxplot(x=\"estado\", y=\"lnIncome\", data=dataPlot)\n",
    "sns.despine()\n",
    "plt.title(u'Distribución del logaritmo del Ingreso según condición de actividad')\n",
    "plt.xlabel(u'Condición de actividad')\n",
    "plt.ylabel('ln Ingreso')\n",
    "fig.savefig('../img/capitulo3/kdePlotIngreso2.png')\n"
   ]
  },
  {
   "cell_type": "markdown",
   "metadata": {},
   "source": [
    "Por ello, eliminamos del set de datos que utilizaremos para el modelo a aquellos que no perciben ningun tipo de ingreso o que no se encuentran trabajando."
   ]
  },
  {
   "cell_type": "code",
   "execution_count": 5,
   "metadata": {
    "collapsed": true
   },
   "outputs": [],
   "source": [
    "jobsAndIncome = ((ind3t10.activity==1) & (ind3t10.lnIncome>1))\n",
    "ind3t10Model = ind3t10.copy().loc[jobsAndIncome,:]"
   ]
  },
  {
   "cell_type": "code",
   "execution_count": null,
   "metadata": {
    "collapsed": true
   },
   "outputs": [],
   "source": [
    "jobsAndIncome = ((dataPlot.estado=='Ocupado') & (dataPlot.lnIncome>1))\n",
    "dataPlotModel = dataPlot.copy().loc[jobsAndIncome,:]"
   ]
  },
  {
   "cell_type": "code",
   "execution_count": null,
   "metadata": {
    "collapsed": true
   },
   "outputs": [],
   "source": []
  },
  {
   "cell_type": "code",
   "execution_count": null,
   "metadata": {
    "collapsed": false
   },
   "outputs": [],
   "source": [
    "normal = np.random.normal(loc=dataPlotModel.lnIncome.mean(),\n",
    "                 scale=dataPlotModel.lnIncome.std(),\n",
    "                 size=len(dataPlotModel.lnIncome))\n",
    "\n",
    "fig, ax = plt.subplots()\n",
    "fig.set_size_inches(8, 6)\n",
    "sns.kdeplot(dataPlotModel.lnIncome)\n",
    "sns.kdeplot(normal)\n",
    "sns.despine()\n",
    "plt.title(u'Distribución del logaritmo del Ingreso')\n",
    "ax.legend_.remove()\n",
    "plt.xlabel('ln Ingreso')\n",
    "fig.savefig('../img/capitulo3/kdePlotIngreso3.png')\n"
   ]
  },
  {
   "cell_type": "code",
   "execution_count": null,
   "metadata": {
    "collapsed": false
   },
   "outputs": [],
   "source": [
    "normalSinPon = np.random.normal(loc=ind3t10Model.lnIncome.mean(),\n",
    "                 scale=ind3t10Model.lnIncome.std(),\n",
    "                 size=len(ind3t10Model.lnIncome))\n",
    "\n",
    "fig, ax = plt.subplots()\n",
    "fig.set_size_inches(8, 6)\n",
    "sns.kdeplot(ind3t10Model.lnIncome)\n",
    "sns.kdeplot(normalSinPon)\n",
    "sns.despine()\n",
    "plt.title(u'Distribución del logaritmo del Ingreso')\n",
    "plt.xlabel('ln Ingreso')\n"
   ]
  },
  {
   "cell_type": "code",
   "execution_count": null,
   "metadata": {
    "collapsed": false
   },
   "outputs": [],
   "source": [
    "normaltest(dataPlotModel.lnIncome)"
   ]
  },
  {
   "cell_type": "code",
   "execution_count": null,
   "metadata": {
    "collapsed": false
   },
   "outputs": [],
   "source": [
    "normalP21 = np.random.normal(loc=dataPlotModel.P21.mean(),\n",
    "                 scale=dataPlotModel.P21.std(),\n",
    "                 size=len(dataPlotModel.P21))\n",
    "\n",
    "fig, ax = plt.subplots()\n",
    "fig.set_size_inches(8, 6)\n",
    "sns.kdeplot(dataPlotModel.P21)\n",
    "sns.kdeplot(normalP21)\n",
    "sns.despine()\n",
    "plt.title(u'Distribución del logaritmo del Ingreso')\n",
    "plt.xlabel('ln Ingreso')"
   ]
  },
  {
   "cell_type": "code",
   "execution_count": null,
   "metadata": {
    "collapsed": true
   },
   "outputs": [],
   "source": []
  },
  {
   "cell_type": "code",
   "execution_count": null,
   "metadata": {
    "collapsed": true
   },
   "outputs": [],
   "source": []
  },
  {
   "cell_type": "markdown",
   "metadata": {},
   "source": [
    "La distirbución de la variable se asemeja a una distribución normal, con p-value menor a 5%. Esto mejora la performance del modelo."
   ]
  },
  {
   "cell_type": "code",
   "execution_count": null,
   "metadata": {
    "collapsed": false
   },
   "outputs": [],
   "source": [
    "normaltest(ind3t10Model.lnIncome)"
   ]
  },
  {
   "cell_type": "code",
   "execution_count": null,
   "metadata": {
    "collapsed": false
   },
   "outputs": [],
   "source": [
    "normaltest(dataPlotModel.lnIncome)"
   ]
  },
  {
   "cell_type": "code",
   "execution_count": null,
   "metadata": {
    "collapsed": false
   },
   "outputs": [],
   "source": [
    "dataPlot.head()"
   ]
  },
  {
   "cell_type": "code",
   "execution_count": null,
   "metadata": {
    "collapsed": false
   },
   "outputs": [],
   "source": [
    "dataPlot['salarioVtotal'] = dataPlot.P21.replace(1,0) *1. / dataPlot.P47T"
   ]
  },
  {
   "cell_type": "code",
   "execution_count": null,
   "metadata": {
    "collapsed": false
   },
   "outputs": [],
   "source": [
    "fig, ax = plt.subplots()\n",
    "fig.set_size_inches(8, 6)\n",
    "sns.boxplot(x=\"estado\", y=\"salarioVtotal\", data=dataPlot)\n",
    "sns.despine()\n",
    "plt.title(u'Proporción del ingreso salarial sobre el total según condición de actividad')\n",
    "plt.xlabel(u'Condición de actividad')\n",
    "plt.ylabel(u'Proporción del ingreso salarial sobre el total')\n",
    "fig.savefig('../img/capitulo3/ingresoSalarialVtotal.png')\n"
   ]
  },
  {
   "cell_type": "code",
   "execution_count": null,
   "metadata": {
    "collapsed": false
   },
   "outputs": [],
   "source": [
    "dataPlot.salarioVtotal[dataPlot.estado=='Ocupado'].describe()"
   ]
  },
  {
   "cell_type": "markdown",
   "metadata": {},
   "source": [
    "Siendo las dos variable fundamentales de este modelo la edad, los años de escolaridad y el género, podemos explorar como se comportan estas variables en relación al logaritmo del ingreso. Dado que la EPH utiliza ponderadores, los resultados visuales pueden ser algo engañosos en la medida en que cada punto no representa igual cantidad de casos. "
   ]
  },
  {
   "cell_type": "markdown",
   "metadata": {},
   "source": [
    "## Genero"
   ]
  },
  {
   "cell_type": "code",
   "execution_count": null,
   "metadata": {
    "collapsed": false
   },
   "outputs": [],
   "source": [
    "fig = plt.figure(figsize=(16,6))\n",
    "ax1= fig.add_subplot(1,2,1)\n",
    "ax2= fig.add_subplot(1,2,2)\n",
    "\n",
    "sns.boxplot(x=\"genero\", y=\"lnIncome\", data=dataPlotModel,ax=ax1)\n",
    "sns.boxplot(x=\"genero\", y=\"P21\", data=dataPlotModel,ax=ax2)\n",
    "sns.despine()\n",
    "ax1.set_title(u'Ingreso de la ocupación principal (ln) según género')\n",
    "ax2.set_title(u'Ingreso de la ocupación principal en pesos de 2010 según género')\n",
    "\n",
    "ax1.set_xlabel(u'Género')\n",
    "ax1.set_xlabel(u'Género')\n",
    "ax1.set_ylabel(u'Ingreso de la ocupación principal (ln)')\n",
    "ax2.set_ylabel(u'Ingreso de la ocupación principal en pesos de 2010')\n",
    "\n",
    "\n",
    "fig.savefig('../img/capitulo3/ingresoVgenero.png')"
   ]
  },
  {
   "cell_type": "code",
   "execution_count": null,
   "metadata": {
    "collapsed": false
   },
   "outputs": [],
   "source": [
    "print 'La media del ingreso de la mujer es el %.2f de la del varón (en escala logarítmica)' %\\\n",
    "(dataFem.lnIncome.describe()['mean']/dataMasc.lnIncome.describe()['mean'] * 100)\n",
    "\n",
    "print 'La mediana del ingreso de la mujer es el %.2f de la del varón (en escala logarítmica)' %\\\n",
    "(dataFem.lnIncome.describe()['50%']/dataMasc.lnIncome.describe()['50%'] * 100)"
   ]
  },
  {
   "cell_type": "code",
   "execution_count": null,
   "metadata": {
    "collapsed": false
   },
   "outputs": [],
   "source": [
    "print 'La media del ingreso de la mujer es el %.2f de la del varón ' %\\\n",
    "(dataFem.P21.describe()['mean']/dataMasc.P21.describe()['mean'] * 100)\n",
    "\n",
    "print 'La mediana del ingreso de la mujer es el %.2f de la del varón ' %\\\n",
    "(dataFem.P21.describe()['50%']/dataMasc.P21.describe()['50%'] * 100)"
   ]
  },
  {
   "cell_type": "code",
   "execution_count": null,
   "metadata": {
    "collapsed": true
   },
   "outputs": [],
   "source": [
    "dataMasc = dataPlotModel.loc[dataPlotModel.female==0,:]\n",
    "dataFem = dataPlotModel.loc[dataPlotModel.female==1,:]"
   ]
  },
  {
   "cell_type": "code",
   "execution_count": null,
   "metadata": {
    "collapsed": false
   },
   "outputs": [],
   "source": [
    "\n",
    "#fig, ax = plt.subplots()\n",
    "#fig.set_size_inches(8, 6)\n",
    "#sns.kdeplot(dataMasc.lnIncome)\n",
    "#sns.kdeplot(dataFem.lnIncome)\n",
    "#sns.despine()\n",
    "#plt.title(u'Distribución del logaritmo del Ingreso')\n",
    "#plt.xlabel('ln Ingreso')\n",
    "#fig.savefig('../img/capitulo3/kdePlotIngreso3.png')"
   ]
  },
  {
   "cell_type": "code",
   "execution_count": null,
   "metadata": {
    "collapsed": false
   },
   "outputs": [],
   "source": [
    "'''\n",
    "g = sns.JointGrid(x=\"education\", y=\"lnIncome\", data = dataMasc)  \n",
    "g.plot_joint(sns.regplot, order=2)\n",
    "regline = g.ax_joint.get_lines()[0]\n",
    "regline.set_color('red')\n",
    "regline.set_zorder('5')\n",
    "\n",
    "g.plot_marginals(sns.distplot)\n",
    "g.savefig('../img/capitulo3/ingresoVeduM.png')\n",
    "\n",
    "g = sns.JointGrid(x=\"education\", y=\"lnIncome\", data = dataFem)  \n",
    "g.plot_joint(sns.regplot, order=2)\n",
    "regline = g.ax_joint.get_lines()[0]\n",
    "regline.set_color('red')\n",
    "regline.set_zorder('5')\n",
    "\n",
    "g.plot_marginals(sns.distplot)\n",
    "g.savefig('../img/capitulo3/ingresoVeduF.png')\n",
    "\n",
    "g = sns.JointGrid(x=\"age\", y=\"lnIncome\", data = dataMasc)  \n",
    "g.plot_joint(sns.regplot, order=2)\n",
    "regline = g.ax_joint.get_lines()[0]\n",
    "regline.set_color('red')\n",
    "regline.set_zorder('5')\n",
    "\n",
    "g.plot_marginals(sns.distplot)\n",
    "\n",
    "\n",
    "g.savefig('../img/capitulo3/ingresoVageM.png')\n",
    "\n",
    "g = sns.JointGrid(x=\"age\", y=\"lnIncome\", data = dataFem)  \n",
    "g.plot_joint(sns.regplot, order=2)\n",
    "regline = g.ax_joint.get_lines()[0]\n",
    "regline.set_color('red')\n",
    "regline.set_zorder('5')\n",
    "\n",
    "g.plot_marginals(sns.distplot)\n",
    "\n",
    "g.savefig('../img/capitulo3/ingresoVageF.png')\n",
    "\n",
    "dataPlotModel\n",
    "g = sns.JointGrid(x=\"education\", y=\"lnIncome\", data = dataPlotModel)  \n",
    "g.plot_joint(sns.regplot, order=2)\n",
    "regline = g.ax_joint.get_lines()[0]\n",
    "regline.set_color('red')\n",
    "regline.set_zorder('5')\n",
    "\n",
    "g.plot_marginals(sns.distplot)\n",
    "g.savefig('../img/capitulo3/ingresoVedu.png')\n",
    "\n",
    "g = sns.JointGrid(x=\"age\", y=\"lnIncome\", data = dataPlotModel)  \n",
    "g.plot_joint(sns.regplot, order=2)\n",
    "regline = g.ax_joint.get_lines()[0]\n",
    "regline.set_color('red')\n",
    "regline.set_zorder('5')\n",
    "\n",
    "g.plot_marginals(sns.distplot)\n",
    "\n",
    "g.savefig('../img/capitulo3/ingresoVage.png')\n",
    "'''"
   ]
  },
  {
   "cell_type": "markdown",
   "metadata": {},
   "source": [
    "El comportamiento de la variable es similar (a pesar de una media de ingreso superior en los hombres). A mayor escolarización mayor salario. Pero esta relación no es lineal, sino que cada año de escolaridad de los tramos superiores ofrece mayores retornos que cada año de los tramos inferiores de escolaridad. Así por ejemplo un año adicional de universidad incrementa más el salario que un año adicional de primaria.\n",
    "\n",
    "En lo que corresponde a la edad, parece haber una relación creciente hasta pasados los 30 años. Llegada esa edad hay un amesetamiento por el cual no hay incrementos salariales a partir de la edad, para luego comenzar un proceso descendente (el año que inicia el cambio de tendencia hacia el descenso cambia de acuerdo al género: en las mujeres este proceso parece ser durante los 50s mientras que en los hombres en los 60s, lo que coincide con las diferencias en las edades jubilatorias legales)."
   ]
  },
  {
   "cell_type": "code",
   "execution_count": null,
   "metadata": {
    "collapsed": false
   },
   "outputs": [],
   "source": [
    "listaVariables=['female','education','lnIncome','age']\n",
    "#sns.set(context=\"paper\", font=\"monospace\", font_scale=2)\n",
    "\n",
    "corrmat = dataPlotModel.loc[:,listaVariables].corr()\n",
    "f, ax = plt.subplots(figsize=(10, 8))\n",
    "sns.heatmap(corrmat,\n",
    "            xticklabels = ['Mujer',u'Escolaridad','Ingreso (ln)','Edad'],\n",
    "            yticklabels = ['Mujer',u'Escolaridad','Ingreso (ln)','Edad']\n",
    "           )\n",
    "f.tight_layout()\n",
    "f.savefig('../img/capitulo3/corrMatrix.png')\n"
   ]
  },
  {
   "cell_type": "code",
   "execution_count": null,
   "metadata": {
    "collapsed": false
   },
   "outputs": [],
   "source": [
    "corrmat"
   ]
  },
  {
   "cell_type": "code",
   "execution_count": null,
   "metadata": {
    "collapsed": false
   },
   "outputs": [],
   "source": [
    "sns.boxplot(x=\"genero\", y=\"education\", data=dataPlotModel)\n",
    "\n",
    "sns.despine()\n",
    "plt.title(u'Boxplot de años de escolaridad según género')\n",
    "\n",
    "plt.xlabel(u'Género')\n",
    "plt.ylabel(u'Años de escolaridad')\n",
    "plt.savefig('../img/capitulo3/educVgenero.png')"
   ]
  },
  {
   "cell_type": "code",
   "execution_count": null,
   "metadata": {
    "collapsed": false
   },
   "outputs": [],
   "source": [
    "print 'La media de escolaridad  de la mujer es el %.2f :' %\\\n",
    "(dataFem.education.describe()['mean'])\n",
    "print 'La media de escolaridad  del varon es el %.2f :' %\\\n",
    "(dataMasc.education.describe()['mean'])\n",
    "\n"
   ]
  },
  {
   "cell_type": "code",
   "execution_count": null,
   "metadata": {
    "collapsed": false
   },
   "outputs": [],
   "source": [
    "print 'La mediana de escolaridad  de la mujer es el %.2f :' %\\\n",
    "(dataFem.education.describe()['50%'])\n",
    "print 'La mediana de escolaridad  del varon es el %.2f :' %\\\n",
    "(dataMasc.education.describe()['50%'])"
   ]
  },
  {
   "cell_type": "code",
   "execution_count": null,
   "metadata": {
    "collapsed": false
   },
   "outputs": [],
   "source": [
    "g = sns.JointGrid(x=\"age\", y=\"education\", data = dataPlotModel)  \n",
    "g.plot_joint(sns.regplot, order=1)\n",
    "regline = g.ax_joint.get_lines()[0]\n",
    "regline.set_color('red')\n",
    "regline.set_zorder('5')\n",
    "\n",
    "g.plot_marginals(sns.distplot)\n",
    "g.savefig('../img/capitulo3/educVage.png')\n"
   ]
  },
  {
   "cell_type": "markdown",
   "metadata": {},
   "source": [
    "# El modelo individual\n",
    "\n",
    "A continuación procedemos a correr el modelo para todos los individuos con ingresos y que se encuentren empleados. La performance del mismo es disimil. Si bien por un lado todos los parametros son estadisticamente significativos para cualquier nivel de confianza, el modelo en su ocnjunto alcanza un R2 de solo 27%. Esto quiere decir que este modelo solo puede dar cuenta del 27% de la variabilidad del logaritmo del ingreso. De todos modos es importante recordar que este modelo no considera elementos fundamentales para el ingreso como la cantidad de horas trabajadas o la rama en la que se desempeña cada persona. Diferentes ramas tienen diferentes productividades y por lo tanto pagan diferentes salarios. \n",
    "\n",
    "De todos modos, el objetivo último de este modelo es ofrecer fundamento para los coeficientes del CAPECO. En todo caso veremos al final que capacidad tiene el CAPECO para dar cuenta de la variabilidad del ingreso. \n",
    "\n",
    "En primer lugar, el intercepto da cuenta del ingreso esperado para un hombre adulto de 35 años o más con 0 años de escolaridad en cualquiera de los 3 niveles. Este constituye el caso base o registro con el cual compararemos al resto de los casos.\n",
    "\n",
    "En segundo lugar los coeficientes dan cuenta de una relación Log-Nivel, esto quiere decir, por tomar el ejemplo del primer coeficiente (años de escolaridad primaria), que un año de escolaridad primaria ofrece un incremento de 7.87% en el ingreso. Dicho de otro modo, un hombre adulto de 35 años o más con 1 año de escolaridad, gana un 7.87% más que nuestro caso base (un hombre adulto de 35 años o más con 0 años de escolaridad). Del mismo modo, un año de escolaridad secundaria ofrece un incremento de 8.38% y un año de escolaridad superior ofrece 12.21%. Como es de esperar, los rendimientos no son lineales. Esto quiere decir que en el mercado laboral se valorizan más los años de escolaridad secundaria que los de primaria y los de educación superior a los de secundaria. El supuetso subyacente es que la productividad del trabajo aumenta con la capacitación que ofrece el sistema educativo.\n",
    "\n",
    "En tercer lugar, los parámetros vinculados a la edad para los hombres, actúan como penalidades. Es decir, se supone que la edad conlleva experiencia y con ella mayor productividad. A su vez, el ciclo vital conlleva que los gastos de personas de tramos etarios superiores sean mayores. Es por ello que los hombres entre 14 y 24 años de edad sin años de escolaridad, ganarán un 42,12% menos que el caso base, manteniendo todas las otras variables consideradas en el modelo constantes. A su vez, un hombre entre 25 y 34 años sin años de escolaridad tendrá un ingreso 15,47% menor al del caso registro.    \n",
    "\n",
    "Finalmente, es necesario tomar en consideración el efecto del género conjugado con la edad. En primer lugar, parámetro que da cuenta del efecto del género al comparar una mujer de 35 años o más sin años de escolaridad con nuestro caso base (un hombre de idénticas características), nos dice que dicha mujer tendría un ingreso 58.43% menor. Para los otros tramos de edades, una mujer entre 14 y 24 años dicha diferencia es de un 92.96 % menos y entre 25 y 34 años es de 62.64% menos. "
   ]
  },
  {
   "cell_type": "code",
   "execution_count": 6,
   "metadata": {
    "collapsed": false
   },
   "outputs": [
    {
     "name": "stdout",
     "output_type": "stream",
     "text": [
      "\\begin{center}\n",
      "\\begin{tabular}{lclc}\n",
      "\\toprule\n",
      "\\textbf{Dep. Variable:}    &        y         & \\textbf{  R-squared:         } &     0.274   \\\\\n",
      "\\textbf{Model:}            &       WLS        & \\textbf{  Adj. R-squared:    } &     0.272   \\\\\n",
      "\\textbf{Method:}           &  Least Squares   & \\textbf{  F-statistic:       } &     169.6   \\\\\n",
      "\\textbf{Date:}             & Sun, 16 Jul 2017 & \\textbf{  Prob (F-statistic):} & 1.71e-243   \\\\\n",
      "\\textbf{Time:}             &     11:09:27     & \\textbf{  Log-Likelihood:    } &   -4124.3   \\\\\n",
      "\\textbf{No. Observations:} &        3608      & \\textbf{  AIC:               } &     8267.   \\\\\n",
      "\\textbf{Df Residuals:}     &        3599      & \\textbf{  BIC:               } &     8322.   \\\\\n",
      "\\textbf{Df Model:}         &           8      & \\textbf{                     } &             \\\\\n",
      "\\bottomrule\n",
      "\\end{tabular}\n",
      "\\begin{tabular}{lccccc}\n",
      "               & \\textbf{coef} & \\textbf{std err} & \\textbf{t} & \\textbf{P$>$$|$t$|$} & \\textbf{[95.0\\% Conf. Int.]}  \\\\\n",
      "\\midrule\n",
      "\\textbf{const} &       6.8690  &        0.093     &    73.616  &         0.000        &         6.686     7.052       \\\\\n",
      "\\textbf{x1}    &       0.0787  &        0.014     &     5.585  &         0.000        &         0.051     0.106       \\\\\n",
      "\\textbf{x2}    &       0.0838  &        0.007     &    12.030  &         0.000        &         0.070     0.098       \\\\\n",
      "\\textbf{x3}    &       0.1221  &        0.008     &    15.897  &         0.000        &         0.107     0.137       \\\\\n",
      "\\textbf{x4}    &      -0.4212  &        0.050     &    -8.364  &         0.000        &        -0.520    -0.322       \\\\\n",
      "\\textbf{x5}    &      -0.1547  &        0.039     &    -4.004  &         0.000        &        -0.230    -0.079       \\\\\n",
      "\\textbf{x6}    &      -0.9296  &        0.058     &   -15.926  &         0.000        &        -1.044    -0.815       \\\\\n",
      "\\textbf{x7}    &      -0.6264  &        0.043     &   -14.521  &         0.000        &        -0.711    -0.542       \\\\\n",
      "\\textbf{x8}    &      -0.5843  &        0.032     &   -17.988  &         0.000        &        -0.648    -0.521       \\\\\n",
      "\\bottomrule\n",
      "\\end{tabular}\n",
      "\\begin{tabular}{lclc}\n",
      "\\textbf{Omnibus:}       & 667.857 & \\textbf{  Durbin-Watson:     } &    1.855  \\\\\n",
      "\\textbf{Prob(Omnibus):} &   0.000 & \\textbf{  Jarque-Bera (JB):  } & 1520.071  \\\\\n",
      "\\textbf{Skew:}          &  -1.050 & \\textbf{  Prob(JB):          } &     0.00  \\\\\n",
      "\\textbf{Kurtosis:}      &   5.387 & \\textbf{  Cond. No.          } &     60.5  \\\\\n",
      "\\bottomrule\n",
      "\\end{tabular}\n",
      "%\\caption{WLS Regression Results}\n",
      "\\end{center}\n",
      "                            WLS Regression Results                            \n",
      "==============================================================================\n",
      "Dep. Variable:                      y   R-squared:                       0.274\n",
      "Model:                            WLS   Adj. R-squared:                  0.272\n",
      "Method:                 Least Squares   F-statistic:                     169.6\n",
      "Date:                Sun, 16 Jul 2017   Prob (F-statistic):          1.71e-243\n",
      "Time:                        11:09:27   Log-Likelihood:                -4124.3\n",
      "No. Observations:                3608   AIC:                             8267.\n",
      "Df Residuals:                    3599   BIC:                             8322.\n",
      "Df Model:                           8                                         \n",
      "Covariance Type:            nonrobust                                         \n",
      "==============================================================================\n",
      "                 coef    std err          t      P>|t|      [95.0% Conf. Int.]\n",
      "------------------------------------------------------------------------------\n",
      "const          6.8690      0.093     73.616      0.000         6.686     7.052\n",
      "x1             0.0787      0.014      5.585      0.000         0.051     0.106\n",
      "x2             0.0838      0.007     12.030      0.000         0.070     0.098\n",
      "x3             0.1221      0.008     15.897      0.000         0.107     0.137\n",
      "x4            -0.4212      0.050     -8.364      0.000        -0.520    -0.322\n",
      "x5            -0.1547      0.039     -4.004      0.000        -0.230    -0.079\n",
      "x6            -0.9296      0.058    -15.926      0.000        -1.044    -0.815\n",
      "x7            -0.6264      0.043    -14.521      0.000        -0.711    -0.542\n",
      "x8            -0.5843      0.032    -17.988      0.000        -0.648    -0.521\n",
      "==============================================================================\n",
      "Omnibus:                      667.857   Durbin-Watson:                   1.855\n",
      "Prob(Omnibus):                  0.000   Jarque-Bera (JB):             1520.071\n",
      "Skew:                          -1.050   Prob(JB):                         0.00\n",
      "Kurtosis:                       5.387   Cond. No.                         60.5\n",
      "==============================================================================\n",
      "\n",
      "Warnings:\n",
      "[1] Standard Errors assume that the covariance matrix of the errors is correctly specified.\n",
      "x1: primary\n",
      "x2: secondary\n",
      "x3: university\n",
      "x4: male_14to24\n",
      "x5: male_25to34\n",
      "x6: female_14to24\n",
      "x7: female_25to34\n",
      "x8: female_35more\n"
     ]
    }
   ],
   "source": [
    "model = thesisFunctions.runModel(ind3t10Model, income = 'lnIncome', variables= [\n",
    "        'primary','secondary','university',\n",
    "        'male_14to24','male_25to34',\n",
    "        'female_14to24', 'female_25to34', 'female_35more'])"
   ]
  },
  {
   "cell_type": "markdown",
   "metadata": {},
   "source": [
    "## Evaluacion de la regresion"
   ]
  },
  {
   "cell_type": "code",
   "execution_count": 7,
   "metadata": {
    "collapsed": false
   },
   "outputs": [],
   "source": [
    "variables= [\n",
    "        'primary','secondary','university',\n",
    "        'male_14to24','male_25to34',\n",
    "        'female_14to24', 'female_25to34', 'female_35more']\n",
    "    \n",
    "X = sm.add_constant(ind3t10Model.copy().loc[:,variables].values)\n",
    "ind3t10Model['predicted'] = model.predict(X)"
   ]
  },
  {
   "cell_type": "code",
   "execution_count": null,
   "metadata": {
    "collapsed": false
   },
   "outputs": [],
   "source": [
    "dataPlotModel.head()"
   ]
  },
  {
   "cell_type": "code",
   "execution_count": null,
   "metadata": {
    "collapsed": true
   },
   "outputs": [],
   "source": [
    "variables= [\n",
    "        'primary','secondary','university',\n",
    "        'male_14to24','male_25to34',\n",
    "        'female_14to24', 'female_25to34', 'female_35more']\n",
    "    \n",
    "X = sm.add_constant(dataPlotModel.copy().loc[:,variables].values)\n",
    "dataPlotModel['predicted'] = model.predict(X)"
   ]
  },
  {
   "cell_type": "code",
   "execution_count": null,
   "metadata": {
    "collapsed": false
   },
   "outputs": [],
   "source": [
    "sns.lmplot(x = 'lnIncome', y ='predicted',data=dataPlotModel,line_kws={'color':'red'})\n",
    "plt.xlabel('Ln Ingreso')\n",
    "plt.ylabel('Ln Ingreso Estimado')\n",
    "plt.savefig('../img/capitulo3/predictedIncomeVincome.png')"
   ]
  },
  {
   "cell_type": "markdown",
   "metadata": {},
   "source": [
    "el ln del ingreso y los residuos tienne una relacion lineal"
   ]
  },
  {
   "cell_type": "code",
   "execution_count": null,
   "metadata": {
    "collapsed": false
   },
   "outputs": [],
   "source": [
    "dataPlotModel['resid'] = dataPlotModel.lnIncome - dataPlotModel.predicted \n",
    "print 'media ponderada de los residuos:%.4f'%np.average(dataPlotModel.resid)\n"
   ]
  },
  {
   "cell_type": "code",
   "execution_count": null,
   "metadata": {
    "collapsed": false
   },
   "outputs": [],
   "source": []
  },
  {
   "cell_type": "code",
   "execution_count": 50,
   "metadata": {
    "collapsed": true
   },
   "outputs": [],
   "source": []
  },
  {
   "cell_type": "code",
   "execution_count": null,
   "metadata": {
    "collapsed": false
   },
   "outputs": [],
   "source": [
    "#https://www.coursera.org/learn/regression-modeling-practice/lecture/q2xna/python-lesson-4-evaluating-model-fit-pt-1\n",
    "qqplot(model.resid,line='r')"
   ]
  },
  {
   "cell_type": "markdown",
   "metadata": {},
   "source": [
    "Este grafico muestra que los residuos no estan perfectamente distribuidos segun la normal"
   ]
  },
  {
   "cell_type": "code",
   "execution_count": null,
   "metadata": {
    "collapsed": false
   },
   "outputs": [],
   "source": [
    "dataPlotModel['residStd'] = (dataPlotModel.resid - dataPlotModel.resid.mean()) / dataPlotModel.resid.std()"
   ]
  },
  {
   "cell_type": "code",
   "execution_count": null,
   "metadata": {
    "collapsed": false
   },
   "outputs": [],
   "source": [
    "normaltest(dataPlotModel.resid)"
   ]
  },
  {
   "cell_type": "code",
   "execution_count": null,
   "metadata": {
    "collapsed": false
   },
   "outputs": [],
   "source": [
    "sns.lmplot(x = 'predicted', y ='residStd',data=dataPlotModel,line_kws={'color':'red'})\n",
    "plt.xlabel('Residuos estandarizados')\n",
    "plt.ylabel('Ln Ingreso Estimado')\n",
    "plt.savefig('../img/capitulo3/residuosVestimado.png')"
   ]
  },
  {
   "cell_type": "markdown",
   "metadata": {},
   "source": [
    "Como se puede observar, los residuos se mueven mayoritariamente dentro de la franja de los 2 desvíos estándar, con algunos casos moviendose entre los 2 y 3 desvíos estándar per debajo de la media, indicando una sobreestimacion en nuestro modelo "
   ]
  },
  {
   "cell_type": "markdown",
   "metadata": {},
   "source": [
    "# Creacion de coeficientes de CAPECO\n",
    "\n",
    "A partir de estos parámetros del modelo, es necesario recontruir los coeficientes del CAPECO en base al modelo con datos actualizados con la EPH del tercer trimestre de 2010."
   ]
  },
  {
   "cell_type": "markdown",
   "metadata": {},
   "source": [
    "## Condicion de Percepcion CP - Genero y edad\n",
    "\n",
    "Consideramos la base de los inactivos como coeficiente 0 y el caso base (hombre de 35 años o más sin educación) como 1. A partir de esto establemos las proporciones contra el caso base en base a género y edad. Esto quiere decir que se evalúa el valor que predice el modelo subyacente al CAPECO para el caso base y luego se compara contra el valor predicho por el modelo para otro caso donde se modifique una variable en una unidad. Es decir, se compara un hombre de 35 años o más sin educación contra un hombre entre 25 y 34 años sin educación para obtener el coeficiente para ese grupo etario. Como se puede observar, se registran las mismas \"penalidades\" que en el modelo subyacente y que se encontraban en el CAPECO en base a datos de 2001.  \n",
    "\n",
    "Obviamente el caso registro siempre vale 1, sin importar el año. En lo que refiere a las penalidades por juventud mientras que para el tramo de hombres entre 25 y 34 años no cambió mucho de 2001 a 2010 (0.83 contra 0.86), el tramo de 14 a 24 disminutó dichas penalidades (de 0.46 a 0.65). Mayores estudios sobre el mercado de trabajo son necesarios, aunque es posible arriesgar una hipótesis. El mercado dinámico de las nuevas tecnologías que creció enormemente en esa década, donde se puede presumir mejor adaptación por parte de los jóvenes en general, puede haber actuado como contrapeso a la falta de experiencia. \n",
    "\n",
    "La situación de la mujer es paradógica. Comparar a la mujer de 35 años o más sin educación (lo que nos daría el efecto aislado del género más allá del efecto de la edad) muestra que la situación de la mujer empeoró levemente de 2001 a 2010 (pasa de tener un coeficiente de 0.60 a 0.56). Lo mismo sucede con el tramo de edad de 25 a 34 años (de 0.54 a 0.53). Sin embargo, al igual que con los hombres, existe una mejora para el tramo de 14 a 24 con respecto al 2001 (de 0.33 a 0.39)."
   ]
  },
  {
   "cell_type": "code",
   "execution_count": 8,
   "metadata": {
    "collapsed": false
   },
   "outputs": [
    {
     "data": {
      "text/html": [
       "<div>\n",
       "<table border=\"1\" class=\"dataframe\">\n",
       "  <thead>\n",
       "    <tr style=\"text-align: right;\">\n",
       "      <th></th>\n",
       "      <th>categoria</th>\n",
       "      <th>cp</th>\n",
       "    </tr>\n",
       "  </thead>\n",
       "  <tbody>\n",
       "    <tr>\n",
       "      <th>0</th>\n",
       "      <td>inactivo</td>\n",
       "      <td>0.000000</td>\n",
       "    </tr>\n",
       "    <tr>\n",
       "      <th>1</th>\n",
       "      <td>varon35mas</td>\n",
       "      <td>1.000000</td>\n",
       "    </tr>\n",
       "    <tr>\n",
       "      <th>2</th>\n",
       "      <td>varon34-25</td>\n",
       "      <td>0.856660</td>\n",
       "    </tr>\n",
       "    <tr>\n",
       "      <th>3</th>\n",
       "      <td>varon24-14</td>\n",
       "      <td>0.656251</td>\n",
       "    </tr>\n",
       "    <tr>\n",
       "      <th>4</th>\n",
       "      <td>mujer35mas</td>\n",
       "      <td>0.557506</td>\n",
       "    </tr>\n",
       "    <tr>\n",
       "      <th>5</th>\n",
       "      <td>mujer34-25</td>\n",
       "      <td>0.534522</td>\n",
       "    </tr>\n",
       "    <tr>\n",
       "      <th>6</th>\n",
       "      <td>mujer24-14</td>\n",
       "      <td>0.394728</td>\n",
       "    </tr>\n",
       "  </tbody>\n",
       "</table>\n",
       "</div>"
      ],
      "text/plain": [
       "    categoria        cp\n",
       "0    inactivo  0.000000\n",
       "1  varon35mas  1.000000\n",
       "2  varon34-25  0.856660\n",
       "3  varon24-14  0.656251\n",
       "4  mujer35mas  0.557506\n",
       "5  mujer34-25  0.534522\n",
       "6  mujer24-14  0.394728"
      ]
     },
     "execution_count": 8,
     "metadata": {},
     "output_type": "execute_result"
    }
   ],
   "source": [
    "#varones\n",
    "varon35 = thesisFunctions.predictModelo(modelo=model, primary = 0, secondary = 0, university = 0,\n",
    "                  male_14to24 = 0, male_25to34 = 0,\n",
    "                  female_14to24 = 0, female_25to34 = 0, female_35tomore = 0)\n",
    "\n",
    "varon34 = thesisFunctions.predictModelo(modelo=model, primary = 0, secondary = 0, university = 0,\n",
    "                  male_14to24 = 0, male_25to34 = 1,\n",
    "                  female_14to24 = 0, female_25to34 = 0, female_35tomore = 0)\n",
    "\n",
    "varon24 = thesisFunctions.predictModelo(modelo=model, primary = 0, secondary = 0, university = 0,\n",
    "                  male_14to24 = 1, male_25to34 = 0,\n",
    "                  female_14to24 = 0, female_25to34 = 0, female_35tomore = 0)\n",
    "#mujeres\n",
    "mujer35 = thesisFunctions.predictModelo(modelo=model, primary = 0, secondary = 0, university = 0,\n",
    "                  male_14to24 = 0, male_25to34 = 0,\n",
    "                  female_14to24 = 0, female_25to34 = 0, female_35tomore = 1)\n",
    "mujer34 = thesisFunctions.predictModelo(modelo=model, primary = 0, secondary = 0, university = 0,\n",
    "                  male_14to24 = 0, male_25to34 = 0,\n",
    "                  female_14to24 = 0, female_25to34 = 1, female_35tomore = 0)\n",
    "mujer24 = thesisFunctions.predictModelo(modelo=model, primary = 0, secondary = 0, university = 0,\n",
    "                  male_14to24 = 0, male_25to34 = 0,\n",
    "                  female_14to24 = 1, female_25to34 = 0, female_35tomore = 0)\n",
    "#CP table data\n",
    "cp = pd.DataFrame({'categoria':['inactivo','varon35mas','varon34-25','varon24-14','mujer35mas','mujer34-25','mujer24-14'],\n",
    "                  'cp':[0,varon35/varon35,varon34/varon35,varon24/varon35,mujer35/varon35,mujer34/varon35,mujer24/varon35]})\n",
    "\n",
    "cp"
   ]
  },
  {
   "cell_type": "code",
   "execution_count": 9,
   "metadata": {
    "collapsed": false
   },
   "outputs": [],
   "source": [
    "cp.to_csv('../dt/capecoCoefTables/cp.csv',index=False)\n"
   ]
  },
  {
   "cell_type": "code",
   "execution_count": 10,
   "metadata": {
    "collapsed": false
   },
   "outputs": [
    {
     "data": {
      "text/html": [
       "<div>\n",
       "<table border=\"1\" class=\"dataframe\">\n",
       "  <thead>\n",
       "    <tr style=\"text-align: right;\">\n",
       "      <th></th>\n",
       "      <th>activity</th>\n",
       "      <th>age</th>\n",
       "      <th>female</th>\n",
       "      <th>CP</th>\n",
       "    </tr>\n",
       "  </thead>\n",
       "  <tbody>\n",
       "    <tr>\n",
       "      <th>0</th>\n",
       "      <td>3.0</td>\n",
       "      <td>20</td>\n",
       "      <td>1</td>\n",
       "      <td>0.000000</td>\n",
       "    </tr>\n",
       "    <tr>\n",
       "      <th>1</th>\n",
       "      <td>3.0</td>\n",
       "      <td>20</td>\n",
       "      <td>1</td>\n",
       "      <td>0.000000</td>\n",
       "    </tr>\n",
       "    <tr>\n",
       "      <th>2</th>\n",
       "      <td>1.0</td>\n",
       "      <td>42</td>\n",
       "      <td>0</td>\n",
       "      <td>1.000000</td>\n",
       "    </tr>\n",
       "    <tr>\n",
       "      <th>3</th>\n",
       "      <td>1.0</td>\n",
       "      <td>44</td>\n",
       "      <td>1</td>\n",
       "      <td>0.557506</td>\n",
       "    </tr>\n",
       "    <tr>\n",
       "      <th>4</th>\n",
       "      <td>3.0</td>\n",
       "      <td>13</td>\n",
       "      <td>0</td>\n",
       "      <td>0.000000</td>\n",
       "    </tr>\n",
       "    <tr>\n",
       "      <th>5</th>\n",
       "      <td>4.0</td>\n",
       "      <td>8</td>\n",
       "      <td>0</td>\n",
       "      <td>0.000000</td>\n",
       "    </tr>\n",
       "    <tr>\n",
       "      <th>6</th>\n",
       "      <td>3.0</td>\n",
       "      <td>68</td>\n",
       "      <td>1</td>\n",
       "      <td>0.000000</td>\n",
       "    </tr>\n",
       "    <tr>\n",
       "      <th>7</th>\n",
       "      <td>1.0</td>\n",
       "      <td>38</td>\n",
       "      <td>0</td>\n",
       "      <td>1.000000</td>\n",
       "    </tr>\n",
       "    <tr>\n",
       "      <th>8</th>\n",
       "      <td>1.0</td>\n",
       "      <td>28</td>\n",
       "      <td>1</td>\n",
       "      <td>0.534522</td>\n",
       "    </tr>\n",
       "    <tr>\n",
       "      <th>9</th>\n",
       "      <td>1.0</td>\n",
       "      <td>63</td>\n",
       "      <td>0</td>\n",
       "      <td>1.000000</td>\n",
       "    </tr>\n",
       "  </tbody>\n",
       "</table>\n",
       "</div>"
      ],
      "text/plain": [
       "   activity  age  female        CP\n",
       "0       3.0   20       1  0.000000\n",
       "1       3.0   20       1  0.000000\n",
       "2       1.0   42       0  1.000000\n",
       "3       1.0   44       1  0.557506\n",
       "4       3.0   13       0  0.000000\n",
       "5       4.0    8       0  0.000000\n",
       "6       3.0   68       1  0.000000\n",
       "7       1.0   38       0  1.000000\n",
       "8       1.0   28       1  0.534522\n",
       "9       1.0   63       0  1.000000"
      ]
     },
     "execution_count": 10,
     "metadata": {},
     "output_type": "execute_result"
    }
   ],
   "source": [
    "#chequeo de datos\n",
    "ind3t10['CP'] = [thesisFunctions.coeficientePercepcion(ind3t10.iloc[i,:]) for i in range(ind3t10.shape[0])]\n",
    "ind3t10.loc[:,['activity','age','female','CP']].head(10)"
   ]
  },
  {
   "cell_type": "markdown",
   "metadata": {},
   "source": [
    "## Valorización de los anios de Escolaridad - VAE\n",
    "\n",
    "En el trabajo del CAPECO de 2001, se decidió utilizar primaria completa como caso base de referencia. Esto quiere decir, que 7 años de escolaridad producían un valor de 7 para el coeficiente del VAE. Se mantuvo el mismo criterio en este trabajo con el fin de mantener la comparabilidad. Se evaluó el modelo para el caso base de un hombre de 25 años o más con 7 años de escolaridad primaria y se normalizó a 7. Luego se comparó este valor con los diferentes valores de años de escolaridad de los diferentes niveles. \n",
    "\n",
    "La existencia de diversos sistemas educativos en diferentes provincias, así como las variaciones en los mismos hacia el interior de una provincia entre 2001 y 2010 hace realmente dificultoso el computar una variable como años de escolaridad. De todos modos se optó por una forma que intente compatibilizar los sistemas, aún sabiendo que puede haber dificultades en el cómputo. Por ejemplo una persona con séptimo grado de primaria completo en 2001 no es lo mismo que una persona con 7 de EGB, o 1 de la secundaria de la nueva Ley de Educación que conviertió esos niveles en secundaria. En todo caso, el código fuente de la función que realizó dichos cómputos contiene explícitamente las decisiones tomadas y se encuentra disponible en el repositorio para escrutinio de todo aquel que quiera explorar este problema."
   ]
  },
  {
   "cell_type": "markdown",
   "metadata": {},
   "source": [
    "### Primaria\n"
   ]
  },
  {
   "cell_type": "code",
   "execution_count": 11,
   "metadata": {
    "collapsed": false
   },
   "outputs": [],
   "source": [
    "primariaCompleta = thesisFunctions.predictModelo(modelo=model, primary = 7, secondary = 0, university = 0,\n",
    "                  male_14to24 = 0, male_25to34 = 0,\n",
    "                  female_14to24 = 0, female_25to34 = 0, female_35tomore = 0)\n",
    "\n",
    "primaria6 = thesisFunctions.predictModelo(modelo=model, primary = 6, secondary = 0, university = 0,\n",
    "                  male_14to24 = 0, male_25to34 = 0,\n",
    "                  female_14to24 = 0, female_25to34 = 0, female_35tomore = 0)\n",
    "\n",
    "primaria5 = thesisFunctions.predictModelo(modelo=model, primary = 5, secondary = 0, university = 0,\n",
    "                  male_14to24 = 0, male_25to34 = 0,\n",
    "                  female_14to24 = 0, female_25to34 = 0, female_35tomore = 0)\n",
    "\n",
    "primaria4 = thesisFunctions.predictModelo(modelo=model, primary = 4, secondary = 0, university = 0,\n",
    "                  male_14to24 = 0, male_25to34 = 0,\n",
    "                  female_14to24 = 0, female_25to34 = 0, female_35tomore = 0)\n",
    "\n",
    "primaria3 = thesisFunctions.predictModelo(modelo=model, primary = 3, secondary = 0, university = 0,\n",
    "                  male_14to24 = 0, male_25to34 = 0,\n",
    "                  female_14to24 = 0, female_25to34 = 0, female_35tomore = 0)\n",
    "\n",
    "primaria2 = thesisFunctions.predictModelo(modelo=model, primary = 2, secondary = 0, university = 0,\n",
    "                  male_14to24 = 0, male_25to34 = 0,\n",
    "                  female_14to24 = 0, female_25to34 = 0, female_35tomore = 0)\n",
    "\n",
    "primaria1 = thesisFunctions.predictModelo(modelo=model, primary = 1, secondary = 0, university = 0,\n",
    "                  male_14to24 = 0, male_25to34 = 0,\n",
    "                  female_14to24 = 0, female_25to34 = 0, female_35tomore = 0)\n"
   ]
  },
  {
   "cell_type": "code",
   "execution_count": 12,
   "metadata": {
    "collapsed": false
   },
   "outputs": [
    {
     "data": {
      "text/plain": [
       "6.4702534177439226"
      ]
     },
     "execution_count": 12,
     "metadata": {},
     "output_type": "execute_result"
    }
   ],
   "source": [
    "primaria6 / primariaCompleta * 7"
   ]
  },
  {
   "cell_type": "code",
   "execution_count": 13,
   "metadata": {
    "collapsed": false
   },
   "outputs": [
    {
     "name": "stdout",
     "output_type": "stream",
     "text": [
      "primaria6: 6.47025341774\n",
      "primaria5: 5.9805970414\n",
      "primaria4: 5.52799692104\n",
      "primaria3: 5.10964871024\n",
      "primaria2: 4.72296029012\n",
      "primaria1: 4.36553570844\n",
      "sin educacion: 4.03516033397\n"
     ]
    }
   ],
   "source": [
    "print 'primaria6:', primaria6 * 7 / primariaCompleta\n",
    "print 'primaria5:', primaria5 * 7 / primariaCompleta\n",
    "print 'primaria4:', primaria4 * 7 / primariaCompleta\n",
    "print 'primaria3:', primaria3 * 7 / primariaCompleta\n",
    "print 'primaria2:', primaria2 * 7 / primariaCompleta\n",
    "print 'primaria1:', primaria1 * 7 / primariaCompleta\n",
    "print 'sin educacion:', varon35 * 7 / primariaCompleta"
   ]
  },
  {
   "cell_type": "markdown",
   "metadata": {},
   "source": [
    "### Secundaria"
   ]
  },
  {
   "cell_type": "code",
   "execution_count": 14,
   "metadata": {
    "collapsed": false
   },
   "outputs": [],
   "source": [
    "secundaria1 =  thesisFunctions.predictModelo(modelo=model, primary = 7, secondary = 1, university = 0,\n",
    "                  male_14to24 = 0, male_25to34 = 0,\n",
    "                  female_14to24 = 0, female_25to34 = 0, female_35tomore = 0)\n",
    "\n",
    "secundaria2 =  thesisFunctions.predictModelo(modelo=model, primary = 7, secondary = 2, university = 0,\n",
    "                  male_14to24 = 0, male_25to34 = 0,\n",
    "                  female_14to24 = 0, female_25to34 = 0, female_35tomore = 0)\n",
    "secundaria3 =  thesisFunctions.predictModelo(modelo=model, primary = 7, secondary = 3, university = 0,\n",
    "                  male_14to24 = 0, male_25to34 = 0,\n",
    "                  female_14to24 = 0, female_25to34 = 0, female_35tomore = 0)\n",
    "secundaria4 =  thesisFunctions.predictModelo(modelo=model, primary = 7, secondary = 4, university = 0,\n",
    "                  male_14to24 = 0, male_25to34 = 0,\n",
    "                  female_14to24 = 0, female_25to34 = 0, female_35tomore = 0)\n",
    "secundaria5 =  thesisFunctions.predictModelo(modelo=model, primary = 7, secondary = 5, university = 0,\n",
    "                  male_14to24 = 0, male_25to34 = 0,\n",
    "                  female_14to24 = 0, female_25to34 = 0, female_35tomore = 0)"
   ]
  },
  {
   "cell_type": "code",
   "execution_count": 15,
   "metadata": {
    "collapsed": false
   },
   "outputs": [
    {
     "name": "stdout",
     "output_type": "stream",
     "text": [
      "secundaria1: 7.61216472993\n",
      "secundaria2: 8.27786455365\n",
      "secundaria3: 9.00178122777\n",
      "secundaria4: 9.78900593836\n",
      "secundaria5: 10.6450751064\n"
     ]
    }
   ],
   "source": [
    "print 'secundaria1:', secundaria1 * 7 / primariaCompleta\n",
    "print 'secundaria2:', secundaria2 * 7 / primariaCompleta\n",
    "print 'secundaria3:', secundaria3 * 7 / primariaCompleta\n",
    "print 'secundaria4:', secundaria4 * 7 / primariaCompleta\n",
    "print 'secundaria5:', secundaria5 * 7 / primariaCompleta\n"
   ]
  },
  {
   "cell_type": "markdown",
   "metadata": {},
   "source": [
    "### Universidad"
   ]
  },
  {
   "cell_type": "code",
   "execution_count": 16,
   "metadata": {
    "collapsed": true
   },
   "outputs": [],
   "source": [
    "univ1 =  thesisFunctions.predictModelo(modelo=model, primary = 7, secondary = 5, university = 1,\n",
    "                  male_14to24 = 0, male_25to34 = 0,\n",
    "                  female_14to24 = 0, female_25to34 = 0, female_35tomore = 0)\n",
    "univ2 =  thesisFunctions.predictModelo(modelo=model, primary = 7, secondary = 5, university = 2,\n",
    "                  male_14to24 = 0, male_25to34 = 0,\n",
    "                  female_14to24 = 0, female_25to34 = 0, female_35tomore = 0)\n",
    "univ3 =  thesisFunctions.predictModelo(modelo=model, primary = 7, secondary = 5, university = 3,\n",
    "                  male_14to24 = 0, male_25to34 = 0,\n",
    "                  female_14to24 = 0, female_25to34 = 0, female_35tomore = 0)\n",
    "univ4 =  thesisFunctions.predictModelo(modelo=model, primary = 7, secondary = 5, university = 4,\n",
    "                  male_14to24 = 0, male_25to34 = 0,\n",
    "                  female_14to24 = 0, female_25to34 = 0, female_35tomore = 0)\n",
    "univ5 =  thesisFunctions.predictModelo(modelo=model, primary = 7, secondary = 5, university = 5,\n",
    "                  male_14to24 = 0, male_25to34 = 0,\n",
    "                  female_14to24 = 0, female_25to34 = 0, female_35tomore = 0)"
   ]
  },
  {
   "cell_type": "code",
   "execution_count": 17,
   "metadata": {
    "collapsed": false
   },
   "outputs": [
    {
     "name": "stdout",
     "output_type": "stream",
     "text": [
      "universidad1: 12.0272157636\n",
      "universidad2: 13.5888115\n",
      "universidad3: 15.3531624951\n",
      "universidad4: 17.346594189\n",
      "universidad5: 19.5988500775\n"
     ]
    }
   ],
   "source": [
    "print 'universidad1:', univ1 * 7 / primariaCompleta\n",
    "print 'universidad2:', univ2 * 7 / primariaCompleta\n",
    "print 'universidad3:', univ3 * 7 / primariaCompleta\n",
    "print 'universidad4:', univ4 * 7 / primariaCompleta\n",
    "print 'universidad5:', univ5 * 7 / primariaCompleta"
   ]
  },
  {
   "cell_type": "code",
   "execution_count": 18,
   "metadata": {
    "collapsed": false
   },
   "outputs": [
    {
     "data": {
      "text/html": [
       "<div>\n",
       "<table border=\"1\" class=\"dataframe\">\n",
       "  <thead>\n",
       "    <tr style=\"text-align: right;\">\n",
       "      <th></th>\n",
       "      <th>VAE</th>\n",
       "      <th>aniosAprobados</th>\n",
       "    </tr>\n",
       "  </thead>\n",
       "  <tbody>\n",
       "    <tr>\n",
       "      <th>0</th>\n",
       "      <td>4.035160</td>\n",
       "      <td>0</td>\n",
       "    </tr>\n",
       "    <tr>\n",
       "      <th>1</th>\n",
       "      <td>4.365536</td>\n",
       "      <td>1</td>\n",
       "    </tr>\n",
       "    <tr>\n",
       "      <th>2</th>\n",
       "      <td>4.722960</td>\n",
       "      <td>2</td>\n",
       "    </tr>\n",
       "    <tr>\n",
       "      <th>3</th>\n",
       "      <td>5.109649</td>\n",
       "      <td>3</td>\n",
       "    </tr>\n",
       "    <tr>\n",
       "      <th>4</th>\n",
       "      <td>5.527997</td>\n",
       "      <td>4</td>\n",
       "    </tr>\n",
       "    <tr>\n",
       "      <th>5</th>\n",
       "      <td>5.980597</td>\n",
       "      <td>5</td>\n",
       "    </tr>\n",
       "    <tr>\n",
       "      <th>6</th>\n",
       "      <td>6.470253</td>\n",
       "      <td>6</td>\n",
       "    </tr>\n",
       "    <tr>\n",
       "      <th>7</th>\n",
       "      <td>7.000000</td>\n",
       "      <td>7</td>\n",
       "    </tr>\n",
       "    <tr>\n",
       "      <th>8</th>\n",
       "      <td>7.612165</td>\n",
       "      <td>8</td>\n",
       "    </tr>\n",
       "    <tr>\n",
       "      <th>9</th>\n",
       "      <td>8.277865</td>\n",
       "      <td>9</td>\n",
       "    </tr>\n",
       "    <tr>\n",
       "      <th>10</th>\n",
       "      <td>9.001781</td>\n",
       "      <td>10</td>\n",
       "    </tr>\n",
       "    <tr>\n",
       "      <th>11</th>\n",
       "      <td>9.789006</td>\n",
       "      <td>11</td>\n",
       "    </tr>\n",
       "    <tr>\n",
       "      <th>12</th>\n",
       "      <td>10.645075</td>\n",
       "      <td>12</td>\n",
       "    </tr>\n",
       "    <tr>\n",
       "      <th>13</th>\n",
       "      <td>12.027216</td>\n",
       "      <td>13</td>\n",
       "    </tr>\n",
       "    <tr>\n",
       "      <th>14</th>\n",
       "      <td>13.588811</td>\n",
       "      <td>14</td>\n",
       "    </tr>\n",
       "    <tr>\n",
       "      <th>15</th>\n",
       "      <td>15.353162</td>\n",
       "      <td>15</td>\n",
       "    </tr>\n",
       "    <tr>\n",
       "      <th>16</th>\n",
       "      <td>17.346594</td>\n",
       "      <td>16</td>\n",
       "    </tr>\n",
       "    <tr>\n",
       "      <th>17</th>\n",
       "      <td>19.598850</td>\n",
       "      <td>17</td>\n",
       "    </tr>\n",
       "  </tbody>\n",
       "</table>\n",
       "</div>"
      ],
      "text/plain": [
       "          VAE  aniosAprobados\n",
       "0    4.035160               0\n",
       "1    4.365536               1\n",
       "2    4.722960               2\n",
       "3    5.109649               3\n",
       "4    5.527997               4\n",
       "5    5.980597               5\n",
       "6    6.470253               6\n",
       "7    7.000000               7\n",
       "8    7.612165               8\n",
       "9    8.277865               9\n",
       "10   9.001781              10\n",
       "11   9.789006              11\n",
       "12  10.645075              12\n",
       "13  12.027216              13\n",
       "14  13.588811              14\n",
       "15  15.353162              15\n",
       "16  17.346594              16\n",
       "17  19.598850              17"
      ]
     },
     "execution_count": 18,
     "metadata": {},
     "output_type": "execute_result"
    }
   ],
   "source": [
    "vae = pd.DataFrame({'aniosAprobados':range(18),\n",
    "                   'VAE':[varon35 * 7 / primariaCompleta,\n",
    "primaria1 * 7 / primariaCompleta,\n",
    "primaria2 * 7 / primariaCompleta,\n",
    "primaria3 * 7 / primariaCompleta,\n",
    "primaria4 * 7 / primariaCompleta,\n",
    "primaria5 * 7 / primariaCompleta,\n",
    "primaria6 * 7 / primariaCompleta,\n",
    "7,\n",
    "secundaria1 * 7 / primariaCompleta,\n",
    "secundaria2 * 7 / primariaCompleta,\n",
    "secundaria3 * 7 / primariaCompleta,\n",
    "secundaria4 * 7 / primariaCompleta,\n",
    "secundaria5 * 7 / primariaCompleta,\n",
    "univ1 * 7 / primariaCompleta,\n",
    "univ2 * 7 / primariaCompleta,\n",
    "univ3 * 7 / primariaCompleta,\n",
    "univ4 * 7 / primariaCompleta,\n",
    "univ5 * 7 / primariaCompleta]})\n",
    "vae.to_csv('../dt/capecoCoefTables/vae.csv',index=False)\n",
    "\n",
    "vae"
   ]
  },
  {
   "cell_type": "markdown",
   "metadata": {},
   "source": [
    "El rango para la primaria no parece haber sufrido muchas modificaciones. Varía entre 7 y 4. Para la secundaria, mientras que en 2001 variaba entre 7 y 11,1, en 2010 varía entre 7 y 10,6. Finalmente para la universidad, el valor máximo que registraba en 2001 era de 21.2 y en 2010 es de 19.6. \n",
    "\n",
    "Se podría decir que el mercado laboral no valoriza tanto los estudios universitarios como antes o que en todo caso se han vuelto un nuevo estándar para el mercado laboral. Quizás si se extendiese el análisis de los años de escolaridad hacia los postgrados, se observaría alguna variación positiva. "
   ]
  },
  {
   "cell_type": "code",
   "execution_count": 19,
   "metadata": {
    "collapsed": false
   },
   "outputs": [
    {
     "data": {
      "text/html": [
       "<div>\n",
       "<table border=\"1\" class=\"dataframe\">\n",
       "  <thead>\n",
       "    <tr style=\"text-align: right;\">\n",
       "      <th></th>\n",
       "      <th>CODUSU</th>\n",
       "      <th>NRO_HOGAR</th>\n",
       "      <th>COMPONENTE</th>\n",
       "      <th>AGLOMERADO</th>\n",
       "      <th>PONDERA</th>\n",
       "      <th>familyRelation</th>\n",
       "      <th>female</th>\n",
       "      <th>age</th>\n",
       "      <th>schoolLevel</th>\n",
       "      <th>finishedYear</th>\n",
       "      <th>...</th>\n",
       "      <th>education2</th>\n",
       "      <th>age2</th>\n",
       "      <th>id</th>\n",
       "      <th>lnIncome</th>\n",
       "      <th>lnIncomeT</th>\n",
       "      <th>estado</th>\n",
       "      <th>genero</th>\n",
       "      <th>CP</th>\n",
       "      <th>VAE</th>\n",
       "      <th>aniosAprobados</th>\n",
       "    </tr>\n",
       "  </thead>\n",
       "  <tbody>\n",
       "    <tr>\n",
       "      <th>0</th>\n",
       "      <td>302468</td>\n",
       "      <td>1</td>\n",
       "      <td>1</td>\n",
       "      <td>32</td>\n",
       "      <td>1287</td>\n",
       "      <td>1</td>\n",
       "      <td>1</td>\n",
       "      <td>20</td>\n",
       "      <td>7.0</td>\n",
       "      <td>2</td>\n",
       "      <td>...</td>\n",
       "      <td>169.0</td>\n",
       "      <td>400</td>\n",
       "      <td>3024681</td>\n",
       "      <td>0.000000</td>\n",
       "      <td>7.600902</td>\n",
       "      <td>Inactivo</td>\n",
       "      <td>Mujer</td>\n",
       "      <td>0.000000</td>\n",
       "      <td>12.027216</td>\n",
       "      <td>13</td>\n",
       "    </tr>\n",
       "    <tr>\n",
       "      <th>1</th>\n",
       "      <td>302468</td>\n",
       "      <td>1</td>\n",
       "      <td>2</td>\n",
       "      <td>32</td>\n",
       "      <td>1287</td>\n",
       "      <td>10</td>\n",
       "      <td>1</td>\n",
       "      <td>20</td>\n",
       "      <td>6.0</td>\n",
       "      <td>2</td>\n",
       "      <td>...</td>\n",
       "      <td>169.0</td>\n",
       "      <td>400</td>\n",
       "      <td>3024681</td>\n",
       "      <td>0.000000</td>\n",
       "      <td>7.600902</td>\n",
       "      <td>Inactivo</td>\n",
       "      <td>Mujer</td>\n",
       "      <td>0.000000</td>\n",
       "      <td>12.027216</td>\n",
       "      <td>13</td>\n",
       "    </tr>\n",
       "    <tr>\n",
       "      <th>2</th>\n",
       "      <td>307861</td>\n",
       "      <td>1</td>\n",
       "      <td>1</td>\n",
       "      <td>32</td>\n",
       "      <td>1674</td>\n",
       "      <td>1</td>\n",
       "      <td>0</td>\n",
       "      <td>42</td>\n",
       "      <td>2.0</td>\n",
       "      <td>1</td>\n",
       "      <td>...</td>\n",
       "      <td>49.0</td>\n",
       "      <td>1764</td>\n",
       "      <td>3078611</td>\n",
       "      <td>8.006368</td>\n",
       "      <td>8.006368</td>\n",
       "      <td>Ocupado</td>\n",
       "      <td>Varon</td>\n",
       "      <td>1.000000</td>\n",
       "      <td>7.000000</td>\n",
       "      <td>7</td>\n",
       "    </tr>\n",
       "    <tr>\n",
       "      <th>3</th>\n",
       "      <td>307861</td>\n",
       "      <td>1</td>\n",
       "      <td>2</td>\n",
       "      <td>32</td>\n",
       "      <td>1674</td>\n",
       "      <td>2</td>\n",
       "      <td>1</td>\n",
       "      <td>44</td>\n",
       "      <td>7.0</td>\n",
       "      <td>1</td>\n",
       "      <td>...</td>\n",
       "      <td>289.0</td>\n",
       "      <td>1936</td>\n",
       "      <td>3078611</td>\n",
       "      <td>7.937375</td>\n",
       "      <td>7.937375</td>\n",
       "      <td>Ocupado</td>\n",
       "      <td>Mujer</td>\n",
       "      <td>0.557506</td>\n",
       "      <td>19.598850</td>\n",
       "      <td>17</td>\n",
       "    </tr>\n",
       "    <tr>\n",
       "      <th>4</th>\n",
       "      <td>307861</td>\n",
       "      <td>1</td>\n",
       "      <td>3</td>\n",
       "      <td>32</td>\n",
       "      <td>1674</td>\n",
       "      <td>3</td>\n",
       "      <td>0</td>\n",
       "      <td>13</td>\n",
       "      <td>4.0</td>\n",
       "      <td>2</td>\n",
       "      <td>...</td>\n",
       "      <td>49.0</td>\n",
       "      <td>169</td>\n",
       "      <td>3078611</td>\n",
       "      <td>0.000000</td>\n",
       "      <td>0.000000</td>\n",
       "      <td>Inactivo</td>\n",
       "      <td>Varon</td>\n",
       "      <td>0.000000</td>\n",
       "      <td>7.000000</td>\n",
       "      <td>7</td>\n",
       "    </tr>\n",
       "  </tbody>\n",
       "</table>\n",
       "<p>5 rows × 37 columns</p>\n",
       "</div>"
      ],
      "text/plain": [
       "   CODUSU  NRO_HOGAR  COMPONENTE  AGLOMERADO  PONDERA  familyRelation  female  \\\n",
       "0  302468          1           1          32     1287               1       1   \n",
       "1  302468          1           2          32     1287              10       1   \n",
       "2  307861          1           1          32     1674               1       0   \n",
       "3  307861          1           2          32     1674               2       1   \n",
       "4  307861          1           3          32     1674               3       0   \n",
       "\n",
       "   age  schoolLevel  finishedYear       ...        education2  age2       id  \\\n",
       "0   20          7.0             2       ...             169.0   400  3024681   \n",
       "1   20          6.0             2       ...             169.0   400  3024681   \n",
       "2   42          2.0             1       ...              49.0  1764  3078611   \n",
       "3   44          7.0             1       ...             289.0  1936  3078611   \n",
       "4   13          4.0             2       ...              49.0   169  3078611   \n",
       "\n",
       "   lnIncome  lnIncomeT    estado  genero        CP        VAE  aniosAprobados  \n",
       "0  0.000000   7.600902  Inactivo   Mujer  0.000000  12.027216              13  \n",
       "1  0.000000   7.600902  Inactivo   Mujer  0.000000  12.027216              13  \n",
       "2  8.006368   8.006368   Ocupado   Varon  1.000000   7.000000               7  \n",
       "3  7.937375   7.937375   Ocupado   Mujer  0.557506  19.598850              17  \n",
       "4  0.000000   0.000000  Inactivo   Varon  0.000000   7.000000               7  \n",
       "\n",
       "[5 rows x 37 columns]"
      ]
     },
     "execution_count": 19,
     "metadata": {},
     "output_type": "execute_result"
    }
   ],
   "source": [
    "ind3t10 = pd.merge(ind3t10,vae,left_on='education',right_on='aniosAprobados',how='left')\n",
    "ind3t10.head()"
   ]
  },
  {
   "cell_type": "markdown",
   "metadata": {},
   "source": [
    "## Adulto Equivalente\n",
    "\n",
    "Para la variación del Adulto Equivalente no se hizo más que tomar la nueva tabla provista por INDEC en base a la ENGHO más reciente "
   ]
  },
  {
   "cell_type": "code",
   "execution_count": 20,
   "metadata": {
    "collapsed": false
   },
   "outputs": [
    {
     "data": {
      "text/html": [
       "<div>\n",
       "<table border=\"1\" class=\"dataframe\">\n",
       "  <thead>\n",
       "    <tr style=\"text-align: right;\">\n",
       "      <th></th>\n",
       "      <th>CODUSU</th>\n",
       "      <th>NRO_HOGAR</th>\n",
       "      <th>COMPONENTE</th>\n",
       "      <th>AGLOMERADO</th>\n",
       "      <th>PONDERA</th>\n",
       "      <th>familyRelation</th>\n",
       "      <th>female</th>\n",
       "      <th>age</th>\n",
       "      <th>schoolLevel</th>\n",
       "      <th>finishedYear</th>\n",
       "      <th>...</th>\n",
       "      <th>education2</th>\n",
       "      <th>age2</th>\n",
       "      <th>id</th>\n",
       "      <th>lnIncome</th>\n",
       "      <th>lnIncomeT</th>\n",
       "      <th>estado</th>\n",
       "      <th>genero</th>\n",
       "      <th>CP</th>\n",
       "      <th>VAE</th>\n",
       "      <th>aniosAprobados</th>\n",
       "    </tr>\n",
       "  </thead>\n",
       "  <tbody>\n",
       "    <tr>\n",
       "      <th>0</th>\n",
       "      <td>302468</td>\n",
       "      <td>1</td>\n",
       "      <td>1</td>\n",
       "      <td>32</td>\n",
       "      <td>1287</td>\n",
       "      <td>1</td>\n",
       "      <td>1</td>\n",
       "      <td>20</td>\n",
       "      <td>7.0</td>\n",
       "      <td>2</td>\n",
       "      <td>...</td>\n",
       "      <td>169.0</td>\n",
       "      <td>400</td>\n",
       "      <td>3024681</td>\n",
       "      <td>0.000000</td>\n",
       "      <td>7.600902</td>\n",
       "      <td>Inactivo</td>\n",
       "      <td>Mujer</td>\n",
       "      <td>0.000000</td>\n",
       "      <td>12.027216</td>\n",
       "      <td>13</td>\n",
       "    </tr>\n",
       "    <tr>\n",
       "      <th>1</th>\n",
       "      <td>302468</td>\n",
       "      <td>1</td>\n",
       "      <td>2</td>\n",
       "      <td>32</td>\n",
       "      <td>1287</td>\n",
       "      <td>10</td>\n",
       "      <td>1</td>\n",
       "      <td>20</td>\n",
       "      <td>6.0</td>\n",
       "      <td>2</td>\n",
       "      <td>...</td>\n",
       "      <td>169.0</td>\n",
       "      <td>400</td>\n",
       "      <td>3024681</td>\n",
       "      <td>0.000000</td>\n",
       "      <td>7.600902</td>\n",
       "      <td>Inactivo</td>\n",
       "      <td>Mujer</td>\n",
       "      <td>0.000000</td>\n",
       "      <td>12.027216</td>\n",
       "      <td>13</td>\n",
       "    </tr>\n",
       "    <tr>\n",
       "      <th>2</th>\n",
       "      <td>307861</td>\n",
       "      <td>1</td>\n",
       "      <td>1</td>\n",
       "      <td>32</td>\n",
       "      <td>1674</td>\n",
       "      <td>1</td>\n",
       "      <td>0</td>\n",
       "      <td>42</td>\n",
       "      <td>2.0</td>\n",
       "      <td>1</td>\n",
       "      <td>...</td>\n",
       "      <td>49.0</td>\n",
       "      <td>1764</td>\n",
       "      <td>3078611</td>\n",
       "      <td>8.006368</td>\n",
       "      <td>8.006368</td>\n",
       "      <td>Ocupado</td>\n",
       "      <td>Varon</td>\n",
       "      <td>1.000000</td>\n",
       "      <td>7.000000</td>\n",
       "      <td>7</td>\n",
       "    </tr>\n",
       "    <tr>\n",
       "      <th>3</th>\n",
       "      <td>307861</td>\n",
       "      <td>1</td>\n",
       "      <td>2</td>\n",
       "      <td>32</td>\n",
       "      <td>1674</td>\n",
       "      <td>2</td>\n",
       "      <td>1</td>\n",
       "      <td>44</td>\n",
       "      <td>7.0</td>\n",
       "      <td>1</td>\n",
       "      <td>...</td>\n",
       "      <td>289.0</td>\n",
       "      <td>1936</td>\n",
       "      <td>3078611</td>\n",
       "      <td>7.937375</td>\n",
       "      <td>7.937375</td>\n",
       "      <td>Ocupado</td>\n",
       "      <td>Mujer</td>\n",
       "      <td>0.557506</td>\n",
       "      <td>19.598850</td>\n",
       "      <td>17</td>\n",
       "    </tr>\n",
       "    <tr>\n",
       "      <th>4</th>\n",
       "      <td>307861</td>\n",
       "      <td>1</td>\n",
       "      <td>3</td>\n",
       "      <td>32</td>\n",
       "      <td>1674</td>\n",
       "      <td>3</td>\n",
       "      <td>0</td>\n",
       "      <td>13</td>\n",
       "      <td>4.0</td>\n",
       "      <td>2</td>\n",
       "      <td>...</td>\n",
       "      <td>49.0</td>\n",
       "      <td>169</td>\n",
       "      <td>3078611</td>\n",
       "      <td>0.000000</td>\n",
       "      <td>0.000000</td>\n",
       "      <td>Inactivo</td>\n",
       "      <td>Varon</td>\n",
       "      <td>0.000000</td>\n",
       "      <td>7.000000</td>\n",
       "      <td>7</td>\n",
       "    </tr>\n",
       "  </tbody>\n",
       "</table>\n",
       "<p>5 rows × 37 columns</p>\n",
       "</div>"
      ],
      "text/plain": [
       "   CODUSU  NRO_HOGAR  COMPONENTE  AGLOMERADO  PONDERA  familyRelation  female  \\\n",
       "0  302468          1           1          32     1287               1       1   \n",
       "1  302468          1           2          32     1287              10       1   \n",
       "2  307861          1           1          32     1674               1       0   \n",
       "3  307861          1           2          32     1674               2       1   \n",
       "4  307861          1           3          32     1674               3       0   \n",
       "\n",
       "   age  schoolLevel  finishedYear       ...        education2  age2       id  \\\n",
       "0   20          7.0             2       ...             169.0   400  3024681   \n",
       "1   20          6.0             2       ...             169.0   400  3024681   \n",
       "2   42          2.0             1       ...              49.0  1764  3078611   \n",
       "3   44          7.0             1       ...             289.0  1936  3078611   \n",
       "4   13          4.0             2       ...              49.0   169  3078611   \n",
       "\n",
       "   lnIncome  lnIncomeT    estado  genero        CP        VAE  aniosAprobados  \n",
       "0  0.000000   7.600902  Inactivo   Mujer  0.000000  12.027216              13  \n",
       "1  0.000000   7.600902  Inactivo   Mujer  0.000000  12.027216              13  \n",
       "2  8.006368   8.006368   Ocupado   Varon  1.000000   7.000000               7  \n",
       "3  7.937375   7.937375   Ocupado   Mujer  0.557506  19.598850              17  \n",
       "4  0.000000   0.000000  Inactivo   Varon  0.000000   7.000000               7  \n",
       "\n",
       "[5 rows x 37 columns]"
      ]
     },
     "execution_count": 20,
     "metadata": {},
     "output_type": "execute_result"
    }
   ],
   "source": [
    "ind3t10.head()"
   ]
  },
  {
   "cell_type": "code",
   "execution_count": 21,
   "metadata": {
    "collapsed": false
   },
   "outputs": [],
   "source": [
    "ind3t10['AE'] = [thesisFunctions.adultoEquivalente(ind3t10.iloc[i,:]) for i in range(ind3t10.shape[0])]"
   ]
  },
  {
   "cell_type": "code",
   "execution_count": 22,
   "metadata": {
    "collapsed": false
   },
   "outputs": [
    {
     "data": {
      "text/html": [
       "<div>\n",
       "<table border=\"1\" class=\"dataframe\">\n",
       "  <thead>\n",
       "    <tr style=\"text-align: right;\">\n",
       "      <th></th>\n",
       "      <th>CODUSU</th>\n",
       "      <th>NRO_HOGAR</th>\n",
       "      <th>COMPONENTE</th>\n",
       "      <th>AGLOMERADO</th>\n",
       "      <th>PONDERA</th>\n",
       "      <th>familyRelation</th>\n",
       "      <th>female</th>\n",
       "      <th>age</th>\n",
       "      <th>schoolLevel</th>\n",
       "      <th>finishedYear</th>\n",
       "      <th>...</th>\n",
       "      <th>age2</th>\n",
       "      <th>id</th>\n",
       "      <th>lnIncome</th>\n",
       "      <th>lnIncomeT</th>\n",
       "      <th>estado</th>\n",
       "      <th>genero</th>\n",
       "      <th>CP</th>\n",
       "      <th>VAE</th>\n",
       "      <th>aniosAprobados</th>\n",
       "      <th>AE</th>\n",
       "    </tr>\n",
       "  </thead>\n",
       "  <tbody>\n",
       "    <tr>\n",
       "      <th>0</th>\n",
       "      <td>302468</td>\n",
       "      <td>1</td>\n",
       "      <td>1</td>\n",
       "      <td>32</td>\n",
       "      <td>1287</td>\n",
       "      <td>1</td>\n",
       "      <td>1</td>\n",
       "      <td>20</td>\n",
       "      <td>7.0</td>\n",
       "      <td>2</td>\n",
       "      <td>...</td>\n",
       "      <td>400</td>\n",
       "      <td>3024681</td>\n",
       "      <td>0.000000</td>\n",
       "      <td>7.600902</td>\n",
       "      <td>Inactivo</td>\n",
       "      <td>Mujer</td>\n",
       "      <td>0.000000</td>\n",
       "      <td>12.027216</td>\n",
       "      <td>13</td>\n",
       "      <td>0.76</td>\n",
       "    </tr>\n",
       "    <tr>\n",
       "      <th>1</th>\n",
       "      <td>302468</td>\n",
       "      <td>1</td>\n",
       "      <td>2</td>\n",
       "      <td>32</td>\n",
       "      <td>1287</td>\n",
       "      <td>10</td>\n",
       "      <td>1</td>\n",
       "      <td>20</td>\n",
       "      <td>6.0</td>\n",
       "      <td>2</td>\n",
       "      <td>...</td>\n",
       "      <td>400</td>\n",
       "      <td>3024681</td>\n",
       "      <td>0.000000</td>\n",
       "      <td>7.600902</td>\n",
       "      <td>Inactivo</td>\n",
       "      <td>Mujer</td>\n",
       "      <td>0.000000</td>\n",
       "      <td>12.027216</td>\n",
       "      <td>13</td>\n",
       "      <td>0.76</td>\n",
       "    </tr>\n",
       "    <tr>\n",
       "      <th>2</th>\n",
       "      <td>307861</td>\n",
       "      <td>1</td>\n",
       "      <td>1</td>\n",
       "      <td>32</td>\n",
       "      <td>1674</td>\n",
       "      <td>1</td>\n",
       "      <td>0</td>\n",
       "      <td>42</td>\n",
       "      <td>2.0</td>\n",
       "      <td>1</td>\n",
       "      <td>...</td>\n",
       "      <td>1764</td>\n",
       "      <td>3078611</td>\n",
       "      <td>8.006368</td>\n",
       "      <td>8.006368</td>\n",
       "      <td>Ocupado</td>\n",
       "      <td>Varon</td>\n",
       "      <td>1.000000</td>\n",
       "      <td>7.000000</td>\n",
       "      <td>7</td>\n",
       "      <td>1.00</td>\n",
       "    </tr>\n",
       "    <tr>\n",
       "      <th>3</th>\n",
       "      <td>307861</td>\n",
       "      <td>1</td>\n",
       "      <td>2</td>\n",
       "      <td>32</td>\n",
       "      <td>1674</td>\n",
       "      <td>2</td>\n",
       "      <td>1</td>\n",
       "      <td>44</td>\n",
       "      <td>7.0</td>\n",
       "      <td>1</td>\n",
       "      <td>...</td>\n",
       "      <td>1936</td>\n",
       "      <td>3078611</td>\n",
       "      <td>7.937375</td>\n",
       "      <td>7.937375</td>\n",
       "      <td>Ocupado</td>\n",
       "      <td>Mujer</td>\n",
       "      <td>0.557506</td>\n",
       "      <td>19.598850</td>\n",
       "      <td>17</td>\n",
       "      <td>0.77</td>\n",
       "    </tr>\n",
       "    <tr>\n",
       "      <th>4</th>\n",
       "      <td>307861</td>\n",
       "      <td>1</td>\n",
       "      <td>3</td>\n",
       "      <td>32</td>\n",
       "      <td>1674</td>\n",
       "      <td>3</td>\n",
       "      <td>0</td>\n",
       "      <td>13</td>\n",
       "      <td>4.0</td>\n",
       "      <td>2</td>\n",
       "      <td>...</td>\n",
       "      <td>169</td>\n",
       "      <td>3078611</td>\n",
       "      <td>0.000000</td>\n",
       "      <td>0.000000</td>\n",
       "      <td>Inactivo</td>\n",
       "      <td>Varon</td>\n",
       "      <td>0.000000</td>\n",
       "      <td>7.000000</td>\n",
       "      <td>7</td>\n",
       "      <td>0.90</td>\n",
       "    </tr>\n",
       "  </tbody>\n",
       "</table>\n",
       "<p>5 rows × 38 columns</p>\n",
       "</div>"
      ],
      "text/plain": [
       "   CODUSU  NRO_HOGAR  COMPONENTE  AGLOMERADO  PONDERA  familyRelation  female  \\\n",
       "0  302468          1           1          32     1287               1       1   \n",
       "1  302468          1           2          32     1287              10       1   \n",
       "2  307861          1           1          32     1674               1       0   \n",
       "3  307861          1           2          32     1674               2       1   \n",
       "4  307861          1           3          32     1674               3       0   \n",
       "\n",
       "   age  schoolLevel  finishedYear  ...   age2       id  lnIncome  lnIncomeT  \\\n",
       "0   20          7.0             2  ...    400  3024681  0.000000   7.600902   \n",
       "1   20          6.0             2  ...    400  3024681  0.000000   7.600902   \n",
       "2   42          2.0             1  ...   1764  3078611  8.006368   8.006368   \n",
       "3   44          7.0             1  ...   1936  3078611  7.937375   7.937375   \n",
       "4   13          4.0             2  ...    169  3078611  0.000000   0.000000   \n",
       "\n",
       "     estado  genero        CP        VAE  aniosAprobados    AE  \n",
       "0  Inactivo   Mujer  0.000000  12.027216              13  0.76  \n",
       "1  Inactivo   Mujer  0.000000  12.027216              13  0.76  \n",
       "2   Ocupado   Varon  1.000000   7.000000               7  1.00  \n",
       "3   Ocupado   Mujer  0.557506  19.598850              17  0.77  \n",
       "4  Inactivo   Varon  0.000000   7.000000               7  0.90  \n",
       "\n",
       "[5 rows x 38 columns]"
      ]
     },
     "execution_count": 22,
     "metadata": {},
     "output_type": "execute_result"
    }
   ],
   "source": [
    "ind3t10.head()"
   ]
  },
  {
   "cell_type": "code",
   "execution_count": 23,
   "metadata": {
    "collapsed": false
   },
   "outputs": [
    {
     "data": {
      "text/html": [
       "<div>\n",
       "<table border=\"1\" class=\"dataframe\">\n",
       "  <thead>\n",
       "    <tr style=\"text-align: right;\">\n",
       "      <th></th>\n",
       "      <th>AE</th>\n",
       "      <th>age</th>\n",
       "      <th>female</th>\n",
       "    </tr>\n",
       "  </thead>\n",
       "  <tbody>\n",
       "    <tr>\n",
       "      <th>0</th>\n",
       "      <td>0.76</td>\n",
       "      <td>20</td>\n",
       "      <td>1</td>\n",
       "    </tr>\n",
       "    <tr>\n",
       "      <th>1</th>\n",
       "      <td>0.76</td>\n",
       "      <td>20</td>\n",
       "      <td>1</td>\n",
       "    </tr>\n",
       "    <tr>\n",
       "      <th>2</th>\n",
       "      <td>1.00</td>\n",
       "      <td>42</td>\n",
       "      <td>0</td>\n",
       "    </tr>\n",
       "    <tr>\n",
       "      <th>3</th>\n",
       "      <td>0.77</td>\n",
       "      <td>44</td>\n",
       "      <td>1</td>\n",
       "    </tr>\n",
       "    <tr>\n",
       "      <th>4</th>\n",
       "      <td>0.90</td>\n",
       "      <td>13</td>\n",
       "      <td>0</td>\n",
       "    </tr>\n",
       "  </tbody>\n",
       "</table>\n",
       "</div>"
      ],
      "text/plain": [
       "     AE  age  female\n",
       "0  0.76   20       1\n",
       "1  0.76   20       1\n",
       "2  1.00   42       0\n",
       "3  0.77   44       1\n",
       "4  0.90   13       0"
      ]
     },
     "execution_count": 23,
     "metadata": {},
     "output_type": "execute_result"
    }
   ],
   "source": [
    "ind3t10.loc[~(ind3t10.AE.isnull()),['AE','age','female']].head()"
   ]
  },
  {
   "cell_type": "code",
   "execution_count": null,
   "metadata": {
    "collapsed": true
   },
   "outputs": [],
   "source": []
  },
  {
   "cell_type": "markdown",
   "metadata": {},
   "source": [
    "# Reproducir nuevo CAPECO"
   ]
  },
  {
   "cell_type": "code",
   "execution_count": 24,
   "metadata": {
    "collapsed": true
   },
   "outputs": [],
   "source": [
    "ind3t10['CPxVAE']= ind3t10.CP * ind3t10.VAE"
   ]
  },
  {
   "cell_type": "code",
   "execution_count": 25,
   "metadata": {
    "collapsed": true
   },
   "outputs": [],
   "source": [
    "ind3t10['inactivo'] = ind3t10.estado=='Inactivo'"
   ]
  },
  {
   "cell_type": "code",
   "execution_count": 26,
   "metadata": {
    "collapsed": true
   },
   "outputs": [],
   "source": [
    "inactividad = []\n",
    "\n",
    "for i in ind3t10.unempCond:\n",
    "    if i == 1.0:\n",
    "        inactividad.append('Jubilado - Pensionado')\n",
    "    elif i == 2.0:\n",
    "        inactividad.append('Rentista')\n",
    "    elif i == 3.0:\n",
    "        inactividad.append('Estudiante')\n",
    "    elif i == 4.0:\n",
    "        inactividad.append('Ama de casa')\n",
    "    elif i == 5.0:\n",
    "        inactividad.append('Menor de 6')\n",
    "    elif i == 6.0:\n",
    "        inactividad.append('Discapacitado/a')\n",
    "    elif i == 7.0:\n",
    "        inactividad.append('Otros')\n",
    "    else:\n",
    "        inactividad.append('NAN')\n",
    "        \n",
    "ind3t10['inactividad'] = inactividad\n",
    "ind3t10['totalMiembros'] = 1"
   ]
  },
  {
   "cell_type": "code",
   "execution_count": 27,
   "metadata": {
    "collapsed": false
   },
   "outputs": [
    {
     "data": {
      "text/html": [
       "<div>\n",
       "<table border=\"1\" class=\"dataframe\">\n",
       "  <thead>\n",
       "    <tr style=\"text-align: right;\">\n",
       "      <th></th>\n",
       "      <th>id</th>\n",
       "      <th>CPxVAE</th>\n",
       "      <th>AE</th>\n",
       "      <th>totalMiembros</th>\n",
       "      <th>inactivo</th>\n",
       "      <th>inactividad</th>\n",
       "      <th>PONDERA</th>\n",
       "      <th>Ama de casa</th>\n",
       "      <th>Discapacitado/a</th>\n",
       "      <th>Estudiante</th>\n",
       "      <th>Jubilado - Pensionado</th>\n",
       "      <th>Menor de 6</th>\n",
       "      <th>NAN</th>\n",
       "      <th>Otros</th>\n",
       "      <th>Rentista</th>\n",
       "    </tr>\n",
       "  </thead>\n",
       "  <tbody>\n",
       "    <tr>\n",
       "      <th>0</th>\n",
       "      <td>3024681</td>\n",
       "      <td>0.000000</td>\n",
       "      <td>0.76</td>\n",
       "      <td>1</td>\n",
       "      <td>True</td>\n",
       "      <td>Estudiante</td>\n",
       "      <td>1287</td>\n",
       "      <td>0</td>\n",
       "      <td>0</td>\n",
       "      <td>1</td>\n",
       "      <td>0</td>\n",
       "      <td>0</td>\n",
       "      <td>0</td>\n",
       "      <td>0</td>\n",
       "      <td>0</td>\n",
       "    </tr>\n",
       "    <tr>\n",
       "      <th>1</th>\n",
       "      <td>3024681</td>\n",
       "      <td>0.000000</td>\n",
       "      <td>0.76</td>\n",
       "      <td>1</td>\n",
       "      <td>True</td>\n",
       "      <td>Estudiante</td>\n",
       "      <td>1287</td>\n",
       "      <td>0</td>\n",
       "      <td>0</td>\n",
       "      <td>1</td>\n",
       "      <td>0</td>\n",
       "      <td>0</td>\n",
       "      <td>0</td>\n",
       "      <td>0</td>\n",
       "      <td>0</td>\n",
       "    </tr>\n",
       "    <tr>\n",
       "      <th>2</th>\n",
       "      <td>3078611</td>\n",
       "      <td>7.000000</td>\n",
       "      <td>1.00</td>\n",
       "      <td>1</td>\n",
       "      <td>False</td>\n",
       "      <td>NAN</td>\n",
       "      <td>1674</td>\n",
       "      <td>0</td>\n",
       "      <td>0</td>\n",
       "      <td>0</td>\n",
       "      <td>0</td>\n",
       "      <td>0</td>\n",
       "      <td>1</td>\n",
       "      <td>0</td>\n",
       "      <td>0</td>\n",
       "    </tr>\n",
       "    <tr>\n",
       "      <th>3</th>\n",
       "      <td>3078611</td>\n",
       "      <td>10.926477</td>\n",
       "      <td>0.77</td>\n",
       "      <td>1</td>\n",
       "      <td>False</td>\n",
       "      <td>NAN</td>\n",
       "      <td>1674</td>\n",
       "      <td>0</td>\n",
       "      <td>0</td>\n",
       "      <td>0</td>\n",
       "      <td>0</td>\n",
       "      <td>0</td>\n",
       "      <td>1</td>\n",
       "      <td>0</td>\n",
       "      <td>0</td>\n",
       "    </tr>\n",
       "    <tr>\n",
       "      <th>4</th>\n",
       "      <td>3078611</td>\n",
       "      <td>0.000000</td>\n",
       "      <td>0.90</td>\n",
       "      <td>1</td>\n",
       "      <td>True</td>\n",
       "      <td>Estudiante</td>\n",
       "      <td>1674</td>\n",
       "      <td>0</td>\n",
       "      <td>0</td>\n",
       "      <td>1</td>\n",
       "      <td>0</td>\n",
       "      <td>0</td>\n",
       "      <td>0</td>\n",
       "      <td>0</td>\n",
       "      <td>0</td>\n",
       "    </tr>\n",
       "  </tbody>\n",
       "</table>\n",
       "</div>"
      ],
      "text/plain": [
       "        id     CPxVAE    AE  totalMiembros inactivo inactividad  PONDERA  \\\n",
       "0  3024681   0.000000  0.76              1     True  Estudiante     1287   \n",
       "1  3024681   0.000000  0.76              1     True  Estudiante     1287   \n",
       "2  3078611   7.000000  1.00              1    False         NAN     1674   \n",
       "3  3078611  10.926477  0.77              1    False         NAN     1674   \n",
       "4  3078611   0.000000  0.90              1     True  Estudiante     1674   \n",
       "\n",
       "   Ama de casa  Discapacitado/a  Estudiante  Jubilado - Pensionado  \\\n",
       "0            0                0           1                      0   \n",
       "1            0                0           1                      0   \n",
       "2            0                0           0                      0   \n",
       "3            0                0           0                      0   \n",
       "4            0                0           1                      0   \n",
       "\n",
       "   Menor de 6  NAN  Otros  Rentista  \n",
       "0           0    0      0         0  \n",
       "1           0    0      0         0  \n",
       "2           0    1      0         0  \n",
       "3           0    1      0         0  \n",
       "4           0    0      0         0  "
      ]
     },
     "execution_count": 27,
     "metadata": {},
     "output_type": "execute_result"
    }
   ],
   "source": [
    "tablaParaCapeco = ind3t10.loc[:,['id','CPxVAE','AE','totalMiembros','inactivo','inactividad','PONDERA']]\n",
    "tablaParaCapeco = pd.concat([tablaParaCapeco,pd.get_dummies(ind3t10['inactividad'])],axis=1)\n",
    "\n",
    "tablaParaCapeco.head()"
   ]
  },
  {
   "cell_type": "code",
   "execution_count": 28,
   "metadata": {
    "collapsed": false
   },
   "outputs": [
    {
     "name": "stdout",
     "output_type": "stream",
     "text": [
      "(2703, 13)\n"
     ]
    },
    {
     "data": {
      "text/html": [
       "<div>\n",
       "<table border=\"1\" class=\"dataframe\">\n",
       "  <thead>\n",
       "    <tr style=\"text-align: right;\">\n",
       "      <th></th>\n",
       "      <th>id</th>\n",
       "      <th>CPxVAE</th>\n",
       "      <th>AE</th>\n",
       "      <th>totalMiembros</th>\n",
       "      <th>inactivo</th>\n",
       "      <th>Ama de casa</th>\n",
       "      <th>Discapacitado/a</th>\n",
       "      <th>Estudiante</th>\n",
       "      <th>Jubilado - Pensionado</th>\n",
       "      <th>Menor de 6</th>\n",
       "      <th>NAN</th>\n",
       "      <th>Otros</th>\n",
       "      <th>Rentista</th>\n",
       "      <th>CAPECO</th>\n",
       "    </tr>\n",
       "  </thead>\n",
       "  <tbody>\n",
       "    <tr>\n",
       "      <th>0</th>\n",
       "      <td>1250971</td>\n",
       "      <td>21.319365</td>\n",
       "      <td>3.04</td>\n",
       "      <td>4</td>\n",
       "      <td>1.0</td>\n",
       "      <td>0</td>\n",
       "      <td>0</td>\n",
       "      <td>0</td>\n",
       "      <td>0</td>\n",
       "      <td>0</td>\n",
       "      <td>3</td>\n",
       "      <td>1</td>\n",
       "      <td>0</td>\n",
       "      <td>7.012949</td>\n",
       "    </tr>\n",
       "    <tr>\n",
       "      <th>1</th>\n",
       "      <td>1253451</td>\n",
       "      <td>5.934693</td>\n",
       "      <td>1.44</td>\n",
       "      <td>2</td>\n",
       "      <td>1.0</td>\n",
       "      <td>0</td>\n",
       "      <td>0</td>\n",
       "      <td>0</td>\n",
       "      <td>1</td>\n",
       "      <td>0</td>\n",
       "      <td>1</td>\n",
       "      <td>0</td>\n",
       "      <td>0</td>\n",
       "      <td>4.121315</td>\n",
       "    </tr>\n",
       "    <tr>\n",
       "      <th>2</th>\n",
       "      <td>1254461</td>\n",
       "      <td>0.000000</td>\n",
       "      <td>0.63</td>\n",
       "      <td>1</td>\n",
       "      <td>1.0</td>\n",
       "      <td>0</td>\n",
       "      <td>0</td>\n",
       "      <td>0</td>\n",
       "      <td>1</td>\n",
       "      <td>0</td>\n",
       "      <td>0</td>\n",
       "      <td>0</td>\n",
       "      <td>0</td>\n",
       "      <td>0.000000</td>\n",
       "    </tr>\n",
       "    <tr>\n",
       "      <th>3</th>\n",
       "      <td>1256691</td>\n",
       "      <td>11.593757</td>\n",
       "      <td>3.57</td>\n",
       "      <td>4</td>\n",
       "      <td>2.0</td>\n",
       "      <td>1</td>\n",
       "      <td>0</td>\n",
       "      <td>1</td>\n",
       "      <td>0</td>\n",
       "      <td>0</td>\n",
       "      <td>2</td>\n",
       "      <td>0</td>\n",
       "      <td>0</td>\n",
       "      <td>3.247551</td>\n",
       "    </tr>\n",
       "    <tr>\n",
       "      <th>4</th>\n",
       "      <td>1256892</td>\n",
       "      <td>13.321119</td>\n",
       "      <td>2.40</td>\n",
       "      <td>3</td>\n",
       "      <td>0.0</td>\n",
       "      <td>0</td>\n",
       "      <td>0</td>\n",
       "      <td>1</td>\n",
       "      <td>0</td>\n",
       "      <td>0</td>\n",
       "      <td>2</td>\n",
       "      <td>0</td>\n",
       "      <td>0</td>\n",
       "      <td>5.550466</td>\n",
       "    </tr>\n",
       "  </tbody>\n",
       "</table>\n",
       "</div>"
      ],
      "text/plain": [
       "        id     CPxVAE    AE  totalMiembros  inactivo  Ama de casa  \\\n",
       "0  1250971  21.319365  3.04              4       1.0            0   \n",
       "1  1253451   5.934693  1.44              2       1.0            0   \n",
       "2  1254461   0.000000  0.63              1       1.0            0   \n",
       "3  1256691  11.593757  3.57              4       2.0            1   \n",
       "4  1256892  13.321119  2.40              3       0.0            0   \n",
       "\n",
       "   Discapacitado/a  Estudiante  Jubilado - Pensionado  Menor de 6  NAN  Otros  \\\n",
       "0                0           0                      0           0    3      1   \n",
       "1                0           0                      1           0    1      0   \n",
       "2                0           0                      1           0    0      0   \n",
       "3                0           1                      0           0    2      0   \n",
       "4                0           1                      0           0    2      0   \n",
       "\n",
       "   Rentista    CAPECO  \n",
       "0         0  7.012949  \n",
       "1         0  4.121315  \n",
       "2         0  0.000000  \n",
       "3         0  3.247551  \n",
       "4         0  5.550466  "
      ]
     },
     "execution_count": 28,
     "metadata": {},
     "output_type": "execute_result"
    }
   ],
   "source": [
    "capecoTable = tablaParaCapeco.drop(['inactividad','PONDERA'],axis=1).groupby(by=['id']).sum()\n",
    "capecoTable['CAPECO']=capecoTable.CPxVAE / capecoTable.AE\n",
    "print capecoTable.shape\n",
    "capecoTable.reset_index(inplace=True)\n",
    "capecoTable.head()"
   ]
  },
  {
   "cell_type": "code",
   "execution_count": 29,
   "metadata": {
    "collapsed": false
   },
   "outputs": [
    {
     "data": {
      "text/html": [
       "<div>\n",
       "<table border=\"1\" class=\"dataframe\">\n",
       "  <thead>\n",
       "    <tr style=\"text-align: right;\">\n",
       "      <th></th>\n",
       "      <th>id</th>\n",
       "      <th>CPxVAE</th>\n",
       "      <th>AE</th>\n",
       "      <th>totalMiembros</th>\n",
       "      <th>inactivo</th>\n",
       "      <th>Ama de casa</th>\n",
       "      <th>Discapacitado/a</th>\n",
       "      <th>Estudiante</th>\n",
       "      <th>Jubilado - Pensionado</th>\n",
       "      <th>Menor de 6</th>\n",
       "      <th>NAN</th>\n",
       "      <th>Otros</th>\n",
       "      <th>Rentista</th>\n",
       "      <th>CAPECO</th>\n",
       "    </tr>\n",
       "  </thead>\n",
       "  <tbody>\n",
       "    <tr>\n",
       "      <th>0</th>\n",
       "      <td>1250971</td>\n",
       "      <td>21.319365</td>\n",
       "      <td>3.04</td>\n",
       "      <td>4</td>\n",
       "      <td>0.25</td>\n",
       "      <td>NaN</td>\n",
       "      <td>NaN</td>\n",
       "      <td>NaN</td>\n",
       "      <td>NaN</td>\n",
       "      <td>NaN</td>\n",
       "      <td>3</td>\n",
       "      <td>0.25</td>\n",
       "      <td>NaN</td>\n",
       "      <td>7.012949</td>\n",
       "    </tr>\n",
       "    <tr>\n",
       "      <th>1</th>\n",
       "      <td>1253451</td>\n",
       "      <td>5.934693</td>\n",
       "      <td>1.44</td>\n",
       "      <td>2</td>\n",
       "      <td>0.50</td>\n",
       "      <td>NaN</td>\n",
       "      <td>NaN</td>\n",
       "      <td>NaN</td>\n",
       "      <td>0.5</td>\n",
       "      <td>NaN</td>\n",
       "      <td>1</td>\n",
       "      <td>NaN</td>\n",
       "      <td>NaN</td>\n",
       "      <td>4.121315</td>\n",
       "    </tr>\n",
       "    <tr>\n",
       "      <th>2</th>\n",
       "      <td>1254461</td>\n",
       "      <td>0.000000</td>\n",
       "      <td>0.63</td>\n",
       "      <td>1</td>\n",
       "      <td>1.00</td>\n",
       "      <td>NaN</td>\n",
       "      <td>NaN</td>\n",
       "      <td>NaN</td>\n",
       "      <td>1.0</td>\n",
       "      <td>NaN</td>\n",
       "      <td>0</td>\n",
       "      <td>NaN</td>\n",
       "      <td>NaN</td>\n",
       "      <td>0.000000</td>\n",
       "    </tr>\n",
       "    <tr>\n",
       "      <th>3</th>\n",
       "      <td>1256691</td>\n",
       "      <td>11.593757</td>\n",
       "      <td>3.57</td>\n",
       "      <td>4</td>\n",
       "      <td>0.50</td>\n",
       "      <td>0.25</td>\n",
       "      <td>NaN</td>\n",
       "      <td>0.250000</td>\n",
       "      <td>NaN</td>\n",
       "      <td>NaN</td>\n",
       "      <td>2</td>\n",
       "      <td>NaN</td>\n",
       "      <td>NaN</td>\n",
       "      <td>3.247551</td>\n",
       "    </tr>\n",
       "    <tr>\n",
       "      <th>4</th>\n",
       "      <td>1256892</td>\n",
       "      <td>13.321119</td>\n",
       "      <td>2.40</td>\n",
       "      <td>3</td>\n",
       "      <td>NaN</td>\n",
       "      <td>NaN</td>\n",
       "      <td>NaN</td>\n",
       "      <td>0.333333</td>\n",
       "      <td>NaN</td>\n",
       "      <td>NaN</td>\n",
       "      <td>2</td>\n",
       "      <td>NaN</td>\n",
       "      <td>NaN</td>\n",
       "      <td>5.550466</td>\n",
       "    </tr>\n",
       "  </tbody>\n",
       "</table>\n",
       "</div>"
      ],
      "text/plain": [
       "        id     CPxVAE    AE  totalMiembros  inactivo  Ama de casa  \\\n",
       "0  1250971  21.319365  3.04              4      0.25          NaN   \n",
       "1  1253451   5.934693  1.44              2      0.50          NaN   \n",
       "2  1254461   0.000000  0.63              1      1.00          NaN   \n",
       "3  1256691  11.593757  3.57              4      0.50         0.25   \n",
       "4  1256892  13.321119  2.40              3       NaN          NaN   \n",
       "\n",
       "   Discapacitado/a  Estudiante  Jubilado - Pensionado  Menor de 6  NAN  Otros  \\\n",
       "0              NaN         NaN                    NaN         NaN    3   0.25   \n",
       "1              NaN         NaN                    0.5         NaN    1    NaN   \n",
       "2              NaN         NaN                    1.0         NaN    0    NaN   \n",
       "3              NaN    0.250000                    NaN         NaN    2    NaN   \n",
       "4              NaN    0.333333                    NaN         NaN    2    NaN   \n",
       "\n",
       "   Rentista    CAPECO  \n",
       "0       NaN  7.012949  \n",
       "1       NaN  4.121315  \n",
       "2       NaN  0.000000  \n",
       "3       NaN  3.247551  \n",
       "4       NaN  5.550466  "
      ]
     },
     "execution_count": 29,
     "metadata": {},
     "output_type": "execute_result"
    }
   ],
   "source": [
    "capecoTable['inactivo'] = (capecoTable.inactivo/capecoTable.totalMiembros).replace(0,np.nan)\n",
    "capecoTable['Ama de casa'] = (capecoTable['Ama de casa']/capecoTable.totalMiembros).replace(0,np.nan)\n",
    "capecoTable['Discapacitado/a'] = (capecoTable['Discapacitado/a']/capecoTable.totalMiembros).replace(0,np.nan)\n",
    "capecoTable['Estudiante'] = (capecoTable['Estudiante']/capecoTable.totalMiembros).replace(0,np.nan)\n",
    "capecoTable['Jubilado - Pensionado'] = (capecoTable['Jubilado - Pensionado']/capecoTable.totalMiembros).replace(0,np.nan)\n",
    "capecoTable['Menor de 6'] = (capecoTable['Menor de 6']/capecoTable.totalMiembros).replace(0,np.nan)\n",
    "capecoTable['Otros'] = (capecoTable['Otros']/capecoTable.totalMiembros).replace(0,np.nan)\n",
    "capecoTable['Rentista'] = (capecoTable['Rentista']/capecoTable.totalMiembros).replace(0,np.nan)\n",
    "capecoTable.head()"
   ]
  },
  {
   "cell_type": "code",
   "execution_count": 30,
   "metadata": {
    "collapsed": false
   },
   "outputs": [
    {
     "name": "stdout",
     "output_type": "stream",
     "text": [
      "(2703, 3)\n"
     ]
    },
    {
     "data": {
      "text/html": [
       "<div>\n",
       "<table border=\"1\" class=\"dataframe\">\n",
       "  <thead>\n",
       "    <tr style=\"text-align: right;\">\n",
       "      <th></th>\n",
       "      <th>id</th>\n",
       "      <th>IPCF</th>\n",
       "      <th>PONDERA</th>\n",
       "    </tr>\n",
       "  </thead>\n",
       "  <tbody>\n",
       "    <tr>\n",
       "      <th>0</th>\n",
       "      <td>3024681</td>\n",
       "      <td>2000.0</td>\n",
       "      <td>1287</td>\n",
       "    </tr>\n",
       "    <tr>\n",
       "      <th>2</th>\n",
       "      <td>3078611</td>\n",
       "      <td>1450.0</td>\n",
       "      <td>1674</td>\n",
       "    </tr>\n",
       "    <tr>\n",
       "      <th>6</th>\n",
       "      <td>3087621</td>\n",
       "      <td>3200.0</td>\n",
       "      <td>1522</td>\n",
       "    </tr>\n",
       "    <tr>\n",
       "      <th>7</th>\n",
       "      <td>3082781</td>\n",
       "      <td>5000.0</td>\n",
       "      <td>1320</td>\n",
       "    </tr>\n",
       "    <tr>\n",
       "      <th>9</th>\n",
       "      <td>3119371</td>\n",
       "      <td>2750.0</td>\n",
       "      <td>1281</td>\n",
       "    </tr>\n",
       "  </tbody>\n",
       "</table>\n",
       "</div>"
      ],
      "text/plain": [
       "        id    IPCF  PONDERA\n",
       "0  3024681  2000.0     1287\n",
       "2  3078611  1450.0     1674\n",
       "6  3087621  3200.0     1522\n",
       "7  3082781  5000.0     1320\n",
       "9  3119371  2750.0     1281"
      ]
     },
     "execution_count": 30,
     "metadata": {},
     "output_type": "execute_result"
    }
   ],
   "source": [
    "ingresos = ind3t10.loc[:,['id','IPCF','PONDERA']].drop_duplicates()\n",
    "print ingresos.shape\n",
    "ingresos.head()\n"
   ]
  },
  {
   "cell_type": "code",
   "execution_count": 31,
   "metadata": {
    "collapsed": false
   },
   "outputs": [
    {
     "name": "stdout",
     "output_type": "stream",
     "text": [
      "(2703, 14)\n"
     ]
    },
    {
     "data": {
      "text/html": [
       "<div>\n",
       "<table border=\"1\" class=\"dataframe\">\n",
       "  <thead>\n",
       "    <tr style=\"text-align: right;\">\n",
       "      <th></th>\n",
       "      <th>id</th>\n",
       "      <th>IPCF</th>\n",
       "      <th>PONDERA</th>\n",
       "      <th>totalMiembros</th>\n",
       "      <th>inactivo</th>\n",
       "      <th>Ama de casa</th>\n",
       "      <th>Discapacitado/a</th>\n",
       "      <th>Estudiante</th>\n",
       "      <th>Jubilado - Pensionado</th>\n",
       "      <th>Menor de 6</th>\n",
       "      <th>NAN</th>\n",
       "      <th>Otros</th>\n",
       "      <th>Rentista</th>\n",
       "      <th>CAPECO</th>\n",
       "    </tr>\n",
       "  </thead>\n",
       "  <tbody>\n",
       "    <tr>\n",
       "      <th>0</th>\n",
       "      <td>3024681</td>\n",
       "      <td>2000.0</td>\n",
       "      <td>1287</td>\n",
       "      <td>2</td>\n",
       "      <td>1.00</td>\n",
       "      <td>NaN</td>\n",
       "      <td>NaN</td>\n",
       "      <td>1.00</td>\n",
       "      <td>NaN</td>\n",
       "      <td>NaN</td>\n",
       "      <td>0</td>\n",
       "      <td>NaN</td>\n",
       "      <td>NaN</td>\n",
       "      <td>0.000000</td>\n",
       "    </tr>\n",
       "    <tr>\n",
       "      <th>1</th>\n",
       "      <td>3078611</td>\n",
       "      <td>1450.0</td>\n",
       "      <td>1674</td>\n",
       "      <td>4</td>\n",
       "      <td>0.25</td>\n",
       "      <td>NaN</td>\n",
       "      <td>NaN</td>\n",
       "      <td>0.50</td>\n",
       "      <td>NaN</td>\n",
       "      <td>NaN</td>\n",
       "      <td>2</td>\n",
       "      <td>NaN</td>\n",
       "      <td>NaN</td>\n",
       "      <td>5.351187</td>\n",
       "    </tr>\n",
       "    <tr>\n",
       "      <th>2</th>\n",
       "      <td>3087621</td>\n",
       "      <td>3200.0</td>\n",
       "      <td>1522</td>\n",
       "      <td>1</td>\n",
       "      <td>1.00</td>\n",
       "      <td>NaN</td>\n",
       "      <td>NaN</td>\n",
       "      <td>NaN</td>\n",
       "      <td>1.00</td>\n",
       "      <td>NaN</td>\n",
       "      <td>0</td>\n",
       "      <td>NaN</td>\n",
       "      <td>NaN</td>\n",
       "      <td>0.000000</td>\n",
       "    </tr>\n",
       "    <tr>\n",
       "      <th>3</th>\n",
       "      <td>3082781</td>\n",
       "      <td>5000.0</td>\n",
       "      <td>1320</td>\n",
       "      <td>2</td>\n",
       "      <td>NaN</td>\n",
       "      <td>NaN</td>\n",
       "      <td>NaN</td>\n",
       "      <td>NaN</td>\n",
       "      <td>NaN</td>\n",
       "      <td>NaN</td>\n",
       "      <td>2</td>\n",
       "      <td>NaN</td>\n",
       "      <td>NaN</td>\n",
       "      <td>17.087992</td>\n",
       "    </tr>\n",
       "    <tr>\n",
       "      <th>4</th>\n",
       "      <td>3119371</td>\n",
       "      <td>2750.0</td>\n",
       "      <td>1281</td>\n",
       "      <td>4</td>\n",
       "      <td>0.50</td>\n",
       "      <td>NaN</td>\n",
       "      <td>NaN</td>\n",
       "      <td>0.25</td>\n",
       "      <td>0.25</td>\n",
       "      <td>NaN</td>\n",
       "      <td>2</td>\n",
       "      <td>NaN</td>\n",
       "      <td>NaN</td>\n",
       "      <td>10.688689</td>\n",
       "    </tr>\n",
       "  </tbody>\n",
       "</table>\n",
       "</div>"
      ],
      "text/plain": [
       "        id    IPCF  PONDERA  totalMiembros  inactivo  Ama de casa  \\\n",
       "0  3024681  2000.0     1287              2      1.00          NaN   \n",
       "1  3078611  1450.0     1674              4      0.25          NaN   \n",
       "2  3087621  3200.0     1522              1      1.00          NaN   \n",
       "3  3082781  5000.0     1320              2       NaN          NaN   \n",
       "4  3119371  2750.0     1281              4      0.50          NaN   \n",
       "\n",
       "   Discapacitado/a  Estudiante  Jubilado - Pensionado  Menor de 6  NAN  Otros  \\\n",
       "0              NaN        1.00                    NaN         NaN    0    NaN   \n",
       "1              NaN        0.50                    NaN         NaN    2    NaN   \n",
       "2              NaN         NaN                   1.00         NaN    0    NaN   \n",
       "3              NaN         NaN                    NaN         NaN    2    NaN   \n",
       "4              NaN        0.25                   0.25         NaN    2    NaN   \n",
       "\n",
       "   Rentista     CAPECO  \n",
       "0       NaN   0.000000  \n",
       "1       NaN   5.351187  \n",
       "2       NaN   0.000000  \n",
       "3       NaN  17.087992  \n",
       "4       NaN  10.688689  "
      ]
     },
     "execution_count": 31,
     "metadata": {},
     "output_type": "execute_result"
    }
   ],
   "source": [
    "ingresos = ingresos.merge(capecoTable.drop(['CPxVAE','AE'],axis=1))\n",
    "print ingresos.shape\n",
    "ingresos.head()"
   ]
  },
  {
   "cell_type": "markdown",
   "metadata": {},
   "source": [
    "# Evaluar nuevo capeco"
   ]
  },
  {
   "cell_type": "code",
   "execution_count": 37,
   "metadata": {
    "collapsed": false
   },
   "outputs": [
    {
     "name": "stdout",
     "output_type": "stream",
     "text": [
      "                            WLS Regression Results                            \n",
      "==============================================================================\n",
      "Dep. Variable:                      y   R-squared:                       0.368\n",
      "Model:                            WLS   Adj. R-squared:                  0.367\n",
      "Method:                 Least Squares   F-statistic:                     1571.\n",
      "Date:                Sun, 16 Jul 2017   Prob (F-statistic):          3.47e-271\n",
      "Time:                        11:14:19   Log-Likelihood:                -23422.\n",
      "No. Observations:                2703   AIC:                         4.685e+04\n",
      "Df Residuals:                    2701   BIC:                         4.686e+04\n",
      "Df Model:                           1                                         \n",
      "Covariance Type:            nonrobust                                         \n",
      "==============================================================================\n",
      "                 coef    std err          t      P>|t|      [95.0% Conf. Int.]\n",
      "------------------------------------------------------------------------------\n",
      "const        640.9262     40.701     15.747      0.000       561.119   720.734\n",
      "x1           240.7351      6.074     39.633      0.000       228.825   252.645\n",
      "==============================================================================\n",
      "Omnibus:                     2099.363   Durbin-Watson:                   1.896\n",
      "Prob(Omnibus):                  0.000   Jarque-Bera (JB):            74203.272\n",
      "Skew:                           3.360   Prob(JB):                         0.00\n",
      "Kurtosis:                      27.773   Cond. No.                         10.4\n",
      "==============================================================================\n",
      "\n",
      "Warnings:\n",
      "[1] Standard Errors assume that the covariance matrix of the errors is correctly specified.\n"
     ]
    }
   ],
   "source": [
    "y = ingresos['IPCF'].copy().values\n",
    "X = sm.add_constant(ingresos['CAPECO'].copy().values)\n",
    "w = ingresos.PONDERA.copy().values\n",
    "    \n",
    "#run model\n",
    "lm = sm.WLS(y, X, weights=1. / w).fit()\n",
    "print lm.summary()\n"
   ]
  },
  {
   "cell_type": "code",
   "execution_count": 38,
   "metadata": {
    "collapsed": false
   },
   "outputs": [
    {
     "name": "stdout",
     "output_type": "stream",
     "text": [
      "\\begin{center}\n",
      "\\begin{tabular}{lclc}\n",
      "\\toprule\n",
      "\\textbf{Dep. Variable:}    &        y         & \\textbf{  R-squared:         } &     0.368   \\\\\n",
      "\\textbf{Model:}            &       WLS        & \\textbf{  Adj. R-squared:    } &     0.367   \\\\\n",
      "\\textbf{Method:}           &  Least Squares   & \\textbf{  F-statistic:       } &     1571.   \\\\\n",
      "\\textbf{Date:}             & Sun, 16 Jul 2017 & \\textbf{  Prob (F-statistic):} & 3.47e-271   \\\\\n",
      "\\textbf{Time:}             &     11:14:23     & \\textbf{  Log-Likelihood:    } &   -23422.   \\\\\n",
      "\\textbf{No. Observations:} &        2703      & \\textbf{  AIC:               } & 4.685e+04   \\\\\n",
      "\\textbf{Df Residuals:}     &        2701      & \\textbf{  BIC:               } & 4.686e+04   \\\\\n",
      "\\textbf{Df Model:}         &           1      & \\textbf{                     } &             \\\\\n",
      "\\bottomrule\n",
      "\\end{tabular}\n",
      "\\begin{tabular}{lccccc}\n",
      "               & \\textbf{coef} & \\textbf{std err} & \\textbf{t} & \\textbf{P$>$$|$t$|$} & \\textbf{[95.0\\% Conf. Int.]}  \\\\\n",
      "\\midrule\n",
      "\\textbf{const} &     640.9262  &       40.701     &    15.747  &         0.000        &       561.119   720.734       \\\\\n",
      "\\textbf{x1}    &     240.7351  &        6.074     &    39.633  &         0.000        &       228.825   252.645       \\\\\n",
      "\\bottomrule\n",
      "\\end{tabular}\n",
      "\\begin{tabular}{lclc}\n",
      "\\textbf{Omnibus:}       & 2099.363 & \\textbf{  Durbin-Watson:     } &     1.896  \\\\\n",
      "\\textbf{Prob(Omnibus):} &   0.000  & \\textbf{  Jarque-Bera (JB):  } & 74203.272  \\\\\n",
      "\\textbf{Skew:}          &   3.360  & \\textbf{  Prob(JB):          } &      0.00  \\\\\n",
      "\\textbf{Kurtosis:}      &  27.773  & \\textbf{  Cond. No.          } &      10.4  \\\\\n",
      "\\bottomrule\n",
      "\\end{tabular}\n",
      "%\\caption{WLS Regression Results}\n",
      "\\end{center}\n"
     ]
    }
   ],
   "source": [
    "print lm.summary().as_latex()\n"
   ]
  },
  {
   "cell_type": "code",
   "execution_count": 33,
   "metadata": {
    "collapsed": false
   },
   "outputs": [
    {
     "data": {
      "text/plain": [
       "(4137221, 15)"
      ]
     },
     "execution_count": 33,
     "metadata": {},
     "output_type": "execute_result"
    }
   ],
   "source": [
    "ingresosPlot=ingresos.loc[np.repeat(ingresos.index.values,ingresos.PONDERA)]\n",
    "ingresosPlot.shape"
   ]
  },
  {
   "cell_type": "code",
   "execution_count": 39,
   "metadata": {
    "collapsed": false
   },
   "outputs": [
    {
     "data": {
      "image/png": "[encoded data removed]",
      "text/plain": [
       "<matplotlib.figure.Figure at 0x7f48001a7150>"
      ]
     },
     "metadata": {},
     "output_type": "display_data"
    }
   ],
   "source": [
    "sns.lmplot(x = 'CAPECO', y ='IPCF',data=ingresosPlot,hue='hogarInactivo')\n",
    "plt.ylabel('IPCF')\n",
    "plt.xlabel('CAPECO')\n",
    "plt.savefig('../img/capitulo3/capecoVipcf.png')"
   ]
  },
  {
   "cell_type": "code",
   "execution_count": 40,
   "metadata": {
    "collapsed": false
   },
   "outputs": [],
   "source": [
    "ingresos['hogarInactivo'] = ingresos.inactivo ==1"
   ]
  },
  {
   "cell_type": "code",
   "execution_count": null,
   "metadata": {
    "collapsed": true
   },
   "outputs": [],
   "source": []
  },
  {
   "cell_type": "code",
   "execution_count": null,
   "metadata": {
    "collapsed": false
   },
   "outputs": [],
   "source": [
    "sns.boxplot(data = ingresosPlot.loc[ingresosPlot.hogarInactivo,\n",
    "                                    ['Estudiante','Ama de casa','Discapacitado/a',\n",
    "                                     'Jubilado - Pensionado','Otros','Rentista']])"
   ]
  },
  {
   "cell_type": "code",
   "execution_count": null,
   "metadata": {
    "collapsed": false
   },
   "outputs": [],
   "source": [
    "ingresosPlot.loc[ingresosPlot.hogarInactivo,['Estudiante','Ama de casa','Discapacitado/a',\n",
    "                                     'Jubilado - Pensionado','Otros','Rentista']].describe()"
   ]
  },
  {
   "cell_type": "code",
   "execution_count": null,
   "metadata": {
    "collapsed": false
   },
   "outputs": [],
   "source": [
    "caca = ingresosPlot[(ingresosPlot.CAPECO == 0) & (ingresosPlot.IPCF > 0)]\n",
    "caca.head()"
   ]
  },
  {
   "cell_type": "code",
   "execution_count": null,
   "metadata": {
    "collapsed": false
   },
   "outputs": [],
   "source": [
    "sns.boxplot(caca.inactivo)"
   ]
  },
  {
   "cell_type": "code",
   "execution_count": null,
   "metadata": {
    "collapsed": false
   },
   "outputs": [],
   "source": [
    "caca.inactivo.describe()"
   ]
  },
  {
   "cell_type": "markdown",
   "metadata": {},
   "source": [
    "# la mayoria de los miembros en hogares plenamente inactivos son jubilados. despues hay algunos con amas de casa y estudiantes"
   ]
  },
  {
   "cell_type": "code",
   "execution_count": 53,
   "metadata": {
    "collapsed": true
   },
   "outputs": [],
   "source": [
    "tablaParaCapecoPlot=tablaParaCapeco.loc[np.repeat(tablaParaCapeco.index.values,tablaParaCapeco.PONDERA)]\n"
   ]
  },
  {
   "cell_type": "code",
   "execution_count": 54,
   "metadata": {
    "collapsed": true
   },
   "outputs": [],
   "source": [
    "IDhogaresInactivos = tablaParaCapecoPlot['id'].isin(ingresosPlot['id'].loc[ingresosPlot.hogarInactivo])"
   ]
  },
  {
   "cell_type": "code",
   "execution_count": 55,
   "metadata": {
    "collapsed": false
   },
   "outputs": [
    {
     "data": {
      "text/plain": [
       "Jubilado - Pensionado    86.321550\n",
       "Ama de casa               6.001971\n",
       "Estudiante                5.063657\n",
       "Otros                     1.220928\n",
       "Discapacitado/a           1.010492\n",
       "Rentista                  0.381401\n",
       "Name: inactividad, dtype: float64"
      ]
     },
     "execution_count": 55,
     "metadata": {},
     "output_type": "execute_result"
    }
   ],
   "source": [
    "tablaParaCapecoPlot.inactividad[IDhogaresInactivos].value_counts()/tablaParaCapecoPlot.inactividad[IDhogaresInactivos].value_counts().sum()*100"
   ]
  },
  {
   "cell_type": "code",
   "execution_count": 56,
   "metadata": {
    "collapsed": false
   },
   "outputs": [
    {
     "data": {
      "text/plain": [
       "100.0"
      ]
     },
     "execution_count": 56,
     "metadata": {},
     "output_type": "execute_result"
    }
   ],
   "source": [
    "86.3 + 6 + 5.1 + 1.2 + 1 +  0.4"
   ]
  },
  {
   "cell_type": "markdown",
   "metadata": {},
   "source": [
    "# sin outliers"
   ]
  },
  {
   "cell_type": "code",
   "execution_count": 57,
   "metadata": {
    "collapsed": false
   },
   "outputs": [
    {
     "data": {
      "text/plain": [
       "count    4.137221e+06\n",
       "mean     1.808730e+03\n",
       "std      1.842059e+03\n",
       "min      0.000000e+00\n",
       "25%      7.600000e+02\n",
       "50%      1.266670e+03\n",
       "75%      2.230000e+03\n",
       "max      2.900000e+04\n",
       "Name: IPCF, dtype: float64"
      ]
     },
     "execution_count": 57,
     "metadata": {},
     "output_type": "execute_result"
    }
   ],
   "source": [
    "ingresosPlot.IPCF.describe()"
   ]
  },
  {
   "cell_type": "code",
   "execution_count": 63,
   "metadata": {
    "collapsed": false
   },
   "outputs": [
    {
     "data": {
      "text/plain": [
       "0.002340218228612878"
      ]
     },
     "execution_count": 63,
     "metadata": {},
     "output_type": "execute_result"
    }
   ],
   "source": [
    "(ingresosPlot.IPCF > 12000).sum()*1./ingresosPlot.shape[0]"
   ]
  },
  {
   "cell_type": "code",
   "execution_count": 60,
   "metadata": {
    "collapsed": false
   },
   "outputs": [
    {
     "data": {
      "text/plain": [
       "<matplotlib.axes._subplots.AxesSubplot at 0x7f47e49e7850>"
      ]
     },
     "execution_count": 60,
     "metadata": {},
     "output_type": "execute_result"
    },
    {
     "data": {
      "image/png": "[encoded data removed]",
      "text/plain": [
       "<matplotlib.figure.Figure at 0x7f47e4e79750>"
      ]
     },
     "metadata": {},
     "output_type": "display_data"
    }
   ],
   "source": [
    "sns.kdeplot(ingresosPlot.IPCF)"
   ]
  },
  {
   "cell_type": "code",
   "execution_count": 41,
   "metadata": {
    "collapsed": true
   },
   "outputs": [],
   "source": [
    "mask = (ingresos.IPCF  < 12000) & (ingresos.CAPECO> 0)"
   ]
  },
  {
   "cell_type": "code",
   "execution_count": 42,
   "metadata": {
    "collapsed": false
   },
   "outputs": [],
   "source": [
    "ingresosNoOut=ingresos.copy()[mask]"
   ]
  },
  {
   "cell_type": "code",
   "execution_count": 43,
   "metadata": {
    "collapsed": false
   },
   "outputs": [
    {
     "name": "stdout",
     "output_type": "stream",
     "text": [
      "                            WLS Regression Results                            \n",
      "==============================================================================\n",
      "Dep. Variable:                      y   R-squared:                       0.506\n",
      "Model:                            WLS   Adj. R-squared:                  0.506\n",
      "Method:                 Least Squares   F-statistic:                     2258.\n",
      "Date:                Sun, 16 Jul 2017   Prob (F-statistic):               0.00\n",
      "Time:                        13:45:37   Log-Likelihood:                -18734.\n",
      "No. Observations:                2205   AIC:                         3.747e+04\n",
      "Df Residuals:                    2203   BIC:                         3.748e+04\n",
      "Df Model:                           1                                         \n",
      "Covariance Type:            nonrobust                                         \n",
      "==============================================================================\n",
      "                 coef    std err          t      P>|t|      [95.0% Conf. Int.]\n",
      "------------------------------------------------------------------------------\n",
      "const         68.3721     46.201      1.480      0.139       -22.230   158.974\n",
      "x1           295.7912      6.225     47.517      0.000       283.584   307.999\n",
      "==============================================================================\n",
      "Omnibus:                      911.298   Durbin-Watson:                   1.919\n",
      "Prob(Omnibus):                  0.000   Jarque-Bera (JB):             6844.574\n",
      "Skew:                           1.768   Prob(JB):                         0.00\n",
      "Kurtosis:                      10.874   Cond. No.                         14.0\n",
      "==============================================================================\n",
      "\n",
      "Warnings:\n",
      "[1] Standard Errors assume that the covariance matrix of the errors is correctly specified.\n"
     ]
    }
   ],
   "source": [
    "y = ingresosNoOut['IPCF'].values\n",
    "X = sm.add_constant(ingresosNoOut['CAPECO'].values)\n",
    "w = ingresosNoOut.PONDERA.values\n",
    "    \n",
    "#run model\n",
    "lm = sm.WLS(y, X, weights=1. / w).fit()\n",
    "print lm.summary()\n"
   ]
  },
  {
   "cell_type": "code",
   "execution_count": 44,
   "metadata": {
    "collapsed": false
   },
   "outputs": [
    {
     "name": "stdout",
     "output_type": "stream",
     "text": [
      "\\begin{center}\n",
      "\\begin{tabular}{lclc}\n",
      "\\toprule\n",
      "\\textbf{Dep. Variable:}    &        y         & \\textbf{  R-squared:         } &     0.506   \\\\\n",
      "\\textbf{Model:}            &       WLS        & \\textbf{  Adj. R-squared:    } &     0.506   \\\\\n",
      "\\textbf{Method:}           &  Least Squares   & \\textbf{  F-statistic:       } &     2258.   \\\\\n",
      "\\textbf{Date:}             & Sun, 16 Jul 2017 & \\textbf{  Prob (F-statistic):} &     0.00    \\\\\n",
      "\\textbf{Time:}             &     13:45:55     & \\textbf{  Log-Likelihood:    } &   -18734.   \\\\\n",
      "\\textbf{No. Observations:} &        2205      & \\textbf{  AIC:               } & 3.747e+04   \\\\\n",
      "\\textbf{Df Residuals:}     &        2203      & \\textbf{  BIC:               } & 3.748e+04   \\\\\n",
      "\\textbf{Df Model:}         &           1      & \\textbf{                     } &             \\\\\n",
      "\\bottomrule\n",
      "\\end{tabular}\n",
      "\\begin{tabular}{lccccc}\n",
      "               & \\textbf{coef} & \\textbf{std err} & \\textbf{t} & \\textbf{P$>$$|$t$|$} & \\textbf{[95.0\\% Conf. Int.]}  \\\\\n",
      "\\midrule\n",
      "\\textbf{const} &      68.3721  &       46.201     &     1.480  &         0.139        &       -22.230   158.974       \\\\\n",
      "\\textbf{x1}    &     295.7912  &        6.225     &    47.517  &         0.000        &       283.584   307.999       \\\\\n",
      "\\bottomrule\n",
      "\\end{tabular}\n",
      "\\begin{tabular}{lclc}\n",
      "\\textbf{Omnibus:}       & 911.298 & \\textbf{  Durbin-Watson:     } &    1.919  \\\\\n",
      "\\textbf{Prob(Omnibus):} &   0.000 & \\textbf{  Jarque-Bera (JB):  } & 6844.574  \\\\\n",
      "\\textbf{Skew:}          &   1.768 & \\textbf{  Prob(JB):          } &     0.00  \\\\\n",
      "\\textbf{Kurtosis:}      &  10.874 & \\textbf{  Cond. No.          } &     14.0  \\\\\n",
      "\\bottomrule\n",
      "\\end{tabular}\n",
      "%\\caption{WLS Regression Results}\n",
      "\\end{center}\n"
     ]
    }
   ],
   "source": [
    "print lm.summary().as_latex()"
   ]
  },
  {
   "cell_type": "code",
   "execution_count": null,
   "metadata": {
    "collapsed": false
   },
   "outputs": [],
   "source": [
    "sns.lmplot(x = 'CAPECO', y ='IPCF',data=ingresosNoOut)\n",
    "plt.ylabel('IPCF')\n",
    "plt.xlabel('CAPECO')"
   ]
  },
  {
   "cell_type": "code",
   "execution_count": null,
   "metadata": {
    "collapsed": false
   },
   "outputs": [],
   "source": [
    "qqplot(lm.resid,line='r')"
   ]
  },
  {
   "cell_type": "code",
   "execution_count": 45,
   "metadata": {
    "collapsed": false
   },
   "outputs": [
    {
     "data": {
      "text/html": [
       "<div>\n",
       "<table border=\"1\" class=\"dataframe\">\n",
       "  <thead>\n",
       "    <tr style=\"text-align: right;\">\n",
       "      <th></th>\n",
       "      <th>id</th>\n",
       "      <th>IPCF</th>\n",
       "      <th>PONDERA</th>\n",
       "      <th>totalMiembros</th>\n",
       "      <th>inactivo</th>\n",
       "      <th>Ama de casa</th>\n",
       "      <th>Discapacitado/a</th>\n",
       "      <th>Estudiante</th>\n",
       "      <th>Jubilado - Pensionado</th>\n",
       "      <th>Menor de 6</th>\n",
       "      <th>NAN</th>\n",
       "      <th>Otros</th>\n",
       "      <th>Rentista</th>\n",
       "      <th>CAPECO</th>\n",
       "      <th>hogarInactivo</th>\n",
       "      <th>predict</th>\n",
       "      <th>resid</th>\n",
       "      <th>residStd</th>\n",
       "    </tr>\n",
       "  </thead>\n",
       "  <tbody>\n",
       "    <tr>\n",
       "      <th>1</th>\n",
       "      <td>3078611</td>\n",
       "      <td>1450.0</td>\n",
       "      <td>1674</td>\n",
       "      <td>4</td>\n",
       "      <td>0.25</td>\n",
       "      <td>NaN</td>\n",
       "      <td>NaN</td>\n",
       "      <td>0.50</td>\n",
       "      <td>NaN</td>\n",
       "      <td>NaN</td>\n",
       "      <td>2</td>\n",
       "      <td>NaN</td>\n",
       "      <td>NaN</td>\n",
       "      <td>5.351187</td>\n",
       "      <td>False</td>\n",
       "      <td>1651.206335</td>\n",
       "      <td>-201.206335</td>\n",
       "      <td>-0.172916</td>\n",
       "    </tr>\n",
       "    <tr>\n",
       "      <th>3</th>\n",
       "      <td>3082781</td>\n",
       "      <td>5000.0</td>\n",
       "      <td>1320</td>\n",
       "      <td>2</td>\n",
       "      <td>NaN</td>\n",
       "      <td>NaN</td>\n",
       "      <td>NaN</td>\n",
       "      <td>NaN</td>\n",
       "      <td>NaN</td>\n",
       "      <td>NaN</td>\n",
       "      <td>2</td>\n",
       "      <td>NaN</td>\n",
       "      <td>NaN</td>\n",
       "      <td>17.087992</td>\n",
       "      <td>False</td>\n",
       "      <td>5122.850463</td>\n",
       "      <td>-122.850463</td>\n",
       "      <td>-0.105391</td>\n",
       "    </tr>\n",
       "    <tr>\n",
       "      <th>4</th>\n",
       "      <td>3119371</td>\n",
       "      <td>2750.0</td>\n",
       "      <td>1281</td>\n",
       "      <td>4</td>\n",
       "      <td>0.50</td>\n",
       "      <td>NaN</td>\n",
       "      <td>NaN</td>\n",
       "      <td>0.25</td>\n",
       "      <td>0.25</td>\n",
       "      <td>NaN</td>\n",
       "      <td>2</td>\n",
       "      <td>NaN</td>\n",
       "      <td>NaN</td>\n",
       "      <td>10.688689</td>\n",
       "      <td>False</td>\n",
       "      <td>3229.992583</td>\n",
       "      <td>-479.992583</td>\n",
       "      <td>-0.413166</td>\n",
       "    </tr>\n",
       "    <tr>\n",
       "      <th>5</th>\n",
       "      <td>3113561</td>\n",
       "      <td>1750.0</td>\n",
       "      <td>1348</td>\n",
       "      <td>4</td>\n",
       "      <td>0.50</td>\n",
       "      <td>NaN</td>\n",
       "      <td>NaN</td>\n",
       "      <td>0.50</td>\n",
       "      <td>NaN</td>\n",
       "      <td>NaN</td>\n",
       "      <td>2</td>\n",
       "      <td>NaN</td>\n",
       "      <td>NaN</td>\n",
       "      <td>4.086409</td>\n",
       "      <td>False</td>\n",
       "      <td>1277.096175</td>\n",
       "      <td>472.903825</td>\n",
       "      <td>0.408012</td>\n",
       "    </tr>\n",
       "    <tr>\n",
       "      <th>6</th>\n",
       "      <td>1563001</td>\n",
       "      <td>2962.5</td>\n",
       "      <td>1174</td>\n",
       "      <td>4</td>\n",
       "      <td>0.25</td>\n",
       "      <td>0.25</td>\n",
       "      <td>NaN</td>\n",
       "      <td>NaN</td>\n",
       "      <td>NaN</td>\n",
       "      <td>NaN</td>\n",
       "      <td>3</td>\n",
       "      <td>NaN</td>\n",
       "      <td>NaN</td>\n",
       "      <td>10.889023</td>\n",
       "      <td>False</td>\n",
       "      <td>3289.249570</td>\n",
       "      <td>-326.749570</td>\n",
       "      <td>-0.281106</td>\n",
       "    </tr>\n",
       "  </tbody>\n",
       "</table>\n",
       "</div>"
      ],
      "text/plain": [
       "        id    IPCF  PONDERA  totalMiembros  inactivo  Ama de casa  \\\n",
       "1  3078611  1450.0     1674              4      0.25          NaN   \n",
       "3  3082781  5000.0     1320              2       NaN          NaN   \n",
       "4  3119371  2750.0     1281              4      0.50          NaN   \n",
       "5  3113561  1750.0     1348              4      0.50          NaN   \n",
       "6  1563001  2962.5     1174              4      0.25         0.25   \n",
       "\n",
       "   Discapacitado/a  Estudiante  Jubilado - Pensionado  Menor de 6  NAN  Otros  \\\n",
       "1              NaN        0.50                    NaN         NaN    2    NaN   \n",
       "3              NaN         NaN                    NaN         NaN    2    NaN   \n",
       "4              NaN        0.25                   0.25         NaN    2    NaN   \n",
       "5              NaN        0.50                    NaN         NaN    2    NaN   \n",
       "6              NaN         NaN                    NaN         NaN    3    NaN   \n",
       "\n",
       "   Rentista     CAPECO hogarInactivo      predict       resid  residStd  \n",
       "1       NaN   5.351187         False  1651.206335 -201.206335 -0.172916  \n",
       "3       NaN  17.087992         False  5122.850463 -122.850463 -0.105391  \n",
       "4       NaN  10.688689         False  3229.992583 -479.992583 -0.413166  \n",
       "5       NaN   4.086409         False  1277.096175  472.903825  0.408012  \n",
       "6       NaN  10.889023         False  3289.249570 -326.749570 -0.281106  "
      ]
     },
     "execution_count": 45,
     "metadata": {},
     "output_type": "execute_result"
    }
   ],
   "source": [
    "ingresosNoOut['predict'] = lm.predict()\n",
    "ingresosNoOut['resid'] = lm.resid\n",
    "ingresosNoOut['residStd'] = (ingresosNoOut.resid - ingresosNoOut.resid.mean())/ingresosNoOut.resid.std()\n",
    "ingresosNoOut.head()"
   ]
  },
  {
   "cell_type": "code",
   "execution_count": 46,
   "metadata": {
    "collapsed": true
   },
   "outputs": [],
   "source": [
    "ingresosNoOut = ingresosNoOut.loc[:,['PONDERA','IPCF','predict','resid','residStd']]\n",
    "ingresosNoOut = ingresosNoOut.loc[np.repeat(ingresosNoOut.index.values,ingresosNoOut.PONDERA)]\n"
   ]
  },
  {
   "cell_type": "code",
   "execution_count": 52,
   "metadata": {
    "collapsed": false
   },
   "outputs": [
    {
     "data": {
      "text/plain": [
       "2.305768139385494"
      ]
     },
     "execution_count": 52,
     "metadata": {},
     "output_type": "execute_result"
    }
   ],
   "source": [
    "ingresosNoOut.resid.mean()"
   ]
  },
  {
   "cell_type": "code",
   "execution_count": 47,
   "metadata": {
    "collapsed": false
   },
   "outputs": [
    {
     "data": {
      "image/png": "[encoded data removed]",
      "text/plain": [
       "<matplotlib.figure.Figure at 0x7f47e4f3a590>"
      ]
     },
     "metadata": {},
     "output_type": "display_data"
    }
   ],
   "source": [
    "sns.lmplot(x = 'predict', y ='IPCF',data=ingresosNoOut)\n",
    "plt.ylabel('Ingreso observado')\n",
    "plt.xlabel('Ingreso estimado')\n",
    "plt.savefig('../img/capitulo3/evalCapecoVipcf1.png')"
   ]
  },
  {
   "cell_type": "code",
   "execution_count": 48,
   "metadata": {
    "collapsed": false
   },
   "outputs": [
    {
     "data": {
      "image/png": "[encoded data removed]",
      "text/plain": [
       "<matplotlib.figure.Figure at 0x7f47e5015d50>"
      ]
     },
     "metadata": {},
     "output_type": "display_data"
    }
   ],
   "source": [
    "sns.lmplot(x = 'predict', y ='residStd',data=ingresosNoOut)\n",
    "plt.ylabel('Residuos estandarizados')\n",
    "plt.xlabel('Ingreso Estimado')\n",
    "plt.savefig('../img/capitulo3/evalCapecoVipcf2.png')"
   ]
  },
  {
   "cell_type": "code",
   "execution_count": 51,
   "metadata": {
    "collapsed": false
   },
   "outputs": [
    {
     "data": {
      "image/png": "[encoded data removed]",
      "text/plain": [
       "<matplotlib.figure.Figure at 0x7f47e4d4d710>"
      ]
     },
     "execution_count": 51,
     "metadata": {},
     "output_type": "execute_result"
    },
    {
     "data": {
      "image/png": "[encoded data removed]",
      "text/plain": [
       "<matplotlib.figure.Figure at 0x7f47e4d4d710>"
      ]
     },
     "metadata": {},
     "output_type": "display_data"
    }
   ],
   "source": [
    "qqplot(ingresosNoOut.resid,line='r')"
   ]
  },
  {
   "cell_type": "markdown",
   "metadata": {},
   "source": [
    "Se observa que la variabilidad en los residuos es mayor en los tramos de ingreso superiores. No es constante. HAY UNA SUBESTIMACION CUANDO SE USA EL CAPECO PARA PREDECIR INGRESO"
   ]
  },
  {
   "cell_type": "code",
   "execution_count": null,
   "metadata": {
    "collapsed": true
   },
   "outputs": [],
   "source": [
    "import pysal as ps\n",
    "def dbf2DF(dbfile, upper=True): #Reads in DBF files and returns Pandas DF\n",
    "    '''\n",
    "    Arguments\n",
    "    ---------\n",
    "    dbfile  : DBF file - Input to be imported\n",
    "    upper   : Condition - If true, make column heads upper case\n",
    "    '''\n",
    "    db = ps.open(dbfile) #Pysal to open DBF\n",
    "    #d = {col: db.by_col(col) for col in db.header} #Convert dbf to dictionary\n",
    "    #pandasDF = pd.DataFrame(db[:]) #Convert to Pandas DF\n",
    "    #pandasDF.columns=db.header\n",
    "    #pandasDF.dropna(inplace=True)\n",
    "    #return pandasDF\n",
    "    return db\n",
    "db = dbf2DF('../dt/t310/Hogar_t310.dbf')\n",
    "columnas = [u'CODUSU',\n",
    " u'NRO_HOGAR', u'PONDERA',]\n",
    "d = {col: db.by_col(col) for col in columnas}\n",
    "hogar = pd.DataFrame(d)\n",
    "hogar['id'] = hogar.CODUSU.map(str) + hogar.NRO_HOGAR.map(str)\n",
    "hogar.drop(['CODUSU','NRO_HOGAR'],axis=1,inplace=True)\n",
    "hogar.head()"
   ]
  },
  {
   "cell_type": "markdown",
   "metadata": {},
   "source": [
    "## Residuos con p21 y el exponente de lo predicho"
   ]
  },
  {
   "cell_type": "code",
   "execution_count": null,
   "metadata": {
    "collapsed": false
   },
   "outputs": [],
   "source": [
    "ind3t10Model['predictedE'] = np.exp(model.predict(X))"
   ]
  },
  {
   "cell_type": "code",
   "execution_count": null,
   "metadata": {
    "collapsed": false
   },
   "outputs": [],
   "source": [
    "sns.lmplot(x = 'P21', y ='predictedE',data=ind3t10Model)\n",
    "plt.xlabel('Ln Ingreso')\n",
    "plt.ylabel('Ln Ingreso Estimado')"
   ]
  },
  {
   "cell_type": "code",
   "execution_count": null,
   "metadata": {
    "collapsed": false
   },
   "outputs": [],
   "source": [
    "ind3t10Model['residE'] = ind3t10Model.P21 - ind3t10Model.predictedE \n",
    "print 'media ponderada de los residuos:%.4f'%np.average(ind3t10Model.residE, weights=1./ind3t10Model.PONDERA)"
   ]
  },
  {
   "cell_type": "code",
   "execution_count": null,
   "metadata": {
    "collapsed": false
   },
   "outputs": [],
   "source": [
    "sns.lmplot(x = 'predictedE', y ='residE',data=ind3t10Model)\n"
   ]
  },
  {
   "cell_type": "code",
   "execution_count": null,
   "metadata": {
    "collapsed": true
   },
   "outputs": [],
   "source": [
    "ind3t10Model['residEStd'] = (ind3t10Model.residE - ind3t10Model.residE.mean()) / ind3t10Model.resid.std()"
   ]
  },
  {
   "cell_type": "code",
   "execution_count": null,
   "metadata": {
    "collapsed": false
   },
   "outputs": [],
   "source": [
    "sns.lmplot(x = 'predictedE', y ='residEStd',data=ind3t10Model)\n"
   ]
  }
 ],
 "metadata": {
  "anaconda-cloud": {},
  "kernelspec": {
   "display_name": "Python 2",
   "language": "python",
   "name": "python2"
  },
  "language_info": {
   "codemirror_mode": {
    "name": "ipython",
    "version": 2
   },
   "file_extension": ".py",
   "mimetype": "text/x-python",
   "name": "python",
   "nbconvert_exporter": "python",
   "pygments_lexer": "ipython2",
   "version": "2.7.13"
  }
 },
 "nbformat": 4,
 "nbformat_minor": 1
}
