{
 "cells": [
  {
   "cell_type": "code",
   "execution_count": 1,
   "metadata": {
    "collapsed": false
   },
   "outputs": [
    {
     "name": "stderr",
     "output_type": "stream",
     "text": [
      "/home/pipe/anaconda2/lib/python2.7/site-packages/sklearn/cross_validation.py:44: DeprecationWarning: This module was deprecated in version 0.18 in favor of the model_selection module into which all the refactored classes and functions are moved. Also note that the interface of the new CV iterators are different from that of this module. This module will be removed in 0.20.\n",
      "  \"This module will be removed in 0.20.\", DeprecationWarning)\n"
     ]
    }
   ],
   "source": [
    "#libraries\n",
    "import thesisFunctions\n",
    "import pandas as pd\n",
    "import numpy as np\n",
    "import statsmodels.api as sm\n",
    "from sklearn.linear_model import LinearRegression\n",
    "from sklearn.cross_validation import train_test_split\n",
    "import seaborn as sns\n",
    "sns.set_style('ticks')\n",
    "\n",
    "from scipy.stats import normaltest\n",
    "import matplotlib.pyplot as plt\n",
    "plt.rcParams['figure.figsize'] = (16.0, 12.0)\n",
    "\n",
    "%matplotlib inline"
   ]
  },
  {
   "cell_type": "markdown",
   "metadata": {},
   "source": [
    "# Introduccion\n",
    "\n",
    "El proposito de este trabajo es actualizar el indice CAPECO creado por el INDEC, con datos del censo de 2001, con los datos del censo 2010. El modelo subyacente utiliza las siguientes variables para aproximarse al ingreso individual de las personas:\n",
    "\n",
    "* Años de escolaridad primaria (*primary*)\n",
    "* Años de escolaridad secundaria (*secondary*)\n",
    "* Años de escolaridad universitaria (*university*)\n",
    "* Varón entre 14 y 24 años (*male_14to24*)\n",
    "* Varón entre 25 y 34 años (*male_25to34*)\n",
    "* Mujer entre 14 y 24 años (*female_14to24*)\n",
    "* Mujer entre 25 y 34 años (*female_25to34*)\n",
    "* Mujer entre de 35 años o más (*female_35more*)\n",
    "\n",
    "El modelo original incluye la región a la que pertenece la persona (los ingresos varían según la región del país) y si la persona percibía jubilación o pensión. Sin embargo en este trabajo únicamente analizamos el modelo para la región del Aglomerado Gran Buenos Aires y en el censo 2010 no se preguntó en el formulario básico sobre la percepción de jubilación o pensión."
   ]
  },
  {
   "cell_type": "markdown",
   "metadata": {},
   "source": [
    "# El modelo\n",
    "Creamos una tabla de datos con los registros personales de la EPH para el tercer trimestre de 2010, las varibables de interés en la especificación requerida por el modelo y el ponderador. Uno de los requerimientos del modelo es trabajar con el logaritmo del ingreso. Esta variable será nuestra regresor."
   ]
  },
  {
   "cell_type": "code",
   "execution_count": 2,
   "metadata": {
    "collapsed": false,
    "scrolled": true
   },
   "outputs": [
    {
     "data": {
      "text/html": [
       "<div>\n",
       "<table border=\"1\" class=\"dataframe\">\n",
       "  <thead>\n",
       "    <tr style=\"text-align: right;\">\n",
       "      <th></th>\n",
       "      <th>CODUSU</th>\n",
       "      <th>NRO_HOGAR</th>\n",
       "      <th>COMPONENTE</th>\n",
       "      <th>AGLOMERADO</th>\n",
       "      <th>PONDERA</th>\n",
       "      <th>familyRelation</th>\n",
       "      <th>female</th>\n",
       "      <th>age</th>\n",
       "      <th>schoolLevel</th>\n",
       "      <th>finishedYear</th>\n",
       "      <th>...</th>\n",
       "      <th>male_25to34</th>\n",
       "      <th>female_14to24</th>\n",
       "      <th>female_25to34</th>\n",
       "      <th>female_35more</th>\n",
       "      <th>education</th>\n",
       "      <th>education2</th>\n",
       "      <th>age2</th>\n",
       "      <th>id</th>\n",
       "      <th>lnIncome</th>\n",
       "      <th>lnIncomeT</th>\n",
       "    </tr>\n",
       "  </thead>\n",
       "  <tbody>\n",
       "    <tr>\n",
       "      <th>0</th>\n",
       "      <td>302468</td>\n",
       "      <td>1</td>\n",
       "      <td>1</td>\n",
       "      <td>32</td>\n",
       "      <td>1287</td>\n",
       "      <td>1</td>\n",
       "      <td>1</td>\n",
       "      <td>20</td>\n",
       "      <td>7.0</td>\n",
       "      <td>2</td>\n",
       "      <td>...</td>\n",
       "      <td>0</td>\n",
       "      <td>1</td>\n",
       "      <td>0</td>\n",
       "      <td>0</td>\n",
       "      <td>13.0</td>\n",
       "      <td>169.0</td>\n",
       "      <td>400</td>\n",
       "      <td>3024681</td>\n",
       "      <td>0.000000</td>\n",
       "      <td>7.600902</td>\n",
       "    </tr>\n",
       "    <tr>\n",
       "      <th>1</th>\n",
       "      <td>302468</td>\n",
       "      <td>1</td>\n",
       "      <td>2</td>\n",
       "      <td>32</td>\n",
       "      <td>1287</td>\n",
       "      <td>10</td>\n",
       "      <td>1</td>\n",
       "      <td>20</td>\n",
       "      <td>6.0</td>\n",
       "      <td>2</td>\n",
       "      <td>...</td>\n",
       "      <td>0</td>\n",
       "      <td>1</td>\n",
       "      <td>0</td>\n",
       "      <td>0</td>\n",
       "      <td>13.0</td>\n",
       "      <td>169.0</td>\n",
       "      <td>400</td>\n",
       "      <td>3024681</td>\n",
       "      <td>0.000000</td>\n",
       "      <td>7.600902</td>\n",
       "    </tr>\n",
       "    <tr>\n",
       "      <th>2</th>\n",
       "      <td>307861</td>\n",
       "      <td>1</td>\n",
       "      <td>1</td>\n",
       "      <td>32</td>\n",
       "      <td>1674</td>\n",
       "      <td>1</td>\n",
       "      <td>0</td>\n",
       "      <td>42</td>\n",
       "      <td>2.0</td>\n",
       "      <td>1</td>\n",
       "      <td>...</td>\n",
       "      <td>0</td>\n",
       "      <td>0</td>\n",
       "      <td>0</td>\n",
       "      <td>0</td>\n",
       "      <td>7.0</td>\n",
       "      <td>49.0</td>\n",
       "      <td>1764</td>\n",
       "      <td>3078611</td>\n",
       "      <td>8.006368</td>\n",
       "      <td>8.006368</td>\n",
       "    </tr>\n",
       "    <tr>\n",
       "      <th>3</th>\n",
       "      <td>307861</td>\n",
       "      <td>1</td>\n",
       "      <td>2</td>\n",
       "      <td>32</td>\n",
       "      <td>1674</td>\n",
       "      <td>2</td>\n",
       "      <td>1</td>\n",
       "      <td>44</td>\n",
       "      <td>7.0</td>\n",
       "      <td>1</td>\n",
       "      <td>...</td>\n",
       "      <td>0</td>\n",
       "      <td>0</td>\n",
       "      <td>0</td>\n",
       "      <td>1</td>\n",
       "      <td>17.0</td>\n",
       "      <td>289.0</td>\n",
       "      <td>1936</td>\n",
       "      <td>3078611</td>\n",
       "      <td>7.937375</td>\n",
       "      <td>7.937375</td>\n",
       "    </tr>\n",
       "    <tr>\n",
       "      <th>4</th>\n",
       "      <td>307861</td>\n",
       "      <td>1</td>\n",
       "      <td>3</td>\n",
       "      <td>32</td>\n",
       "      <td>1674</td>\n",
       "      <td>3</td>\n",
       "      <td>0</td>\n",
       "      <td>13</td>\n",
       "      <td>4.0</td>\n",
       "      <td>2</td>\n",
       "      <td>...</td>\n",
       "      <td>0</td>\n",
       "      <td>0</td>\n",
       "      <td>0</td>\n",
       "      <td>0</td>\n",
       "      <td>7.0</td>\n",
       "      <td>49.0</td>\n",
       "      <td>169</td>\n",
       "      <td>3078611</td>\n",
       "      <td>0.000000</td>\n",
       "      <td>0.000000</td>\n",
       "    </tr>\n",
       "  </tbody>\n",
       "</table>\n",
       "<p>5 rows × 32 columns</p>\n",
       "</div>"
      ],
      "text/plain": [
       "   CODUSU  NRO_HOGAR  COMPONENTE  AGLOMERADO  PONDERA  familyRelation  female  \\\n",
       "0  302468          1           1          32     1287               1       1   \n",
       "1  302468          1           2          32     1287              10       1   \n",
       "2  307861          1           1          32     1674               1       0   \n",
       "3  307861          1           2          32     1674               2       1   \n",
       "4  307861          1           3          32     1674               3       0   \n",
       "\n",
       "   age  schoolLevel  finishedYear    ...      male_25to34  female_14to24  \\\n",
       "0   20          7.0             2    ...                0              1   \n",
       "1   20          6.0             2    ...                0              1   \n",
       "2   42          2.0             1    ...                0              0   \n",
       "3   44          7.0             1    ...                0              0   \n",
       "4   13          4.0             2    ...                0              0   \n",
       "\n",
       "   female_25to34  female_35more  education  education2  age2       id  \\\n",
       "0              0              0       13.0       169.0   400  3024681   \n",
       "1              0              0       13.0       169.0   400  3024681   \n",
       "2              0              0        7.0        49.0  1764  3078611   \n",
       "3              0              1       17.0       289.0  1936  3078611   \n",
       "4              0              0        7.0        49.0   169  3078611   \n",
       "\n",
       "   lnIncome  lnIncomeT  \n",
       "0  0.000000   7.600902  \n",
       "1  0.000000   7.600902  \n",
       "2  8.006368   8.006368  \n",
       "3  7.937375   7.937375  \n",
       "4  0.000000   0.000000  \n",
       "\n",
       "[5 rows x 32 columns]"
      ]
     },
     "execution_count": 2,
     "metadata": {},
     "output_type": "execute_result"
    }
   ],
   "source": [
    "ind3t10 = pd.read_csv('../dt/t310/ind3t10.csv') \n",
    "ind3t10.head()"
   ]
  },
  {
   "cell_type": "code",
   "execution_count": 3,
   "metadata": {
    "collapsed": false
   },
   "outputs": [],
   "source": [
    "estado = []\n",
    "for i in ind3t10.activity:\n",
    "    if i == 1.0:\n",
    "        estado.append('Ocupado')\n",
    "    elif i == 2.0:\n",
    "        estado.append('Desocupado')\n",
    "    elif i == 3.0:\n",
    "        estado.append('Inactivo')\n",
    "    elif i == 4.0:\n",
    "        estado.append('Menor')\n",
    "    else:\n",
    "        estado.append(np.nan)\n",
    "        \n",
    "ind3t10['estado'] = estado\n",
    "ind3t10['genero'] = ['Mujer' if i==1 else 'Varon' for i in ind3t10.female ]\n"
   ]
  },
  {
   "cell_type": "code",
   "execution_count": 4,
   "metadata": {
    "collapsed": false
   },
   "outputs": [],
   "source": [
    "dataPlot = ind3t10.loc[:,['CODUSU','PONDERA','female','genero','estado','empCond', 'unempCond','education','age','lnIncome',u'P47T', u'P21']]"
   ]
  },
  {
   "cell_type": "code",
   "execution_count": 5,
   "metadata": {
    "collapsed": true
   },
   "outputs": [],
   "source": [
    "#lnIncome = ind3t10.lnIncome.loc[np.repeat(ind3t10.index.values,ind3t10.PONDERA)]\n",
    "#estado = estado.loc[np.repeat(ind3t10.index.values,ind3t10.PONDERA)]\n",
    "#dataPlot = pd.DataFrame(lnIncome,columns=['lnIncome'])\n",
    "#dataPlot['estado'] = estado"
   ]
  },
  {
   "cell_type": "code",
   "execution_count": 6,
   "metadata": {
    "collapsed": false
   },
   "outputs": [],
   "source": [
    "dataPlot=dataPlot.loc[np.repeat(dataPlot.index.values,dataPlot.PONDERA)]"
   ]
  },
  {
   "cell_type": "code",
   "execution_count": 7,
   "metadata": {
    "collapsed": false
   },
   "outputs": [
    {
     "data": {
      "image/png": "[encoded data removed]",
      "text/plain": [
       "<matplotlib.figure.Figure at 0x7fe186f28f50>"
      ]
     },
     "metadata": {},
     "output_type": "display_data"
    }
   ],
   "source": [
    "fig, ax = plt.subplots()\n",
    "fig.set_size_inches(8, 6)\n",
    "sns.kdeplot(data=dataPlot.lnIncome, ax=ax)    \n",
    "sns.despine()\n",
    "plt.title(u'Distribución del logaritmo del Ingreso')\n",
    "plt.xlabel('ln Ingreso')\n",
    "ax.legend_.remove()\n",
    "fig.savefig('../img/capitulo3/kdePlotIngreso1.png')\n"
   ]
  },
  {
   "cell_type": "markdown",
   "metadata": {},
   "source": [
    "Numerosos casos registran nulos ingresos 0 y/o actualmente no tienen trabajo. Este modelo basado en el paradigma de capital humano, se sustenta en los retornos que el mercado de trabajo ofrece a la inversión en educación por parte de los individuos. De modo que, solo puede dar cuenta de los ingresos laborales de aquellos que tienen trabajo. Esto implica una limitación a la hora de percibir el conjunto de los ingresos (de los cuales los laborales, si bien una parte importante, constituyen solo una porción). Al mismo tiempo, las personas con trabajo que no perciben ingresos y tienen trabajo constituyen un caso extremo que perjudica la performance del modelo. Puede deberse a que el trabajo es reciente y aún no cobraron el primer salario."
   ]
  },
  {
   "cell_type": "code",
   "execution_count": 8,
   "metadata": {
    "collapsed": false
   },
   "outputs": [
    {
     "data": {
      "image/png": "[encoded data removed]",
      "text/plain": [
       "<matplotlib.figure.Figure at 0x7fe186ee4110>"
      ]
     },
     "metadata": {},
     "output_type": "display_data"
    }
   ],
   "source": [
    "fig, ax = plt.subplots()\n",
    "fig.set_size_inches(8, 6)\n",
    "sns.boxplot(x=\"estado\", y=\"lnIncome\", data=dataPlot)\n",
    "sns.despine()\n",
    "plt.title(u'Distribución del logaritmo del Ingreso según condición de actividad')\n",
    "plt.xlabel(u'Condición de actividad')\n",
    "plt.ylabel('ln Ingreso')\n",
    "fig.savefig('../img/capitulo3/kdePlotIngreso2.png')\n"
   ]
  },
  {
   "cell_type": "markdown",
   "metadata": {},
   "source": [
    "Por ello, eliminamos del set de datos que utilizaremos para el modelo a aquellos que no perciben ningun tipo de ingreso o que no se encuentran trabajando."
   ]
  },
  {
   "cell_type": "code",
   "execution_count": 9,
   "metadata": {
    "collapsed": true
   },
   "outputs": [],
   "source": [
    "jobsAndIncome = ((ind3t10.activity==1) & (ind3t10.lnIncome>1))\n",
    "ind3t10Model = ind3t10.copy().loc[jobsAndIncome,:]"
   ]
  },
  {
   "cell_type": "code",
   "execution_count": 10,
   "metadata": {
    "collapsed": true
   },
   "outputs": [],
   "source": [
    "jobsAndIncome = ((dataPlot.estado=='Ocupado') & (dataPlot.lnIncome>1))\n",
    "dataPlotModel = dataPlot.copy().loc[jobsAndIncome,:]"
   ]
  },
  {
   "cell_type": "code",
   "execution_count": null,
   "metadata": {
    "collapsed": true
   },
   "outputs": [],
   "source": []
  },
  {
   "cell_type": "code",
   "execution_count": null,
   "metadata": {
    "collapsed": false
   },
   "outputs": [],
   "source": [
    "normal = np.random.normal(loc=dataPlotModel.lnIncome.mean(),\n",
    "                 scale=dataPlotModel.lnIncome.std(),\n",
    "                 size=len(dataPlotModel.lnIncome))\n",
    "\n",
    "fig, ax = plt.subplots()\n",
    "fig.set_size_inches(8, 6)\n",
    "sns.kdeplot(dataPlotModel.lnIncome)\n",
    "sns.kdeplot(normal)\n",
    "sns.despine()\n",
    "plt.title(u'Distribución del logaritmo del Ingreso')\n",
    "plt.xlabel('ln Ingreso')\n",
    "fig.savefig('../img/capitulo3/kdePlotIngreso3.png')\n"
   ]
  },
  {
   "cell_type": "code",
   "execution_count": null,
   "metadata": {
    "collapsed": false
   },
   "outputs": [],
   "source": [
    "normalSinPon = np.random.normal(loc=ind3t10Model.lnIncome.mean(),\n",
    "                 scale=ind3t10Model.lnIncome.std(),\n",
    "                 size=len(ind3t10Model.lnIncome))\n",
    "\n",
    "fig, ax = plt.subplots()\n",
    "fig.set_size_inches(8, 6)\n",
    "sns.kdeplot(ind3t10Model.lnIncome)\n",
    "sns.kdeplot(normalSinPon)\n",
    "sns.despine()\n",
    "plt.title(u'Distribución del logaritmo del Ingreso')\n",
    "plt.xlabel('ln Ingreso')\n"
   ]
  },
  {
   "cell_type": "code",
   "execution_count": null,
   "metadata": {
    "collapsed": false
   },
   "outputs": [],
   "source": [
    "normaltest(dataPlotModel.lnIncome)"
   ]
  },
  {
   "cell_type": "code",
   "execution_count": null,
   "metadata": {
    "collapsed": false
   },
   "outputs": [],
   "source": [
    "normalP21 = np.random.normal(loc=dataPlotModel.P21.mean(),\n",
    "                 scale=dataPlotModel.P21.std(),\n",
    "                 size=len(dataPlotModel.P21))\n",
    "\n",
    "fig, ax = plt.subplots()\n",
    "fig.set_size_inches(8, 6)\n",
    "sns.kdeplot(dataPlotModel.P21)\n",
    "sns.kdeplot(normalP21)\n",
    "sns.despine()\n",
    "plt.title(u'Distribución del logaritmo del Ingreso')\n",
    "plt.xlabel('ln Ingreso')"
   ]
  },
  {
   "cell_type": "code",
   "execution_count": null,
   "metadata": {
    "collapsed": true
   },
   "outputs": [],
   "source": []
  },
  {
   "cell_type": "code",
   "execution_count": null,
   "metadata": {
    "collapsed": true
   },
   "outputs": [],
   "source": []
  },
  {
   "cell_type": "markdown",
   "metadata": {},
   "source": [
    "La distirbución de la variable se asemeja a una distribución normal, con p-value menor a 5%. Esto mejora la performance del modelo."
   ]
  },
  {
   "cell_type": "code",
   "execution_count": null,
   "metadata": {
    "collapsed": false
   },
   "outputs": [],
   "source": [
    "normaltest(ind3t10Model.lnIncome)"
   ]
  },
  {
   "cell_type": "code",
   "execution_count": null,
   "metadata": {
    "collapsed": false
   },
   "outputs": [],
   "source": [
    "normaltest(dataPlotModel.lnIncome)"
   ]
  },
  {
   "cell_type": "code",
   "execution_count": null,
   "metadata": {
    "collapsed": false
   },
   "outputs": [],
   "source": [
    "dataPlot.head()"
   ]
  },
  {
   "cell_type": "code",
   "execution_count": null,
   "metadata": {
    "collapsed": false
   },
   "outputs": [],
   "source": [
    "dataPlot['salarioVtotal'] = dataPlot.P21.replace(1,0) *1. / dataPlot.P47T"
   ]
  },
  {
   "cell_type": "code",
   "execution_count": null,
   "metadata": {
    "collapsed": false
   },
   "outputs": [],
   "source": [
    "fig, ax = plt.subplots()\n",
    "fig.set_size_inches(8, 6)\n",
    "sns.boxplot(x=\"estado\", y=\"salarioVtotal\", data=dataPlot)\n",
    "sns.despine()\n",
    "plt.title(u'Proporción del ingreso salarial sobre el total según condición de actividad')\n",
    "plt.xlabel(u'Condición de actividad')\n",
    "plt.ylabel(u'Proporción del ingreso salarial sobre el total')\n",
    "fig.savefig('../img/capitulo3/ingresoSalarialVtotal.png')\n"
   ]
  },
  {
   "cell_type": "code",
   "execution_count": null,
   "metadata": {
    "collapsed": false
   },
   "outputs": [],
   "source": [
    "dataPlot.salarioVtotal[dataPlot.estado=='Ocupado'].describe()"
   ]
  },
  {
   "cell_type": "markdown",
   "metadata": {},
   "source": [
    "Siendo las dos variable fundamentales de este modelo la edad, los años de escolaridad y el género, podemos explorar como se comportan estas variables en relación al logaritmo del ingreso. Dado que la EPH utiliza ponderadores, los resultados visuales pueden ser algo engañosos en la medida en que cada punto no representa igual cantidad de casos. "
   ]
  },
  {
   "cell_type": "markdown",
   "metadata": {},
   "source": [
    "## Genero"
   ]
  },
  {
   "cell_type": "code",
   "execution_count": 34,
   "metadata": {
    "collapsed": false
   },
   "outputs": [
    {
     "data": {
      "image/png": "[encoded data removed]",
      "text/plain": [
       "<matplotlib.figure.Figure at 0x7fe106a73410>"
      ]
     },
     "metadata": {},
     "output_type": "display_data"
    }
   ],
   "source": [
    "fig = plt.figure(figsize=(16,6))\n",
    "ax1= fig.add_subplot(1,2,1)\n",
    "ax2= fig.add_subplot(1,2,2)\n",
    "\n",
    "sns.boxplot(x=\"genero\", y=\"lnIncome\", data=dataPlotModel,ax=ax1)\n",
    "sns.boxplot(x=\"genero\", y=\"P21\", data=dataPlotModel,ax=ax2)\n",
    "sns.despine()\n",
    "ax1.set_title(u'Ingreso de la ocupación principal (ln) según género')\n",
    "ax2.set_title(u'Ingreso de la ocupación principal en pesos de 2010 según género')\n",
    "\n",
    "ax1.set_xlabel(u'Género')\n",
    "ax1.set_xlabel(u'Género')\n",
    "ax1.set_ylabel(u'Ingreso de la ocupación principal (ln)')\n",
    "ax2.set_ylabel(u'Ingreso de la ocupación principal en pesos de 2010')\n",
    "\n",
    "\n",
    "fig.savefig('../img/capitulo3/ingresoVgenero.png')"
   ]
  },
  {
   "cell_type": "code",
   "execution_count": 25,
   "metadata": {
    "collapsed": false
   },
   "outputs": [
    {
     "name": "stdout",
     "output_type": "stream",
     "text": [
      "La media del ingreso de la mujer es el 93.84 de la del varón (en escala logarítmica)\n",
      "La mediana del ingreso de la mujer es el 95.31 de la del varón (en escala logarítmica)\n"
     ]
    }
   ],
   "source": [
    "print 'La media del ingreso de la mujer es el %.2f de la del varón (en escala logarítmica)' %\\\n",
    "(dataFem.lnIncome.describe()['mean']/dataMasc.lnIncome.describe()['mean'] * 100)\n",
    "\n",
    "print 'La mediana del ingreso de la mujer es el %.2f de la del varón (en escala logarítmica)' %\\\n",
    "(dataFem.lnIncome.describe()['50%']/dataMasc.lnIncome.describe()['50%'] * 100)"
   ]
  },
  {
   "cell_type": "code",
   "execution_count": 35,
   "metadata": {
    "collapsed": false
   },
   "outputs": [
    {
     "name": "stdout",
     "output_type": "stream",
     "text": [
      "La media del ingreso de la mujer es el 70.55 de la del varón \n",
      "La mediana del ingreso de la mujer es el 69.57 de la del varón \n"
     ]
    }
   ],
   "source": [
    "print 'La media del ingreso de la mujer es el %.2f de la del varón ' %\\\n",
    "(dataFem.P21.describe()['mean']/dataMasc.P21.describe()['mean'] * 100)\n",
    "\n",
    "print 'La mediana del ingreso de la mujer es el %.2f de la del varón ' %\\\n",
    "(dataFem.P21.describe()['50%']/dataMasc.P21.describe()['50%'] * 100)"
   ]
  },
  {
   "cell_type": "code",
   "execution_count": 15,
   "metadata": {
    "collapsed": true
   },
   "outputs": [],
   "source": [
    "dataMasc = dataPlotModel.loc[dataPlotModel.female==0,:]\n",
    "dataFem = dataPlotModel.loc[dataPlotModel.female==1,:]"
   ]
  },
  {
   "cell_type": "code",
   "execution_count": 62,
   "metadata": {
    "collapsed": false
   },
   "outputs": [],
   "source": [
    "\n",
    "#fig, ax = plt.subplots()\n",
    "#fig.set_size_inches(8, 6)\n",
    "#sns.kdeplot(dataMasc.lnIncome)\n",
    "#sns.kdeplot(dataFem.lnIncome)\n",
    "#sns.despine()\n",
    "#plt.title(u'Distribución del logaritmo del Ingreso')\n",
    "#plt.xlabel('ln Ingreso')\n",
    "#fig.savefig('../img/capitulo3/kdePlotIngreso3.png')"
   ]
  },
  {
   "cell_type": "code",
   "execution_count": 63,
   "metadata": {
    "collapsed": false
   },
   "outputs": [
    {
     "data": {
      "text/plain": [
       "'\\ng = sns.JointGrid(x=\"education\", y=\"lnIncome\", data = dataMasc)  \\ng.plot_joint(sns.regplot, order=2)\\nregline = g.ax_joint.get_lines()[0]\\nregline.set_color(\\'red\\')\\nregline.set_zorder(\\'5\\')\\n\\ng.plot_marginals(sns.distplot)\\ng.savefig(\\'../img/capitulo3/ingresoVeduM.png\\')\\n\\ng = sns.JointGrid(x=\"education\", y=\"lnIncome\", data = dataFem)  \\ng.plot_joint(sns.regplot, order=2)\\nregline = g.ax_joint.get_lines()[0]\\nregline.set_color(\\'red\\')\\nregline.set_zorder(\\'5\\')\\n\\ng.plot_marginals(sns.distplot)\\ng.savefig(\\'../img/capitulo3/ingresoVeduF.png\\')\\n\\ng = sns.JointGrid(x=\"age\", y=\"lnIncome\", data = dataMasc)  \\ng.plot_joint(sns.regplot, order=2)\\nregline = g.ax_joint.get_lines()[0]\\nregline.set_color(\\'red\\')\\nregline.set_zorder(\\'5\\')\\n\\ng.plot_marginals(sns.distplot)\\n\\n\\ng.savefig(\\'../img/capitulo3/ingresoVageM.png\\')\\n\\ng = sns.JointGrid(x=\"age\", y=\"lnIncome\", data = dataFem)  \\ng.plot_joint(sns.regplot, order=2)\\nregline = g.ax_joint.get_lines()[0]\\nregline.set_color(\\'red\\')\\nregline.set_zorder(\\'5\\')\\n\\ng.plot_marginals(sns.distplot)\\n\\ng.savefig(\\'../img/capitulo3/ingresoVageF.png\\')\\n\\ndataPlotModel\\ng = sns.JointGrid(x=\"education\", y=\"lnIncome\", data = dataPlotModel)  \\ng.plot_joint(sns.regplot, order=2)\\nregline = g.ax_joint.get_lines()[0]\\nregline.set_color(\\'red\\')\\nregline.set_zorder(\\'5\\')\\n\\ng.plot_marginals(sns.distplot)\\ng.savefig(\\'../img/capitulo3/ingresoVedu.png\\')\\n\\ng = sns.JointGrid(x=\"age\", y=\"lnIncome\", data = dataPlotModel)  \\ng.plot_joint(sns.regplot, order=2)\\nregline = g.ax_joint.get_lines()[0]\\nregline.set_color(\\'red\\')\\nregline.set_zorder(\\'5\\')\\n\\ng.plot_marginals(sns.distplot)\\n\\ng.savefig(\\'../img/capitulo3/ingresoVage.png\\')\\n'"
      ]
     },
     "execution_count": 63,
     "metadata": {},
     "output_type": "execute_result"
    }
   ],
   "source": [
    "'''\n",
    "g = sns.JointGrid(x=\"education\", y=\"lnIncome\", data = dataMasc)  \n",
    "g.plot_joint(sns.regplot, order=2)\n",
    "regline = g.ax_joint.get_lines()[0]\n",
    "regline.set_color('red')\n",
    "regline.set_zorder('5')\n",
    "\n",
    "g.plot_marginals(sns.distplot)\n",
    "g.savefig('../img/capitulo3/ingresoVeduM.png')\n",
    "\n",
    "g = sns.JointGrid(x=\"education\", y=\"lnIncome\", data = dataFem)  \n",
    "g.plot_joint(sns.regplot, order=2)\n",
    "regline = g.ax_joint.get_lines()[0]\n",
    "regline.set_color('red')\n",
    "regline.set_zorder('5')\n",
    "\n",
    "g.plot_marginals(sns.distplot)\n",
    "g.savefig('../img/capitulo3/ingresoVeduF.png')\n",
    "\n",
    "g = sns.JointGrid(x=\"age\", y=\"lnIncome\", data = dataMasc)  \n",
    "g.plot_joint(sns.regplot, order=2)\n",
    "regline = g.ax_joint.get_lines()[0]\n",
    "regline.set_color('red')\n",
    "regline.set_zorder('5')\n",
    "\n",
    "g.plot_marginals(sns.distplot)\n",
    "\n",
    "\n",
    "g.savefig('../img/capitulo3/ingresoVageM.png')\n",
    "\n",
    "g = sns.JointGrid(x=\"age\", y=\"lnIncome\", data = dataFem)  \n",
    "g.plot_joint(sns.regplot, order=2)\n",
    "regline = g.ax_joint.get_lines()[0]\n",
    "regline.set_color('red')\n",
    "regline.set_zorder('5')\n",
    "\n",
    "g.plot_marginals(sns.distplot)\n",
    "\n",
    "g.savefig('../img/capitulo3/ingresoVageF.png')\n",
    "\n",
    "dataPlotModel\n",
    "g = sns.JointGrid(x=\"education\", y=\"lnIncome\", data = dataPlotModel)  \n",
    "g.plot_joint(sns.regplot, order=2)\n",
    "regline = g.ax_joint.get_lines()[0]\n",
    "regline.set_color('red')\n",
    "regline.set_zorder('5')\n",
    "\n",
    "g.plot_marginals(sns.distplot)\n",
    "g.savefig('../img/capitulo3/ingresoVedu.png')\n",
    "\n",
    "g = sns.JointGrid(x=\"age\", y=\"lnIncome\", data = dataPlotModel)  \n",
    "g.plot_joint(sns.regplot, order=2)\n",
    "regline = g.ax_joint.get_lines()[0]\n",
    "regline.set_color('red')\n",
    "regline.set_zorder('5')\n",
    "\n",
    "g.plot_marginals(sns.distplot)\n",
    "\n",
    "g.savefig('../img/capitulo3/ingresoVage.png')\n",
    "'''"
   ]
  },
  {
   "cell_type": "markdown",
   "metadata": {},
   "source": [
    "El comportamiento de la variable es similar (a pesar de una media de ingreso superior en los hombres). A mayor escolarización mayor salario. Pero esta relación no es lineal, sino que cada año de escolaridad de los tramos superiores ofrece mayores retornos que cada año de los tramos inferiores de escolaridad. Así por ejemplo un año adicional de universidad incrementa más el salario que un año adicional de primaria.\n",
    "\n",
    "En lo que corresponde a la edad, parece haber una relación creciente hasta pasados los 30 años. Llegada esa edad hay un amesetamiento por el cual no hay incrementos salariales a partir de la edad, para luego comenzar un proceso descendente (el año que inicia el cambio de tendencia hacia el descenso cambia de acuerdo al género: en las mujeres este proceso parece ser durante los 50s mientras que en los hombres en los 60s, lo que coincide con las diferencias en las edades jubilatorias legales)."
   ]
  },
  {
   "cell_type": "code",
   "execution_count": 79,
   "metadata": {
    "collapsed": false
   },
   "outputs": [
    {
     "data": {
      "image/png": "[encoded data removed]",
      "text/plain": [
       "<matplotlib.figure.Figure at 0x7fe106b9bf50>"
      ]
     },
     "metadata": {},
     "output_type": "display_data"
    }
   ],
   "source": [
    "listaVariables=['female','education','lnIncome','age']\n",
    "#sns.set(context=\"paper\", font=\"monospace\", font_scale=2)\n",
    "\n",
    "corrmat = dataPlotModel.loc[:,listaVariables].corr()\n",
    "f, ax = plt.subplots(figsize=(10, 8))\n",
    "sns.heatmap(corrmat,\n",
    "            xticklabels = ['Mujer',u'Escolaridad','Ingreso (ln)','Edad'],\n",
    "            yticklabels = ['Mujer',u'Escolaridad','Ingreso (ln)','Edad']\n",
    "           )\n",
    "f.tight_layout()\n",
    "f.savefig('../img/capitulo3/corrMatrix.png')\n"
   ]
  },
  {
   "cell_type": "code",
   "execution_count": 80,
   "metadata": {
    "collapsed": false
   },
   "outputs": [
    {
     "data": {
      "text/html": [
       "<div>\n",
       "<table border=\"1\" class=\"dataframe\">\n",
       "  <thead>\n",
       "    <tr style=\"text-align: right;\">\n",
       "      <th></th>\n",
       "      <th>female</th>\n",
       "      <th>education</th>\n",
       "      <th>lnIncome</th>\n",
       "      <th>age</th>\n",
       "    </tr>\n",
       "  </thead>\n",
       "  <tbody>\n",
       "    <tr>\n",
       "      <th>female</th>\n",
       "      <td>1.000000</td>\n",
       "      <td>0.125839</td>\n",
       "      <td>-0.267508</td>\n",
       "      <td>0.009527</td>\n",
       "    </tr>\n",
       "    <tr>\n",
       "      <th>education</th>\n",
       "      <td>0.125839</td>\n",
       "      <td>1.000000</td>\n",
       "      <td>0.401385</td>\n",
       "      <td>-0.112473</td>\n",
       "    </tr>\n",
       "    <tr>\n",
       "      <th>lnIncome</th>\n",
       "      <td>-0.267508</td>\n",
       "      <td>0.401385</td>\n",
       "      <td>1.000000</td>\n",
       "      <td>0.046077</td>\n",
       "    </tr>\n",
       "    <tr>\n",
       "      <th>age</th>\n",
       "      <td>0.009527</td>\n",
       "      <td>-0.112473</td>\n",
       "      <td>0.046077</td>\n",
       "      <td>1.000000</td>\n",
       "    </tr>\n",
       "  </tbody>\n",
       "</table>\n",
       "</div>"
      ],
      "text/plain": [
       "             female  education  lnIncome       age\n",
       "female     1.000000   0.125839 -0.267508  0.009527\n",
       "education  0.125839   1.000000  0.401385 -0.112473\n",
       "lnIncome  -0.267508   0.401385  1.000000  0.046077\n",
       "age        0.009527  -0.112473  0.046077  1.000000"
      ]
     },
     "execution_count": 80,
     "metadata": {},
     "output_type": "execute_result"
    }
   ],
   "source": [
    "corrmat"
   ]
  },
  {
   "cell_type": "code",
   "execution_count": 86,
   "metadata": {
    "collapsed": false
   },
   "outputs": [
    {
     "data": {
      "image/png": "[encoded data removed]",
      "text/plain": [
       "<matplotlib.figure.Figure at 0x7fe106b81b10>"
      ]
     },
     "metadata": {},
     "output_type": "display_data"
    }
   ],
   "source": [
    "g = sns.JointGrid(x=\"age\", y=\"education\", data = dataPlotModel)  \n",
    "g.plot_joint(sns.regplot, order=1)\n",
    "regline = g.ax_joint.get_lines()[0]\n",
    "regline.set_color('red')\n",
    "regline.set_zorder('5')\n",
    "\n",
    "g.plot_marginals(sns.distplot)\n",
    "g.savefig('../img/capitulo3/educVage.png')\n"
   ]
  },
  {
   "cell_type": "markdown",
   "metadata": {},
   "source": [
    "# El modelo individual\n",
    "\n",
    "A continuación procedemos a correr el modelo para todos los individuos con ingresos y que se encuentren empleados. La performance del mismo es disimil. Si bien por un lado todos los parametros son estadisticamente significativos para cualquier nivel de confianza, el modelo en su ocnjunto alcanza un R2 de solo 27%. Esto quiere decir que este modelo solo puede dar cuenta del 27% de la variabilidad del logaritmo del ingreso. De todos modos es importante recordar que este modelo no considera elementos fundamentales para el ingreso como la cantidad de horas trabajadas o la rama en la que se desempeña cada persona. Diferentes ramas tienen diferentes productividades y por lo tanto pagan diferentes salarios. \n",
    "\n",
    "De todos modos, el objetivo último de este modelo es ofrecer fundamento para los coeficientes del CAPECO. En todo caso veremos al final que capacidad tiene el CAPECO para dar cuenta de la variabilidad del ingreso. \n",
    "\n",
    "En primer lugar, el intercepto da cuenta del ingreso esperado para un hombre adulto de 35 años o más con 0 años de escolaridad en cualquiera de los 3 niveles. Este constituye el caso base o registro con el cual compararemos al resto de los casos.\n",
    "\n",
    "En segundo lugar los coeficientes dan cuenta de una relación Log-Nivel, esto quiere decir, por tomar el ejemplo del primer coeficiente (años de escolaridad primaria), que un año de escolaridad primaria ofrece un incremento de 7.87% en el ingreso. Dicho de otro modo, un hombre adulto de 35 años o más con 1 año de escolaridad, gana un 7.87% más que nuestro caso base (un hombre adulto de 35 años o más con 0 años de escolaridad). Del mismo modo, un año de escolaridad secundaria ofrece un incremento de 8.38% y un año de escolaridad superior ofrece 12.21%. Como es de esperar, los rendimientos no son lineales. Esto quiere decir que en el mercado laboral se valorizan más los años de escolaridad secundaria que los de primaria y los de educación superior a los de secundaria. El supuetso subyacente es que la productividad del trabajo aumenta con la capacitación que ofrece el sistema educativo.\n",
    "\n",
    "En tercer lugar, los parámetros vinculados a la edad para los hombres, actúan como penalidades. Es decir, se supone que la edad conlleva experiencia y con ella mayor productividad. A su vez, el ciclo vital conlleva que los gastos de personas de tramos etarios superiores sean mayores. Es por ello que los hombres entre 14 y 24 años de edad sin años de escolaridad, ganarán un 42,12% menos que el caso base, manteniendo todas las otras variables consideradas en el modelo constantes. A su vez, un hombre entre 25 y 34 años sin años de escolaridad tendrá un ingreso 15,47% menor al del caso registro.    \n",
    "\n",
    "Finalmente, es necesario tomar en consideración el efecto del género conjugado con la edad. En primer lugar, parámetro que da cuenta del efecto del género al comparar una mujer de 35 años o más sin años de escolaridad con nuestro caso base (un hombre de idénticas características), nos dice que dicha mujer tendría un ingreso 58.43% menor. Para los otros tramos de edades, una mujer entre 14 y 24 años dicha diferencia es de un 92.96 % menos y entre 25 y 34 años es de 62.64% menos. "
   ]
  },
  {
   "cell_type": "code",
   "execution_count": null,
   "metadata": {
    "collapsed": false
   },
   "outputs": [],
   "source": [
    "model = thesisFunctions.runModel(ind3t10Model, income = 'lnIncome', variables= [\n",
    "        'primary','secondary','university',\n",
    "        'male_14to24','male_25to34',\n",
    "        'female_14to24', 'female_25to34', 'female_35more'])"
   ]
  },
  {
   "cell_type": "markdown",
   "metadata": {},
   "source": [
    "## Evaluacion de la regresion"
   ]
  },
  {
   "cell_type": "code",
   "execution_count": null,
   "metadata": {
    "collapsed": false
   },
   "outputs": [],
   "source": [
    "variables= [\n",
    "        'primary','secondary','university',\n",
    "        'male_14to24','male_25to34',\n",
    "        'female_14to24', 'female_25to34', 'female_35more']\n",
    "    \n",
    "X = sm.add_constant(ind3t10Model.copy().loc[:,variables].values)\n",
    "ind3t10Model['predicted'] = model.predict(X)"
   ]
  },
  {
   "cell_type": "code",
   "execution_count": null,
   "metadata": {
    "collapsed": false
   },
   "outputs": [],
   "source": [
    "sns.lmplot(x = 'lnIncome', y ='predicted',data=ind3t10Model)\n",
    "plt.xlabel('Ln Ingreso')\n",
    "plt.ylabel('Ln Ingreso Estimado')"
   ]
  },
  {
   "cell_type": "markdown",
   "metadata": {},
   "source": [
    "el ln del ingreso y los residuos tienne una relacion lineal"
   ]
  },
  {
   "cell_type": "code",
   "execution_count": null,
   "metadata": {
    "collapsed": true
   },
   "outputs": [],
   "source": [
    "from statsmodels.graphics.gofplots import qqplot"
   ]
  },
  {
   "cell_type": "code",
   "execution_count": null,
   "metadata": {
    "collapsed": false
   },
   "outputs": [],
   "source": [
    "#https://www.coursera.org/learn/regression-modeling-practice/lecture/q2xna/python-lesson-4-evaluating-model-fit-pt-1\n",
    "qqplot(model.resid,line='r')"
   ]
  },
  {
   "cell_type": "markdown",
   "metadata": {},
   "source": [
    "Este grafico muestra que los residuos no estan perfectamente distribuidos segun la normal"
   ]
  },
  {
   "cell_type": "code",
   "execution_count": null,
   "metadata": {
    "collapsed": false
   },
   "outputs": [],
   "source": [
    "ind3t10Model['resid'] = ind3t10Model.lnIncome - ind3t10Model.predicted \n",
    "print 'media ponderada de los residuos:%.4f'%np.average(ind3t10Model.resid, weights=ind3t10Model.PONDERA)\n"
   ]
  },
  {
   "cell_type": "code",
   "execution_count": null,
   "metadata": {
    "collapsed": false
   },
   "outputs": [],
   "source": [
    "sns.lmplot(x = 'predicted', y ='resid',data=ind3t10Model)\n",
    "plt.ylabel('Residuos')\n",
    "plt.xlabel('Ln Ingreso estimado')"
   ]
  },
  {
   "cell_type": "code",
   "execution_count": null,
   "metadata": {
    "collapsed": true
   },
   "outputs": [],
   "source": [
    "ind3t10Model['residStd'] = (ind3t10Model.resid - ind3t10Model.resid.mean()) / ind3t10Model.resid.std()"
   ]
  },
  {
   "cell_type": "code",
   "execution_count": null,
   "metadata": {
    "collapsed": false
   },
   "outputs": [],
   "source": [
    "sns.lmplot(x = 'predicted', y ='residStd',data=ind3t10Model)\n",
    "plt.ylabel('Residuos Estandarizados')\n",
    "plt.xlabel('Ln Ingreso estimado')"
   ]
  },
  {
   "cell_type": "markdown",
   "metadata": {},
   "source": [
    "Como se puede observar, los residuos se mueven mayoritariamente dentro de la franja de los 2 desvíos estándar, con algunos casos moviendose entre los 2 y 3 desvíos estándar per debajo de la media, indicando una sobreestimacion en nuestro modelo "
   ]
  },
  {
   "cell_type": "markdown",
   "metadata": {},
   "source": [
    "# Creacion de coeficientes de CAPECO\n",
    "\n",
    "A partir de estos parámetros del modelo, es necesario recontruir los coeficientes del CAPECO en base al modelo con datos actualizados con la EPH del tercer trimestre de 2010."
   ]
  },
  {
   "cell_type": "markdown",
   "metadata": {},
   "source": [
    "## Condicion de Percepcion CP - Genero y edad\n",
    "\n",
    "Consideramos la base de los inactivos como coeficiente 0 y el caso base (hombre de 35 años o más sin educación) como 1. A partir de esto establemos las proporciones contra el caso base en base a género y edad. Esto quiere decir que se evalúa el valor que predice el modelo subyacente al CAPECO para el caso base y luego se compara contra el valor predicho por el modelo para otro caso donde se modifique una variable en una unidad. Es decir, se compara un hombre de 35 años o más sin educación contra un hombre entre 25 y 34 años sin educación para obtener el coeficiente para ese grupo etario. Como se puede observar, se registran las mismas \"penalidades\" que en el modelo subyacente y que se encontraban en el CAPECO en base a datos de 2001.  \n",
    "\n",
    "Obviamente el caso registro siempre vale 1, sin importar el año. En lo que refiere a las penalidades por juventud mientras que para el tramo de hombres entre 25 y 34 años no cambió mucho de 2001 a 2010 (0.83 contra 0.86), el tramo de 14 a 24 disminutó dichas penalidades (de 0.46 a 0.65). Mayores estudios sobre el mercado de trabajo son necesarios, aunque es posible arriesgar una hipótesis. El mercado dinámico de las nuevas tecnologías que creció enormemente en esa década, donde se puede presumir mejor adaptación por parte de los jóvenes en general, puede haber actuado como contrapeso a la falta de experiencia. \n",
    "\n",
    "La situación de la mujer es paradógica. Comparar a la mujer de 35 años o más sin educación (lo que nos daría el efecto aislado del género más allá del efecto de la edad) muestra que la situación de la mujer empeoró levemente de 2001 a 2010 (pasa de tener un coeficiente de 0.60 a 0.56). Lo mismo sucede con el tramo de edad de 25 a 34 años (de 0.54 a 0.53). Sin embargo, al igual que con los hombres, existe una mejora para el tramo de 14 a 24 con respecto al 2001 (de 0.33 a 0.39)."
   ]
  },
  {
   "cell_type": "code",
   "execution_count": null,
   "metadata": {
    "collapsed": false
   },
   "outputs": [],
   "source": [
    "#varones\n",
    "varon35 = thesisFunctions.predictModelo(modelo=model, primary = 0, secondary = 0, university = 0,\n",
    "                  male_14to24 = 0, male_25to34 = 0,\n",
    "                  female_14to24 = 0, female_25to34 = 0, female_35tomore = 0)\n",
    "\n",
    "varon34 = thesisFunctions.predictModelo(modelo=model, primary = 0, secondary = 0, university = 0,\n",
    "                  male_14to24 = 0, male_25to34 = 1,\n",
    "                  female_14to24 = 0, female_25to34 = 0, female_35tomore = 0)\n",
    "\n",
    "varon24 = thesisFunctions.predictModelo(modelo=model, primary = 0, secondary = 0, university = 0,\n",
    "                  male_14to24 = 1, male_25to34 = 0,\n",
    "                  female_14to24 = 0, female_25to34 = 0, female_35tomore = 0)\n",
    "#mujeres\n",
    "mujer35 = thesisFunctions.predictModelo(modelo=model, primary = 0, secondary = 0, university = 0,\n",
    "                  male_14to24 = 0, male_25to34 = 0,\n",
    "                  female_14to24 = 0, female_25to34 = 0, female_35tomore = 1)\n",
    "mujer34 = thesisFunctions.predictModelo(modelo=model, primary = 0, secondary = 0, university = 0,\n",
    "                  male_14to24 = 0, male_25to34 = 0,\n",
    "                  female_14to24 = 0, female_25to34 = 1, female_35tomore = 0)\n",
    "mujer24 = thesisFunctions.predictModelo(modelo=model, primary = 0, secondary = 0, university = 0,\n",
    "                  male_14to24 = 0, male_25to34 = 0,\n",
    "                  female_14to24 = 1, female_25to34 = 0, female_35tomore = 0)\n",
    "#CP table data\n",
    "cp = pd.DataFrame({'categoria':['inactivo','varon35mas','varon34-25','varon24-14','mujer35mas','mujer34-25','mujer24-14'],\n",
    "                  'cp':[0,varon35/varon35,varon34/varon35,varon24/varon35,mujer35/varon35,mujer34/varon35,mujer24/varon35]})\n",
    "\n",
    "cp"
   ]
  },
  {
   "cell_type": "code",
   "execution_count": null,
   "metadata": {
    "collapsed": false
   },
   "outputs": [],
   "source": [
    "cp.to_csv('../dt/capecoCoefTables/cp.csv',index=False)\n"
   ]
  },
  {
   "cell_type": "code",
   "execution_count": null,
   "metadata": {
    "collapsed": false
   },
   "outputs": [],
   "source": [
    "#chequeo de datos\n",
    "ind3t10['CP'] = [thesisFunctions.coeficientePercepcion(ind3t10.iloc[i,:]) for i in range(ind3t10.shape[0])]\n",
    "ind3t10.loc[:,['activity','age','female','CP']].head(10)"
   ]
  },
  {
   "cell_type": "markdown",
   "metadata": {},
   "source": [
    "## Valorización de los anios de Escolaridad - VAE\n",
    "\n",
    "En el trabajo del CAPECO de 2001, se decidió utilizar primaria completa como caso base de referencia. Esto quiere decir, que 7 años de escolaridad producían un valor de 7 para el coeficiente del VAE. Se mantuvo el mismo criterio en este trabajo con el fin de mantener la comparabilidad. Se evaluó el modelo para el caso base de un hombre de 25 años o más con 7 años de escolaridad primaria y se normalizó a 7. Luego se comparó este valor con los diferentes valores de años de escolaridad de los diferentes niveles. \n",
    "\n",
    "La existencia de diversos sistemas educativos en diferentes provincias, así como las variaciones en los mismos hacia el interior de una provincia entre 2001 y 2010 hace realmente dificultoso el computar una variable como años de escolaridad. De todos modos se optó por una forma que intente compatibilizar los sistemas, aún sabiendo que puede haber dificultades en el cómputo. Por ejemplo una persona con séptimo grado de primaria completo en 2001 no es lo mismo que una persona con 7 de EGB, o 1 de la secundaria de la nueva Ley de Educación que conviertió esos niveles en secundaria. En todo caso, el código fuente de la función que realizó dichos cómputos contiene explícitamente las decisiones tomadas y se encuentra disponible en el repositorio para escrutinio de todo aquel que quiera explorar este problema."
   ]
  },
  {
   "cell_type": "markdown",
   "metadata": {},
   "source": [
    "### Primaria\n"
   ]
  },
  {
   "cell_type": "code",
   "execution_count": null,
   "metadata": {
    "collapsed": false
   },
   "outputs": [],
   "source": [
    "primariaCompleta = thesisFunctions.predictModelo(modelo=model, primary = 7, secondary = 0, university = 0,\n",
    "                  male_14to24 = 0, male_25to34 = 0,\n",
    "                  female_14to24 = 0, female_25to34 = 0, female_35tomore = 0)\n",
    "\n",
    "primaria6 = thesisFunctions.predictModelo(modelo=model, primary = 6, secondary = 0, university = 0,\n",
    "                  male_14to24 = 0, male_25to34 = 0,\n",
    "                  female_14to24 = 0, female_25to34 = 0, female_35tomore = 0)\n",
    "\n",
    "primaria5 = thesisFunctions.predictModelo(modelo=model, primary = 5, secondary = 0, university = 0,\n",
    "                  male_14to24 = 0, male_25to34 = 0,\n",
    "                  female_14to24 = 0, female_25to34 = 0, female_35tomore = 0)\n",
    "\n",
    "primaria4 = thesisFunctions.predictModelo(modelo=model, primary = 4, secondary = 0, university = 0,\n",
    "                  male_14to24 = 0, male_25to34 = 0,\n",
    "                  female_14to24 = 0, female_25to34 = 0, female_35tomore = 0)\n",
    "\n",
    "primaria3 = thesisFunctions.predictModelo(modelo=model, primary = 3, secondary = 0, university = 0,\n",
    "                  male_14to24 = 0, male_25to34 = 0,\n",
    "                  female_14to24 = 0, female_25to34 = 0, female_35tomore = 0)\n",
    "\n",
    "primaria2 = thesisFunctions.predictModelo(modelo=model, primary = 2, secondary = 0, university = 0,\n",
    "                  male_14to24 = 0, male_25to34 = 0,\n",
    "                  female_14to24 = 0, female_25to34 = 0, female_35tomore = 0)\n",
    "\n",
    "primaria1 = thesisFunctions.predictModelo(modelo=model, primary = 1, secondary = 0, university = 0,\n",
    "                  male_14to24 = 0, male_25to34 = 0,\n",
    "                  female_14to24 = 0, female_25to34 = 0, female_35tomore = 0)\n"
   ]
  },
  {
   "cell_type": "code",
   "execution_count": null,
   "metadata": {
    "collapsed": false
   },
   "outputs": [],
   "source": [
    "print 'primaria6:', primaria6 * 7 / primariaCompleta\n",
    "print 'primaria5:', primaria5 * 7 / primariaCompleta\n",
    "print 'primaria4:', primaria4 * 7 / primariaCompleta\n",
    "print 'primaria3:', primaria3 * 7 / primariaCompleta\n",
    "print 'primaria2:', primaria2 * 7 / primariaCompleta\n",
    "print 'primaria1:', primaria1 * 7 / primariaCompleta\n",
    "print 'sin educacion:', varon35 * 7 / primariaCompleta"
   ]
  },
  {
   "cell_type": "markdown",
   "metadata": {},
   "source": [
    "### Secundaria"
   ]
  },
  {
   "cell_type": "code",
   "execution_count": null,
   "metadata": {
    "collapsed": false
   },
   "outputs": [],
   "source": [
    "secundaria1 =  thesisFunctions.predictModelo(modelo=model, primary = 7, secondary = 1, university = 0,\n",
    "                  male_14to24 = 0, male_25to34 = 0,\n",
    "                  female_14to24 = 0, female_25to34 = 0, female_35tomore = 0)\n",
    "\n",
    "secundaria2 =  thesisFunctions.predictModelo(modelo=model, primary = 7, secondary = 2, university = 0,\n",
    "                  male_14to24 = 0, male_25to34 = 0,\n",
    "                  female_14to24 = 0, female_25to34 = 0, female_35tomore = 0)\n",
    "secundaria3 =  thesisFunctions.predictModelo(modelo=model, primary = 7, secondary = 3, university = 0,\n",
    "                  male_14to24 = 0, male_25to34 = 0,\n",
    "                  female_14to24 = 0, female_25to34 = 0, female_35tomore = 0)\n",
    "secundaria4 =  thesisFunctions.predictModelo(modelo=model, primary = 7, secondary = 4, university = 0,\n",
    "                  male_14to24 = 0, male_25to34 = 0,\n",
    "                  female_14to24 = 0, female_25to34 = 0, female_35tomore = 0)\n",
    "secundaria5 =  thesisFunctions.predictModelo(modelo=model, primary = 7, secondary = 5, university = 0,\n",
    "                  male_14to24 = 0, male_25to34 = 0,\n",
    "                  female_14to24 = 0, female_25to34 = 0, female_35tomore = 0)"
   ]
  },
  {
   "cell_type": "code",
   "execution_count": null,
   "metadata": {
    "collapsed": false
   },
   "outputs": [],
   "source": [
    "print 'secundaria1:', secundaria1 * 7 / primariaCompleta\n",
    "print 'secundaria2:', secundaria2 * 7 / primariaCompleta\n",
    "print 'secundaria3:', secundaria3 * 7 / primariaCompleta\n",
    "print 'secundaria4:', secundaria4 * 7 / primariaCompleta\n",
    "print 'secundaria5:', secundaria5 * 7 / primariaCompleta\n"
   ]
  },
  {
   "cell_type": "markdown",
   "metadata": {},
   "source": [
    "### Universidad"
   ]
  },
  {
   "cell_type": "code",
   "execution_count": null,
   "metadata": {
    "collapsed": true
   },
   "outputs": [],
   "source": [
    "univ1 =  thesisFunctions.predictModelo(modelo=model, primary = 7, secondary = 5, university = 1,\n",
    "                  male_14to24 = 0, male_25to34 = 0,\n",
    "                  female_14to24 = 0, female_25to34 = 0, female_35tomore = 0)\n",
    "univ2 =  thesisFunctions.predictModelo(modelo=model, primary = 7, secondary = 5, university = 2,\n",
    "                  male_14to24 = 0, male_25to34 = 0,\n",
    "                  female_14to24 = 0, female_25to34 = 0, female_35tomore = 0)\n",
    "univ3 =  thesisFunctions.predictModelo(modelo=model, primary = 7, secondary = 5, university = 3,\n",
    "                  male_14to24 = 0, male_25to34 = 0,\n",
    "                  female_14to24 = 0, female_25to34 = 0, female_35tomore = 0)\n",
    "univ4 =  thesisFunctions.predictModelo(modelo=model, primary = 7, secondary = 5, university = 4,\n",
    "                  male_14to24 = 0, male_25to34 = 0,\n",
    "                  female_14to24 = 0, female_25to34 = 0, female_35tomore = 0)\n",
    "univ5 =  thesisFunctions.predictModelo(modelo=model, primary = 7, secondary = 5, university = 5,\n",
    "                  male_14to24 = 0, male_25to34 = 0,\n",
    "                  female_14to24 = 0, female_25to34 = 0, female_35tomore = 0)"
   ]
  },
  {
   "cell_type": "code",
   "execution_count": null,
   "metadata": {
    "collapsed": false
   },
   "outputs": [],
   "source": [
    "print 'universidad1:', univ1 * 7 / primariaCompleta\n",
    "print 'universidad2:', univ2 * 7 / primariaCompleta\n",
    "print 'universidad3:', univ3 * 7 / primariaCompleta\n",
    "print 'universidad4:', univ4 * 7 / primariaCompleta\n",
    "print 'universidad5:', univ5 * 7 / primariaCompleta"
   ]
  },
  {
   "cell_type": "code",
   "execution_count": null,
   "metadata": {
    "collapsed": false
   },
   "outputs": [],
   "source": [
    "vae = pd.DataFrame({'aniosAprobados':range(18),\n",
    "                   'VAE':[varon35 * 7 / primariaCompleta,\n",
    "primaria1 * 7 / primariaCompleta,\n",
    "primaria2 * 7 / primariaCompleta,\n",
    "primaria3 * 7 / primariaCompleta,\n",
    "primaria4 * 7 / primariaCompleta,\n",
    "primaria5 * 7 / primariaCompleta,\n",
    "primaria6 * 7 / primariaCompleta,\n",
    "7,\n",
    "secundaria1 * 7 / primariaCompleta,\n",
    "secundaria2 * 7 / primariaCompleta,\n",
    "secundaria3 * 7 / primariaCompleta,\n",
    "secundaria4 * 7 / primariaCompleta,\n",
    "secundaria5 * 7 / primariaCompleta,\n",
    "univ1 * 7 / primariaCompleta,\n",
    "univ2 * 7 / primariaCompleta,\n",
    "univ3 * 7 / primariaCompleta,\n",
    "univ4 * 7 / primariaCompleta,\n",
    "univ5 * 7 / primariaCompleta]})\n",
    "vae.to_csv('../dt/capecoCoefTables/vae.csv',index=False)\n",
    "\n",
    "vae"
   ]
  },
  {
   "cell_type": "markdown",
   "metadata": {},
   "source": [
    "El rango para la primaria no parece haber sufrido muchas modificaciones. Varía entre 7 y 4. Para la secundaria, mientras que en 2001 variaba entre 7 y 11,1, en 2010 varía entre 7 y 10,6. Finalmente para la universidad, el valor máximo que registraba en 2001 era de 21.2 y en 2010 es de 19.6. \n",
    "\n",
    "Se podría decir que el mercado laboral no valoriza tanto los estudios universitarios como antes o que en todo caso se han vuelto un nuevo estándar para el mercado laboral. Quizás si se extendiese el análisis de los años de escolaridad hacia los postgrados, se observaría alguna variación positiva. "
   ]
  },
  {
   "cell_type": "code",
   "execution_count": null,
   "metadata": {
    "collapsed": false
   },
   "outputs": [],
   "source": [
    "ind3t10 = pd.merge(ind3t10,vae,left_on='education',right_on='aniosAprobados',how='left')\n",
    "ind3t10.head()"
   ]
  },
  {
   "cell_type": "markdown",
   "metadata": {},
   "source": [
    "## Adulto Equivalente\n",
    "\n",
    "Para la variación del Adulto Equivalente no se hizo más que tomar la nueva tabla provista por INDEC en base a la ENGHO más reciente "
   ]
  },
  {
   "cell_type": "code",
   "execution_count": null,
   "metadata": {
    "collapsed": false
   },
   "outputs": [],
   "source": [
    "ind3t10.head()"
   ]
  },
  {
   "cell_type": "code",
   "execution_count": null,
   "metadata": {
    "collapsed": false
   },
   "outputs": [],
   "source": [
    "ind3t10['AE'] = [thesisFunctions.adultoEquivalente(ind3t10.iloc[i,:]) for i in range(ind3t10.shape[0])]"
   ]
  },
  {
   "cell_type": "code",
   "execution_count": null,
   "metadata": {
    "collapsed": false
   },
   "outputs": [],
   "source": [
    "ind3t10.head()"
   ]
  },
  {
   "cell_type": "code",
   "execution_count": null,
   "metadata": {
    "collapsed": false
   },
   "outputs": [],
   "source": [
    "ind3t10.loc[~(ind3t10.AE.isnull()),['AE','age','female']].head()"
   ]
  },
  {
   "cell_type": "markdown",
   "metadata": {},
   "source": [
    "# Reproducir nuevo CAPECO"
   ]
  },
  {
   "cell_type": "code",
   "execution_count": null,
   "metadata": {
    "collapsed": true
   },
   "outputs": [],
   "source": [
    "ind3t10['CPxVAE']= ind3t10.CP * ind3t10.VAE"
   ]
  },
  {
   "cell_type": "code",
   "execution_count": null,
   "metadata": {
    "collapsed": false
   },
   "outputs": [],
   "source": [
    "ind3t10.loc[:,['id','CP','VAE','CPxVAE']].head()"
   ]
  },
  {
   "cell_type": "code",
   "execution_count": null,
   "metadata": {
    "collapsed": false
   },
   "outputs": [],
   "source": [
    "capecoTable = ind3t10.loc[:,['id','CPxVAE','AE']].groupby(by=['id']).sum()\n",
    "capecoTable['CAPECO']=capecoTable.CPxVAE / capecoTable.AE\n",
    "print capecoTable.shape\n",
    "capecoTable.reset_index(inplace=True)\n",
    "capecoTable.head()"
   ]
  },
  {
   "cell_type": "code",
   "execution_count": null,
   "metadata": {
    "collapsed": false
   },
   "outputs": [],
   "source": [
    "ingresos = ind3t10.loc[:,['id','IPCF','PONDERA']].drop_duplicates()\n",
    "print ingresos.shape\n",
    "ingresos.head()\n"
   ]
  },
  {
   "cell_type": "code",
   "execution_count": null,
   "metadata": {
    "collapsed": false
   },
   "outputs": [],
   "source": [
    "ingresos = ingresos.merge(capecoTable.drop(['CPxVAE','AE'],axis=1))\n",
    "print ingresos.shape\n",
    "ingresos.head()"
   ]
  },
  {
   "cell_type": "markdown",
   "metadata": {},
   "source": [
    "# Evaluar nuevo capeco"
   ]
  },
  {
   "cell_type": "code",
   "execution_count": null,
   "metadata": {
    "collapsed": false
   },
   "outputs": [],
   "source": [
    "sns.lmplot(x = 'CAPECO', y ='IPCF',data=ingresos)\n",
    "plt.ylabel('IPCF')\n",
    "plt.xlabel('CAPECO')"
   ]
  },
  {
   "cell_type": "code",
   "execution_count": null,
   "metadata": {
    "collapsed": false
   },
   "outputs": [],
   "source": [
    "y = ingresos['IPCF'].copy().values\n",
    "X = sm.add_constant(ingresos['CAPECO'].copy().values)\n",
    "w = ingresos.PONDERA.copy().values\n",
    "    \n",
    "#run model\n",
    "lm = sm.WLS(y, X, weights=1. / w).fit()\n",
    "print lm.summary()\n"
   ]
  },
  {
   "cell_type": "markdown",
   "metadata": {},
   "source": [
    "# sin outliers"
   ]
  },
  {
   "cell_type": "code",
   "execution_count": null,
   "metadata": {
    "collapsed": true
   },
   "outputs": [],
   "source": [
    "mask = (ingresos.IPCF  < 12000) & (ingresos.CAPECO> 0)"
   ]
  },
  {
   "cell_type": "code",
   "execution_count": null,
   "metadata": {
    "collapsed": false
   },
   "outputs": [],
   "source": [
    "ingresosNoOut=ingresos.copy()[mask]"
   ]
  },
  {
   "cell_type": "code",
   "execution_count": null,
   "metadata": {
    "collapsed": false
   },
   "outputs": [],
   "source": [
    "y = ingresosNoOut['IPCF'].values\n",
    "X = sm.add_constant(ingresosNoOut['CAPECO'].values)\n",
    "w = ingresosNoOut.PONDERA.values\n",
    "    \n",
    "#run model\n",
    "lm = sm.WLS(y, X, weights=1. / w).fit()\n",
    "print lm.summary()\n"
   ]
  },
  {
   "cell_type": "code",
   "execution_count": null,
   "metadata": {
    "collapsed": false
   },
   "outputs": [],
   "source": [
    "sns.lmplot(x = 'CAPECO', y ='IPCF',data=ingresosNoOut)\n",
    "plt.ylabel('IPCF')\n",
    "plt.xlabel('CAPECO')"
   ]
  },
  {
   "cell_type": "code",
   "execution_count": null,
   "metadata": {
    "collapsed": false
   },
   "outputs": [],
   "source": [
    "qqplot(lm.resid,line='r')"
   ]
  },
  {
   "cell_type": "code",
   "execution_count": null,
   "metadata": {
    "collapsed": false
   },
   "outputs": [],
   "source": [
    "ingresosNoOut['predict'] = lm.predict()\n",
    "ingresosNoOut['resid'] = lm.resid\n",
    "ingresosNoOut['residStd'] = (ingresosNoOut.resid - ingresosNoOut.resid.mean())/ingresosNoOut.resid.std()\n",
    "ingresosNoOut.head()"
   ]
  },
  {
   "cell_type": "code",
   "execution_count": null,
   "metadata": {
    "collapsed": false
   },
   "outputs": [],
   "source": [
    "sns.lmplot(x = 'predict', y ='resid',data=ingresosNoOut)\n",
    "plt.ylabel('Residuos')\n",
    "plt.xlabel('Ingreso estimado')"
   ]
  },
  {
   "cell_type": "code",
   "execution_count": null,
   "metadata": {
    "collapsed": false
   },
   "outputs": [],
   "source": [
    "sns.lmplot(x = 'predict', y ='residStd',data=ingresosNoOut)\n",
    "plt.ylabel('Residuos estandarizados')\n",
    "plt.xlabel('Ingreso Estimado')"
   ]
  },
  {
   "cell_type": "markdown",
   "metadata": {},
   "source": [
    "Se observa que la variabilidad en los residuos es mayor en los tramos de ingreso superiores. No es constante. HAY UNA SUBESTIMACION CUANDO SE USA EL CAPECO PARA PREDECIR INGRESO"
   ]
  },
  {
   "cell_type": "markdown",
   "metadata": {},
   "source": [
    "## Residuos con p21 y el exponente de lo predicho"
   ]
  },
  {
   "cell_type": "code",
   "execution_count": null,
   "metadata": {
    "collapsed": false
   },
   "outputs": [],
   "source": [
    "ind3t10Model['predictedE'] = np.exp(model.predict(X))"
   ]
  },
  {
   "cell_type": "code",
   "execution_count": null,
   "metadata": {
    "collapsed": false
   },
   "outputs": [],
   "source": [
    "sns.lmplot(x = 'P21', y ='predictedE',data=ind3t10Model)\n",
    "plt.xlabel('Ln Ingreso')\n",
    "plt.ylabel('Ln Ingreso Estimado')"
   ]
  },
  {
   "cell_type": "code",
   "execution_count": null,
   "metadata": {
    "collapsed": false
   },
   "outputs": [],
   "source": [
    "ind3t10Model['residE'] = ind3t10Model.P21 - ind3t10Model.predictedE \n",
    "print 'media ponderada de los residuos:%.4f'%np.average(ind3t10Model.residE, weights=1./ind3t10Model.PONDERA)"
   ]
  },
  {
   "cell_type": "code",
   "execution_count": null,
   "metadata": {
    "collapsed": false
   },
   "outputs": [],
   "source": [
    "sns.lmplot(x = 'predictedE', y ='residE',data=ind3t10Model)\n"
   ]
  },
  {
   "cell_type": "code",
   "execution_count": null,
   "metadata": {
    "collapsed": true
   },
   "outputs": [],
   "source": [
    "ind3t10Model['residEStd'] = (ind3t10Model.residE - ind3t10Model.residE.mean()) / ind3t10Model.resid.std()"
   ]
  },
  {
   "cell_type": "code",
   "execution_count": null,
   "metadata": {
    "collapsed": false
   },
   "outputs": [],
   "source": [
    "sns.lmplot(x = 'predictedE', y ='residEStd',data=ind3t10Model)\n"
   ]
  }
 ],
 "metadata": {
  "anaconda-cloud": {},
  "kernelspec": {
   "display_name": "Python 2",
   "language": "python",
   "name": "python2"
  },
  "language_info": {
   "codemirror_mode": {
    "name": "ipython",
    "version": 2
   },
   "file_extension": ".py",
   "mimetype": "text/x-python",
   "name": "python",
   "nbconvert_exporter": "python",
   "pygments_lexer": "ipython2",
   "version": "2.7.13"
  }
 },
 "nbformat": 4,
 "nbformat_minor": 1
}
